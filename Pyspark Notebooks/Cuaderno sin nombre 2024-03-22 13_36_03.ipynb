{
 "cells": [
  {
   "cell_type": "code",
   "execution_count": 0,
   "metadata": {
    "application/vnd.databricks.v1+cell": {
     "cellMetadata": {
      "byteLimit": 2048000,
      "rowLimit": 10000
     },
     "inputWidgets": {},
     "nuid": "7f073288-87cf-4a30-90f0-8056d233f3c8",
     "showTitle": false,
     "title": ""
    }
   },
   "outputs": [
    {
     "output_type": "stream",
     "name": "stderr",
     "output_type": "stream",
     "text": [
      "rm: cannot remove '/dbfs/ml_lab': No such file or directory\n--2024-03-22 12:36:24--  https://raw.githubusercontent.com/MicrosoftLearning/mslearn-databricks/main/data/penguins.csv\nResolving raw.githubusercontent.com (raw.githubusercontent.com)... 185.199.111.133, 185.199.108.133, 185.199.109.133, ...\nConnecting to raw.githubusercontent.com (raw.githubusercontent.com)|185.199.111.133|:443... connected.\nHTTP request sent, awaiting response... 200 OK\nLength: 9533 (9.3K) [text/plain]\nSaving to: ‘/dbfs/ml_lab/penguins.csv’\n\n     0K .........                                             100% 1.03M=0.009s\n\n2024-03-22 12:36:24 (1.03 MB/s) - ‘/dbfs/ml_lab/penguins.csv’ saved [9533/9533]\n\n"
     ]
    }
   ],
   "source": [
    " %sh\n",
    " rm -r /dbfs/ml_lab\n",
    " mkdir /dbfs/ml_lab\n",
    " wget -O /dbfs/ml_lab/penguins.csv https://raw.githubusercontent.com/MicrosoftLearning/mslearn-databricks/main/data/penguins.csv"
   ]
  },
  {
   "cell_type": "code",
   "execution_count": 0,
   "metadata": {
    "application/vnd.databricks.v1+cell": {
     "cellMetadata": {
      "byteLimit": 2048000,
      "rowLimit": 10000
     },
     "inputWidgets": {},
     "nuid": "5866f889-40ea-4077-8e53-d54aeb48d0eb",
     "showTitle": false,
     "title": ""
    }
   },
   "outputs": [
    {
     "output_type": "display_data",
     "data": {
      "text/html": [
       "<style scoped>\n",
       "  .table-result-container {\n",
       "    max-height: 300px;\n",
       "    overflow: auto;\n",
       "  }\n",
       "  table, th, td {\n",
       "    border: 1px solid black;\n",
       "    border-collapse: collapse;\n",
       "  }\n",
       "  th, td {\n",
       "    padding: 5px;\n",
       "  }\n",
       "  th {\n",
       "    text-align: left;\n",
       "  }\n",
       "</style><div class='table-result-container'><table class='table-result'><thead style='background-color: white'><tr><th>Island</th><th>CulmenLength</th><th>CulmenDepth</th><th>FlipperLength</th><th>BodyMass</th><th>Species</th></tr></thead><tbody><tr><td>Torgersen</td><td>39.1</td><td>18.7</td><td>181</td><td>3750</td><td>0</td></tr><tr><td>Torgersen</td><td>39.5</td><td>17.4</td><td>186</td><td>3800</td><td>0</td></tr><tr><td>Torgersen</td><td>40.3</td><td>18</td><td>195</td><td>3250</td><td>0</td></tr><tr><td>Torgersen</td><td>null</td><td>null</td><td>null</td><td>null</td><td>0</td></tr><tr><td>Torgersen</td><td>36.7</td><td>19.3</td><td>193</td><td>3450</td><td>0</td></tr><tr><td>Torgersen</td><td>39.3</td><td>20.6</td><td>190</td><td>3650</td><td>0</td></tr><tr><td>Torgersen</td><td>38.9</td><td>17.8</td><td>181</td><td>3625</td><td>0</td></tr><tr><td>Torgersen</td><td>39.2</td><td>19.6</td><td>195</td><td>4675</td><td>0</td></tr><tr><td>Torgersen</td><td>34.1</td><td>18.1</td><td>193</td><td>3475</td><td>0</td></tr><tr><td>Torgersen</td><td>42</td><td>20.2</td><td>190</td><td>4250</td><td>0</td></tr><tr><td>Torgersen</td><td>37.8</td><td>17.1</td><td>186</td><td>3300</td><td>0</td></tr><tr><td>Torgersen</td><td>37.8</td><td>17.3</td><td>180</td><td>3700</td><td>0</td></tr><tr><td>Torgersen</td><td>41.1</td><td>17.6</td><td>182</td><td>3200</td><td>0</td></tr><tr><td>Torgersen</td><td>38.6</td><td>21.2</td><td>191</td><td>3800</td><td>0</td></tr><tr><td>Torgersen</td><td>34.6</td><td>21.1</td><td>198</td><td>4400</td><td>0</td></tr><tr><td>Torgersen</td><td>36.6</td><td>17.8</td><td>185</td><td>3700</td><td>0</td></tr><tr><td>Torgersen</td><td>38.7</td><td>19</td><td>195</td><td>3450</td><td>0</td></tr><tr><td>Torgersen</td><td>42.5</td><td>20.7</td><td>197</td><td>4500</td><td>0</td></tr><tr><td>Torgersen</td><td>34.4</td><td>18.4</td><td>184</td><td>3325</td><td>0</td></tr><tr><td>Torgersen</td><td>46</td><td>21.5</td><td>194</td><td>4200</td><td>0</td></tr><tr><td>Biscoe</td><td>37.8</td><td>18.3</td><td>174</td><td>3400</td><td>0</td></tr><tr><td>Biscoe</td><td>37.7</td><td>18.7</td><td>180</td><td>3600</td><td>0</td></tr><tr><td>Biscoe</td><td>35.9</td><td>19.2</td><td>189</td><td>3800</td><td>0</td></tr><tr><td>Biscoe</td><td>38.2</td><td>18.1</td><td>185</td><td>3950</td><td>0</td></tr><tr><td>Biscoe</td><td>38.8</td><td>17.2</td><td>180</td><td>3800</td><td>0</td></tr><tr><td>Biscoe</td><td>35.3</td><td>18.9</td><td>187</td><td>3800</td><td>0</td></tr><tr><td>Biscoe</td><td>40.6</td><td>18.6</td><td>183</td><td>3550</td><td>0</td></tr><tr><td>Biscoe</td><td>40.5</td><td>17.9</td><td>187</td><td>3200</td><td>0</td></tr><tr><td>Biscoe</td><td>37.9</td><td>18.6</td><td>172</td><td>3150</td><td>0</td></tr><tr><td>Biscoe</td><td>40.5</td><td>18.9</td><td>180</td><td>3950</td><td>0</td></tr><tr><td>Dream</td><td>39.5</td><td>16.7</td><td>178</td><td>3250</td><td>0</td></tr><tr><td>Dream</td><td>37.2</td><td>18.1</td><td>178</td><td>3900</td><td>0</td></tr><tr><td>Dream</td><td>39.5</td><td>17.8</td><td>188</td><td>3300</td><td>0</td></tr><tr><td>Dream</td><td>40.9</td><td>18.9</td><td>184</td><td>3900</td><td>0</td></tr><tr><td>Dream</td><td>36.4</td><td>17</td><td>195</td><td>3325</td><td>0</td></tr><tr><td>Dream</td><td>39.2</td><td>21.1</td><td>196</td><td>4150</td><td>0</td></tr><tr><td>Dream</td><td>38.8</td><td>20</td><td>190</td><td>3950</td><td>0</td></tr><tr><td>Dream</td><td>42.2</td><td>18.5</td><td>180</td><td>3550</td><td>0</td></tr><tr><td>Dream</td><td>37.6</td><td>19.3</td><td>181</td><td>3300</td><td>0</td></tr><tr><td>Dream</td><td>39.8</td><td>19.1</td><td>184</td><td>4650</td><td>0</td></tr><tr><td>Dream</td><td>36.5</td><td>18</td><td>182</td><td>3150</td><td>0</td></tr><tr><td>Dream</td><td>40.8</td><td>18.4</td><td>195</td><td>3900</td><td>0</td></tr><tr><td>Dream</td><td>36</td><td>18.5</td><td>186</td><td>3100</td><td>0</td></tr><tr><td>Dream</td><td>44.1</td><td>19.7</td><td>196</td><td>4400</td><td>0</td></tr><tr><td>Dream</td><td>37</td><td>16.9</td><td>185</td><td>3000</td><td>0</td></tr><tr><td>Dream</td><td>39.6</td><td>18.8</td><td>190</td><td>4600</td><td>0</td></tr><tr><td>Dream</td><td>41.1</td><td>19</td><td>182</td><td>3425</td><td>0</td></tr><tr><td>Dream</td><td>37.5</td><td>18.9</td><td>179</td><td>2975</td><td>0</td></tr><tr><td>Dream</td><td>36</td><td>17.9</td><td>190</td><td>3450</td><td>0</td></tr><tr><td>Dream</td><td>42.3</td><td>21.2</td><td>191</td><td>4150</td><td>0</td></tr><tr><td>Biscoe</td><td>39.6</td><td>17.7</td><td>186</td><td>3500</td><td>0</td></tr><tr><td>Biscoe</td><td>40.1</td><td>18.9</td><td>188</td><td>4300</td><td>0</td></tr><tr><td>Biscoe</td><td>35</td><td>17.9</td><td>190</td><td>3450</td><td>0</td></tr><tr><td>Biscoe</td><td>42</td><td>19.5</td><td>200</td><td>4050</td><td>0</td></tr><tr><td>Biscoe</td><td>34.5</td><td>18.1</td><td>187</td><td>2900</td><td>0</td></tr><tr><td>Biscoe</td><td>41.4</td><td>18.6</td><td>191</td><td>3700</td><td>0</td></tr><tr><td>Biscoe</td><td>39</td><td>17.5</td><td>186</td><td>3550</td><td>0</td></tr><tr><td>Biscoe</td><td>40.6</td><td>18.8</td><td>193</td><td>3800</td><td>0</td></tr><tr><td>Biscoe</td><td>36.5</td><td>16.6</td><td>181</td><td>2850</td><td>0</td></tr><tr><td>Biscoe</td><td>37.6</td><td>19.1</td><td>194</td><td>3750</td><td>0</td></tr><tr><td>Biscoe</td><td>35.7</td><td>16.9</td><td>185</td><td>3150</td><td>0</td></tr><tr><td>Biscoe</td><td>41.3</td><td>21.1</td><td>195</td><td>4400</td><td>0</td></tr><tr><td>Biscoe</td><td>37.6</td><td>17</td><td>185</td><td>3600</td><td>0</td></tr><tr><td>Biscoe</td><td>41.1</td><td>18.2</td><td>192</td><td>4050</td><td>0</td></tr><tr><td>Biscoe</td><td>36.4</td><td>17.1</td><td>184</td><td>2850</td><td>0</td></tr><tr><td>Biscoe</td><td>41.6</td><td>18</td><td>192</td><td>3950</td><td>0</td></tr><tr><td>Biscoe</td><td>35.5</td><td>16.2</td><td>195</td><td>3350</td><td>0</td></tr><tr><td>Biscoe</td><td>41.1</td><td>19.1</td><td>188</td><td>4100</td><td>0</td></tr><tr><td>Torgersen</td><td>35.9</td><td>16.6</td><td>190</td><td>3050</td><td>0</td></tr><tr><td>Torgersen</td><td>41.8</td><td>19.4</td><td>198</td><td>4450</td><td>0</td></tr><tr><td>Torgersen</td><td>33.5</td><td>19</td><td>190</td><td>3600</td><td>0</td></tr><tr><td>Torgersen</td><td>39.7</td><td>18.4</td><td>190</td><td>3900</td><td>0</td></tr><tr><td>Torgersen</td><td>39.6</td><td>17.2</td><td>196</td><td>3550</td><td>0</td></tr><tr><td>Torgersen</td><td>45.8</td><td>18.9</td><td>197</td><td>4150</td><td>0</td></tr><tr><td>Torgersen</td><td>35.5</td><td>17.5</td><td>190</td><td>3700</td><td>0</td></tr><tr><td>Torgersen</td><td>42.8</td><td>18.5</td><td>195</td><td>4250</td><td>0</td></tr><tr><td>Torgersen</td><td>40.9</td><td>16.8</td><td>191</td><td>3700</td><td>0</td></tr><tr><td>Torgersen</td><td>37.2</td><td>19.4</td><td>184</td><td>3900</td><td>0</td></tr><tr><td>Torgersen</td><td>36.2</td><td>16.1</td><td>187</td><td>3550</td><td>0</td></tr><tr><td>Torgersen</td><td>42.1</td><td>19.1</td><td>195</td><td>4000</td><td>0</td></tr><tr><td>Torgersen</td><td>34.6</td><td>17.2</td><td>189</td><td>3200</td><td>0</td></tr><tr><td>Torgersen</td><td>42.9</td><td>17.6</td><td>196</td><td>4700</td><td>0</td></tr><tr><td>Torgersen</td><td>36.7</td><td>18.8</td><td>187</td><td>3800</td><td>0</td></tr><tr><td>Torgersen</td><td>35.1</td><td>19.4</td><td>193</td><td>4200</td><td>0</td></tr><tr><td>Dream</td><td>37.3</td><td>17.8</td><td>191</td><td>3350</td><td>0</td></tr><tr><td>Dream</td><td>41.3</td><td>20.3</td><td>194</td><td>3550</td><td>0</td></tr><tr><td>Dream</td><td>36.3</td><td>19.5</td><td>190</td><td>3800</td><td>0</td></tr><tr><td>Dream</td><td>36.9</td><td>18.6</td><td>189</td><td>3500</td><td>0</td></tr><tr><td>Dream</td><td>38.3</td><td>19.2</td><td>189</td><td>3950</td><td>0</td></tr><tr><td>Dream</td><td>38.9</td><td>18.8</td><td>190</td><td>3600</td><td>0</td></tr><tr><td>Dream</td><td>35.7</td><td>18</td><td>202</td><td>3550</td><td>0</td></tr><tr><td>Dream</td><td>41.1</td><td>18.1</td><td>205</td><td>4300</td><td>0</td></tr><tr><td>Dream</td><td>34</td><td>17.1</td><td>185</td><td>3400</td><td>0</td></tr><tr><td>Dream</td><td>39.6</td><td>18.1</td><td>186</td><td>4450</td><td>0</td></tr><tr><td>Dream</td><td>36.2</td><td>17.3</td><td>187</td><td>3300</td><td>0</td></tr><tr><td>Dream</td><td>40.8</td><td>18.9</td><td>208</td><td>4300</td><td>0</td></tr><tr><td>Dream</td><td>38.1</td><td>18.6</td><td>190</td><td>3700</td><td>0</td></tr><tr><td>Dream</td><td>40.3</td><td>18.5</td><td>196</td><td>4350</td><td>0</td></tr><tr><td>Dream</td><td>33.1</td><td>16.1</td><td>178</td><td>2900</td><td>0</td></tr><tr><td>Dream</td><td>43.2</td><td>18.5</td><td>192</td><td>4100</td><td>0</td></tr><tr><td>Biscoe</td><td>35</td><td>17.9</td><td>192</td><td>3725</td><td>0</td></tr><tr><td>Biscoe</td><td>41</td><td>20</td><td>203</td><td>4725</td><td>0</td></tr><tr><td>Biscoe</td><td>37.7</td><td>16</td><td>183</td><td>3075</td><td>0</td></tr><tr><td>Biscoe</td><td>37.8</td><td>20</td><td>190</td><td>4250</td><td>0</td></tr><tr><td>Biscoe</td><td>37.9</td><td>18.6</td><td>193</td><td>2925</td><td>0</td></tr><tr><td>Biscoe</td><td>39.7</td><td>18.9</td><td>184</td><td>3550</td><td>0</td></tr><tr><td>Biscoe</td><td>38.6</td><td>17.2</td><td>199</td><td>3750</td><td>0</td></tr><tr><td>Biscoe</td><td>38.2</td><td>20</td><td>190</td><td>3900</td><td>0</td></tr><tr><td>Biscoe</td><td>38.1</td><td>17</td><td>181</td><td>3175</td><td>0</td></tr><tr><td>Biscoe</td><td>43.2</td><td>19</td><td>197</td><td>4775</td><td>0</td></tr><tr><td>Biscoe</td><td>38.1</td><td>16.5</td><td>198</td><td>3825</td><td>0</td></tr><tr><td>Biscoe</td><td>45.6</td><td>20.3</td><td>191</td><td>4600</td><td>0</td></tr><tr><td>Biscoe</td><td>39.7</td><td>17.7</td><td>193</td><td>3200</td><td>0</td></tr><tr><td>Biscoe</td><td>42.2</td><td>19.5</td><td>197</td><td>4275</td><td>0</td></tr><tr><td>Biscoe</td><td>39.6</td><td>20.7</td><td>191</td><td>3900</td><td>0</td></tr><tr><td>Biscoe</td><td>42.7</td><td>18.3</td><td>196</td><td>4075</td><td>0</td></tr><tr><td>Torgersen</td><td>38.6</td><td>17</td><td>188</td><td>2900</td><td>0</td></tr><tr><td>Torgersen</td><td>37.3</td><td>20.5</td><td>199</td><td>3775</td><td>0</td></tr><tr><td>Torgersen</td><td>35.7</td><td>17</td><td>189</td><td>3350</td><td>0</td></tr><tr><td>Torgersen</td><td>41.1</td><td>18.6</td><td>189</td><td>3325</td><td>0</td></tr><tr><td>Torgersen</td><td>36.2</td><td>17.2</td><td>187</td><td>3150</td><td>0</td></tr><tr><td>Torgersen</td><td>37.7</td><td>19.8</td><td>198</td><td>3500</td><td>0</td></tr><tr><td>Torgersen</td><td>40.2</td><td>17</td><td>176</td><td>3450</td><td>0</td></tr><tr><td>Torgersen</td><td>41.4</td><td>18.5</td><td>202</td><td>3875</td><td>0</td></tr><tr><td>Torgersen</td><td>35.2</td><td>15.9</td><td>186</td><td>3050</td><td>0</td></tr><tr><td>Torgersen</td><td>40.6</td><td>19</td><td>199</td><td>4000</td><td>0</td></tr><tr><td>Torgersen</td><td>38.8</td><td>17.6</td><td>191</td><td>3275</td><td>0</td></tr><tr><td>Torgersen</td><td>41.5</td><td>18.3</td><td>195</td><td>4300</td><td>0</td></tr><tr><td>Torgersen</td><td>39</td><td>17.1</td><td>191</td><td>3050</td><td>0</td></tr><tr><td>Torgersen</td><td>44.1</td><td>18</td><td>210</td><td>4000</td><td>0</td></tr><tr><td>Torgersen</td><td>38.5</td><td>17.9</td><td>190</td><td>3325</td><td>0</td></tr><tr><td>Torgersen</td><td>43.1</td><td>19.2</td><td>197</td><td>3500</td><td>0</td></tr><tr><td>Dream</td><td>36.8</td><td>18.5</td><td>193</td><td>3500</td><td>0</td></tr><tr><td>Dream</td><td>37.5</td><td>18.5</td><td>199</td><td>4475</td><td>0</td></tr><tr><td>Dream</td><td>38.1</td><td>17.6</td><td>187</td><td>3425</td><td>0</td></tr><tr><td>Dream</td><td>41.1</td><td>17.5</td><td>190</td><td>3900</td><td>0</td></tr><tr><td>Dream</td><td>35.6</td><td>17.5</td><td>191</td><td>3175</td><td>0</td></tr><tr><td>Dream</td><td>40.2</td><td>20.1</td><td>200</td><td>3975</td><td>0</td></tr><tr><td>Dream</td><td>37</td><td>16.5</td><td>185</td><td>3400</td><td>0</td></tr><tr><td>Dream</td><td>39.7</td><td>17.9</td><td>193</td><td>4250</td><td>0</td></tr><tr><td>Dream</td><td>40.2</td><td>17.1</td><td>193</td><td>3400</td><td>0</td></tr><tr><td>Dream</td><td>40.6</td><td>17.2</td><td>187</td><td>3475</td><td>0</td></tr><tr><td>Dream</td><td>32.1</td><td>15.5</td><td>188</td><td>3050</td><td>0</td></tr><tr><td>Dream</td><td>40.7</td><td>17</td><td>190</td><td>3725</td><td>0</td></tr><tr><td>Dream</td><td>37.3</td><td>16.8</td><td>192</td><td>3000</td><td>0</td></tr><tr><td>Dream</td><td>39</td><td>18.7</td><td>185</td><td>3650</td><td>0</td></tr><tr><td>Dream</td><td>39.2</td><td>18.6</td><td>190</td><td>4250</td><td>0</td></tr><tr><td>Dream</td><td>36.6</td><td>18.4</td><td>184</td><td>3475</td><td>0</td></tr><tr><td>Dream</td><td>36</td><td>17.8</td><td>195</td><td>3450</td><td>0</td></tr><tr><td>Dream</td><td>37.8</td><td>18.1</td><td>193</td><td>3750</td><td>0</td></tr><tr><td>Dream</td><td>36</td><td>17.1</td><td>187</td><td>3700</td><td>0</td></tr><tr><td>Dream</td><td>41.5</td><td>18.5</td><td>201</td><td>4000</td><td>0</td></tr><tr><td>Biscoe</td><td>46.1</td><td>13.2</td><td>211</td><td>4500</td><td>1</td></tr><tr><td>Biscoe</td><td>50</td><td>16.3</td><td>230</td><td>5700</td><td>1</td></tr><tr><td>Biscoe</td><td>48.7</td><td>14.1</td><td>210</td><td>4450</td><td>1</td></tr><tr><td>Biscoe</td><td>50</td><td>15.2</td><td>218</td><td>5700</td><td>1</td></tr><tr><td>Biscoe</td><td>47.6</td><td>14.5</td><td>215</td><td>5400</td><td>1</td></tr><tr><td>Biscoe</td><td>46.5</td><td>13.5</td><td>210</td><td>4550</td><td>1</td></tr><tr><td>Biscoe</td><td>45.4</td><td>14.6</td><td>211</td><td>4800</td><td>1</td></tr><tr><td>Biscoe</td><td>46.7</td><td>15.3</td><td>219</td><td>5200</td><td>1</td></tr><tr><td>Biscoe</td><td>43.3</td><td>13.4</td><td>209</td><td>4400</td><td>1</td></tr><tr><td>Biscoe</td><td>46.8</td><td>15.4</td><td>215</td><td>5150</td><td>1</td></tr><tr><td>Biscoe</td><td>40.9</td><td>13.7</td><td>214</td><td>4650</td><td>1</td></tr><tr><td>Biscoe</td><td>49</td><td>16.1</td><td>216</td><td>5550</td><td>1</td></tr><tr><td>Biscoe</td><td>45.5</td><td>13.7</td><td>214</td><td>4650</td><td>1</td></tr><tr><td>Biscoe</td><td>48.4</td><td>14.6</td><td>213</td><td>5850</td><td>1</td></tr><tr><td>Biscoe</td><td>45.8</td><td>14.6</td><td>210</td><td>4200</td><td>1</td></tr><tr><td>Biscoe</td><td>49.3</td><td>15.7</td><td>217</td><td>5850</td><td>1</td></tr><tr><td>Biscoe</td><td>42</td><td>13.5</td><td>210</td><td>4150</td><td>1</td></tr><tr><td>Biscoe</td><td>49.2</td><td>15.2</td><td>221</td><td>6300</td><td>1</td></tr><tr><td>Biscoe</td><td>46.2</td><td>14.5</td><td>209</td><td>4800</td><td>1</td></tr><tr><td>Biscoe</td><td>48.7</td><td>15.1</td><td>222</td><td>5350</td><td>1</td></tr><tr><td>Biscoe</td><td>50.2</td><td>14.3</td><td>218</td><td>5700</td><td>1</td></tr><tr><td>Biscoe</td><td>45.1</td><td>14.5</td><td>215</td><td>5000</td><td>1</td></tr><tr><td>Biscoe</td><td>46.5</td><td>14.5</td><td>213</td><td>4400</td><td>1</td></tr><tr><td>Biscoe</td><td>46.3</td><td>15.8</td><td>215</td><td>5050</td><td>1</td></tr><tr><td>Biscoe</td><td>42.9</td><td>13.1</td><td>215</td><td>5000</td><td>1</td></tr><tr><td>Biscoe</td><td>46.1</td><td>15.1</td><td>215</td><td>5100</td><td>1</td></tr><tr><td>Biscoe</td><td>44.5</td><td>14.3</td><td>216</td><td>4100</td><td>1</td></tr><tr><td>Biscoe</td><td>47.8</td><td>15</td><td>215</td><td>5650</td><td>1</td></tr><tr><td>Biscoe</td><td>48.2</td><td>14.3</td><td>210</td><td>4600</td><td>1</td></tr><tr><td>Biscoe</td><td>50</td><td>15.3</td><td>220</td><td>5550</td><td>1</td></tr><tr><td>Biscoe</td><td>47.3</td><td>15.3</td><td>222</td><td>5250</td><td>1</td></tr><tr><td>Biscoe</td><td>42.8</td><td>14.2</td><td>209</td><td>4700</td><td>1</td></tr><tr><td>Biscoe</td><td>45.1</td><td>14.5</td><td>207</td><td>5050</td><td>1</td></tr><tr><td>Biscoe</td><td>59.6</td><td>17</td><td>230</td><td>6050</td><td>1</td></tr><tr><td>Biscoe</td><td>49.1</td><td>14.8</td><td>220</td><td>5150</td><td>1</td></tr><tr><td>Biscoe</td><td>48.4</td><td>16.3</td><td>220</td><td>5400</td><td>1</td></tr><tr><td>Biscoe</td><td>42.6</td><td>13.7</td><td>213</td><td>4950</td><td>1</td></tr><tr><td>Biscoe</td><td>44.4</td><td>17.3</td><td>219</td><td>5250</td><td>1</td></tr><tr><td>Biscoe</td><td>44</td><td>13.6</td><td>208</td><td>4350</td><td>1</td></tr><tr><td>Biscoe</td><td>48.7</td><td>15.7</td><td>208</td><td>5350</td><td>1</td></tr><tr><td>Biscoe</td><td>42.7</td><td>13.7</td><td>208</td><td>3950</td><td>1</td></tr><tr><td>Biscoe</td><td>49.6</td><td>16</td><td>225</td><td>5700</td><td>1</td></tr><tr><td>Biscoe</td><td>45.3</td><td>13.7</td><td>210</td><td>4300</td><td>1</td></tr><tr><td>Biscoe</td><td>49.6</td><td>15</td><td>216</td><td>4750</td><td>1</td></tr><tr><td>Biscoe</td><td>50.5</td><td>15.9</td><td>222</td><td>5550</td><td>1</td></tr><tr><td>Biscoe</td><td>43.6</td><td>13.9</td><td>217</td><td>4900</td><td>1</td></tr><tr><td>Biscoe</td><td>45.5</td><td>13.9</td><td>210</td><td>4200</td><td>1</td></tr><tr><td>Biscoe</td><td>50.5</td><td>15.9</td><td>225</td><td>5400</td><td>1</td></tr><tr><td>Biscoe</td><td>44.9</td><td>13.3</td><td>213</td><td>5100</td><td>1</td></tr><tr><td>Biscoe</td><td>45.2</td><td>15.8</td><td>215</td><td>5300</td><td>1</td></tr><tr><td>Biscoe</td><td>46.6</td><td>14.2</td><td>210</td><td>4850</td><td>1</td></tr><tr><td>Biscoe</td><td>48.5</td><td>14.1</td><td>220</td><td>5300</td><td>1</td></tr><tr><td>Biscoe</td><td>45.1</td><td>14.4</td><td>210</td><td>4400</td><td>1</td></tr><tr><td>Biscoe</td><td>50.1</td><td>15</td><td>225</td><td>5000</td><td>1</td></tr><tr><td>Biscoe</td><td>46.5</td><td>14.4</td><td>217</td><td>4900</td><td>1</td></tr><tr><td>Biscoe</td><td>45</td><td>15.4</td><td>220</td><td>5050</td><td>1</td></tr><tr><td>Biscoe</td><td>43.8</td><td>13.9</td><td>208</td><td>4300</td><td>1</td></tr><tr><td>Biscoe</td><td>45.5</td><td>15</td><td>220</td><td>5000</td><td>1</td></tr><tr><td>Biscoe</td><td>43.2</td><td>14.5</td><td>208</td><td>4450</td><td>1</td></tr><tr><td>Biscoe</td><td>50.4</td><td>15.3</td><td>224</td><td>5550</td><td>1</td></tr><tr><td>Biscoe</td><td>45.3</td><td>13.8</td><td>208</td><td>4200</td><td>1</td></tr><tr><td>Biscoe</td><td>46.2</td><td>14.9</td><td>221</td><td>5300</td><td>1</td></tr><tr><td>Biscoe</td><td>45.7</td><td>13.9</td><td>214</td><td>4400</td><td>1</td></tr><tr><td>Biscoe</td><td>54.3</td><td>15.7</td><td>231</td><td>5650</td><td>1</td></tr><tr><td>Biscoe</td><td>45.8</td><td>14.2</td><td>219</td><td>4700</td><td>1</td></tr><tr><td>Biscoe</td><td>49.8</td><td>16.8</td><td>230</td><td>5700</td><td>1</td></tr><tr><td>Biscoe</td><td>46.2</td><td>14.4</td><td>214</td><td>4650</td><td>1</td></tr><tr><td>Biscoe</td><td>49.5</td><td>16.2</td><td>229</td><td>5800</td><td>1</td></tr><tr><td>Biscoe</td><td>43.5</td><td>14.2</td><td>220</td><td>4700</td><td>1</td></tr><tr><td>Biscoe</td><td>50.7</td><td>15</td><td>223</td><td>5550</td><td>1</td></tr><tr><td>Biscoe</td><td>47.7</td><td>15</td><td>216</td><td>4750</td><td>1</td></tr><tr><td>Biscoe</td><td>46.4</td><td>15.6</td><td>221</td><td>5000</td><td>1</td></tr><tr><td>Biscoe</td><td>48.2</td><td>15.6</td><td>221</td><td>5100</td><td>1</td></tr><tr><td>Biscoe</td><td>46.5</td><td>14.8</td><td>217</td><td>5200</td><td>1</td></tr><tr><td>Biscoe</td><td>46.4</td><td>15</td><td>216</td><td>4700</td><td>1</td></tr><tr><td>Biscoe</td><td>48.6</td><td>16</td><td>230</td><td>5800</td><td>1</td></tr><tr><td>Biscoe</td><td>47.5</td><td>14.2</td><td>209</td><td>4600</td><td>1</td></tr><tr><td>Biscoe</td><td>51.1</td><td>16.3</td><td>220</td><td>6000</td><td>1</td></tr><tr><td>Biscoe</td><td>45.2</td><td>13.8</td><td>215</td><td>4750</td><td>1</td></tr><tr><td>Biscoe</td><td>45.2</td><td>16.4</td><td>223</td><td>5950</td><td>1</td></tr><tr><td>Biscoe</td><td>49.1</td><td>14.5</td><td>212</td><td>4625</td><td>1</td></tr><tr><td>Biscoe</td><td>52.5</td><td>15.6</td><td>221</td><td>5450</td><td>1</td></tr><tr><td>Biscoe</td><td>47.4</td><td>14.6</td><td>212</td><td>4725</td><td>1</td></tr><tr><td>Biscoe</td><td>50</td><td>15.9</td><td>224</td><td>5350</td><td>1</td></tr><tr><td>Biscoe</td><td>44.9</td><td>13.8</td><td>212</td><td>4750</td><td>1</td></tr><tr><td>Biscoe</td><td>50.8</td><td>17.3</td><td>228</td><td>5600</td><td>1</td></tr><tr><td>Biscoe</td><td>43.4</td><td>14.4</td><td>218</td><td>4600</td><td>1</td></tr><tr><td>Biscoe</td><td>51.3</td><td>14.2</td><td>218</td><td>5300</td><td>1</td></tr><tr><td>Biscoe</td><td>47.5</td><td>14</td><td>212</td><td>4875</td><td>1</td></tr><tr><td>Biscoe</td><td>52.1</td><td>17</td><td>230</td><td>5550</td><td>1</td></tr><tr><td>Biscoe</td><td>47.5</td><td>15</td><td>218</td><td>4950</td><td>1</td></tr><tr><td>Biscoe</td><td>52.2</td><td>17.1</td><td>228</td><td>5400</td><td>1</td></tr><tr><td>Biscoe</td><td>45.5</td><td>14.5</td><td>212</td><td>4750</td><td>1</td></tr><tr><td>Biscoe</td><td>49.5</td><td>16.1</td><td>224</td><td>5650</td><td>1</td></tr><tr><td>Biscoe</td><td>44.5</td><td>14.7</td><td>214</td><td>4850</td><td>1</td></tr><tr><td>Biscoe</td><td>50.8</td><td>15.7</td><td>226</td><td>5200</td><td>1</td></tr><tr><td>Biscoe</td><td>49.4</td><td>15.8</td><td>216</td><td>4925</td><td>1</td></tr><tr><td>Biscoe</td><td>46.9</td><td>14.6</td><td>222</td><td>4875</td><td>1</td></tr><tr><td>Biscoe</td><td>48.4</td><td>14.4</td><td>203</td><td>4625</td><td>1</td></tr><tr><td>Biscoe</td><td>51.1</td><td>16.5</td><td>225</td><td>5250</td><td>1</td></tr><tr><td>Biscoe</td><td>48.5</td><td>15</td><td>219</td><td>4850</td><td>1</td></tr><tr><td>Biscoe</td><td>55.9</td><td>17</td><td>228</td><td>5600</td><td>1</td></tr><tr><td>Biscoe</td><td>47.2</td><td>15.5</td><td>215</td><td>4975</td><td>1</td></tr><tr><td>Biscoe</td><td>49.1</td><td>15</td><td>228</td><td>5500</td><td>1</td></tr><tr><td>Biscoe</td><td>47.3</td><td>13.8</td><td>216</td><td>4725</td><td>1</td></tr><tr><td>Biscoe</td><td>46.8</td><td>16.1</td><td>215</td><td>5500</td><td>1</td></tr><tr><td>Biscoe</td><td>41.7</td><td>14.7</td><td>210</td><td>4700</td><td>1</td></tr><tr><td>Biscoe</td><td>53.4</td><td>15.8</td><td>219</td><td>5500</td><td>1</td></tr><tr><td>Biscoe</td><td>43.3</td><td>14</td><td>208</td><td>4575</td><td>1</td></tr><tr><td>Biscoe</td><td>48.1</td><td>15.1</td><td>209</td><td>5500</td><td>1</td></tr><tr><td>Biscoe</td><td>50.5</td><td>15.2</td><td>216</td><td>5000</td><td>1</td></tr><tr><td>Biscoe</td><td>49.8</td><td>15.9</td><td>229</td><td>5950</td><td>1</td></tr><tr><td>Biscoe</td><td>43.5</td><td>15.2</td><td>213</td><td>4650</td><td>1</td></tr><tr><td>Biscoe</td><td>51.5</td><td>16.3</td><td>230</td><td>5500</td><td>1</td></tr><tr><td>Biscoe</td><td>46.2</td><td>14.1</td><td>217</td><td>4375</td><td>1</td></tr><tr><td>Biscoe</td><td>55.1</td><td>16</td><td>230</td><td>5850</td><td>1</td></tr><tr><td>Biscoe</td><td>44.5</td><td>15.7</td><td>217</td><td>4875</td><td>1</td></tr><tr><td>Biscoe</td><td>48.8</td><td>16.2</td><td>222</td><td>6000</td><td>1</td></tr><tr><td>Biscoe</td><td>47.2</td><td>13.7</td><td>214</td><td>4925</td><td>1</td></tr><tr><td>Biscoe</td><td>null</td><td>null</td><td>null</td><td>null</td><td>1</td></tr><tr><td>Biscoe</td><td>46.8</td><td>14.3</td><td>215</td><td>4850</td><td>1</td></tr><tr><td>Biscoe</td><td>50.4</td><td>15.7</td><td>222</td><td>5750</td><td>1</td></tr><tr><td>Biscoe</td><td>45.2</td><td>14.8</td><td>212</td><td>5200</td><td>1</td></tr><tr><td>Biscoe</td><td>49.9</td><td>16.1</td><td>213</td><td>5400</td><td>1</td></tr><tr><td>Dream</td><td>46.5</td><td>17.9</td><td>192</td><td>3500</td><td>2</td></tr><tr><td>Dream</td><td>50</td><td>19.5</td><td>196</td><td>3900</td><td>2</td></tr><tr><td>Dream</td><td>51.3</td><td>19.2</td><td>193</td><td>3650</td><td>2</td></tr><tr><td>Dream</td><td>45.4</td><td>18.7</td><td>188</td><td>3525</td><td>2</td></tr><tr><td>Dream</td><td>52.7</td><td>19.8</td><td>197</td><td>3725</td><td>2</td></tr><tr><td>Dream</td><td>45.2</td><td>17.8</td><td>198</td><td>3950</td><td>2</td></tr><tr><td>Dream</td><td>46.1</td><td>18.2</td><td>178</td><td>3250</td><td>2</td></tr><tr><td>Dream</td><td>51.3</td><td>18.2</td><td>197</td><td>3750</td><td>2</td></tr><tr><td>Dream</td><td>46</td><td>18.9</td><td>195</td><td>4150</td><td>2</td></tr><tr><td>Dream</td><td>51.3</td><td>19.9</td><td>198</td><td>3700</td><td>2</td></tr><tr><td>Dream</td><td>46.6</td><td>17.8</td><td>193</td><td>3800</td><td>2</td></tr><tr><td>Dream</td><td>51.7</td><td>20.3</td><td>194</td><td>3775</td><td>2</td></tr><tr><td>Dream</td><td>47</td><td>17.3</td><td>185</td><td>3700</td><td>2</td></tr><tr><td>Dream</td><td>52</td><td>18.1</td><td>201</td><td>4050</td><td>2</td></tr><tr><td>Dream</td><td>45.9</td><td>17.1</td><td>190</td><td>3575</td><td>2</td></tr><tr><td>Dream</td><td>50.5</td><td>19.6</td><td>201</td><td>4050</td><td>2</td></tr><tr><td>Dream</td><td>50.3</td><td>20</td><td>197</td><td>3300</td><td>2</td></tr><tr><td>Dream</td><td>58</td><td>17.8</td><td>181</td><td>3700</td><td>2</td></tr><tr><td>Dream</td><td>46.4</td><td>18.6</td><td>190</td><td>3450</td><td>2</td></tr><tr><td>Dream</td><td>49.2</td><td>18.2</td><td>195</td><td>4400</td><td>2</td></tr><tr><td>Dream</td><td>42.4</td><td>17.3</td><td>181</td><td>3600</td><td>2</td></tr><tr><td>Dream</td><td>48.5</td><td>17.5</td><td>191</td><td>3400</td><td>2</td></tr><tr><td>Dream</td><td>43.2</td><td>16.6</td><td>187</td><td>2900</td><td>2</td></tr><tr><td>Dream</td><td>50.6</td><td>19.4</td><td>193</td><td>3800</td><td>2</td></tr><tr><td>Dream</td><td>46.7</td><td>17.9</td><td>195</td><td>3300</td><td>2</td></tr><tr><td>Dream</td><td>52</td><td>19</td><td>197</td><td>4150</td><td>2</td></tr><tr><td>Dream</td><td>50.5</td><td>18.4</td><td>200</td><td>3400</td><td>2</td></tr><tr><td>Dream</td><td>49.5</td><td>19</td><td>200</td><td>3800</td><td>2</td></tr><tr><td>Dream</td><td>46.4</td><td>17.8</td><td>191</td><td>3700</td><td>2</td></tr><tr><td>Dream</td><td>52.8</td><td>20</td><td>205</td><td>4550</td><td>2</td></tr><tr><td>Dream</td><td>40.9</td><td>16.6</td><td>187</td><td>3200</td><td>2</td></tr><tr><td>Dream</td><td>54.2</td><td>20.8</td><td>201</td><td>4300</td><td>2</td></tr><tr><td>Dream</td><td>42.5</td><td>16.7</td><td>187</td><td>3350</td><td>2</td></tr><tr><td>Dream</td><td>51</td><td>18.8</td><td>203</td><td>4100</td><td>2</td></tr><tr><td>Dream</td><td>49.7</td><td>18.6</td><td>195</td><td>3600</td><td>2</td></tr><tr><td>Dream</td><td>47.5</td><td>16.8</td><td>199</td><td>3900</td><td>2</td></tr><tr><td>Dream</td><td>47.6</td><td>18.3</td><td>195</td><td>3850</td><td>2</td></tr><tr><td>Dream</td><td>52</td><td>20.7</td><td>210</td><td>4800</td><td>2</td></tr><tr><td>Dream</td><td>46.9</td><td>16.6</td><td>192</td><td>2700</td><td>2</td></tr><tr><td>Dream</td><td>53.5</td><td>19.9</td><td>205</td><td>4500</td><td>2</td></tr><tr><td>Dream</td><td>49</td><td>19.5</td><td>210</td><td>3950</td><td>2</td></tr><tr><td>Dream</td><td>46.2</td><td>17.5</td><td>187</td><td>3650</td><td>2</td></tr><tr><td>Dream</td><td>50.9</td><td>19.1</td><td>196</td><td>3550</td><td>2</td></tr><tr><td>Dream</td><td>45.5</td><td>17</td><td>196</td><td>3500</td><td>2</td></tr><tr><td>Dream</td><td>50.9</td><td>17.9</td><td>196</td><td>3675</td><td>2</td></tr><tr><td>Dream</td><td>50.8</td><td>18.5</td><td>201</td><td>4450</td><td>2</td></tr><tr><td>Dream</td><td>50.1</td><td>17.9</td><td>190</td><td>3400</td><td>2</td></tr><tr><td>Dream</td><td>49</td><td>19.6</td><td>212</td><td>4300</td><td>2</td></tr><tr><td>Dream</td><td>51.5</td><td>18.7</td><td>187</td><td>3250</td><td>2</td></tr><tr><td>Dream</td><td>49.8</td><td>17.3</td><td>198</td><td>3675</td><td>2</td></tr><tr><td>Dream</td><td>48.1</td><td>16.4</td><td>199</td><td>3325</td><td>2</td></tr><tr><td>Dream</td><td>51.4</td><td>19</td><td>201</td><td>3950</td><td>2</td></tr><tr><td>Dream</td><td>45.7</td><td>17.3</td><td>193</td><td>3600</td><td>2</td></tr><tr><td>Dream</td><td>50.7</td><td>19.7</td><td>203</td><td>4050</td><td>2</td></tr><tr><td>Dream</td><td>42.5</td><td>17.3</td><td>187</td><td>3350</td><td>2</td></tr><tr><td>Dream</td><td>52.2</td><td>18.8</td><td>197</td><td>3450</td><td>2</td></tr><tr><td>Dream</td><td>45.2</td><td>16.6</td><td>191</td><td>3250</td><td>2</td></tr><tr><td>Dream</td><td>49.3</td><td>19.9</td><td>203</td><td>4050</td><td>2</td></tr><tr><td>Dream</td><td>50.2</td><td>18.8</td><td>202</td><td>3800</td><td>2</td></tr><tr><td>Dream</td><td>45.6</td><td>19.4</td><td>194</td><td>3525</td><td>2</td></tr><tr><td>Dream</td><td>51.9</td><td>19.5</td><td>206</td><td>3950</td><td>2</td></tr><tr><td>Dream</td><td>46.8</td><td>16.5</td><td>189</td><td>3650</td><td>2</td></tr><tr><td>Dream</td><td>45.7</td><td>17</td><td>195</td><td>3650</td><td>2</td></tr><tr><td>Dream</td><td>55.8</td><td>19.8</td><td>207</td><td>4000</td><td>2</td></tr><tr><td>Dream</td><td>43.5</td><td>18.1</td><td>202</td><td>3400</td><td>2</td></tr><tr><td>Dream</td><td>49.6</td><td>18.2</td><td>193</td><td>3775</td><td>2</td></tr><tr><td>Dream</td><td>50.8</td><td>19</td><td>210</td><td>4100</td><td>2</td></tr><tr><td>Dream</td><td>50.2</td><td>18.7</td><td>198</td><td>3775</td><td>2</td></tr></tbody></table></div>"
      ]
     },
     "metadata": {
      "application/vnd.databricks.v1+output": {
       "addedWidgets": {},
       "aggData": [],
       "aggError": "",
       "aggOverflow": false,
       "aggSchema": [],
       "aggSeriesLimitReached": false,
       "aggType": "",
       "arguments": {},
       "columnCustomDisplayInfos": {},
       "data": [
        [
         "Torgersen",
         "39.1",
         "18.7",
         "181",
         "3750",
         "0"
        ],
        [
         "Torgersen",
         "39.5",
         "17.4",
         "186",
         "3800",
         "0"
        ],
        [
         "Torgersen",
         "40.3",
         "18",
         "195",
         "3250",
         "0"
        ],
        [
         "Torgersen",
         null,
         null,
         null,
         null,
         "0"
        ],
        [
         "Torgersen",
         "36.7",
         "19.3",
         "193",
         "3450",
         "0"
        ],
        [
         "Torgersen",
         "39.3",
         "20.6",
         "190",
         "3650",
         "0"
        ],
        [
         "Torgersen",
         "38.9",
         "17.8",
         "181",
         "3625",
         "0"
        ],
        [
         "Torgersen",
         "39.2",
         "19.6",
         "195",
         "4675",
         "0"
        ],
        [
         "Torgersen",
         "34.1",
         "18.1",
         "193",
         "3475",
         "0"
        ],
        [
         "Torgersen",
         "42",
         "20.2",
         "190",
         "4250",
         "0"
        ],
        [
         "Torgersen",
         "37.8",
         "17.1",
         "186",
         "3300",
         "0"
        ],
        [
         "Torgersen",
         "37.8",
         "17.3",
         "180",
         "3700",
         "0"
        ],
        [
         "Torgersen",
         "41.1",
         "17.6",
         "182",
         "3200",
         "0"
        ],
        [
         "Torgersen",
         "38.6",
         "21.2",
         "191",
         "3800",
         "0"
        ],
        [
         "Torgersen",
         "34.6",
         "21.1",
         "198",
         "4400",
         "0"
        ],
        [
         "Torgersen",
         "36.6",
         "17.8",
         "185",
         "3700",
         "0"
        ],
        [
         "Torgersen",
         "38.7",
         "19",
         "195",
         "3450",
         "0"
        ],
        [
         "Torgersen",
         "42.5",
         "20.7",
         "197",
         "4500",
         "0"
        ],
        [
         "Torgersen",
         "34.4",
         "18.4",
         "184",
         "3325",
         "0"
        ],
        [
         "Torgersen",
         "46",
         "21.5",
         "194",
         "4200",
         "0"
        ],
        [
         "Biscoe",
         "37.8",
         "18.3",
         "174",
         "3400",
         "0"
        ],
        [
         "Biscoe",
         "37.7",
         "18.7",
         "180",
         "3600",
         "0"
        ],
        [
         "Biscoe",
         "35.9",
         "19.2",
         "189",
         "3800",
         "0"
        ],
        [
         "Biscoe",
         "38.2",
         "18.1",
         "185",
         "3950",
         "0"
        ],
        [
         "Biscoe",
         "38.8",
         "17.2",
         "180",
         "3800",
         "0"
        ],
        [
         "Biscoe",
         "35.3",
         "18.9",
         "187",
         "3800",
         "0"
        ],
        [
         "Biscoe",
         "40.6",
         "18.6",
         "183",
         "3550",
         "0"
        ],
        [
         "Biscoe",
         "40.5",
         "17.9",
         "187",
         "3200",
         "0"
        ],
        [
         "Biscoe",
         "37.9",
         "18.6",
         "172",
         "3150",
         "0"
        ],
        [
         "Biscoe",
         "40.5",
         "18.9",
         "180",
         "3950",
         "0"
        ],
        [
         "Dream",
         "39.5",
         "16.7",
         "178",
         "3250",
         "0"
        ],
        [
         "Dream",
         "37.2",
         "18.1",
         "178",
         "3900",
         "0"
        ],
        [
         "Dream",
         "39.5",
         "17.8",
         "188",
         "3300",
         "0"
        ],
        [
         "Dream",
         "40.9",
         "18.9",
         "184",
         "3900",
         "0"
        ],
        [
         "Dream",
         "36.4",
         "17",
         "195",
         "3325",
         "0"
        ],
        [
         "Dream",
         "39.2",
         "21.1",
         "196",
         "4150",
         "0"
        ],
        [
         "Dream",
         "38.8",
         "20",
         "190",
         "3950",
         "0"
        ],
        [
         "Dream",
         "42.2",
         "18.5",
         "180",
         "3550",
         "0"
        ],
        [
         "Dream",
         "37.6",
         "19.3",
         "181",
         "3300",
         "0"
        ],
        [
         "Dream",
         "39.8",
         "19.1",
         "184",
         "4650",
         "0"
        ],
        [
         "Dream",
         "36.5",
         "18",
         "182",
         "3150",
         "0"
        ],
        [
         "Dream",
         "40.8",
         "18.4",
         "195",
         "3900",
         "0"
        ],
        [
         "Dream",
         "36",
         "18.5",
         "186",
         "3100",
         "0"
        ],
        [
         "Dream",
         "44.1",
         "19.7",
         "196",
         "4400",
         "0"
        ],
        [
         "Dream",
         "37",
         "16.9",
         "185",
         "3000",
         "0"
        ],
        [
         "Dream",
         "39.6",
         "18.8",
         "190",
         "4600",
         "0"
        ],
        [
         "Dream",
         "41.1",
         "19",
         "182",
         "3425",
         "0"
        ],
        [
         "Dream",
         "37.5",
         "18.9",
         "179",
         "2975",
         "0"
        ],
        [
         "Dream",
         "36",
         "17.9",
         "190",
         "3450",
         "0"
        ],
        [
         "Dream",
         "42.3",
         "21.2",
         "191",
         "4150",
         "0"
        ],
        [
         "Biscoe",
         "39.6",
         "17.7",
         "186",
         "3500",
         "0"
        ],
        [
         "Biscoe",
         "40.1",
         "18.9",
         "188",
         "4300",
         "0"
        ],
        [
         "Biscoe",
         "35",
         "17.9",
         "190",
         "3450",
         "0"
        ],
        [
         "Biscoe",
         "42",
         "19.5",
         "200",
         "4050",
         "0"
        ],
        [
         "Biscoe",
         "34.5",
         "18.1",
         "187",
         "2900",
         "0"
        ],
        [
         "Biscoe",
         "41.4",
         "18.6",
         "191",
         "3700",
         "0"
        ],
        [
         "Biscoe",
         "39",
         "17.5",
         "186",
         "3550",
         "0"
        ],
        [
         "Biscoe",
         "40.6",
         "18.8",
         "193",
         "3800",
         "0"
        ],
        [
         "Biscoe",
         "36.5",
         "16.6",
         "181",
         "2850",
         "0"
        ],
        [
         "Biscoe",
         "37.6",
         "19.1",
         "194",
         "3750",
         "0"
        ],
        [
         "Biscoe",
         "35.7",
         "16.9",
         "185",
         "3150",
         "0"
        ],
        [
         "Biscoe",
         "41.3",
         "21.1",
         "195",
         "4400",
         "0"
        ],
        [
         "Biscoe",
         "37.6",
         "17",
         "185",
         "3600",
         "0"
        ],
        [
         "Biscoe",
         "41.1",
         "18.2",
         "192",
         "4050",
         "0"
        ],
        [
         "Biscoe",
         "36.4",
         "17.1",
         "184",
         "2850",
         "0"
        ],
        [
         "Biscoe",
         "41.6",
         "18",
         "192",
         "3950",
         "0"
        ],
        [
         "Biscoe",
         "35.5",
         "16.2",
         "195",
         "3350",
         "0"
        ],
        [
         "Biscoe",
         "41.1",
         "19.1",
         "188",
         "4100",
         "0"
        ],
        [
         "Torgersen",
         "35.9",
         "16.6",
         "190",
         "3050",
         "0"
        ],
        [
         "Torgersen",
         "41.8",
         "19.4",
         "198",
         "4450",
         "0"
        ],
        [
         "Torgersen",
         "33.5",
         "19",
         "190",
         "3600",
         "0"
        ],
        [
         "Torgersen",
         "39.7",
         "18.4",
         "190",
         "3900",
         "0"
        ],
        [
         "Torgersen",
         "39.6",
         "17.2",
         "196",
         "3550",
         "0"
        ],
        [
         "Torgersen",
         "45.8",
         "18.9",
         "197",
         "4150",
         "0"
        ],
        [
         "Torgersen",
         "35.5",
         "17.5",
         "190",
         "3700",
         "0"
        ],
        [
         "Torgersen",
         "42.8",
         "18.5",
         "195",
         "4250",
         "0"
        ],
        [
         "Torgersen",
         "40.9",
         "16.8",
         "191",
         "3700",
         "0"
        ],
        [
         "Torgersen",
         "37.2",
         "19.4",
         "184",
         "3900",
         "0"
        ],
        [
         "Torgersen",
         "36.2",
         "16.1",
         "187",
         "3550",
         "0"
        ],
        [
         "Torgersen",
         "42.1",
         "19.1",
         "195",
         "4000",
         "0"
        ],
        [
         "Torgersen",
         "34.6",
         "17.2",
         "189",
         "3200",
         "0"
        ],
        [
         "Torgersen",
         "42.9",
         "17.6",
         "196",
         "4700",
         "0"
        ],
        [
         "Torgersen",
         "36.7",
         "18.8",
         "187",
         "3800",
         "0"
        ],
        [
         "Torgersen",
         "35.1",
         "19.4",
         "193",
         "4200",
         "0"
        ],
        [
         "Dream",
         "37.3",
         "17.8",
         "191",
         "3350",
         "0"
        ],
        [
         "Dream",
         "41.3",
         "20.3",
         "194",
         "3550",
         "0"
        ],
        [
         "Dream",
         "36.3",
         "19.5",
         "190",
         "3800",
         "0"
        ],
        [
         "Dream",
         "36.9",
         "18.6",
         "189",
         "3500",
         "0"
        ],
        [
         "Dream",
         "38.3",
         "19.2",
         "189",
         "3950",
         "0"
        ],
        [
         "Dream",
         "38.9",
         "18.8",
         "190",
         "3600",
         "0"
        ],
        [
         "Dream",
         "35.7",
         "18",
         "202",
         "3550",
         "0"
        ],
        [
         "Dream",
         "41.1",
         "18.1",
         "205",
         "4300",
         "0"
        ],
        [
         "Dream",
         "34",
         "17.1",
         "185",
         "3400",
         "0"
        ],
        [
         "Dream",
         "39.6",
         "18.1",
         "186",
         "4450",
         "0"
        ],
        [
         "Dream",
         "36.2",
         "17.3",
         "187",
         "3300",
         "0"
        ],
        [
         "Dream",
         "40.8",
         "18.9",
         "208",
         "4300",
         "0"
        ],
        [
         "Dream",
         "38.1",
         "18.6",
         "190",
         "3700",
         "0"
        ],
        [
         "Dream",
         "40.3",
         "18.5",
         "196",
         "4350",
         "0"
        ],
        [
         "Dream",
         "33.1",
         "16.1",
         "178",
         "2900",
         "0"
        ],
        [
         "Dream",
         "43.2",
         "18.5",
         "192",
         "4100",
         "0"
        ],
        [
         "Biscoe",
         "35",
         "17.9",
         "192",
         "3725",
         "0"
        ],
        [
         "Biscoe",
         "41",
         "20",
         "203",
         "4725",
         "0"
        ],
        [
         "Biscoe",
         "37.7",
         "16",
         "183",
         "3075",
         "0"
        ],
        [
         "Biscoe",
         "37.8",
         "20",
         "190",
         "4250",
         "0"
        ],
        [
         "Biscoe",
         "37.9",
         "18.6",
         "193",
         "2925",
         "0"
        ],
        [
         "Biscoe",
         "39.7",
         "18.9",
         "184",
         "3550",
         "0"
        ],
        [
         "Biscoe",
         "38.6",
         "17.2",
         "199",
         "3750",
         "0"
        ],
        [
         "Biscoe",
         "38.2",
         "20",
         "190",
         "3900",
         "0"
        ],
        [
         "Biscoe",
         "38.1",
         "17",
         "181",
         "3175",
         "0"
        ],
        [
         "Biscoe",
         "43.2",
         "19",
         "197",
         "4775",
         "0"
        ],
        [
         "Biscoe",
         "38.1",
         "16.5",
         "198",
         "3825",
         "0"
        ],
        [
         "Biscoe",
         "45.6",
         "20.3",
         "191",
         "4600",
         "0"
        ],
        [
         "Biscoe",
         "39.7",
         "17.7",
         "193",
         "3200",
         "0"
        ],
        [
         "Biscoe",
         "42.2",
         "19.5",
         "197",
         "4275",
         "0"
        ],
        [
         "Biscoe",
         "39.6",
         "20.7",
         "191",
         "3900",
         "0"
        ],
        [
         "Biscoe",
         "42.7",
         "18.3",
         "196",
         "4075",
         "0"
        ],
        [
         "Torgersen",
         "38.6",
         "17",
         "188",
         "2900",
         "0"
        ],
        [
         "Torgersen",
         "37.3",
         "20.5",
         "199",
         "3775",
         "0"
        ],
        [
         "Torgersen",
         "35.7",
         "17",
         "189",
         "3350",
         "0"
        ],
        [
         "Torgersen",
         "41.1",
         "18.6",
         "189",
         "3325",
         "0"
        ],
        [
         "Torgersen",
         "36.2",
         "17.2",
         "187",
         "3150",
         "0"
        ],
        [
         "Torgersen",
         "37.7",
         "19.8",
         "198",
         "3500",
         "0"
        ],
        [
         "Torgersen",
         "40.2",
         "17",
         "176",
         "3450",
         "0"
        ],
        [
         "Torgersen",
         "41.4",
         "18.5",
         "202",
         "3875",
         "0"
        ],
        [
         "Torgersen",
         "35.2",
         "15.9",
         "186",
         "3050",
         "0"
        ],
        [
         "Torgersen",
         "40.6",
         "19",
         "199",
         "4000",
         "0"
        ],
        [
         "Torgersen",
         "38.8",
         "17.6",
         "191",
         "3275",
         "0"
        ],
        [
         "Torgersen",
         "41.5",
         "18.3",
         "195",
         "4300",
         "0"
        ],
        [
         "Torgersen",
         "39",
         "17.1",
         "191",
         "3050",
         "0"
        ],
        [
         "Torgersen",
         "44.1",
         "18",
         "210",
         "4000",
         "0"
        ],
        [
         "Torgersen",
         "38.5",
         "17.9",
         "190",
         "3325",
         "0"
        ],
        [
         "Torgersen",
         "43.1",
         "19.2",
         "197",
         "3500",
         "0"
        ],
        [
         "Dream",
         "36.8",
         "18.5",
         "193",
         "3500",
         "0"
        ],
        [
         "Dream",
         "37.5",
         "18.5",
         "199",
         "4475",
         "0"
        ],
        [
         "Dream",
         "38.1",
         "17.6",
         "187",
         "3425",
         "0"
        ],
        [
         "Dream",
         "41.1",
         "17.5",
         "190",
         "3900",
         "0"
        ],
        [
         "Dream",
         "35.6",
         "17.5",
         "191",
         "3175",
         "0"
        ],
        [
         "Dream",
         "40.2",
         "20.1",
         "200",
         "3975",
         "0"
        ],
        [
         "Dream",
         "37",
         "16.5",
         "185",
         "3400",
         "0"
        ],
        [
         "Dream",
         "39.7",
         "17.9",
         "193",
         "4250",
         "0"
        ],
        [
         "Dream",
         "40.2",
         "17.1",
         "193",
         "3400",
         "0"
        ],
        [
         "Dream",
         "40.6",
         "17.2",
         "187",
         "3475",
         "0"
        ],
        [
         "Dream",
         "32.1",
         "15.5",
         "188",
         "3050",
         "0"
        ],
        [
         "Dream",
         "40.7",
         "17",
         "190",
         "3725",
         "0"
        ],
        [
         "Dream",
         "37.3",
         "16.8",
         "192",
         "3000",
         "0"
        ],
        [
         "Dream",
         "39",
         "18.7",
         "185",
         "3650",
         "0"
        ],
        [
         "Dream",
         "39.2",
         "18.6",
         "190",
         "4250",
         "0"
        ],
        [
         "Dream",
         "36.6",
         "18.4",
         "184",
         "3475",
         "0"
        ],
        [
         "Dream",
         "36",
         "17.8",
         "195",
         "3450",
         "0"
        ],
        [
         "Dream",
         "37.8",
         "18.1",
         "193",
         "3750",
         "0"
        ],
        [
         "Dream",
         "36",
         "17.1",
         "187",
         "3700",
         "0"
        ],
        [
         "Dream",
         "41.5",
         "18.5",
         "201",
         "4000",
         "0"
        ],
        [
         "Biscoe",
         "46.1",
         "13.2",
         "211",
         "4500",
         "1"
        ],
        [
         "Biscoe",
         "50",
         "16.3",
         "230",
         "5700",
         "1"
        ],
        [
         "Biscoe",
         "48.7",
         "14.1",
         "210",
         "4450",
         "1"
        ],
        [
         "Biscoe",
         "50",
         "15.2",
         "218",
         "5700",
         "1"
        ],
        [
         "Biscoe",
         "47.6",
         "14.5",
         "215",
         "5400",
         "1"
        ],
        [
         "Biscoe",
         "46.5",
         "13.5",
         "210",
         "4550",
         "1"
        ],
        [
         "Biscoe",
         "45.4",
         "14.6",
         "211",
         "4800",
         "1"
        ],
        [
         "Biscoe",
         "46.7",
         "15.3",
         "219",
         "5200",
         "1"
        ],
        [
         "Biscoe",
         "43.3",
         "13.4",
         "209",
         "4400",
         "1"
        ],
        [
         "Biscoe",
         "46.8",
         "15.4",
         "215",
         "5150",
         "1"
        ],
        [
         "Biscoe",
         "40.9",
         "13.7",
         "214",
         "4650",
         "1"
        ],
        [
         "Biscoe",
         "49",
         "16.1",
         "216",
         "5550",
         "1"
        ],
        [
         "Biscoe",
         "45.5",
         "13.7",
         "214",
         "4650",
         "1"
        ],
        [
         "Biscoe",
         "48.4",
         "14.6",
         "213",
         "5850",
         "1"
        ],
        [
         "Biscoe",
         "45.8",
         "14.6",
         "210",
         "4200",
         "1"
        ],
        [
         "Biscoe",
         "49.3",
         "15.7",
         "217",
         "5850",
         "1"
        ],
        [
         "Biscoe",
         "42",
         "13.5",
         "210",
         "4150",
         "1"
        ],
        [
         "Biscoe",
         "49.2",
         "15.2",
         "221",
         "6300",
         "1"
        ],
        [
         "Biscoe",
         "46.2",
         "14.5",
         "209",
         "4800",
         "1"
        ],
        [
         "Biscoe",
         "48.7",
         "15.1",
         "222",
         "5350",
         "1"
        ],
        [
         "Biscoe",
         "50.2",
         "14.3",
         "218",
         "5700",
         "1"
        ],
        [
         "Biscoe",
         "45.1",
         "14.5",
         "215",
         "5000",
         "1"
        ],
        [
         "Biscoe",
         "46.5",
         "14.5",
         "213",
         "4400",
         "1"
        ],
        [
         "Biscoe",
         "46.3",
         "15.8",
         "215",
         "5050",
         "1"
        ],
        [
         "Biscoe",
         "42.9",
         "13.1",
         "215",
         "5000",
         "1"
        ],
        [
         "Biscoe",
         "46.1",
         "15.1",
         "215",
         "5100",
         "1"
        ],
        [
         "Biscoe",
         "44.5",
         "14.3",
         "216",
         "4100",
         "1"
        ],
        [
         "Biscoe",
         "47.8",
         "15",
         "215",
         "5650",
         "1"
        ],
        [
         "Biscoe",
         "48.2",
         "14.3",
         "210",
         "4600",
         "1"
        ],
        [
         "Biscoe",
         "50",
         "15.3",
         "220",
         "5550",
         "1"
        ],
        [
         "Biscoe",
         "47.3",
         "15.3",
         "222",
         "5250",
         "1"
        ],
        [
         "Biscoe",
         "42.8",
         "14.2",
         "209",
         "4700",
         "1"
        ],
        [
         "Biscoe",
         "45.1",
         "14.5",
         "207",
         "5050",
         "1"
        ],
        [
         "Biscoe",
         "59.6",
         "17",
         "230",
         "6050",
         "1"
        ],
        [
         "Biscoe",
         "49.1",
         "14.8",
         "220",
         "5150",
         "1"
        ],
        [
         "Biscoe",
         "48.4",
         "16.3",
         "220",
         "5400",
         "1"
        ],
        [
         "Biscoe",
         "42.6",
         "13.7",
         "213",
         "4950",
         "1"
        ],
        [
         "Biscoe",
         "44.4",
         "17.3",
         "219",
         "5250",
         "1"
        ],
        [
         "Biscoe",
         "44",
         "13.6",
         "208",
         "4350",
         "1"
        ],
        [
         "Biscoe",
         "48.7",
         "15.7",
         "208",
         "5350",
         "1"
        ],
        [
         "Biscoe",
         "42.7",
         "13.7",
         "208",
         "3950",
         "1"
        ],
        [
         "Biscoe",
         "49.6",
         "16",
         "225",
         "5700",
         "1"
        ],
        [
         "Biscoe",
         "45.3",
         "13.7",
         "210",
         "4300",
         "1"
        ],
        [
         "Biscoe",
         "49.6",
         "15",
         "216",
         "4750",
         "1"
        ],
        [
         "Biscoe",
         "50.5",
         "15.9",
         "222",
         "5550",
         "1"
        ],
        [
         "Biscoe",
         "43.6",
         "13.9",
         "217",
         "4900",
         "1"
        ],
        [
         "Biscoe",
         "45.5",
         "13.9",
         "210",
         "4200",
         "1"
        ],
        [
         "Biscoe",
         "50.5",
         "15.9",
         "225",
         "5400",
         "1"
        ],
        [
         "Biscoe",
         "44.9",
         "13.3",
         "213",
         "5100",
         "1"
        ],
        [
         "Biscoe",
         "45.2",
         "15.8",
         "215",
         "5300",
         "1"
        ],
        [
         "Biscoe",
         "46.6",
         "14.2",
         "210",
         "4850",
         "1"
        ],
        [
         "Biscoe",
         "48.5",
         "14.1",
         "220",
         "5300",
         "1"
        ],
        [
         "Biscoe",
         "45.1",
         "14.4",
         "210",
         "4400",
         "1"
        ],
        [
         "Biscoe",
         "50.1",
         "15",
         "225",
         "5000",
         "1"
        ],
        [
         "Biscoe",
         "46.5",
         "14.4",
         "217",
         "4900",
         "1"
        ],
        [
         "Biscoe",
         "45",
         "15.4",
         "220",
         "5050",
         "1"
        ],
        [
         "Biscoe",
         "43.8",
         "13.9",
         "208",
         "4300",
         "1"
        ],
        [
         "Biscoe",
         "45.5",
         "15",
         "220",
         "5000",
         "1"
        ],
        [
         "Biscoe",
         "43.2",
         "14.5",
         "208",
         "4450",
         "1"
        ],
        [
         "Biscoe",
         "50.4",
         "15.3",
         "224",
         "5550",
         "1"
        ],
        [
         "Biscoe",
         "45.3",
         "13.8",
         "208",
         "4200",
         "1"
        ],
        [
         "Biscoe",
         "46.2",
         "14.9",
         "221",
         "5300",
         "1"
        ],
        [
         "Biscoe",
         "45.7",
         "13.9",
         "214",
         "4400",
         "1"
        ],
        [
         "Biscoe",
         "54.3",
         "15.7",
         "231",
         "5650",
         "1"
        ],
        [
         "Biscoe",
         "45.8",
         "14.2",
         "219",
         "4700",
         "1"
        ],
        [
         "Biscoe",
         "49.8",
         "16.8",
         "230",
         "5700",
         "1"
        ],
        [
         "Biscoe",
         "46.2",
         "14.4",
         "214",
         "4650",
         "1"
        ],
        [
         "Biscoe",
         "49.5",
         "16.2",
         "229",
         "5800",
         "1"
        ],
        [
         "Biscoe",
         "43.5",
         "14.2",
         "220",
         "4700",
         "1"
        ],
        [
         "Biscoe",
         "50.7",
         "15",
         "223",
         "5550",
         "1"
        ],
        [
         "Biscoe",
         "47.7",
         "15",
         "216",
         "4750",
         "1"
        ],
        [
         "Biscoe",
         "46.4",
         "15.6",
         "221",
         "5000",
         "1"
        ],
        [
         "Biscoe",
         "48.2",
         "15.6",
         "221",
         "5100",
         "1"
        ],
        [
         "Biscoe",
         "46.5",
         "14.8",
         "217",
         "5200",
         "1"
        ],
        [
         "Biscoe",
         "46.4",
         "15",
         "216",
         "4700",
         "1"
        ],
        [
         "Biscoe",
         "48.6",
         "16",
         "230",
         "5800",
         "1"
        ],
        [
         "Biscoe",
         "47.5",
         "14.2",
         "209",
         "4600",
         "1"
        ],
        [
         "Biscoe",
         "51.1",
         "16.3",
         "220",
         "6000",
         "1"
        ],
        [
         "Biscoe",
         "45.2",
         "13.8",
         "215",
         "4750",
         "1"
        ],
        [
         "Biscoe",
         "45.2",
         "16.4",
         "223",
         "5950",
         "1"
        ],
        [
         "Biscoe",
         "49.1",
         "14.5",
         "212",
         "4625",
         "1"
        ],
        [
         "Biscoe",
         "52.5",
         "15.6",
         "221",
         "5450",
         "1"
        ],
        [
         "Biscoe",
         "47.4",
         "14.6",
         "212",
         "4725",
         "1"
        ],
        [
         "Biscoe",
         "50",
         "15.9",
         "224",
         "5350",
         "1"
        ],
        [
         "Biscoe",
         "44.9",
         "13.8",
         "212",
         "4750",
         "1"
        ],
        [
         "Biscoe",
         "50.8",
         "17.3",
         "228",
         "5600",
         "1"
        ],
        [
         "Biscoe",
         "43.4",
         "14.4",
         "218",
         "4600",
         "1"
        ],
        [
         "Biscoe",
         "51.3",
         "14.2",
         "218",
         "5300",
         "1"
        ],
        [
         "Biscoe",
         "47.5",
         "14",
         "212",
         "4875",
         "1"
        ],
        [
         "Biscoe",
         "52.1",
         "17",
         "230",
         "5550",
         "1"
        ],
        [
         "Biscoe",
         "47.5",
         "15",
         "218",
         "4950",
         "1"
        ],
        [
         "Biscoe",
         "52.2",
         "17.1",
         "228",
         "5400",
         "1"
        ],
        [
         "Biscoe",
         "45.5",
         "14.5",
         "212",
         "4750",
         "1"
        ],
        [
         "Biscoe",
         "49.5",
         "16.1",
         "224",
         "5650",
         "1"
        ],
        [
         "Biscoe",
         "44.5",
         "14.7",
         "214",
         "4850",
         "1"
        ],
        [
         "Biscoe",
         "50.8",
         "15.7",
         "226",
         "5200",
         "1"
        ],
        [
         "Biscoe",
         "49.4",
         "15.8",
         "216",
         "4925",
         "1"
        ],
        [
         "Biscoe",
         "46.9",
         "14.6",
         "222",
         "4875",
         "1"
        ],
        [
         "Biscoe",
         "48.4",
         "14.4",
         "203",
         "4625",
         "1"
        ],
        [
         "Biscoe",
         "51.1",
         "16.5",
         "225",
         "5250",
         "1"
        ],
        [
         "Biscoe",
         "48.5",
         "15",
         "219",
         "4850",
         "1"
        ],
        [
         "Biscoe",
         "55.9",
         "17",
         "228",
         "5600",
         "1"
        ],
        [
         "Biscoe",
         "47.2",
         "15.5",
         "215",
         "4975",
         "1"
        ],
        [
         "Biscoe",
         "49.1",
         "15",
         "228",
         "5500",
         "1"
        ],
        [
         "Biscoe",
         "47.3",
         "13.8",
         "216",
         "4725",
         "1"
        ],
        [
         "Biscoe",
         "46.8",
         "16.1",
         "215",
         "5500",
         "1"
        ],
        [
         "Biscoe",
         "41.7",
         "14.7",
         "210",
         "4700",
         "1"
        ],
        [
         "Biscoe",
         "53.4",
         "15.8",
         "219",
         "5500",
         "1"
        ],
        [
         "Biscoe",
         "43.3",
         "14",
         "208",
         "4575",
         "1"
        ],
        [
         "Biscoe",
         "48.1",
         "15.1",
         "209",
         "5500",
         "1"
        ],
        [
         "Biscoe",
         "50.5",
         "15.2",
         "216",
         "5000",
         "1"
        ],
        [
         "Biscoe",
         "49.8",
         "15.9",
         "229",
         "5950",
         "1"
        ],
        [
         "Biscoe",
         "43.5",
         "15.2",
         "213",
         "4650",
         "1"
        ],
        [
         "Biscoe",
         "51.5",
         "16.3",
         "230",
         "5500",
         "1"
        ],
        [
         "Biscoe",
         "46.2",
         "14.1",
         "217",
         "4375",
         "1"
        ],
        [
         "Biscoe",
         "55.1",
         "16",
         "230",
         "5850",
         "1"
        ],
        [
         "Biscoe",
         "44.5",
         "15.7",
         "217",
         "4875",
         "1"
        ],
        [
         "Biscoe",
         "48.8",
         "16.2",
         "222",
         "6000",
         "1"
        ],
        [
         "Biscoe",
         "47.2",
         "13.7",
         "214",
         "4925",
         "1"
        ],
        [
         "Biscoe",
         null,
         null,
         null,
         null,
         "1"
        ],
        [
         "Biscoe",
         "46.8",
         "14.3",
         "215",
         "4850",
         "1"
        ],
        [
         "Biscoe",
         "50.4",
         "15.7",
         "222",
         "5750",
         "1"
        ],
        [
         "Biscoe",
         "45.2",
         "14.8",
         "212",
         "5200",
         "1"
        ],
        [
         "Biscoe",
         "49.9",
         "16.1",
         "213",
         "5400",
         "1"
        ],
        [
         "Dream",
         "46.5",
         "17.9",
         "192",
         "3500",
         "2"
        ],
        [
         "Dream",
         "50",
         "19.5",
         "196",
         "3900",
         "2"
        ],
        [
         "Dream",
         "51.3",
         "19.2",
         "193",
         "3650",
         "2"
        ],
        [
         "Dream",
         "45.4",
         "18.7",
         "188",
         "3525",
         "2"
        ],
        [
         "Dream",
         "52.7",
         "19.8",
         "197",
         "3725",
         "2"
        ],
        [
         "Dream",
         "45.2",
         "17.8",
         "198",
         "3950",
         "2"
        ],
        [
         "Dream",
         "46.1",
         "18.2",
         "178",
         "3250",
         "2"
        ],
        [
         "Dream",
         "51.3",
         "18.2",
         "197",
         "3750",
         "2"
        ],
        [
         "Dream",
         "46",
         "18.9",
         "195",
         "4150",
         "2"
        ],
        [
         "Dream",
         "51.3",
         "19.9",
         "198",
         "3700",
         "2"
        ],
        [
         "Dream",
         "46.6",
         "17.8",
         "193",
         "3800",
         "2"
        ],
        [
         "Dream",
         "51.7",
         "20.3",
         "194",
         "3775",
         "2"
        ],
        [
         "Dream",
         "47",
         "17.3",
         "185",
         "3700",
         "2"
        ],
        [
         "Dream",
         "52",
         "18.1",
         "201",
         "4050",
         "2"
        ],
        [
         "Dream",
         "45.9",
         "17.1",
         "190",
         "3575",
         "2"
        ],
        [
         "Dream",
         "50.5",
         "19.6",
         "201",
         "4050",
         "2"
        ],
        [
         "Dream",
         "50.3",
         "20",
         "197",
         "3300",
         "2"
        ],
        [
         "Dream",
         "58",
         "17.8",
         "181",
         "3700",
         "2"
        ],
        [
         "Dream",
         "46.4",
         "18.6",
         "190",
         "3450",
         "2"
        ],
        [
         "Dream",
         "49.2",
         "18.2",
         "195",
         "4400",
         "2"
        ],
        [
         "Dream",
         "42.4",
         "17.3",
         "181",
         "3600",
         "2"
        ],
        [
         "Dream",
         "48.5",
         "17.5",
         "191",
         "3400",
         "2"
        ],
        [
         "Dream",
         "43.2",
         "16.6",
         "187",
         "2900",
         "2"
        ],
        [
         "Dream",
         "50.6",
         "19.4",
         "193",
         "3800",
         "2"
        ],
        [
         "Dream",
         "46.7",
         "17.9",
         "195",
         "3300",
         "2"
        ],
        [
         "Dream",
         "52",
         "19",
         "197",
         "4150",
         "2"
        ],
        [
         "Dream",
         "50.5",
         "18.4",
         "200",
         "3400",
         "2"
        ],
        [
         "Dream",
         "49.5",
         "19",
         "200",
         "3800",
         "2"
        ],
        [
         "Dream",
         "46.4",
         "17.8",
         "191",
         "3700",
         "2"
        ],
        [
         "Dream",
         "52.8",
         "20",
         "205",
         "4550",
         "2"
        ],
        [
         "Dream",
         "40.9",
         "16.6",
         "187",
         "3200",
         "2"
        ],
        [
         "Dream",
         "54.2",
         "20.8",
         "201",
         "4300",
         "2"
        ],
        [
         "Dream",
         "42.5",
         "16.7",
         "187",
         "3350",
         "2"
        ],
        [
         "Dream",
         "51",
         "18.8",
         "203",
         "4100",
         "2"
        ],
        [
         "Dream",
         "49.7",
         "18.6",
         "195",
         "3600",
         "2"
        ],
        [
         "Dream",
         "47.5",
         "16.8",
         "199",
         "3900",
         "2"
        ],
        [
         "Dream",
         "47.6",
         "18.3",
         "195",
         "3850",
         "2"
        ],
        [
         "Dream",
         "52",
         "20.7",
         "210",
         "4800",
         "2"
        ],
        [
         "Dream",
         "46.9",
         "16.6",
         "192",
         "2700",
         "2"
        ],
        [
         "Dream",
         "53.5",
         "19.9",
         "205",
         "4500",
         "2"
        ],
        [
         "Dream",
         "49",
         "19.5",
         "210",
         "3950",
         "2"
        ],
        [
         "Dream",
         "46.2",
         "17.5",
         "187",
         "3650",
         "2"
        ],
        [
         "Dream",
         "50.9",
         "19.1",
         "196",
         "3550",
         "2"
        ],
        [
         "Dream",
         "45.5",
         "17",
         "196",
         "3500",
         "2"
        ],
        [
         "Dream",
         "50.9",
         "17.9",
         "196",
         "3675",
         "2"
        ],
        [
         "Dream",
         "50.8",
         "18.5",
         "201",
         "4450",
         "2"
        ],
        [
         "Dream",
         "50.1",
         "17.9",
         "190",
         "3400",
         "2"
        ],
        [
         "Dream",
         "49",
         "19.6",
         "212",
         "4300",
         "2"
        ],
        [
         "Dream",
         "51.5",
         "18.7",
         "187",
         "3250",
         "2"
        ],
        [
         "Dream",
         "49.8",
         "17.3",
         "198",
         "3675",
         "2"
        ],
        [
         "Dream",
         "48.1",
         "16.4",
         "199",
         "3325",
         "2"
        ],
        [
         "Dream",
         "51.4",
         "19",
         "201",
         "3950",
         "2"
        ],
        [
         "Dream",
         "45.7",
         "17.3",
         "193",
         "3600",
         "2"
        ],
        [
         "Dream",
         "50.7",
         "19.7",
         "203",
         "4050",
         "2"
        ],
        [
         "Dream",
         "42.5",
         "17.3",
         "187",
         "3350",
         "2"
        ],
        [
         "Dream",
         "52.2",
         "18.8",
         "197",
         "3450",
         "2"
        ],
        [
         "Dream",
         "45.2",
         "16.6",
         "191",
         "3250",
         "2"
        ],
        [
         "Dream",
         "49.3",
         "19.9",
         "203",
         "4050",
         "2"
        ],
        [
         "Dream",
         "50.2",
         "18.8",
         "202",
         "3800",
         "2"
        ],
        [
         "Dream",
         "45.6",
         "19.4",
         "194",
         "3525",
         "2"
        ],
        [
         "Dream",
         "51.9",
         "19.5",
         "206",
         "3950",
         "2"
        ],
        [
         "Dream",
         "46.8",
         "16.5",
         "189",
         "3650",
         "2"
        ],
        [
         "Dream",
         "45.7",
         "17",
         "195",
         "3650",
         "2"
        ],
        [
         "Dream",
         "55.8",
         "19.8",
         "207",
         "4000",
         "2"
        ],
        [
         "Dream",
         "43.5",
         "18.1",
         "202",
         "3400",
         "2"
        ],
        [
         "Dream",
         "49.6",
         "18.2",
         "193",
         "3775",
         "2"
        ],
        [
         "Dream",
         "50.8",
         "19",
         "210",
         "4100",
         "2"
        ],
        [
         "Dream",
         "50.2",
         "18.7",
         "198",
         "3775",
         "2"
        ]
       ],
       "datasetInfos": [],
       "dbfsResultPath": null,
       "isJsonSchema": true,
       "metadata": {},
       "overflow": false,
       "plotOptions": {
        "customPlotOptions": {},
        "displayType": "table",
        "pivotAggregation": null,
        "pivotColumns": null,
        "xColumns": null,
        "yColumns": null
       },
       "removedWidgets": [],
       "schema": [
        {
         "metadata": "{}",
         "name": "Island",
         "type": "\"string\""
        },
        {
         "metadata": "{}",
         "name": "CulmenLength",
         "type": "\"string\""
        },
        {
         "metadata": "{}",
         "name": "CulmenDepth",
         "type": "\"string\""
        },
        {
         "metadata": "{}",
         "name": "FlipperLength",
         "type": "\"string\""
        },
        {
         "metadata": "{}",
         "name": "BodyMass",
         "type": "\"string\""
        },
        {
         "metadata": "{}",
         "name": "Species",
         "type": "\"string\""
        }
       ],
       "type": "table"
      }
     },
     "output_type": "display_data"
    }
   ],
   "source": [
    "df = spark.read.format(\"csv\").option(\"header\", \"true\").load(\"/ml_lab/penguins.csv\")\n",
    "display(df)"
   ]
  },
  {
   "cell_type": "code",
   "execution_count": 0,
   "metadata": {
    "application/vnd.databricks.v1+cell": {
     "cellMetadata": {
      "byteLimit": 2048000,
      "rowLimit": 10000
     },
     "inputWidgets": {},
     "nuid": "0d32d702-24f9-4c73-809a-3dffc613e9a3",
     "showTitle": false,
     "title": ""
    }
   },
   "outputs": [
    {
     "output_type": "display_data",
     "data": {
      "text/html": [
       "<style scoped>\n",
       "  .table-result-container {\n",
       "    max-height: 300px;\n",
       "    overflow: auto;\n",
       "  }\n",
       "  table, th, td {\n",
       "    border: 1px solid black;\n",
       "    border-collapse: collapse;\n",
       "  }\n",
       "  th, td {\n",
       "    padding: 5px;\n",
       "  }\n",
       "  th {\n",
       "    text-align: left;\n",
       "  }\n",
       "</style><div class='table-result-container'><table class='table-result'><thead style='background-color: white'><tr><th>Island</th><th>CulmenLength</th><th>CulmenDepth</th><th>FlipperLength</th><th>BodyMass</th><th>Species</th></tr></thead><tbody><tr><td>Torgersen</td><td>39.1</td><td>18.7</td><td>181.0</td><td>3750.0</td><td>0</td></tr><tr><td>Torgersen</td><td>39.5</td><td>17.4</td><td>186.0</td><td>3800.0</td><td>0</td></tr><tr><td>Torgersen</td><td>40.3</td><td>18.0</td><td>195.0</td><td>3250.0</td><td>0</td></tr><tr><td>Torgersen</td><td>36.7</td><td>19.3</td><td>193.0</td><td>3450.0</td><td>0</td></tr><tr><td>Torgersen</td><td>39.3</td><td>20.6</td><td>190.0</td><td>3650.0</td><td>0</td></tr><tr><td>Torgersen</td><td>38.9</td><td>17.8</td><td>181.0</td><td>3625.0</td><td>0</td></tr><tr><td>Torgersen</td><td>39.2</td><td>19.6</td><td>195.0</td><td>4675.0</td><td>0</td></tr><tr><td>Torgersen</td><td>34.1</td><td>18.1</td><td>193.0</td><td>3475.0</td><td>0</td></tr><tr><td>Torgersen</td><td>42.0</td><td>20.2</td><td>190.0</td><td>4250.0</td><td>0</td></tr><tr><td>Torgersen</td><td>37.8</td><td>17.1</td><td>186.0</td><td>3300.0</td><td>0</td></tr><tr><td>Torgersen</td><td>37.8</td><td>17.3</td><td>180.0</td><td>3700.0</td><td>0</td></tr><tr><td>Torgersen</td><td>41.1</td><td>17.6</td><td>182.0</td><td>3200.0</td><td>0</td></tr><tr><td>Torgersen</td><td>38.6</td><td>21.2</td><td>191.0</td><td>3800.0</td><td>0</td></tr><tr><td>Torgersen</td><td>34.6</td><td>21.1</td><td>198.0</td><td>4400.0</td><td>0</td></tr><tr><td>Torgersen</td><td>36.6</td><td>17.8</td><td>185.0</td><td>3700.0</td><td>0</td></tr><tr><td>Torgersen</td><td>38.7</td><td>19.0</td><td>195.0</td><td>3450.0</td><td>0</td></tr><tr><td>Torgersen</td><td>42.5</td><td>20.7</td><td>197.0</td><td>4500.0</td><td>0</td></tr><tr><td>Torgersen</td><td>34.4</td><td>18.4</td><td>184.0</td><td>3325.0</td><td>0</td></tr><tr><td>Torgersen</td><td>46.0</td><td>21.5</td><td>194.0</td><td>4200.0</td><td>0</td></tr><tr><td>Biscoe</td><td>37.8</td><td>18.3</td><td>174.0</td><td>3400.0</td><td>0</td></tr><tr><td>Biscoe</td><td>37.7</td><td>18.7</td><td>180.0</td><td>3600.0</td><td>0</td></tr><tr><td>Biscoe</td><td>35.9</td><td>19.2</td><td>189.0</td><td>3800.0</td><td>0</td></tr><tr><td>Biscoe</td><td>38.2</td><td>18.1</td><td>185.0</td><td>3950.0</td><td>0</td></tr><tr><td>Biscoe</td><td>38.8</td><td>17.2</td><td>180.0</td><td>3800.0</td><td>0</td></tr><tr><td>Biscoe</td><td>35.3</td><td>18.9</td><td>187.0</td><td>3800.0</td><td>0</td></tr><tr><td>Biscoe</td><td>40.6</td><td>18.6</td><td>183.0</td><td>3550.0</td><td>0</td></tr><tr><td>Biscoe</td><td>40.5</td><td>17.9</td><td>187.0</td><td>3200.0</td><td>0</td></tr><tr><td>Biscoe</td><td>37.9</td><td>18.6</td><td>172.0</td><td>3150.0</td><td>0</td></tr><tr><td>Biscoe</td><td>40.5</td><td>18.9</td><td>180.0</td><td>3950.0</td><td>0</td></tr><tr><td>Dream</td><td>39.5</td><td>16.7</td><td>178.0</td><td>3250.0</td><td>0</td></tr><tr><td>Dream</td><td>37.2</td><td>18.1</td><td>178.0</td><td>3900.0</td><td>0</td></tr><tr><td>Dream</td><td>39.5</td><td>17.8</td><td>188.0</td><td>3300.0</td><td>0</td></tr><tr><td>Dream</td><td>40.9</td><td>18.9</td><td>184.0</td><td>3900.0</td><td>0</td></tr><tr><td>Dream</td><td>36.4</td><td>17.0</td><td>195.0</td><td>3325.0</td><td>0</td></tr><tr><td>Dream</td><td>39.2</td><td>21.1</td><td>196.0</td><td>4150.0</td><td>0</td></tr><tr><td>Dream</td><td>38.8</td><td>20.0</td><td>190.0</td><td>3950.0</td><td>0</td></tr><tr><td>Dream</td><td>42.2</td><td>18.5</td><td>180.0</td><td>3550.0</td><td>0</td></tr><tr><td>Dream</td><td>37.6</td><td>19.3</td><td>181.0</td><td>3300.0</td><td>0</td></tr><tr><td>Dream</td><td>39.8</td><td>19.1</td><td>184.0</td><td>4650.0</td><td>0</td></tr><tr><td>Dream</td><td>36.5</td><td>18.0</td><td>182.0</td><td>3150.0</td><td>0</td></tr><tr><td>Dream</td><td>40.8</td><td>18.4</td><td>195.0</td><td>3900.0</td><td>0</td></tr><tr><td>Dream</td><td>36.0</td><td>18.5</td><td>186.0</td><td>3100.0</td><td>0</td></tr><tr><td>Dream</td><td>44.1</td><td>19.7</td><td>196.0</td><td>4400.0</td><td>0</td></tr><tr><td>Dream</td><td>37.0</td><td>16.9</td><td>185.0</td><td>3000.0</td><td>0</td></tr><tr><td>Dream</td><td>39.6</td><td>18.8</td><td>190.0</td><td>4600.0</td><td>0</td></tr><tr><td>Dream</td><td>41.1</td><td>19.0</td><td>182.0</td><td>3425.0</td><td>0</td></tr><tr><td>Dream</td><td>37.5</td><td>18.9</td><td>179.0</td><td>2975.0</td><td>0</td></tr><tr><td>Dream</td><td>36.0</td><td>17.9</td><td>190.0</td><td>3450.0</td><td>0</td></tr><tr><td>Dream</td><td>42.3</td><td>21.2</td><td>191.0</td><td>4150.0</td><td>0</td></tr><tr><td>Biscoe</td><td>39.6</td><td>17.7</td><td>186.0</td><td>3500.0</td><td>0</td></tr><tr><td>Biscoe</td><td>40.1</td><td>18.9</td><td>188.0</td><td>4300.0</td><td>0</td></tr><tr><td>Biscoe</td><td>35.0</td><td>17.9</td><td>190.0</td><td>3450.0</td><td>0</td></tr><tr><td>Biscoe</td><td>42.0</td><td>19.5</td><td>200.0</td><td>4050.0</td><td>0</td></tr><tr><td>Biscoe</td><td>34.5</td><td>18.1</td><td>187.0</td><td>2900.0</td><td>0</td></tr><tr><td>Biscoe</td><td>41.4</td><td>18.6</td><td>191.0</td><td>3700.0</td><td>0</td></tr><tr><td>Biscoe</td><td>39.0</td><td>17.5</td><td>186.0</td><td>3550.0</td><td>0</td></tr><tr><td>Biscoe</td><td>40.6</td><td>18.8</td><td>193.0</td><td>3800.0</td><td>0</td></tr><tr><td>Biscoe</td><td>36.5</td><td>16.6</td><td>181.0</td><td>2850.0</td><td>0</td></tr><tr><td>Biscoe</td><td>37.6</td><td>19.1</td><td>194.0</td><td>3750.0</td><td>0</td></tr><tr><td>Biscoe</td><td>35.7</td><td>16.9</td><td>185.0</td><td>3150.0</td><td>0</td></tr><tr><td>Biscoe</td><td>41.3</td><td>21.1</td><td>195.0</td><td>4400.0</td><td>0</td></tr><tr><td>Biscoe</td><td>37.6</td><td>17.0</td><td>185.0</td><td>3600.0</td><td>0</td></tr><tr><td>Biscoe</td><td>41.1</td><td>18.2</td><td>192.0</td><td>4050.0</td><td>0</td></tr><tr><td>Biscoe</td><td>36.4</td><td>17.1</td><td>184.0</td><td>2850.0</td><td>0</td></tr><tr><td>Biscoe</td><td>41.6</td><td>18.0</td><td>192.0</td><td>3950.0</td><td>0</td></tr><tr><td>Biscoe</td><td>35.5</td><td>16.2</td><td>195.0</td><td>3350.0</td><td>0</td></tr><tr><td>Biscoe</td><td>41.1</td><td>19.1</td><td>188.0</td><td>4100.0</td><td>0</td></tr><tr><td>Torgersen</td><td>35.9</td><td>16.6</td><td>190.0</td><td>3050.0</td><td>0</td></tr><tr><td>Torgersen</td><td>41.8</td><td>19.4</td><td>198.0</td><td>4450.0</td><td>0</td></tr><tr><td>Torgersen</td><td>33.5</td><td>19.0</td><td>190.0</td><td>3600.0</td><td>0</td></tr><tr><td>Torgersen</td><td>39.7</td><td>18.4</td><td>190.0</td><td>3900.0</td><td>0</td></tr><tr><td>Torgersen</td><td>39.6</td><td>17.2</td><td>196.0</td><td>3550.0</td><td>0</td></tr><tr><td>Torgersen</td><td>45.8</td><td>18.9</td><td>197.0</td><td>4150.0</td><td>0</td></tr><tr><td>Torgersen</td><td>35.5</td><td>17.5</td><td>190.0</td><td>3700.0</td><td>0</td></tr><tr><td>Torgersen</td><td>42.8</td><td>18.5</td><td>195.0</td><td>4250.0</td><td>0</td></tr><tr><td>Torgersen</td><td>40.9</td><td>16.8</td><td>191.0</td><td>3700.0</td><td>0</td></tr><tr><td>Torgersen</td><td>37.2</td><td>19.4</td><td>184.0</td><td>3900.0</td><td>0</td></tr><tr><td>Torgersen</td><td>36.2</td><td>16.1</td><td>187.0</td><td>3550.0</td><td>0</td></tr><tr><td>Torgersen</td><td>42.1</td><td>19.1</td><td>195.0</td><td>4000.0</td><td>0</td></tr><tr><td>Torgersen</td><td>34.6</td><td>17.2</td><td>189.0</td><td>3200.0</td><td>0</td></tr><tr><td>Torgersen</td><td>42.9</td><td>17.6</td><td>196.0</td><td>4700.0</td><td>0</td></tr><tr><td>Torgersen</td><td>36.7</td><td>18.8</td><td>187.0</td><td>3800.0</td><td>0</td></tr><tr><td>Torgersen</td><td>35.1</td><td>19.4</td><td>193.0</td><td>4200.0</td><td>0</td></tr><tr><td>Dream</td><td>37.3</td><td>17.8</td><td>191.0</td><td>3350.0</td><td>0</td></tr><tr><td>Dream</td><td>41.3</td><td>20.3</td><td>194.0</td><td>3550.0</td><td>0</td></tr><tr><td>Dream</td><td>36.3</td><td>19.5</td><td>190.0</td><td>3800.0</td><td>0</td></tr><tr><td>Dream</td><td>36.9</td><td>18.6</td><td>189.0</td><td>3500.0</td><td>0</td></tr><tr><td>Dream</td><td>38.3</td><td>19.2</td><td>189.0</td><td>3950.0</td><td>0</td></tr><tr><td>Dream</td><td>38.9</td><td>18.8</td><td>190.0</td><td>3600.0</td><td>0</td></tr><tr><td>Dream</td><td>35.7</td><td>18.0</td><td>202.0</td><td>3550.0</td><td>0</td></tr><tr><td>Dream</td><td>41.1</td><td>18.1</td><td>205.0</td><td>4300.0</td><td>0</td></tr><tr><td>Dream</td><td>34.0</td><td>17.1</td><td>185.0</td><td>3400.0</td><td>0</td></tr><tr><td>Dream</td><td>39.6</td><td>18.1</td><td>186.0</td><td>4450.0</td><td>0</td></tr><tr><td>Dream</td><td>36.2</td><td>17.3</td><td>187.0</td><td>3300.0</td><td>0</td></tr><tr><td>Dream</td><td>40.8</td><td>18.9</td><td>208.0</td><td>4300.0</td><td>0</td></tr><tr><td>Dream</td><td>38.1</td><td>18.6</td><td>190.0</td><td>3700.0</td><td>0</td></tr><tr><td>Dream</td><td>40.3</td><td>18.5</td><td>196.0</td><td>4350.0</td><td>0</td></tr><tr><td>Dream</td><td>33.1</td><td>16.1</td><td>178.0</td><td>2900.0</td><td>0</td></tr><tr><td>Dream</td><td>43.2</td><td>18.5</td><td>192.0</td><td>4100.0</td><td>0</td></tr><tr><td>Biscoe</td><td>35.0</td><td>17.9</td><td>192.0</td><td>3725.0</td><td>0</td></tr><tr><td>Biscoe</td><td>41.0</td><td>20.0</td><td>203.0</td><td>4725.0</td><td>0</td></tr><tr><td>Biscoe</td><td>37.7</td><td>16.0</td><td>183.0</td><td>3075.0</td><td>0</td></tr><tr><td>Biscoe</td><td>37.8</td><td>20.0</td><td>190.0</td><td>4250.0</td><td>0</td></tr><tr><td>Biscoe</td><td>37.9</td><td>18.6</td><td>193.0</td><td>2925.0</td><td>0</td></tr><tr><td>Biscoe</td><td>39.7</td><td>18.9</td><td>184.0</td><td>3550.0</td><td>0</td></tr><tr><td>Biscoe</td><td>38.6</td><td>17.2</td><td>199.0</td><td>3750.0</td><td>0</td></tr><tr><td>Biscoe</td><td>38.2</td><td>20.0</td><td>190.0</td><td>3900.0</td><td>0</td></tr><tr><td>Biscoe</td><td>38.1</td><td>17.0</td><td>181.0</td><td>3175.0</td><td>0</td></tr><tr><td>Biscoe</td><td>43.2</td><td>19.0</td><td>197.0</td><td>4775.0</td><td>0</td></tr><tr><td>Biscoe</td><td>38.1</td><td>16.5</td><td>198.0</td><td>3825.0</td><td>0</td></tr><tr><td>Biscoe</td><td>45.6</td><td>20.3</td><td>191.0</td><td>4600.0</td><td>0</td></tr><tr><td>Biscoe</td><td>39.7</td><td>17.7</td><td>193.0</td><td>3200.0</td><td>0</td></tr><tr><td>Biscoe</td><td>42.2</td><td>19.5</td><td>197.0</td><td>4275.0</td><td>0</td></tr><tr><td>Biscoe</td><td>39.6</td><td>20.7</td><td>191.0</td><td>3900.0</td><td>0</td></tr><tr><td>Biscoe</td><td>42.7</td><td>18.3</td><td>196.0</td><td>4075.0</td><td>0</td></tr><tr><td>Torgersen</td><td>38.6</td><td>17.0</td><td>188.0</td><td>2900.0</td><td>0</td></tr><tr><td>Torgersen</td><td>37.3</td><td>20.5</td><td>199.0</td><td>3775.0</td><td>0</td></tr><tr><td>Torgersen</td><td>35.7</td><td>17.0</td><td>189.0</td><td>3350.0</td><td>0</td></tr><tr><td>Torgersen</td><td>41.1</td><td>18.6</td><td>189.0</td><td>3325.0</td><td>0</td></tr><tr><td>Torgersen</td><td>36.2</td><td>17.2</td><td>187.0</td><td>3150.0</td><td>0</td></tr><tr><td>Torgersen</td><td>37.7</td><td>19.8</td><td>198.0</td><td>3500.0</td><td>0</td></tr><tr><td>Torgersen</td><td>40.2</td><td>17.0</td><td>176.0</td><td>3450.0</td><td>0</td></tr><tr><td>Torgersen</td><td>41.4</td><td>18.5</td><td>202.0</td><td>3875.0</td><td>0</td></tr><tr><td>Torgersen</td><td>35.2</td><td>15.9</td><td>186.0</td><td>3050.0</td><td>0</td></tr><tr><td>Torgersen</td><td>40.6</td><td>19.0</td><td>199.0</td><td>4000.0</td><td>0</td></tr><tr><td>Torgersen</td><td>38.8</td><td>17.6</td><td>191.0</td><td>3275.0</td><td>0</td></tr><tr><td>Torgersen</td><td>41.5</td><td>18.3</td><td>195.0</td><td>4300.0</td><td>0</td></tr><tr><td>Torgersen</td><td>39.0</td><td>17.1</td><td>191.0</td><td>3050.0</td><td>0</td></tr><tr><td>Torgersen</td><td>44.1</td><td>18.0</td><td>210.0</td><td>4000.0</td><td>0</td></tr><tr><td>Torgersen</td><td>38.5</td><td>17.9</td><td>190.0</td><td>3325.0</td><td>0</td></tr><tr><td>Torgersen</td><td>43.1</td><td>19.2</td><td>197.0</td><td>3500.0</td><td>0</td></tr><tr><td>Dream</td><td>36.8</td><td>18.5</td><td>193.0</td><td>3500.0</td><td>0</td></tr><tr><td>Dream</td><td>37.5</td><td>18.5</td><td>199.0</td><td>4475.0</td><td>0</td></tr><tr><td>Dream</td><td>38.1</td><td>17.6</td><td>187.0</td><td>3425.0</td><td>0</td></tr><tr><td>Dream</td><td>41.1</td><td>17.5</td><td>190.0</td><td>3900.0</td><td>0</td></tr><tr><td>Dream</td><td>35.6</td><td>17.5</td><td>191.0</td><td>3175.0</td><td>0</td></tr><tr><td>Dream</td><td>40.2</td><td>20.1</td><td>200.0</td><td>3975.0</td><td>0</td></tr><tr><td>Dream</td><td>37.0</td><td>16.5</td><td>185.0</td><td>3400.0</td><td>0</td></tr><tr><td>Dream</td><td>39.7</td><td>17.9</td><td>193.0</td><td>4250.0</td><td>0</td></tr><tr><td>Dream</td><td>40.2</td><td>17.1</td><td>193.0</td><td>3400.0</td><td>0</td></tr><tr><td>Dream</td><td>40.6</td><td>17.2</td><td>187.0</td><td>3475.0</td><td>0</td></tr><tr><td>Dream</td><td>32.1</td><td>15.5</td><td>188.0</td><td>3050.0</td><td>0</td></tr><tr><td>Dream</td><td>40.7</td><td>17.0</td><td>190.0</td><td>3725.0</td><td>0</td></tr><tr><td>Dream</td><td>37.3</td><td>16.8</td><td>192.0</td><td>3000.0</td><td>0</td></tr><tr><td>Dream</td><td>39.0</td><td>18.7</td><td>185.0</td><td>3650.0</td><td>0</td></tr><tr><td>Dream</td><td>39.2</td><td>18.6</td><td>190.0</td><td>4250.0</td><td>0</td></tr><tr><td>Dream</td><td>36.6</td><td>18.4</td><td>184.0</td><td>3475.0</td><td>0</td></tr><tr><td>Dream</td><td>36.0</td><td>17.8</td><td>195.0</td><td>3450.0</td><td>0</td></tr><tr><td>Dream</td><td>37.8</td><td>18.1</td><td>193.0</td><td>3750.0</td><td>0</td></tr><tr><td>Dream</td><td>36.0</td><td>17.1</td><td>187.0</td><td>3700.0</td><td>0</td></tr><tr><td>Dream</td><td>41.5</td><td>18.5</td><td>201.0</td><td>4000.0</td><td>0</td></tr><tr><td>Biscoe</td><td>46.1</td><td>13.2</td><td>211.0</td><td>4500.0</td><td>1</td></tr><tr><td>Biscoe</td><td>50.0</td><td>16.3</td><td>230.0</td><td>5700.0</td><td>1</td></tr><tr><td>Biscoe</td><td>48.7</td><td>14.1</td><td>210.0</td><td>4450.0</td><td>1</td></tr><tr><td>Biscoe</td><td>50.0</td><td>15.2</td><td>218.0</td><td>5700.0</td><td>1</td></tr><tr><td>Biscoe</td><td>47.6</td><td>14.5</td><td>215.0</td><td>5400.0</td><td>1</td></tr><tr><td>Biscoe</td><td>46.5</td><td>13.5</td><td>210.0</td><td>4550.0</td><td>1</td></tr><tr><td>Biscoe</td><td>45.4</td><td>14.6</td><td>211.0</td><td>4800.0</td><td>1</td></tr><tr><td>Biscoe</td><td>46.7</td><td>15.3</td><td>219.0</td><td>5200.0</td><td>1</td></tr><tr><td>Biscoe</td><td>43.3</td><td>13.4</td><td>209.0</td><td>4400.0</td><td>1</td></tr><tr><td>Biscoe</td><td>46.8</td><td>15.4</td><td>215.0</td><td>5150.0</td><td>1</td></tr><tr><td>Biscoe</td><td>40.9</td><td>13.7</td><td>214.0</td><td>4650.0</td><td>1</td></tr><tr><td>Biscoe</td><td>49.0</td><td>16.1</td><td>216.0</td><td>5550.0</td><td>1</td></tr><tr><td>Biscoe</td><td>45.5</td><td>13.7</td><td>214.0</td><td>4650.0</td><td>1</td></tr><tr><td>Biscoe</td><td>48.4</td><td>14.6</td><td>213.0</td><td>5850.0</td><td>1</td></tr><tr><td>Biscoe</td><td>45.8</td><td>14.6</td><td>210.0</td><td>4200.0</td><td>1</td></tr><tr><td>Biscoe</td><td>49.3</td><td>15.7</td><td>217.0</td><td>5850.0</td><td>1</td></tr><tr><td>Biscoe</td><td>42.0</td><td>13.5</td><td>210.0</td><td>4150.0</td><td>1</td></tr><tr><td>Biscoe</td><td>49.2</td><td>15.2</td><td>221.0</td><td>6300.0</td><td>1</td></tr><tr><td>Biscoe</td><td>46.2</td><td>14.5</td><td>209.0</td><td>4800.0</td><td>1</td></tr><tr><td>Biscoe</td><td>48.7</td><td>15.1</td><td>222.0</td><td>5350.0</td><td>1</td></tr><tr><td>Biscoe</td><td>50.2</td><td>14.3</td><td>218.0</td><td>5700.0</td><td>1</td></tr><tr><td>Biscoe</td><td>45.1</td><td>14.5</td><td>215.0</td><td>5000.0</td><td>1</td></tr><tr><td>Biscoe</td><td>46.5</td><td>14.5</td><td>213.0</td><td>4400.0</td><td>1</td></tr><tr><td>Biscoe</td><td>46.3</td><td>15.8</td><td>215.0</td><td>5050.0</td><td>1</td></tr><tr><td>Biscoe</td><td>42.9</td><td>13.1</td><td>215.0</td><td>5000.0</td><td>1</td></tr><tr><td>Biscoe</td><td>46.1</td><td>15.1</td><td>215.0</td><td>5100.0</td><td>1</td></tr><tr><td>Biscoe</td><td>44.5</td><td>14.3</td><td>216.0</td><td>4100.0</td><td>1</td></tr><tr><td>Biscoe</td><td>47.8</td><td>15.0</td><td>215.0</td><td>5650.0</td><td>1</td></tr><tr><td>Biscoe</td><td>48.2</td><td>14.3</td><td>210.0</td><td>4600.0</td><td>1</td></tr><tr><td>Biscoe</td><td>50.0</td><td>15.3</td><td>220.0</td><td>5550.0</td><td>1</td></tr><tr><td>Biscoe</td><td>47.3</td><td>15.3</td><td>222.0</td><td>5250.0</td><td>1</td></tr><tr><td>Biscoe</td><td>42.8</td><td>14.2</td><td>209.0</td><td>4700.0</td><td>1</td></tr><tr><td>Biscoe</td><td>45.1</td><td>14.5</td><td>207.0</td><td>5050.0</td><td>1</td></tr><tr><td>Biscoe</td><td>59.6</td><td>17.0</td><td>230.0</td><td>6050.0</td><td>1</td></tr><tr><td>Biscoe</td><td>49.1</td><td>14.8</td><td>220.0</td><td>5150.0</td><td>1</td></tr><tr><td>Biscoe</td><td>48.4</td><td>16.3</td><td>220.0</td><td>5400.0</td><td>1</td></tr><tr><td>Biscoe</td><td>42.6</td><td>13.7</td><td>213.0</td><td>4950.0</td><td>1</td></tr><tr><td>Biscoe</td><td>44.4</td><td>17.3</td><td>219.0</td><td>5250.0</td><td>1</td></tr><tr><td>Biscoe</td><td>44.0</td><td>13.6</td><td>208.0</td><td>4350.0</td><td>1</td></tr><tr><td>Biscoe</td><td>48.7</td><td>15.7</td><td>208.0</td><td>5350.0</td><td>1</td></tr><tr><td>Biscoe</td><td>42.7</td><td>13.7</td><td>208.0</td><td>3950.0</td><td>1</td></tr><tr><td>Biscoe</td><td>49.6</td><td>16.0</td><td>225.0</td><td>5700.0</td><td>1</td></tr><tr><td>Biscoe</td><td>45.3</td><td>13.7</td><td>210.0</td><td>4300.0</td><td>1</td></tr><tr><td>Biscoe</td><td>49.6</td><td>15.0</td><td>216.0</td><td>4750.0</td><td>1</td></tr><tr><td>Biscoe</td><td>50.5</td><td>15.9</td><td>222.0</td><td>5550.0</td><td>1</td></tr><tr><td>Biscoe</td><td>43.6</td><td>13.9</td><td>217.0</td><td>4900.0</td><td>1</td></tr><tr><td>Biscoe</td><td>45.5</td><td>13.9</td><td>210.0</td><td>4200.0</td><td>1</td></tr><tr><td>Biscoe</td><td>50.5</td><td>15.9</td><td>225.0</td><td>5400.0</td><td>1</td></tr><tr><td>Biscoe</td><td>44.9</td><td>13.3</td><td>213.0</td><td>5100.0</td><td>1</td></tr><tr><td>Biscoe</td><td>45.2</td><td>15.8</td><td>215.0</td><td>5300.0</td><td>1</td></tr><tr><td>Biscoe</td><td>46.6</td><td>14.2</td><td>210.0</td><td>4850.0</td><td>1</td></tr><tr><td>Biscoe</td><td>48.5</td><td>14.1</td><td>220.0</td><td>5300.0</td><td>1</td></tr><tr><td>Biscoe</td><td>45.1</td><td>14.4</td><td>210.0</td><td>4400.0</td><td>1</td></tr><tr><td>Biscoe</td><td>50.1</td><td>15.0</td><td>225.0</td><td>5000.0</td><td>1</td></tr><tr><td>Biscoe</td><td>46.5</td><td>14.4</td><td>217.0</td><td>4900.0</td><td>1</td></tr><tr><td>Biscoe</td><td>45.0</td><td>15.4</td><td>220.0</td><td>5050.0</td><td>1</td></tr><tr><td>Biscoe</td><td>43.8</td><td>13.9</td><td>208.0</td><td>4300.0</td><td>1</td></tr><tr><td>Biscoe</td><td>45.5</td><td>15.0</td><td>220.0</td><td>5000.0</td><td>1</td></tr><tr><td>Biscoe</td><td>43.2</td><td>14.5</td><td>208.0</td><td>4450.0</td><td>1</td></tr><tr><td>Biscoe</td><td>50.4</td><td>15.3</td><td>224.0</td><td>5550.0</td><td>1</td></tr><tr><td>Biscoe</td><td>45.3</td><td>13.8</td><td>208.0</td><td>4200.0</td><td>1</td></tr><tr><td>Biscoe</td><td>46.2</td><td>14.9</td><td>221.0</td><td>5300.0</td><td>1</td></tr><tr><td>Biscoe</td><td>45.7</td><td>13.9</td><td>214.0</td><td>4400.0</td><td>1</td></tr><tr><td>Biscoe</td><td>54.3</td><td>15.7</td><td>231.0</td><td>5650.0</td><td>1</td></tr><tr><td>Biscoe</td><td>45.8</td><td>14.2</td><td>219.0</td><td>4700.0</td><td>1</td></tr><tr><td>Biscoe</td><td>49.8</td><td>16.8</td><td>230.0</td><td>5700.0</td><td>1</td></tr><tr><td>Biscoe</td><td>46.2</td><td>14.4</td><td>214.0</td><td>4650.0</td><td>1</td></tr><tr><td>Biscoe</td><td>49.5</td><td>16.2</td><td>229.0</td><td>5800.0</td><td>1</td></tr><tr><td>Biscoe</td><td>43.5</td><td>14.2</td><td>220.0</td><td>4700.0</td><td>1</td></tr><tr><td>Biscoe</td><td>50.7</td><td>15.0</td><td>223.0</td><td>5550.0</td><td>1</td></tr><tr><td>Biscoe</td><td>47.7</td><td>15.0</td><td>216.0</td><td>4750.0</td><td>1</td></tr><tr><td>Biscoe</td><td>46.4</td><td>15.6</td><td>221.0</td><td>5000.0</td><td>1</td></tr><tr><td>Biscoe</td><td>48.2</td><td>15.6</td><td>221.0</td><td>5100.0</td><td>1</td></tr><tr><td>Biscoe</td><td>46.5</td><td>14.8</td><td>217.0</td><td>5200.0</td><td>1</td></tr><tr><td>Biscoe</td><td>46.4</td><td>15.0</td><td>216.0</td><td>4700.0</td><td>1</td></tr><tr><td>Biscoe</td><td>48.6</td><td>16.0</td><td>230.0</td><td>5800.0</td><td>1</td></tr><tr><td>Biscoe</td><td>47.5</td><td>14.2</td><td>209.0</td><td>4600.0</td><td>1</td></tr><tr><td>Biscoe</td><td>51.1</td><td>16.3</td><td>220.0</td><td>6000.0</td><td>1</td></tr><tr><td>Biscoe</td><td>45.2</td><td>13.8</td><td>215.0</td><td>4750.0</td><td>1</td></tr><tr><td>Biscoe</td><td>45.2</td><td>16.4</td><td>223.0</td><td>5950.0</td><td>1</td></tr><tr><td>Biscoe</td><td>49.1</td><td>14.5</td><td>212.0</td><td>4625.0</td><td>1</td></tr><tr><td>Biscoe</td><td>52.5</td><td>15.6</td><td>221.0</td><td>5450.0</td><td>1</td></tr><tr><td>Biscoe</td><td>47.4</td><td>14.6</td><td>212.0</td><td>4725.0</td><td>1</td></tr><tr><td>Biscoe</td><td>50.0</td><td>15.9</td><td>224.0</td><td>5350.0</td><td>1</td></tr><tr><td>Biscoe</td><td>44.9</td><td>13.8</td><td>212.0</td><td>4750.0</td><td>1</td></tr><tr><td>Biscoe</td><td>50.8</td><td>17.3</td><td>228.0</td><td>5600.0</td><td>1</td></tr><tr><td>Biscoe</td><td>43.4</td><td>14.4</td><td>218.0</td><td>4600.0</td><td>1</td></tr><tr><td>Biscoe</td><td>51.3</td><td>14.2</td><td>218.0</td><td>5300.0</td><td>1</td></tr><tr><td>Biscoe</td><td>47.5</td><td>14.0</td><td>212.0</td><td>4875.0</td><td>1</td></tr><tr><td>Biscoe</td><td>52.1</td><td>17.0</td><td>230.0</td><td>5550.0</td><td>1</td></tr><tr><td>Biscoe</td><td>47.5</td><td>15.0</td><td>218.0</td><td>4950.0</td><td>1</td></tr><tr><td>Biscoe</td><td>52.2</td><td>17.1</td><td>228.0</td><td>5400.0</td><td>1</td></tr><tr><td>Biscoe</td><td>45.5</td><td>14.5</td><td>212.0</td><td>4750.0</td><td>1</td></tr><tr><td>Biscoe</td><td>49.5</td><td>16.1</td><td>224.0</td><td>5650.0</td><td>1</td></tr><tr><td>Biscoe</td><td>44.5</td><td>14.7</td><td>214.0</td><td>4850.0</td><td>1</td></tr><tr><td>Biscoe</td><td>50.8</td><td>15.7</td><td>226.0</td><td>5200.0</td><td>1</td></tr><tr><td>Biscoe</td><td>49.4</td><td>15.8</td><td>216.0</td><td>4925.0</td><td>1</td></tr><tr><td>Biscoe</td><td>46.9</td><td>14.6</td><td>222.0</td><td>4875.0</td><td>1</td></tr><tr><td>Biscoe</td><td>48.4</td><td>14.4</td><td>203.0</td><td>4625.0</td><td>1</td></tr><tr><td>Biscoe</td><td>51.1</td><td>16.5</td><td>225.0</td><td>5250.0</td><td>1</td></tr><tr><td>Biscoe</td><td>48.5</td><td>15.0</td><td>219.0</td><td>4850.0</td><td>1</td></tr><tr><td>Biscoe</td><td>55.9</td><td>17.0</td><td>228.0</td><td>5600.0</td><td>1</td></tr><tr><td>Biscoe</td><td>47.2</td><td>15.5</td><td>215.0</td><td>4975.0</td><td>1</td></tr><tr><td>Biscoe</td><td>49.1</td><td>15.0</td><td>228.0</td><td>5500.0</td><td>1</td></tr><tr><td>Biscoe</td><td>47.3</td><td>13.8</td><td>216.0</td><td>4725.0</td><td>1</td></tr><tr><td>Biscoe</td><td>46.8</td><td>16.1</td><td>215.0</td><td>5500.0</td><td>1</td></tr><tr><td>Biscoe</td><td>41.7</td><td>14.7</td><td>210.0</td><td>4700.0</td><td>1</td></tr><tr><td>Biscoe</td><td>53.4</td><td>15.8</td><td>219.0</td><td>5500.0</td><td>1</td></tr><tr><td>Biscoe</td><td>43.3</td><td>14.0</td><td>208.0</td><td>4575.0</td><td>1</td></tr><tr><td>Biscoe</td><td>48.1</td><td>15.1</td><td>209.0</td><td>5500.0</td><td>1</td></tr><tr><td>Biscoe</td><td>50.5</td><td>15.2</td><td>216.0</td><td>5000.0</td><td>1</td></tr><tr><td>Biscoe</td><td>49.8</td><td>15.9</td><td>229.0</td><td>5950.0</td><td>1</td></tr><tr><td>Biscoe</td><td>43.5</td><td>15.2</td><td>213.0</td><td>4650.0</td><td>1</td></tr><tr><td>Biscoe</td><td>51.5</td><td>16.3</td><td>230.0</td><td>5500.0</td><td>1</td></tr><tr><td>Biscoe</td><td>46.2</td><td>14.1</td><td>217.0</td><td>4375.0</td><td>1</td></tr><tr><td>Biscoe</td><td>55.1</td><td>16.0</td><td>230.0</td><td>5850.0</td><td>1</td></tr><tr><td>Biscoe</td><td>44.5</td><td>15.7</td><td>217.0</td><td>4875.0</td><td>1</td></tr><tr><td>Biscoe</td><td>48.8</td><td>16.2</td><td>222.0</td><td>6000.0</td><td>1</td></tr><tr><td>Biscoe</td><td>47.2</td><td>13.7</td><td>214.0</td><td>4925.0</td><td>1</td></tr><tr><td>Biscoe</td><td>46.8</td><td>14.3</td><td>215.0</td><td>4850.0</td><td>1</td></tr><tr><td>Biscoe</td><td>50.4</td><td>15.7</td><td>222.0</td><td>5750.0</td><td>1</td></tr><tr><td>Biscoe</td><td>45.2</td><td>14.8</td><td>212.0</td><td>5200.0</td><td>1</td></tr><tr><td>Biscoe</td><td>49.9</td><td>16.1</td><td>213.0</td><td>5400.0</td><td>1</td></tr><tr><td>Dream</td><td>46.5</td><td>17.9</td><td>192.0</td><td>3500.0</td><td>2</td></tr><tr><td>Dream</td><td>50.0</td><td>19.5</td><td>196.0</td><td>3900.0</td><td>2</td></tr><tr><td>Dream</td><td>51.3</td><td>19.2</td><td>193.0</td><td>3650.0</td><td>2</td></tr><tr><td>Dream</td><td>45.4</td><td>18.7</td><td>188.0</td><td>3525.0</td><td>2</td></tr><tr><td>Dream</td><td>52.7</td><td>19.8</td><td>197.0</td><td>3725.0</td><td>2</td></tr><tr><td>Dream</td><td>45.2</td><td>17.8</td><td>198.0</td><td>3950.0</td><td>2</td></tr><tr><td>Dream</td><td>46.1</td><td>18.2</td><td>178.0</td><td>3250.0</td><td>2</td></tr><tr><td>Dream</td><td>51.3</td><td>18.2</td><td>197.0</td><td>3750.0</td><td>2</td></tr><tr><td>Dream</td><td>46.0</td><td>18.9</td><td>195.0</td><td>4150.0</td><td>2</td></tr><tr><td>Dream</td><td>51.3</td><td>19.9</td><td>198.0</td><td>3700.0</td><td>2</td></tr><tr><td>Dream</td><td>46.6</td><td>17.8</td><td>193.0</td><td>3800.0</td><td>2</td></tr><tr><td>Dream</td><td>51.7</td><td>20.3</td><td>194.0</td><td>3775.0</td><td>2</td></tr><tr><td>Dream</td><td>47.0</td><td>17.3</td><td>185.0</td><td>3700.0</td><td>2</td></tr><tr><td>Dream</td><td>52.0</td><td>18.1</td><td>201.0</td><td>4050.0</td><td>2</td></tr><tr><td>Dream</td><td>45.9</td><td>17.1</td><td>190.0</td><td>3575.0</td><td>2</td></tr><tr><td>Dream</td><td>50.5</td><td>19.6</td><td>201.0</td><td>4050.0</td><td>2</td></tr><tr><td>Dream</td><td>50.3</td><td>20.0</td><td>197.0</td><td>3300.0</td><td>2</td></tr><tr><td>Dream</td><td>58.0</td><td>17.8</td><td>181.0</td><td>3700.0</td><td>2</td></tr><tr><td>Dream</td><td>46.4</td><td>18.6</td><td>190.0</td><td>3450.0</td><td>2</td></tr><tr><td>Dream</td><td>49.2</td><td>18.2</td><td>195.0</td><td>4400.0</td><td>2</td></tr><tr><td>Dream</td><td>42.4</td><td>17.3</td><td>181.0</td><td>3600.0</td><td>2</td></tr><tr><td>Dream</td><td>48.5</td><td>17.5</td><td>191.0</td><td>3400.0</td><td>2</td></tr><tr><td>Dream</td><td>43.2</td><td>16.6</td><td>187.0</td><td>2900.0</td><td>2</td></tr><tr><td>Dream</td><td>50.6</td><td>19.4</td><td>193.0</td><td>3800.0</td><td>2</td></tr><tr><td>Dream</td><td>46.7</td><td>17.9</td><td>195.0</td><td>3300.0</td><td>2</td></tr><tr><td>Dream</td><td>52.0</td><td>19.0</td><td>197.0</td><td>4150.0</td><td>2</td></tr><tr><td>Dream</td><td>50.5</td><td>18.4</td><td>200.0</td><td>3400.0</td><td>2</td></tr><tr><td>Dream</td><td>49.5</td><td>19.0</td><td>200.0</td><td>3800.0</td><td>2</td></tr><tr><td>Dream</td><td>46.4</td><td>17.8</td><td>191.0</td><td>3700.0</td><td>2</td></tr><tr><td>Dream</td><td>52.8</td><td>20.0</td><td>205.0</td><td>4550.0</td><td>2</td></tr><tr><td>Dream</td><td>40.9</td><td>16.6</td><td>187.0</td><td>3200.0</td><td>2</td></tr><tr><td>Dream</td><td>54.2</td><td>20.8</td><td>201.0</td><td>4300.0</td><td>2</td></tr><tr><td>Dream</td><td>42.5</td><td>16.7</td><td>187.0</td><td>3350.0</td><td>2</td></tr><tr><td>Dream</td><td>51.0</td><td>18.8</td><td>203.0</td><td>4100.0</td><td>2</td></tr><tr><td>Dream</td><td>49.7</td><td>18.6</td><td>195.0</td><td>3600.0</td><td>2</td></tr><tr><td>Dream</td><td>47.5</td><td>16.8</td><td>199.0</td><td>3900.0</td><td>2</td></tr><tr><td>Dream</td><td>47.6</td><td>18.3</td><td>195.0</td><td>3850.0</td><td>2</td></tr><tr><td>Dream</td><td>52.0</td><td>20.7</td><td>210.0</td><td>4800.0</td><td>2</td></tr><tr><td>Dream</td><td>46.9</td><td>16.6</td><td>192.0</td><td>2700.0</td><td>2</td></tr><tr><td>Dream</td><td>53.5</td><td>19.9</td><td>205.0</td><td>4500.0</td><td>2</td></tr><tr><td>Dream</td><td>49.0</td><td>19.5</td><td>210.0</td><td>3950.0</td><td>2</td></tr><tr><td>Dream</td><td>46.2</td><td>17.5</td><td>187.0</td><td>3650.0</td><td>2</td></tr><tr><td>Dream</td><td>50.9</td><td>19.1</td><td>196.0</td><td>3550.0</td><td>2</td></tr><tr><td>Dream</td><td>45.5</td><td>17.0</td><td>196.0</td><td>3500.0</td><td>2</td></tr><tr><td>Dream</td><td>50.9</td><td>17.9</td><td>196.0</td><td>3675.0</td><td>2</td></tr><tr><td>Dream</td><td>50.8</td><td>18.5</td><td>201.0</td><td>4450.0</td><td>2</td></tr><tr><td>Dream</td><td>50.1</td><td>17.9</td><td>190.0</td><td>3400.0</td><td>2</td></tr><tr><td>Dream</td><td>49.0</td><td>19.6</td><td>212.0</td><td>4300.0</td><td>2</td></tr><tr><td>Dream</td><td>51.5</td><td>18.7</td><td>187.0</td><td>3250.0</td><td>2</td></tr><tr><td>Dream</td><td>49.8</td><td>17.3</td><td>198.0</td><td>3675.0</td><td>2</td></tr><tr><td>Dream</td><td>48.1</td><td>16.4</td><td>199.0</td><td>3325.0</td><td>2</td></tr><tr><td>Dream</td><td>51.4</td><td>19.0</td><td>201.0</td><td>3950.0</td><td>2</td></tr><tr><td>Dream</td><td>45.7</td><td>17.3</td><td>193.0</td><td>3600.0</td><td>2</td></tr><tr><td>Dream</td><td>50.7</td><td>19.7</td><td>203.0</td><td>4050.0</td><td>2</td></tr><tr><td>Dream</td><td>42.5</td><td>17.3</td><td>187.0</td><td>3350.0</td><td>2</td></tr><tr><td>Dream</td><td>52.2</td><td>18.8</td><td>197.0</td><td>3450.0</td><td>2</td></tr><tr><td>Dream</td><td>45.2</td><td>16.6</td><td>191.0</td><td>3250.0</td><td>2</td></tr><tr><td>Dream</td><td>49.3</td><td>19.9</td><td>203.0</td><td>4050.0</td><td>2</td></tr><tr><td>Dream</td><td>50.2</td><td>18.8</td><td>202.0</td><td>3800.0</td><td>2</td></tr><tr><td>Dream</td><td>45.6</td><td>19.4</td><td>194.0</td><td>3525.0</td><td>2</td></tr><tr><td>Dream</td><td>51.9</td><td>19.5</td><td>206.0</td><td>3950.0</td><td>2</td></tr><tr><td>Dream</td><td>46.8</td><td>16.5</td><td>189.0</td><td>3650.0</td><td>2</td></tr><tr><td>Dream</td><td>45.7</td><td>17.0</td><td>195.0</td><td>3650.0</td><td>2</td></tr><tr><td>Dream</td><td>55.8</td><td>19.8</td><td>207.0</td><td>4000.0</td><td>2</td></tr><tr><td>Dream</td><td>43.5</td><td>18.1</td><td>202.0</td><td>3400.0</td><td>2</td></tr><tr><td>Dream</td><td>49.6</td><td>18.2</td><td>193.0</td><td>3775.0</td><td>2</td></tr><tr><td>Dream</td><td>50.8</td><td>19.0</td><td>210.0</td><td>4100.0</td><td>2</td></tr><tr><td>Dream</td><td>50.2</td><td>18.7</td><td>198.0</td><td>3775.0</td><td>2</td></tr></tbody></table></div>"
      ]
     },
     "metadata": {
      "application/vnd.databricks.v1+output": {
       "addedWidgets": {},
       "aggData": [],
       "aggError": "",
       "aggOverflow": false,
       "aggSchema": [],
       "aggSeriesLimitReached": false,
       "aggType": "",
       "arguments": {},
       "columnCustomDisplayInfos": {},
       "data": [
        [
         "Torgersen",
         39.1,
         18.7,
         181.0,
         3750.0,
         0
        ],
        [
         "Torgersen",
         39.5,
         17.4,
         186.0,
         3800.0,
         0
        ],
        [
         "Torgersen",
         40.3,
         18.0,
         195.0,
         3250.0,
         0
        ],
        [
         "Torgersen",
         36.7,
         19.3,
         193.0,
         3450.0,
         0
        ],
        [
         "Torgersen",
         39.3,
         20.6,
         190.0,
         3650.0,
         0
        ],
        [
         "Torgersen",
         38.9,
         17.8,
         181.0,
         3625.0,
         0
        ],
        [
         "Torgersen",
         39.2,
         19.6,
         195.0,
         4675.0,
         0
        ],
        [
         "Torgersen",
         34.1,
         18.1,
         193.0,
         3475.0,
         0
        ],
        [
         "Torgersen",
         42.0,
         20.2,
         190.0,
         4250.0,
         0
        ],
        [
         "Torgersen",
         37.8,
         17.1,
         186.0,
         3300.0,
         0
        ],
        [
         "Torgersen",
         37.8,
         17.3,
         180.0,
         3700.0,
         0
        ],
        [
         "Torgersen",
         41.1,
         17.6,
         182.0,
         3200.0,
         0
        ],
        [
         "Torgersen",
         38.6,
         21.2,
         191.0,
         3800.0,
         0
        ],
        [
         "Torgersen",
         34.6,
         21.1,
         198.0,
         4400.0,
         0
        ],
        [
         "Torgersen",
         36.6,
         17.8,
         185.0,
         3700.0,
         0
        ],
        [
         "Torgersen",
         38.7,
         19.0,
         195.0,
         3450.0,
         0
        ],
        [
         "Torgersen",
         42.5,
         20.7,
         197.0,
         4500.0,
         0
        ],
        [
         "Torgersen",
         34.4,
         18.4,
         184.0,
         3325.0,
         0
        ],
        [
         "Torgersen",
         46.0,
         21.5,
         194.0,
         4200.0,
         0
        ],
        [
         "Biscoe",
         37.8,
         18.3,
         174.0,
         3400.0,
         0
        ],
        [
         "Biscoe",
         37.7,
         18.7,
         180.0,
         3600.0,
         0
        ],
        [
         "Biscoe",
         35.9,
         19.2,
         189.0,
         3800.0,
         0
        ],
        [
         "Biscoe",
         38.2,
         18.1,
         185.0,
         3950.0,
         0
        ],
        [
         "Biscoe",
         38.8,
         17.2,
         180.0,
         3800.0,
         0
        ],
        [
         "Biscoe",
         35.3,
         18.9,
         187.0,
         3800.0,
         0
        ],
        [
         "Biscoe",
         40.6,
         18.6,
         183.0,
         3550.0,
         0
        ],
        [
         "Biscoe",
         40.5,
         17.9,
         187.0,
         3200.0,
         0
        ],
        [
         "Biscoe",
         37.9,
         18.6,
         172.0,
         3150.0,
         0
        ],
        [
         "Biscoe",
         40.5,
         18.9,
         180.0,
         3950.0,
         0
        ],
        [
         "Dream",
         39.5,
         16.7,
         178.0,
         3250.0,
         0
        ],
        [
         "Dream",
         37.2,
         18.1,
         178.0,
         3900.0,
         0
        ],
        [
         "Dream",
         39.5,
         17.8,
         188.0,
         3300.0,
         0
        ],
        [
         "Dream",
         40.9,
         18.9,
         184.0,
         3900.0,
         0
        ],
        [
         "Dream",
         36.4,
         17.0,
         195.0,
         3325.0,
         0
        ],
        [
         "Dream",
         39.2,
         21.1,
         196.0,
         4150.0,
         0
        ],
        [
         "Dream",
         38.8,
         20.0,
         190.0,
         3950.0,
         0
        ],
        [
         "Dream",
         42.2,
         18.5,
         180.0,
         3550.0,
         0
        ],
        [
         "Dream",
         37.6,
         19.3,
         181.0,
         3300.0,
         0
        ],
        [
         "Dream",
         39.8,
         19.1,
         184.0,
         4650.0,
         0
        ],
        [
         "Dream",
         36.5,
         18.0,
         182.0,
         3150.0,
         0
        ],
        [
         "Dream",
         40.8,
         18.4,
         195.0,
         3900.0,
         0
        ],
        [
         "Dream",
         36.0,
         18.5,
         186.0,
         3100.0,
         0
        ],
        [
         "Dream",
         44.1,
         19.7,
         196.0,
         4400.0,
         0
        ],
        [
         "Dream",
         37.0,
         16.9,
         185.0,
         3000.0,
         0
        ],
        [
         "Dream",
         39.6,
         18.8,
         190.0,
         4600.0,
         0
        ],
        [
         "Dream",
         41.1,
         19.0,
         182.0,
         3425.0,
         0
        ],
        [
         "Dream",
         37.5,
         18.9,
         179.0,
         2975.0,
         0
        ],
        [
         "Dream",
         36.0,
         17.9,
         190.0,
         3450.0,
         0
        ],
        [
         "Dream",
         42.3,
         21.2,
         191.0,
         4150.0,
         0
        ],
        [
         "Biscoe",
         39.6,
         17.7,
         186.0,
         3500.0,
         0
        ],
        [
         "Biscoe",
         40.1,
         18.9,
         188.0,
         4300.0,
         0
        ],
        [
         "Biscoe",
         35.0,
         17.9,
         190.0,
         3450.0,
         0
        ],
        [
         "Biscoe",
         42.0,
         19.5,
         200.0,
         4050.0,
         0
        ],
        [
         "Biscoe",
         34.5,
         18.1,
         187.0,
         2900.0,
         0
        ],
        [
         "Biscoe",
         41.4,
         18.6,
         191.0,
         3700.0,
         0
        ],
        [
         "Biscoe",
         39.0,
         17.5,
         186.0,
         3550.0,
         0
        ],
        [
         "Biscoe",
         40.6,
         18.8,
         193.0,
         3800.0,
         0
        ],
        [
         "Biscoe",
         36.5,
         16.6,
         181.0,
         2850.0,
         0
        ],
        [
         "Biscoe",
         37.6,
         19.1,
         194.0,
         3750.0,
         0
        ],
        [
         "Biscoe",
         35.7,
         16.9,
         185.0,
         3150.0,
         0
        ],
        [
         "Biscoe",
         41.3,
         21.1,
         195.0,
         4400.0,
         0
        ],
        [
         "Biscoe",
         37.6,
         17.0,
         185.0,
         3600.0,
         0
        ],
        [
         "Biscoe",
         41.1,
         18.2,
         192.0,
         4050.0,
         0
        ],
        [
         "Biscoe",
         36.4,
         17.1,
         184.0,
         2850.0,
         0
        ],
        [
         "Biscoe",
         41.6,
         18.0,
         192.0,
         3950.0,
         0
        ],
        [
         "Biscoe",
         35.5,
         16.2,
         195.0,
         3350.0,
         0
        ],
        [
         "Biscoe",
         41.1,
         19.1,
         188.0,
         4100.0,
         0
        ],
        [
         "Torgersen",
         35.9,
         16.6,
         190.0,
         3050.0,
         0
        ],
        [
         "Torgersen",
         41.8,
         19.4,
         198.0,
         4450.0,
         0
        ],
        [
         "Torgersen",
         33.5,
         19.0,
         190.0,
         3600.0,
         0
        ],
        [
         "Torgersen",
         39.7,
         18.4,
         190.0,
         3900.0,
         0
        ],
        [
         "Torgersen",
         39.6,
         17.2,
         196.0,
         3550.0,
         0
        ],
        [
         "Torgersen",
         45.8,
         18.9,
         197.0,
         4150.0,
         0
        ],
        [
         "Torgersen",
         35.5,
         17.5,
         190.0,
         3700.0,
         0
        ],
        [
         "Torgersen",
         42.8,
         18.5,
         195.0,
         4250.0,
         0
        ],
        [
         "Torgersen",
         40.9,
         16.8,
         191.0,
         3700.0,
         0
        ],
        [
         "Torgersen",
         37.2,
         19.4,
         184.0,
         3900.0,
         0
        ],
        [
         "Torgersen",
         36.2,
         16.1,
         187.0,
         3550.0,
         0
        ],
        [
         "Torgersen",
         42.1,
         19.1,
         195.0,
         4000.0,
         0
        ],
        [
         "Torgersen",
         34.6,
         17.2,
         189.0,
         3200.0,
         0
        ],
        [
         "Torgersen",
         42.9,
         17.6,
         196.0,
         4700.0,
         0
        ],
        [
         "Torgersen",
         36.7,
         18.8,
         187.0,
         3800.0,
         0
        ],
        [
         "Torgersen",
         35.1,
         19.4,
         193.0,
         4200.0,
         0
        ],
        [
         "Dream",
         37.3,
         17.8,
         191.0,
         3350.0,
         0
        ],
        [
         "Dream",
         41.3,
         20.3,
         194.0,
         3550.0,
         0
        ],
        [
         "Dream",
         36.3,
         19.5,
         190.0,
         3800.0,
         0
        ],
        [
         "Dream",
         36.9,
         18.6,
         189.0,
         3500.0,
         0
        ],
        [
         "Dream",
         38.3,
         19.2,
         189.0,
         3950.0,
         0
        ],
        [
         "Dream",
         38.9,
         18.8,
         190.0,
         3600.0,
         0
        ],
        [
         "Dream",
         35.7,
         18.0,
         202.0,
         3550.0,
         0
        ],
        [
         "Dream",
         41.1,
         18.1,
         205.0,
         4300.0,
         0
        ],
        [
         "Dream",
         34.0,
         17.1,
         185.0,
         3400.0,
         0
        ],
        [
         "Dream",
         39.6,
         18.1,
         186.0,
         4450.0,
         0
        ],
        [
         "Dream",
         36.2,
         17.3,
         187.0,
         3300.0,
         0
        ],
        [
         "Dream",
         40.8,
         18.9,
         208.0,
         4300.0,
         0
        ],
        [
         "Dream",
         38.1,
         18.6,
         190.0,
         3700.0,
         0
        ],
        [
         "Dream",
         40.3,
         18.5,
         196.0,
         4350.0,
         0
        ],
        [
         "Dream",
         33.1,
         16.1,
         178.0,
         2900.0,
         0
        ],
        [
         "Dream",
         43.2,
         18.5,
         192.0,
         4100.0,
         0
        ],
        [
         "Biscoe",
         35.0,
         17.9,
         192.0,
         3725.0,
         0
        ],
        [
         "Biscoe",
         41.0,
         20.0,
         203.0,
         4725.0,
         0
        ],
        [
         "Biscoe",
         37.7,
         16.0,
         183.0,
         3075.0,
         0
        ],
        [
         "Biscoe",
         37.8,
         20.0,
         190.0,
         4250.0,
         0
        ],
        [
         "Biscoe",
         37.9,
         18.6,
         193.0,
         2925.0,
         0
        ],
        [
         "Biscoe",
         39.7,
         18.9,
         184.0,
         3550.0,
         0
        ],
        [
         "Biscoe",
         38.6,
         17.2,
         199.0,
         3750.0,
         0
        ],
        [
         "Biscoe",
         38.2,
         20.0,
         190.0,
         3900.0,
         0
        ],
        [
         "Biscoe",
         38.1,
         17.0,
         181.0,
         3175.0,
         0
        ],
        [
         "Biscoe",
         43.2,
         19.0,
         197.0,
         4775.0,
         0
        ],
        [
         "Biscoe",
         38.1,
         16.5,
         198.0,
         3825.0,
         0
        ],
        [
         "Biscoe",
         45.6,
         20.3,
         191.0,
         4600.0,
         0
        ],
        [
         "Biscoe",
         39.7,
         17.7,
         193.0,
         3200.0,
         0
        ],
        [
         "Biscoe",
         42.2,
         19.5,
         197.0,
         4275.0,
         0
        ],
        [
         "Biscoe",
         39.6,
         20.7,
         191.0,
         3900.0,
         0
        ],
        [
         "Biscoe",
         42.7,
         18.3,
         196.0,
         4075.0,
         0
        ],
        [
         "Torgersen",
         38.6,
         17.0,
         188.0,
         2900.0,
         0
        ],
        [
         "Torgersen",
         37.3,
         20.5,
         199.0,
         3775.0,
         0
        ],
        [
         "Torgersen",
         35.7,
         17.0,
         189.0,
         3350.0,
         0
        ],
        [
         "Torgersen",
         41.1,
         18.6,
         189.0,
         3325.0,
         0
        ],
        [
         "Torgersen",
         36.2,
         17.2,
         187.0,
         3150.0,
         0
        ],
        [
         "Torgersen",
         37.7,
         19.8,
         198.0,
         3500.0,
         0
        ],
        [
         "Torgersen",
         40.2,
         17.0,
         176.0,
         3450.0,
         0
        ],
        [
         "Torgersen",
         41.4,
         18.5,
         202.0,
         3875.0,
         0
        ],
        [
         "Torgersen",
         35.2,
         15.9,
         186.0,
         3050.0,
         0
        ],
        [
         "Torgersen",
         40.6,
         19.0,
         199.0,
         4000.0,
         0
        ],
        [
         "Torgersen",
         38.8,
         17.6,
         191.0,
         3275.0,
         0
        ],
        [
         "Torgersen",
         41.5,
         18.3,
         195.0,
         4300.0,
         0
        ],
        [
         "Torgersen",
         39.0,
         17.1,
         191.0,
         3050.0,
         0
        ],
        [
         "Torgersen",
         44.1,
         18.0,
         210.0,
         4000.0,
         0
        ],
        [
         "Torgersen",
         38.5,
         17.9,
         190.0,
         3325.0,
         0
        ],
        [
         "Torgersen",
         43.1,
         19.2,
         197.0,
         3500.0,
         0
        ],
        [
         "Dream",
         36.8,
         18.5,
         193.0,
         3500.0,
         0
        ],
        [
         "Dream",
         37.5,
         18.5,
         199.0,
         4475.0,
         0
        ],
        [
         "Dream",
         38.1,
         17.6,
         187.0,
         3425.0,
         0
        ],
        [
         "Dream",
         41.1,
         17.5,
         190.0,
         3900.0,
         0
        ],
        [
         "Dream",
         35.6,
         17.5,
         191.0,
         3175.0,
         0
        ],
        [
         "Dream",
         40.2,
         20.1,
         200.0,
         3975.0,
         0
        ],
        [
         "Dream",
         37.0,
         16.5,
         185.0,
         3400.0,
         0
        ],
        [
         "Dream",
         39.7,
         17.9,
         193.0,
         4250.0,
         0
        ],
        [
         "Dream",
         40.2,
         17.1,
         193.0,
         3400.0,
         0
        ],
        [
         "Dream",
         40.6,
         17.2,
         187.0,
         3475.0,
         0
        ],
        [
         "Dream",
         32.1,
         15.5,
         188.0,
         3050.0,
         0
        ],
        [
         "Dream",
         40.7,
         17.0,
         190.0,
         3725.0,
         0
        ],
        [
         "Dream",
         37.3,
         16.8,
         192.0,
         3000.0,
         0
        ],
        [
         "Dream",
         39.0,
         18.7,
         185.0,
         3650.0,
         0
        ],
        [
         "Dream",
         39.2,
         18.6,
         190.0,
         4250.0,
         0
        ],
        [
         "Dream",
         36.6,
         18.4,
         184.0,
         3475.0,
         0
        ],
        [
         "Dream",
         36.0,
         17.8,
         195.0,
         3450.0,
         0
        ],
        [
         "Dream",
         37.8,
         18.1,
         193.0,
         3750.0,
         0
        ],
        [
         "Dream",
         36.0,
         17.1,
         187.0,
         3700.0,
         0
        ],
        [
         "Dream",
         41.5,
         18.5,
         201.0,
         4000.0,
         0
        ],
        [
         "Biscoe",
         46.1,
         13.2,
         211.0,
         4500.0,
         1
        ],
        [
         "Biscoe",
         50.0,
         16.3,
         230.0,
         5700.0,
         1
        ],
        [
         "Biscoe",
         48.7,
         14.1,
         210.0,
         4450.0,
         1
        ],
        [
         "Biscoe",
         50.0,
         15.2,
         218.0,
         5700.0,
         1
        ],
        [
         "Biscoe",
         47.6,
         14.5,
         215.0,
         5400.0,
         1
        ],
        [
         "Biscoe",
         46.5,
         13.5,
         210.0,
         4550.0,
         1
        ],
        [
         "Biscoe",
         45.4,
         14.6,
         211.0,
         4800.0,
         1
        ],
        [
         "Biscoe",
         46.7,
         15.3,
         219.0,
         5200.0,
         1
        ],
        [
         "Biscoe",
         43.3,
         13.4,
         209.0,
         4400.0,
         1
        ],
        [
         "Biscoe",
         46.8,
         15.4,
         215.0,
         5150.0,
         1
        ],
        [
         "Biscoe",
         40.9,
         13.7,
         214.0,
         4650.0,
         1
        ],
        [
         "Biscoe",
         49.0,
         16.1,
         216.0,
         5550.0,
         1
        ],
        [
         "Biscoe",
         45.5,
         13.7,
         214.0,
         4650.0,
         1
        ],
        [
         "Biscoe",
         48.4,
         14.6,
         213.0,
         5850.0,
         1
        ],
        [
         "Biscoe",
         45.8,
         14.6,
         210.0,
         4200.0,
         1
        ],
        [
         "Biscoe",
         49.3,
         15.7,
         217.0,
         5850.0,
         1
        ],
        [
         "Biscoe",
         42.0,
         13.5,
         210.0,
         4150.0,
         1
        ],
        [
         "Biscoe",
         49.2,
         15.2,
         221.0,
         6300.0,
         1
        ],
        [
         "Biscoe",
         46.2,
         14.5,
         209.0,
         4800.0,
         1
        ],
        [
         "Biscoe",
         48.7,
         15.1,
         222.0,
         5350.0,
         1
        ],
        [
         "Biscoe",
         50.2,
         14.3,
         218.0,
         5700.0,
         1
        ],
        [
         "Biscoe",
         45.1,
         14.5,
         215.0,
         5000.0,
         1
        ],
        [
         "Biscoe",
         46.5,
         14.5,
         213.0,
         4400.0,
         1
        ],
        [
         "Biscoe",
         46.3,
         15.8,
         215.0,
         5050.0,
         1
        ],
        [
         "Biscoe",
         42.9,
         13.1,
         215.0,
         5000.0,
         1
        ],
        [
         "Biscoe",
         46.1,
         15.1,
         215.0,
         5100.0,
         1
        ],
        [
         "Biscoe",
         44.5,
         14.3,
         216.0,
         4100.0,
         1
        ],
        [
         "Biscoe",
         47.8,
         15.0,
         215.0,
         5650.0,
         1
        ],
        [
         "Biscoe",
         48.2,
         14.3,
         210.0,
         4600.0,
         1
        ],
        [
         "Biscoe",
         50.0,
         15.3,
         220.0,
         5550.0,
         1
        ],
        [
         "Biscoe",
         47.3,
         15.3,
         222.0,
         5250.0,
         1
        ],
        [
         "Biscoe",
         42.8,
         14.2,
         209.0,
         4700.0,
         1
        ],
        [
         "Biscoe",
         45.1,
         14.5,
         207.0,
         5050.0,
         1
        ],
        [
         "Biscoe",
         59.6,
         17.0,
         230.0,
         6050.0,
         1
        ],
        [
         "Biscoe",
         49.1,
         14.8,
         220.0,
         5150.0,
         1
        ],
        [
         "Biscoe",
         48.4,
         16.3,
         220.0,
         5400.0,
         1
        ],
        [
         "Biscoe",
         42.6,
         13.7,
         213.0,
         4950.0,
         1
        ],
        [
         "Biscoe",
         44.4,
         17.3,
         219.0,
         5250.0,
         1
        ],
        [
         "Biscoe",
         44.0,
         13.6,
         208.0,
         4350.0,
         1
        ],
        [
         "Biscoe",
         48.7,
         15.7,
         208.0,
         5350.0,
         1
        ],
        [
         "Biscoe",
         42.7,
         13.7,
         208.0,
         3950.0,
         1
        ],
        [
         "Biscoe",
         49.6,
         16.0,
         225.0,
         5700.0,
         1
        ],
        [
         "Biscoe",
         45.3,
         13.7,
         210.0,
         4300.0,
         1
        ],
        [
         "Biscoe",
         49.6,
         15.0,
         216.0,
         4750.0,
         1
        ],
        [
         "Biscoe",
         50.5,
         15.9,
         222.0,
         5550.0,
         1
        ],
        [
         "Biscoe",
         43.6,
         13.9,
         217.0,
         4900.0,
         1
        ],
        [
         "Biscoe",
         45.5,
         13.9,
         210.0,
         4200.0,
         1
        ],
        [
         "Biscoe",
         50.5,
         15.9,
         225.0,
         5400.0,
         1
        ],
        [
         "Biscoe",
         44.9,
         13.3,
         213.0,
         5100.0,
         1
        ],
        [
         "Biscoe",
         45.2,
         15.8,
         215.0,
         5300.0,
         1
        ],
        [
         "Biscoe",
         46.6,
         14.2,
         210.0,
         4850.0,
         1
        ],
        [
         "Biscoe",
         48.5,
         14.1,
         220.0,
         5300.0,
         1
        ],
        [
         "Biscoe",
         45.1,
         14.4,
         210.0,
         4400.0,
         1
        ],
        [
         "Biscoe",
         50.1,
         15.0,
         225.0,
         5000.0,
         1
        ],
        [
         "Biscoe",
         46.5,
         14.4,
         217.0,
         4900.0,
         1
        ],
        [
         "Biscoe",
         45.0,
         15.4,
         220.0,
         5050.0,
         1
        ],
        [
         "Biscoe",
         43.8,
         13.9,
         208.0,
         4300.0,
         1
        ],
        [
         "Biscoe",
         45.5,
         15.0,
         220.0,
         5000.0,
         1
        ],
        [
         "Biscoe",
         43.2,
         14.5,
         208.0,
         4450.0,
         1
        ],
        [
         "Biscoe",
         50.4,
         15.3,
         224.0,
         5550.0,
         1
        ],
        [
         "Biscoe",
         45.3,
         13.8,
         208.0,
         4200.0,
         1
        ],
        [
         "Biscoe",
         46.2,
         14.9,
         221.0,
         5300.0,
         1
        ],
        [
         "Biscoe",
         45.7,
         13.9,
         214.0,
         4400.0,
         1
        ],
        [
         "Biscoe",
         54.3,
         15.7,
         231.0,
         5650.0,
         1
        ],
        [
         "Biscoe",
         45.8,
         14.2,
         219.0,
         4700.0,
         1
        ],
        [
         "Biscoe",
         49.8,
         16.8,
         230.0,
         5700.0,
         1
        ],
        [
         "Biscoe",
         46.2,
         14.4,
         214.0,
         4650.0,
         1
        ],
        [
         "Biscoe",
         49.5,
         16.2,
         229.0,
         5800.0,
         1
        ],
        [
         "Biscoe",
         43.5,
         14.2,
         220.0,
         4700.0,
         1
        ],
        [
         "Biscoe",
         50.7,
         15.0,
         223.0,
         5550.0,
         1
        ],
        [
         "Biscoe",
         47.7,
         15.0,
         216.0,
         4750.0,
         1
        ],
        [
         "Biscoe",
         46.4,
         15.6,
         221.0,
         5000.0,
         1
        ],
        [
         "Biscoe",
         48.2,
         15.6,
         221.0,
         5100.0,
         1
        ],
        [
         "Biscoe",
         46.5,
         14.8,
         217.0,
         5200.0,
         1
        ],
        [
         "Biscoe",
         46.4,
         15.0,
         216.0,
         4700.0,
         1
        ],
        [
         "Biscoe",
         48.6,
         16.0,
         230.0,
         5800.0,
         1
        ],
        [
         "Biscoe",
         47.5,
         14.2,
         209.0,
         4600.0,
         1
        ],
        [
         "Biscoe",
         51.1,
         16.3,
         220.0,
         6000.0,
         1
        ],
        [
         "Biscoe",
         45.2,
         13.8,
         215.0,
         4750.0,
         1
        ],
        [
         "Biscoe",
         45.2,
         16.4,
         223.0,
         5950.0,
         1
        ],
        [
         "Biscoe",
         49.1,
         14.5,
         212.0,
         4625.0,
         1
        ],
        [
         "Biscoe",
         52.5,
         15.6,
         221.0,
         5450.0,
         1
        ],
        [
         "Biscoe",
         47.4,
         14.6,
         212.0,
         4725.0,
         1
        ],
        [
         "Biscoe",
         50.0,
         15.9,
         224.0,
         5350.0,
         1
        ],
        [
         "Biscoe",
         44.9,
         13.8,
         212.0,
         4750.0,
         1
        ],
        [
         "Biscoe",
         50.8,
         17.3,
         228.0,
         5600.0,
         1
        ],
        [
         "Biscoe",
         43.4,
         14.4,
         218.0,
         4600.0,
         1
        ],
        [
         "Biscoe",
         51.3,
         14.2,
         218.0,
         5300.0,
         1
        ],
        [
         "Biscoe",
         47.5,
         14.0,
         212.0,
         4875.0,
         1
        ],
        [
         "Biscoe",
         52.1,
         17.0,
         230.0,
         5550.0,
         1
        ],
        [
         "Biscoe",
         47.5,
         15.0,
         218.0,
         4950.0,
         1
        ],
        [
         "Biscoe",
         52.2,
         17.1,
         228.0,
         5400.0,
         1
        ],
        [
         "Biscoe",
         45.5,
         14.5,
         212.0,
         4750.0,
         1
        ],
        [
         "Biscoe",
         49.5,
         16.1,
         224.0,
         5650.0,
         1
        ],
        [
         "Biscoe",
         44.5,
         14.7,
         214.0,
         4850.0,
         1
        ],
        [
         "Biscoe",
         50.8,
         15.7,
         226.0,
         5200.0,
         1
        ],
        [
         "Biscoe",
         49.4,
         15.8,
         216.0,
         4925.0,
         1
        ],
        [
         "Biscoe",
         46.9,
         14.6,
         222.0,
         4875.0,
         1
        ],
        [
         "Biscoe",
         48.4,
         14.4,
         203.0,
         4625.0,
         1
        ],
        [
         "Biscoe",
         51.1,
         16.5,
         225.0,
         5250.0,
         1
        ],
        [
         "Biscoe",
         48.5,
         15.0,
         219.0,
         4850.0,
         1
        ],
        [
         "Biscoe",
         55.9,
         17.0,
         228.0,
         5600.0,
         1
        ],
        [
         "Biscoe",
         47.2,
         15.5,
         215.0,
         4975.0,
         1
        ],
        [
         "Biscoe",
         49.1,
         15.0,
         228.0,
         5500.0,
         1
        ],
        [
         "Biscoe",
         47.3,
         13.8,
         216.0,
         4725.0,
         1
        ],
        [
         "Biscoe",
         46.8,
         16.1,
         215.0,
         5500.0,
         1
        ],
        [
         "Biscoe",
         41.7,
         14.7,
         210.0,
         4700.0,
         1
        ],
        [
         "Biscoe",
         53.4,
         15.8,
         219.0,
         5500.0,
         1
        ],
        [
         "Biscoe",
         43.3,
         14.0,
         208.0,
         4575.0,
         1
        ],
        [
         "Biscoe",
         48.1,
         15.1,
         209.0,
         5500.0,
         1
        ],
        [
         "Biscoe",
         50.5,
         15.2,
         216.0,
         5000.0,
         1
        ],
        [
         "Biscoe",
         49.8,
         15.9,
         229.0,
         5950.0,
         1
        ],
        [
         "Biscoe",
         43.5,
         15.2,
         213.0,
         4650.0,
         1
        ],
        [
         "Biscoe",
         51.5,
         16.3,
         230.0,
         5500.0,
         1
        ],
        [
         "Biscoe",
         46.2,
         14.1,
         217.0,
         4375.0,
         1
        ],
        [
         "Biscoe",
         55.1,
         16.0,
         230.0,
         5850.0,
         1
        ],
        [
         "Biscoe",
         44.5,
         15.7,
         217.0,
         4875.0,
         1
        ],
        [
         "Biscoe",
         48.8,
         16.2,
         222.0,
         6000.0,
         1
        ],
        [
         "Biscoe",
         47.2,
         13.7,
         214.0,
         4925.0,
         1
        ],
        [
         "Biscoe",
         46.8,
         14.3,
         215.0,
         4850.0,
         1
        ],
        [
         "Biscoe",
         50.4,
         15.7,
         222.0,
         5750.0,
         1
        ],
        [
         "Biscoe",
         45.2,
         14.8,
         212.0,
         5200.0,
         1
        ],
        [
         "Biscoe",
         49.9,
         16.1,
         213.0,
         5400.0,
         1
        ],
        [
         "Dream",
         46.5,
         17.9,
         192.0,
         3500.0,
         2
        ],
        [
         "Dream",
         50.0,
         19.5,
         196.0,
         3900.0,
         2
        ],
        [
         "Dream",
         51.3,
         19.2,
         193.0,
         3650.0,
         2
        ],
        [
         "Dream",
         45.4,
         18.7,
         188.0,
         3525.0,
         2
        ],
        [
         "Dream",
         52.7,
         19.8,
         197.0,
         3725.0,
         2
        ],
        [
         "Dream",
         45.2,
         17.8,
         198.0,
         3950.0,
         2
        ],
        [
         "Dream",
         46.1,
         18.2,
         178.0,
         3250.0,
         2
        ],
        [
         "Dream",
         51.3,
         18.2,
         197.0,
         3750.0,
         2
        ],
        [
         "Dream",
         46.0,
         18.9,
         195.0,
         4150.0,
         2
        ],
        [
         "Dream",
         51.3,
         19.9,
         198.0,
         3700.0,
         2
        ],
        [
         "Dream",
         46.6,
         17.8,
         193.0,
         3800.0,
         2
        ],
        [
         "Dream",
         51.7,
         20.3,
         194.0,
         3775.0,
         2
        ],
        [
         "Dream",
         47.0,
         17.3,
         185.0,
         3700.0,
         2
        ],
        [
         "Dream",
         52.0,
         18.1,
         201.0,
         4050.0,
         2
        ],
        [
         "Dream",
         45.9,
         17.1,
         190.0,
         3575.0,
         2
        ],
        [
         "Dream",
         50.5,
         19.6,
         201.0,
         4050.0,
         2
        ],
        [
         "Dream",
         50.3,
         20.0,
         197.0,
         3300.0,
         2
        ],
        [
         "Dream",
         58.0,
         17.8,
         181.0,
         3700.0,
         2
        ],
        [
         "Dream",
         46.4,
         18.6,
         190.0,
         3450.0,
         2
        ],
        [
         "Dream",
         49.2,
         18.2,
         195.0,
         4400.0,
         2
        ],
        [
         "Dream",
         42.4,
         17.3,
         181.0,
         3600.0,
         2
        ],
        [
         "Dream",
         48.5,
         17.5,
         191.0,
         3400.0,
         2
        ],
        [
         "Dream",
         43.2,
         16.6,
         187.0,
         2900.0,
         2
        ],
        [
         "Dream",
         50.6,
         19.4,
         193.0,
         3800.0,
         2
        ],
        [
         "Dream",
         46.7,
         17.9,
         195.0,
         3300.0,
         2
        ],
        [
         "Dream",
         52.0,
         19.0,
         197.0,
         4150.0,
         2
        ],
        [
         "Dream",
         50.5,
         18.4,
         200.0,
         3400.0,
         2
        ],
        [
         "Dream",
         49.5,
         19.0,
         200.0,
         3800.0,
         2
        ],
        [
         "Dream",
         46.4,
         17.8,
         191.0,
         3700.0,
         2
        ],
        [
         "Dream",
         52.8,
         20.0,
         205.0,
         4550.0,
         2
        ],
        [
         "Dream",
         40.9,
         16.6,
         187.0,
         3200.0,
         2
        ],
        [
         "Dream",
         54.2,
         20.8,
         201.0,
         4300.0,
         2
        ],
        [
         "Dream",
         42.5,
         16.7,
         187.0,
         3350.0,
         2
        ],
        [
         "Dream",
         51.0,
         18.8,
         203.0,
         4100.0,
         2
        ],
        [
         "Dream",
         49.7,
         18.6,
         195.0,
         3600.0,
         2
        ],
        [
         "Dream",
         47.5,
         16.8,
         199.0,
         3900.0,
         2
        ],
        [
         "Dream",
         47.6,
         18.3,
         195.0,
         3850.0,
         2
        ],
        [
         "Dream",
         52.0,
         20.7,
         210.0,
         4800.0,
         2
        ],
        [
         "Dream",
         46.9,
         16.6,
         192.0,
         2700.0,
         2
        ],
        [
         "Dream",
         53.5,
         19.9,
         205.0,
         4500.0,
         2
        ],
        [
         "Dream",
         49.0,
         19.5,
         210.0,
         3950.0,
         2
        ],
        [
         "Dream",
         46.2,
         17.5,
         187.0,
         3650.0,
         2
        ],
        [
         "Dream",
         50.9,
         19.1,
         196.0,
         3550.0,
         2
        ],
        [
         "Dream",
         45.5,
         17.0,
         196.0,
         3500.0,
         2
        ],
        [
         "Dream",
         50.9,
         17.9,
         196.0,
         3675.0,
         2
        ],
        [
         "Dream",
         50.8,
         18.5,
         201.0,
         4450.0,
         2
        ],
        [
         "Dream",
         50.1,
         17.9,
         190.0,
         3400.0,
         2
        ],
        [
         "Dream",
         49.0,
         19.6,
         212.0,
         4300.0,
         2
        ],
        [
         "Dream",
         51.5,
         18.7,
         187.0,
         3250.0,
         2
        ],
        [
         "Dream",
         49.8,
         17.3,
         198.0,
         3675.0,
         2
        ],
        [
         "Dream",
         48.1,
         16.4,
         199.0,
         3325.0,
         2
        ],
        [
         "Dream",
         51.4,
         19.0,
         201.0,
         3950.0,
         2
        ],
        [
         "Dream",
         45.7,
         17.3,
         193.0,
         3600.0,
         2
        ],
        [
         "Dream",
         50.7,
         19.7,
         203.0,
         4050.0,
         2
        ],
        [
         "Dream",
         42.5,
         17.3,
         187.0,
         3350.0,
         2
        ],
        [
         "Dream",
         52.2,
         18.8,
         197.0,
         3450.0,
         2
        ],
        [
         "Dream",
         45.2,
         16.6,
         191.0,
         3250.0,
         2
        ],
        [
         "Dream",
         49.3,
         19.9,
         203.0,
         4050.0,
         2
        ],
        [
         "Dream",
         50.2,
         18.8,
         202.0,
         3800.0,
         2
        ],
        [
         "Dream",
         45.6,
         19.4,
         194.0,
         3525.0,
         2
        ],
        [
         "Dream",
         51.9,
         19.5,
         206.0,
         3950.0,
         2
        ],
        [
         "Dream",
         46.8,
         16.5,
         189.0,
         3650.0,
         2
        ],
        [
         "Dream",
         45.7,
         17.0,
         195.0,
         3650.0,
         2
        ],
        [
         "Dream",
         55.8,
         19.8,
         207.0,
         4000.0,
         2
        ],
        [
         "Dream",
         43.5,
         18.1,
         202.0,
         3400.0,
         2
        ],
        [
         "Dream",
         49.6,
         18.2,
         193.0,
         3775.0,
         2
        ],
        [
         "Dream",
         50.8,
         19.0,
         210.0,
         4100.0,
         2
        ],
        [
         "Dream",
         50.2,
         18.7,
         198.0,
         3775.0,
         2
        ]
       ],
       "datasetInfos": [],
       "dbfsResultPath": null,
       "isJsonSchema": true,
       "metadata": {},
       "overflow": false,
       "plotOptions": {
        "customPlotOptions": {},
        "displayType": "table",
        "pivotAggregation": null,
        "pivotColumns": null,
        "xColumns": null,
        "yColumns": null
       },
       "removedWidgets": [],
       "schema": [
        {
         "metadata": "{}",
         "name": "Island",
         "type": "\"string\""
        },
        {
         "metadata": "{}",
         "name": "CulmenLength",
         "type": "\"float\""
        },
        {
         "metadata": "{}",
         "name": "CulmenDepth",
         "type": "\"float\""
        },
        {
         "metadata": "{}",
         "name": "FlipperLength",
         "type": "\"float\""
        },
        {
         "metadata": "{}",
         "name": "BodyMass",
         "type": "\"float\""
        },
        {
         "metadata": "{}",
         "name": "Species",
         "type": "\"integer\""
        }
       ],
       "type": "table"
      }
     },
     "output_type": "display_data"
    }
   ],
   "source": [
    "from pyspark.sql.types import *\n",
    "from pyspark.sql.functions import *\n",
    "   \n",
    "data = df.dropna().select(col(\"Island\").astype(\"string\"),\n",
    "                           col(\"CulmenLength\").astype(\"float\"),\n",
    "                          col(\"CulmenDepth\").astype(\"float\"),\n",
    "                          col(\"FlipperLength\").astype(\"float\"),\n",
    "                          col(\"BodyMass\").astype(\"float\"),\n",
    "                          col(\"Species\").astype(\"int\")\n",
    "                          )\n",
    "display(data)\n"
   ]
  },
  {
   "cell_type": "code",
   "execution_count": 0,
   "metadata": {
    "application/vnd.databricks.v1+cell": {
     "cellMetadata": {
      "byteLimit": 2048000,
      "rowLimit": 10000
     },
     "inputWidgets": {},
     "nuid": "83585334-4c27-43b3-9c94-d64e03a0a927",
     "showTitle": false,
     "title": ""
    }
   },
   "outputs": [
    {
     "output_type": "stream",
     "name": "stdout",
     "output_type": "stream",
     "text": [
      "Training Rows: 242  Testing Rows: 100\n"
     ]
    }
   ],
   "source": [
    "splits = data.randomSplit([0.7, 0.3])\n",
    "train = splits[0]\n",
    "test = splits[1]\n",
    "print (\"Training Rows:\", train.count(), \" Testing Rows:\", test.count())"
   ]
  },
  {
   "cell_type": "code",
   "execution_count": 0,
   "metadata": {
    "application/vnd.databricks.v1+cell": {
     "cellMetadata": {
      "byteLimit": 2048000,
      "rowLimit": 10000
     },
     "inputWidgets": {},
     "nuid": "906bacac-f3ac-4493-acd0-b8a4c29f93e1",
     "showTitle": false,
     "title": ""
    }
   },
   "outputs": [
    {
     "output_type": "display_data",
     "data": {
      "text/html": [
       "<style scoped>\n",
       "  .table-result-container {\n",
       "    max-height: 300px;\n",
       "    overflow: auto;\n",
       "  }\n",
       "  table, th, td {\n",
       "    border: 1px solid black;\n",
       "    border-collapse: collapse;\n",
       "  }\n",
       "  th, td {\n",
       "    padding: 5px;\n",
       "  }\n",
       "  th {\n",
       "    text-align: left;\n",
       "  }\n",
       "</style><div class='table-result-container'><table class='table-result'><thead style='background-color: white'><tr><th>CulmenLength</th><th>CulmenDepth</th><th>FlipperLength</th><th>BodyMass</th><th>Species</th><th>IslandIdx</th></tr></thead><tbody><tr><td>34.5</td><td>18.1</td><td>187.0</td><td>2900.0</td><td>0</td><td>0.0</td></tr><tr><td>35.0</td><td>17.9</td><td>190.0</td><td>3450.0</td><td>0</td><td>0.0</td></tr><tr><td>35.0</td><td>17.9</td><td>192.0</td><td>3725.0</td><td>0</td><td>0.0</td></tr><tr><td>35.5</td><td>16.2</td><td>195.0</td><td>3350.0</td><td>0</td><td>0.0</td></tr><tr><td>35.7</td><td>16.9</td><td>185.0</td><td>3150.0</td><td>0</td><td>0.0</td></tr><tr><td>35.9</td><td>19.2</td><td>189.0</td><td>3800.0</td><td>0</td><td>0.0</td></tr><tr><td>36.4</td><td>17.1</td><td>184.0</td><td>2850.0</td><td>0</td><td>0.0</td></tr><tr><td>36.5</td><td>16.6</td><td>181.0</td><td>2850.0</td><td>0</td><td>0.0</td></tr><tr><td>37.6</td><td>17.0</td><td>185.0</td><td>3600.0</td><td>0</td><td>0.0</td></tr><tr><td>37.6</td><td>19.1</td><td>194.0</td><td>3750.0</td><td>0</td><td>0.0</td></tr><tr><td>37.7</td><td>16.0</td><td>183.0</td><td>3075.0</td><td>0</td><td>0.0</td></tr><tr><td>37.7</td><td>18.7</td><td>180.0</td><td>3600.0</td><td>0</td><td>0.0</td></tr><tr><td>37.8</td><td>18.3</td><td>174.0</td><td>3400.0</td><td>0</td><td>0.0</td></tr><tr><td>37.8</td><td>20.0</td><td>190.0</td><td>4250.0</td><td>0</td><td>0.0</td></tr><tr><td>37.9</td><td>18.6</td><td>172.0</td><td>3150.0</td><td>0</td><td>0.0</td></tr><tr><td>38.1</td><td>16.5</td><td>198.0</td><td>3825.0</td><td>0</td><td>0.0</td></tr><tr><td>38.1</td><td>17.0</td><td>181.0</td><td>3175.0</td><td>0</td><td>0.0</td></tr><tr><td>38.2</td><td>20.0</td><td>190.0</td><td>3900.0</td><td>0</td><td>0.0</td></tr><tr><td>38.6</td><td>17.2</td><td>199.0</td><td>3750.0</td><td>0</td><td>0.0</td></tr><tr><td>38.8</td><td>17.2</td><td>180.0</td><td>3800.0</td><td>0</td><td>0.0</td></tr><tr><td>39.6</td><td>20.7</td><td>191.0</td><td>3900.0</td><td>0</td><td>0.0</td></tr><tr><td>39.7</td><td>17.7</td><td>193.0</td><td>3200.0</td><td>0</td><td>0.0</td></tr><tr><td>39.7</td><td>18.9</td><td>184.0</td><td>3550.0</td><td>0</td><td>0.0</td></tr><tr><td>40.1</td><td>18.9</td><td>188.0</td><td>4300.0</td><td>0</td><td>0.0</td></tr><tr><td>40.5</td><td>17.9</td><td>187.0</td><td>3200.0</td><td>0</td><td>0.0</td></tr><tr><td>40.5</td><td>18.9</td><td>180.0</td><td>3950.0</td><td>0</td><td>0.0</td></tr><tr><td>40.6</td><td>18.6</td><td>183.0</td><td>3550.0</td><td>0</td><td>0.0</td></tr><tr><td>40.9</td><td>13.7</td><td>214.0</td><td>4650.0</td><td>1</td><td>0.0</td></tr><tr><td>41.1</td><td>18.2</td><td>192.0</td><td>4050.0</td><td>0</td><td>0.0</td></tr><tr><td>41.3</td><td>21.1</td><td>195.0</td><td>4400.0</td><td>0</td><td>0.0</td></tr><tr><td>41.4</td><td>18.6</td><td>191.0</td><td>3700.0</td><td>0</td><td>0.0</td></tr><tr><td>41.6</td><td>18.0</td><td>192.0</td><td>3950.0</td><td>0</td><td>0.0</td></tr><tr><td>42.0</td><td>13.5</td><td>210.0</td><td>4150.0</td><td>1</td><td>0.0</td></tr><tr><td>42.0</td><td>19.5</td><td>200.0</td><td>4050.0</td><td>0</td><td>0.0</td></tr><tr><td>42.6</td><td>13.7</td><td>213.0</td><td>4950.0</td><td>1</td><td>0.0</td></tr><tr><td>42.7</td><td>13.7</td><td>208.0</td><td>3950.0</td><td>1</td><td>0.0</td></tr><tr><td>42.7</td><td>18.3</td><td>196.0</td><td>4075.0</td><td>0</td><td>0.0</td></tr><tr><td>42.9</td><td>13.1</td><td>215.0</td><td>5000.0</td><td>1</td><td>0.0</td></tr><tr><td>43.2</td><td>19.0</td><td>197.0</td><td>4775.0</td><td>0</td><td>0.0</td></tr><tr><td>43.3</td><td>13.4</td><td>209.0</td><td>4400.0</td><td>1</td><td>0.0</td></tr><tr><td>43.3</td><td>14.0</td><td>208.0</td><td>4575.0</td><td>1</td><td>0.0</td></tr><tr><td>43.6</td><td>13.9</td><td>217.0</td><td>4900.0</td><td>1</td><td>0.0</td></tr><tr><td>43.8</td><td>13.9</td><td>208.0</td><td>4300.0</td><td>1</td><td>0.0</td></tr><tr><td>44.5</td><td>14.3</td><td>216.0</td><td>4100.0</td><td>1</td><td>0.0</td></tr><tr><td>44.5</td><td>15.7</td><td>217.0</td><td>4875.0</td><td>1</td><td>0.0</td></tr><tr><td>44.9</td><td>13.8</td><td>212.0</td><td>4750.0</td><td>1</td><td>0.0</td></tr><tr><td>45.0</td><td>15.4</td><td>220.0</td><td>5050.0</td><td>1</td><td>0.0</td></tr><tr><td>45.1</td><td>14.4</td><td>210.0</td><td>4400.0</td><td>1</td><td>0.0</td></tr><tr><td>45.1</td><td>14.5</td><td>207.0</td><td>5050.0</td><td>1</td><td>0.0</td></tr><tr><td>45.1</td><td>14.5</td><td>215.0</td><td>5000.0</td><td>1</td><td>0.0</td></tr><tr><td>45.2</td><td>13.8</td><td>215.0</td><td>4750.0</td><td>1</td><td>0.0</td></tr><tr><td>45.2</td><td>14.8</td><td>212.0</td><td>5200.0</td><td>1</td><td>0.0</td></tr><tr><td>45.3</td><td>13.7</td><td>210.0</td><td>4300.0</td><td>1</td><td>0.0</td></tr><tr><td>45.3</td><td>13.8</td><td>208.0</td><td>4200.0</td><td>1</td><td>0.0</td></tr><tr><td>45.4</td><td>14.6</td><td>211.0</td><td>4800.0</td><td>1</td><td>0.0</td></tr><tr><td>45.5</td><td>13.9</td><td>210.0</td><td>4200.0</td><td>1</td><td>0.0</td></tr><tr><td>45.5</td><td>14.5</td><td>212.0</td><td>4750.0</td><td>1</td><td>0.0</td></tr><tr><td>45.6</td><td>20.3</td><td>191.0</td><td>4600.0</td><td>0</td><td>0.0</td></tr><tr><td>45.7</td><td>13.9</td><td>214.0</td><td>4400.0</td><td>1</td><td>0.0</td></tr><tr><td>45.8</td><td>14.2</td><td>219.0</td><td>4700.0</td><td>1</td><td>0.0</td></tr><tr><td>46.1</td><td>13.2</td><td>211.0</td><td>4500.0</td><td>1</td><td>0.0</td></tr><tr><td>46.2</td><td>14.1</td><td>217.0</td><td>4375.0</td><td>1</td><td>0.0</td></tr><tr><td>46.2</td><td>14.4</td><td>214.0</td><td>4650.0</td><td>1</td><td>0.0</td></tr><tr><td>46.2</td><td>14.5</td><td>209.0</td><td>4800.0</td><td>1</td><td>0.0</td></tr><tr><td>46.2</td><td>14.9</td><td>221.0</td><td>5300.0</td><td>1</td><td>0.0</td></tr><tr><td>46.4</td><td>15.0</td><td>216.0</td><td>4700.0</td><td>1</td><td>0.0</td></tr><tr><td>46.5</td><td>13.5</td><td>210.0</td><td>4550.0</td><td>1</td><td>0.0</td></tr><tr><td>46.5</td><td>14.4</td><td>217.0</td><td>4900.0</td><td>1</td><td>0.0</td></tr><tr><td>46.5</td><td>14.5</td><td>213.0</td><td>4400.0</td><td>1</td><td>0.0</td></tr><tr><td>46.6</td><td>14.2</td><td>210.0</td><td>4850.0</td><td>1</td><td>0.0</td></tr><tr><td>46.7</td><td>15.3</td><td>219.0</td><td>5200.0</td><td>1</td><td>0.0</td></tr><tr><td>46.8</td><td>14.3</td><td>215.0</td><td>4850.0</td><td>1</td><td>0.0</td></tr><tr><td>46.8</td><td>15.4</td><td>215.0</td><td>5150.0</td><td>1</td><td>0.0</td></tr><tr><td>46.9</td><td>14.6</td><td>222.0</td><td>4875.0</td><td>1</td><td>0.0</td></tr><tr><td>47.2</td><td>13.7</td><td>214.0</td><td>4925.0</td><td>1</td><td>0.0</td></tr><tr><td>47.2</td><td>15.5</td><td>215.0</td><td>4975.0</td><td>1</td><td>0.0</td></tr><tr><td>47.3</td><td>13.8</td><td>216.0</td><td>4725.0</td><td>1</td><td>0.0</td></tr><tr><td>47.3</td><td>15.3</td><td>222.0</td><td>5250.0</td><td>1</td><td>0.0</td></tr><tr><td>47.4</td><td>14.6</td><td>212.0</td><td>4725.0</td><td>1</td><td>0.0</td></tr><tr><td>47.5</td><td>14.0</td><td>212.0</td><td>4875.0</td><td>1</td><td>0.0</td></tr><tr><td>47.5</td><td>14.2</td><td>209.0</td><td>4600.0</td><td>1</td><td>0.0</td></tr><tr><td>47.5</td><td>15.0</td><td>218.0</td><td>4950.0</td><td>1</td><td>0.0</td></tr><tr><td>47.7</td><td>15.0</td><td>216.0</td><td>4750.0</td><td>1</td><td>0.0</td></tr><tr><td>47.8</td><td>15.0</td><td>215.0</td><td>5650.0</td><td>1</td><td>0.0</td></tr><tr><td>48.1</td><td>15.1</td><td>209.0</td><td>5500.0</td><td>1</td><td>0.0</td></tr><tr><td>48.2</td><td>15.6</td><td>221.0</td><td>5100.0</td><td>1</td><td>0.0</td></tr><tr><td>48.4</td><td>14.4</td><td>203.0</td><td>4625.0</td><td>1</td><td>0.0</td></tr><tr><td>48.4</td><td>14.6</td><td>213.0</td><td>5850.0</td><td>1</td><td>0.0</td></tr><tr><td>48.5</td><td>15.0</td><td>219.0</td><td>4850.0</td><td>1</td><td>0.0</td></tr><tr><td>48.7</td><td>14.1</td><td>210.0</td><td>4450.0</td><td>1</td><td>0.0</td></tr><tr><td>48.7</td><td>15.1</td><td>222.0</td><td>5350.0</td><td>1</td><td>0.0</td></tr><tr><td>48.7</td><td>15.7</td><td>208.0</td><td>5350.0</td><td>1</td><td>0.0</td></tr><tr><td>49.0</td><td>16.1</td><td>216.0</td><td>5550.0</td><td>1</td><td>0.0</td></tr><tr><td>49.1</td><td>14.5</td><td>212.0</td><td>4625.0</td><td>1</td><td>0.0</td></tr><tr><td>49.2</td><td>15.2</td><td>221.0</td><td>6300.0</td><td>1</td><td>0.0</td></tr><tr><td>49.3</td><td>15.7</td><td>217.0</td><td>5850.0</td><td>1</td><td>0.0</td></tr><tr><td>49.4</td><td>15.8</td><td>216.0</td><td>4925.0</td><td>1</td><td>0.0</td></tr><tr><td>49.5</td><td>16.1</td><td>224.0</td><td>5650.0</td><td>1</td><td>0.0</td></tr><tr><td>49.5</td><td>16.2</td><td>229.0</td><td>5800.0</td><td>1</td><td>0.0</td></tr><tr><td>49.6</td><td>16.0</td><td>225.0</td><td>5700.0</td><td>1</td><td>0.0</td></tr><tr><td>49.8</td><td>15.9</td><td>229.0</td><td>5950.0</td><td>1</td><td>0.0</td></tr><tr><td>49.8</td><td>16.8</td><td>230.0</td><td>5700.0</td><td>1</td><td>0.0</td></tr><tr><td>49.9</td><td>16.1</td><td>213.0</td><td>5400.0</td><td>1</td><td>0.0</td></tr><tr><td>50.0</td><td>15.2</td><td>218.0</td><td>5700.0</td><td>1</td><td>0.0</td></tr><tr><td>50.0</td><td>16.3</td><td>230.0</td><td>5700.0</td><td>1</td><td>0.0</td></tr><tr><td>50.1</td><td>15.0</td><td>225.0</td><td>5000.0</td><td>1</td><td>0.0</td></tr><tr><td>50.4</td><td>15.3</td><td>224.0</td><td>5550.0</td><td>1</td><td>0.0</td></tr><tr><td>50.4</td><td>15.7</td><td>222.0</td><td>5750.0</td><td>1</td><td>0.0</td></tr><tr><td>50.5</td><td>15.9</td><td>225.0</td><td>5400.0</td><td>1</td><td>0.0</td></tr><tr><td>50.7</td><td>15.0</td><td>223.0</td><td>5550.0</td><td>1</td><td>0.0</td></tr><tr><td>50.8</td><td>17.3</td><td>228.0</td><td>5600.0</td><td>1</td><td>0.0</td></tr><tr><td>51.1</td><td>16.3</td><td>220.0</td><td>6000.0</td><td>1</td><td>0.0</td></tr><tr><td>51.1</td><td>16.5</td><td>225.0</td><td>5250.0</td><td>1</td><td>0.0</td></tr><tr><td>51.3</td><td>14.2</td><td>218.0</td><td>5300.0</td><td>1</td><td>0.0</td></tr><tr><td>52.1</td><td>17.0</td><td>230.0</td><td>5550.0</td><td>1</td><td>0.0</td></tr><tr><td>54.3</td><td>15.7</td><td>231.0</td><td>5650.0</td><td>1</td><td>0.0</td></tr><tr><td>55.1</td><td>16.0</td><td>230.0</td><td>5850.0</td><td>1</td><td>0.0</td></tr><tr><td>55.9</td><td>17.0</td><td>228.0</td><td>5600.0</td><td>1</td><td>0.0</td></tr><tr><td>59.6</td><td>17.0</td><td>230.0</td><td>6050.0</td><td>1</td><td>0.0</td></tr><tr><td>34.0</td><td>17.1</td><td>185.0</td><td>3400.0</td><td>0</td><td>1.0</td></tr><tr><td>35.6</td><td>17.5</td><td>191.0</td><td>3175.0</td><td>0</td><td>1.0</td></tr><tr><td>35.7</td><td>18.0</td><td>202.0</td><td>3550.0</td><td>0</td><td>1.0</td></tr><tr><td>36.0</td><td>17.1</td><td>187.0</td><td>3700.0</td><td>0</td><td>1.0</td></tr><tr><td>36.0</td><td>17.9</td><td>190.0</td><td>3450.0</td><td>0</td><td>1.0</td></tr><tr><td>36.2</td><td>17.3</td><td>187.0</td><td>3300.0</td><td>0</td><td>1.0</td></tr><tr><td>36.3</td><td>19.5</td><td>190.0</td><td>3800.0</td><td>0</td><td>1.0</td></tr><tr><td>36.4</td><td>17.0</td><td>195.0</td><td>3325.0</td><td>0</td><td>1.0</td></tr><tr><td>36.5</td><td>18.0</td><td>182.0</td><td>3150.0</td><td>0</td><td>1.0</td></tr><tr><td>36.6</td><td>18.4</td><td>184.0</td><td>3475.0</td><td>0</td><td>1.0</td></tr><tr><td>37.0</td><td>16.5</td><td>185.0</td><td>3400.0</td><td>0</td><td>1.0</td></tr><tr><td>37.2</td><td>18.1</td><td>178.0</td><td>3900.0</td><td>0</td><td>1.0</td></tr><tr><td>37.3</td><td>16.8</td><td>192.0</td><td>3000.0</td><td>0</td><td>1.0</td></tr><tr><td>37.5</td><td>18.5</td><td>199.0</td><td>4475.0</td><td>0</td><td>1.0</td></tr><tr><td>37.5</td><td>18.9</td><td>179.0</td><td>2975.0</td><td>0</td><td>1.0</td></tr><tr><td>37.6</td><td>19.3</td><td>181.0</td><td>3300.0</td><td>0</td><td>1.0</td></tr><tr><td>37.8</td><td>18.1</td><td>193.0</td><td>3750.0</td><td>0</td><td>1.0</td></tr><tr><td>38.1</td><td>17.6</td><td>187.0</td><td>3425.0</td><td>0</td><td>1.0</td></tr><tr><td>38.1</td><td>18.6</td><td>190.0</td><td>3700.0</td><td>0</td><td>1.0</td></tr><tr><td>39.2</td><td>18.6</td><td>190.0</td><td>4250.0</td><td>0</td><td>1.0</td></tr><tr><td>39.2</td><td>21.1</td><td>196.0</td><td>4150.0</td><td>0</td><td>1.0</td></tr><tr><td>39.5</td><td>17.8</td><td>188.0</td><td>3300.0</td><td>0</td><td>1.0</td></tr><tr><td>39.6</td><td>18.1</td><td>186.0</td><td>4450.0</td><td>0</td><td>1.0</td></tr><tr><td>39.6</td><td>18.8</td><td>190.0</td><td>4600.0</td><td>0</td><td>1.0</td></tr><tr><td>39.7</td><td>17.9</td><td>193.0</td><td>4250.0</td><td>0</td><td>1.0</td></tr><tr><td>39.8</td><td>19.1</td><td>184.0</td><td>4650.0</td><td>0</td><td>1.0</td></tr><tr><td>40.2</td><td>17.1</td><td>193.0</td><td>3400.0</td><td>0</td><td>1.0</td></tr><tr><td>40.3</td><td>18.5</td><td>196.0</td><td>4350.0</td><td>0</td><td>1.0</td></tr><tr><td>40.6</td><td>17.2</td><td>187.0</td><td>3475.0</td><td>0</td><td>1.0</td></tr><tr><td>40.7</td><td>17.0</td><td>190.0</td><td>3725.0</td><td>0</td><td>1.0</td></tr><tr><td>40.8</td><td>18.4</td><td>195.0</td><td>3900.0</td><td>0</td><td>1.0</td></tr><tr><td>40.9</td><td>16.6</td><td>187.0</td><td>3200.0</td><td>2</td><td>1.0</td></tr><tr><td>40.9</td><td>18.9</td><td>184.0</td><td>3900.0</td><td>0</td><td>1.0</td></tr><tr><td>41.1</td><td>17.5</td><td>190.0</td><td>3900.0</td><td>0</td><td>1.0</td></tr><tr><td>41.1</td><td>18.1</td><td>205.0</td><td>4300.0</td><td>0</td><td>1.0</td></tr><tr><td>41.1</td><td>19.0</td><td>182.0</td><td>3425.0</td><td>0</td><td>1.0</td></tr><tr><td>42.2</td><td>18.5</td><td>180.0</td><td>3550.0</td><td>0</td><td>1.0</td></tr><tr><td>42.3</td><td>21.2</td><td>191.0</td><td>4150.0</td><td>0</td><td>1.0</td></tr><tr><td>42.4</td><td>17.3</td><td>181.0</td><td>3600.0</td><td>2</td><td>1.0</td></tr><tr><td>43.2</td><td>16.6</td><td>187.0</td><td>2900.0</td><td>2</td><td>1.0</td></tr><tr><td>43.5</td><td>18.1</td><td>202.0</td><td>3400.0</td><td>2</td><td>1.0</td></tr><tr><td>45.2</td><td>17.8</td><td>198.0</td><td>3950.0</td><td>2</td><td>1.0</td></tr><tr><td>45.6</td><td>19.4</td><td>194.0</td><td>3525.0</td><td>2</td><td>1.0</td></tr><tr><td>45.7</td><td>17.0</td><td>195.0</td><td>3650.0</td><td>2</td><td>1.0</td></tr><tr><td>45.7</td><td>17.3</td><td>193.0</td><td>3600.0</td><td>2</td><td>1.0</td></tr><tr><td>45.9</td><td>17.1</td><td>190.0</td><td>3575.0</td><td>2</td><td>1.0</td></tr><tr><td>46.0</td><td>18.9</td><td>195.0</td><td>4150.0</td><td>2</td><td>1.0</td></tr><tr><td>46.1</td><td>18.2</td><td>178.0</td><td>3250.0</td><td>2</td><td>1.0</td></tr><tr><td>46.2</td><td>17.5</td><td>187.0</td><td>3650.0</td><td>2</td><td>1.0</td></tr><tr><td>46.4</td><td>17.8</td><td>191.0</td><td>3700.0</td><td>2</td><td>1.0</td></tr><tr><td>46.4</td><td>18.6</td><td>190.0</td><td>3450.0</td><td>2</td><td>1.0</td></tr><tr><td>46.5</td><td>17.9</td><td>192.0</td><td>3500.0</td><td>2</td><td>1.0</td></tr><tr><td>46.7</td><td>17.9</td><td>195.0</td><td>3300.0</td><td>2</td><td>1.0</td></tr><tr><td>46.8</td><td>16.5</td><td>189.0</td><td>3650.0</td><td>2</td><td>1.0</td></tr><tr><td>46.9</td><td>16.6</td><td>192.0</td><td>2700.0</td><td>2</td><td>1.0</td></tr><tr><td>47.0</td><td>17.3</td><td>185.0</td><td>3700.0</td><td>2</td><td>1.0</td></tr><tr><td>47.5</td><td>16.8</td><td>199.0</td><td>3900.0</td><td>2</td><td>1.0</td></tr><tr><td>47.6</td><td>18.3</td><td>195.0</td><td>3850.0</td><td>2</td><td>1.0</td></tr><tr><td>48.1</td><td>16.4</td><td>199.0</td><td>3325.0</td><td>2</td><td>1.0</td></tr><tr><td>48.5</td><td>17.5</td><td>191.0</td><td>3400.0</td><td>2</td><td>1.0</td></tr><tr><td>49.0</td><td>19.5</td><td>210.0</td><td>3950.0</td><td>2</td><td>1.0</td></tr><tr><td>49.0</td><td>19.6</td><td>212.0</td><td>4300.0</td><td>2</td><td>1.0</td></tr><tr><td>49.3</td><td>19.9</td><td>203.0</td><td>4050.0</td><td>2</td><td>1.0</td></tr><tr><td>49.7</td><td>18.6</td><td>195.0</td><td>3600.0</td><td>2</td><td>1.0</td></tr><tr><td>50.0</td><td>19.5</td><td>196.0</td><td>3900.0</td><td>2</td><td>1.0</td></tr><tr><td>50.2</td><td>18.7</td><td>198.0</td><td>3775.0</td><td>2</td><td>1.0</td></tr><tr><td>50.2</td><td>18.8</td><td>202.0</td><td>3800.0</td><td>2</td><td>1.0</td></tr><tr><td>50.5</td><td>18.4</td><td>200.0</td><td>3400.0</td><td>2</td><td>1.0</td></tr><tr><td>50.5</td><td>19.6</td><td>201.0</td><td>4050.0</td><td>2</td><td>1.0</td></tr><tr><td>50.6</td><td>19.4</td><td>193.0</td><td>3800.0</td><td>2</td><td>1.0</td></tr><tr><td>50.7</td><td>19.7</td><td>203.0</td><td>4050.0</td><td>2</td><td>1.0</td></tr><tr><td>50.8</td><td>18.5</td><td>201.0</td><td>4450.0</td><td>2</td><td>1.0</td></tr><tr><td>50.8</td><td>19.0</td><td>210.0</td><td>4100.0</td><td>2</td><td>1.0</td></tr><tr><td>50.9</td><td>17.9</td><td>196.0</td><td>3675.0</td><td>2</td><td>1.0</td></tr><tr><td>50.9</td><td>19.1</td><td>196.0</td><td>3550.0</td><td>2</td><td>1.0</td></tr><tr><td>51.0</td><td>18.8</td><td>203.0</td><td>4100.0</td><td>2</td><td>1.0</td></tr><tr><td>51.3</td><td>18.2</td><td>197.0</td><td>3750.0</td><td>2</td><td>1.0</td></tr><tr><td>51.3</td><td>19.9</td><td>198.0</td><td>3700.0</td><td>2</td><td>1.0</td></tr><tr><td>51.4</td><td>19.0</td><td>201.0</td><td>3950.0</td><td>2</td><td>1.0</td></tr><tr><td>51.5</td><td>18.7</td><td>187.0</td><td>3250.0</td><td>2</td><td>1.0</td></tr><tr><td>51.7</td><td>20.3</td><td>194.0</td><td>3775.0</td><td>2</td><td>1.0</td></tr><tr><td>52.0</td><td>20.7</td><td>210.0</td><td>4800.0</td><td>2</td><td>1.0</td></tr><tr><td>52.7</td><td>19.8</td><td>197.0</td><td>3725.0</td><td>2</td><td>1.0</td></tr><tr><td>53.5</td><td>19.9</td><td>205.0</td><td>4500.0</td><td>2</td><td>1.0</td></tr><tr><td>54.2</td><td>20.8</td><td>201.0</td><td>4300.0</td><td>2</td><td>1.0</td></tr><tr><td>55.8</td><td>19.8</td><td>207.0</td><td>4000.0</td><td>2</td><td>1.0</td></tr><tr><td>58.0</td><td>17.8</td><td>181.0</td><td>3700.0</td><td>2</td><td>1.0</td></tr><tr><td>33.5</td><td>19.0</td><td>190.0</td><td>3600.0</td><td>0</td><td>2.0</td></tr><tr><td>34.4</td><td>18.4</td><td>184.0</td><td>3325.0</td><td>0</td><td>2.0</td></tr><tr><td>34.6</td><td>21.1</td><td>198.0</td><td>4400.0</td><td>0</td><td>2.0</td></tr><tr><td>35.2</td><td>15.9</td><td>186.0</td><td>3050.0</td><td>0</td><td>2.0</td></tr><tr><td>35.5</td><td>17.5</td><td>190.0</td><td>3700.0</td><td>0</td><td>2.0</td></tr><tr><td>35.7</td><td>17.0</td><td>189.0</td><td>3350.0</td><td>0</td><td>2.0</td></tr><tr><td>35.9</td><td>16.6</td><td>190.0</td><td>3050.0</td><td>0</td><td>2.0</td></tr><tr><td>36.2</td><td>16.1</td><td>187.0</td><td>3550.0</td><td>0</td><td>2.0</td></tr><tr><td>36.6</td><td>17.8</td><td>185.0</td><td>3700.0</td><td>0</td><td>2.0</td></tr><tr><td>36.7</td><td>19.3</td><td>193.0</td><td>3450.0</td><td>0</td><td>2.0</td></tr><tr><td>37.2</td><td>19.4</td><td>184.0</td><td>3900.0</td><td>0</td><td>2.0</td></tr><tr><td>37.8</td><td>17.3</td><td>180.0</td><td>3700.0</td><td>0</td><td>2.0</td></tr><tr><td>38.5</td><td>17.9</td><td>190.0</td><td>3325.0</td><td>0</td><td>2.0</td></tr><tr><td>38.6</td><td>21.2</td><td>191.0</td><td>3800.0</td><td>0</td><td>2.0</td></tr><tr><td>38.7</td><td>19.0</td><td>195.0</td><td>3450.0</td><td>0</td><td>2.0</td></tr><tr><td>38.8</td><td>17.6</td><td>191.0</td><td>3275.0</td><td>0</td><td>2.0</td></tr><tr><td>39.0</td><td>17.1</td><td>191.0</td><td>3050.0</td><td>0</td><td>2.0</td></tr><tr><td>39.1</td><td>18.7</td><td>181.0</td><td>3750.0</td><td>0</td><td>2.0</td></tr><tr><td>39.2</td><td>19.6</td><td>195.0</td><td>4675.0</td><td>0</td><td>2.0</td></tr><tr><td>39.3</td><td>20.6</td><td>190.0</td><td>3650.0</td><td>0</td><td>2.0</td></tr><tr><td>39.5</td><td>17.4</td><td>186.0</td><td>3800.0</td><td>0</td><td>2.0</td></tr><tr><td>39.6</td><td>17.2</td><td>196.0</td><td>3550.0</td><td>0</td><td>2.0</td></tr><tr><td>39.7</td><td>18.4</td><td>190.0</td><td>3900.0</td><td>0</td><td>2.0</td></tr><tr><td>40.2</td><td>17.0</td><td>176.0</td><td>3450.0</td><td>0</td><td>2.0</td></tr><tr><td>40.3</td><td>18.0</td><td>195.0</td><td>3250.0</td><td>0</td><td>2.0</td></tr><tr><td>41.4</td><td>18.5</td><td>202.0</td><td>3875.0</td><td>0</td><td>2.0</td></tr><tr><td>41.5</td><td>18.3</td><td>195.0</td><td>4300.0</td><td>0</td><td>2.0</td></tr><tr><td>41.8</td><td>19.4</td><td>198.0</td><td>4450.0</td><td>0</td><td>2.0</td></tr><tr><td>42.0</td><td>20.2</td><td>190.0</td><td>4250.0</td><td>0</td><td>2.0</td></tr><tr><td>42.1</td><td>19.1</td><td>195.0</td><td>4000.0</td><td>0</td><td>2.0</td></tr><tr><td>42.5</td><td>20.7</td><td>197.0</td><td>4500.0</td><td>0</td><td>2.0</td></tr><tr><td>42.8</td><td>18.5</td><td>195.0</td><td>4250.0</td><td>0</td><td>2.0</td></tr><tr><td>42.9</td><td>17.6</td><td>196.0</td><td>4700.0</td><td>0</td><td>2.0</td></tr><tr><td>43.1</td><td>19.2</td><td>197.0</td><td>3500.0</td><td>0</td><td>2.0</td></tr><tr><td>44.1</td><td>18.0</td><td>210.0</td><td>4000.0</td><td>0</td><td>2.0</td></tr><tr><td>45.8</td><td>18.9</td><td>197.0</td><td>4150.0</td><td>0</td><td>2.0</td></tr></tbody></table></div>"
      ]
     },
     "metadata": {
      "application/vnd.databricks.v1+output": {
       "addedWidgets": {},
       "aggData": [],
       "aggError": "",
       "aggOverflow": false,
       "aggSchema": [],
       "aggSeriesLimitReached": false,
       "aggType": "",
       "arguments": {},
       "columnCustomDisplayInfos": {},
       "data": [
        [
         34.5,
         18.1,
         187.0,
         2900.0,
         0,
         0.0
        ],
        [
         35.0,
         17.9,
         190.0,
         3450.0,
         0,
         0.0
        ],
        [
         35.0,
         17.9,
         192.0,
         3725.0,
         0,
         0.0
        ],
        [
         35.5,
         16.2,
         195.0,
         3350.0,
         0,
         0.0
        ],
        [
         35.7,
         16.9,
         185.0,
         3150.0,
         0,
         0.0
        ],
        [
         35.9,
         19.2,
         189.0,
         3800.0,
         0,
         0.0
        ],
        [
         36.4,
         17.1,
         184.0,
         2850.0,
         0,
         0.0
        ],
        [
         36.5,
         16.6,
         181.0,
         2850.0,
         0,
         0.0
        ],
        [
         37.6,
         17.0,
         185.0,
         3600.0,
         0,
         0.0
        ],
        [
         37.6,
         19.1,
         194.0,
         3750.0,
         0,
         0.0
        ],
        [
         37.7,
         16.0,
         183.0,
         3075.0,
         0,
         0.0
        ],
        [
         37.7,
         18.7,
         180.0,
         3600.0,
         0,
         0.0
        ],
        [
         37.8,
         18.3,
         174.0,
         3400.0,
         0,
         0.0
        ],
        [
         37.8,
         20.0,
         190.0,
         4250.0,
         0,
         0.0
        ],
        [
         37.9,
         18.6,
         172.0,
         3150.0,
         0,
         0.0
        ],
        [
         38.1,
         16.5,
         198.0,
         3825.0,
         0,
         0.0
        ],
        [
         38.1,
         17.0,
         181.0,
         3175.0,
         0,
         0.0
        ],
        [
         38.2,
         20.0,
         190.0,
         3900.0,
         0,
         0.0
        ],
        [
         38.6,
         17.2,
         199.0,
         3750.0,
         0,
         0.0
        ],
        [
         38.8,
         17.2,
         180.0,
         3800.0,
         0,
         0.0
        ],
        [
         39.6,
         20.7,
         191.0,
         3900.0,
         0,
         0.0
        ],
        [
         39.7,
         17.7,
         193.0,
         3200.0,
         0,
         0.0
        ],
        [
         39.7,
         18.9,
         184.0,
         3550.0,
         0,
         0.0
        ],
        [
         40.1,
         18.9,
         188.0,
         4300.0,
         0,
         0.0
        ],
        [
         40.5,
         17.9,
         187.0,
         3200.0,
         0,
         0.0
        ],
        [
         40.5,
         18.9,
         180.0,
         3950.0,
         0,
         0.0
        ],
        [
         40.6,
         18.6,
         183.0,
         3550.0,
         0,
         0.0
        ],
        [
         40.9,
         13.7,
         214.0,
         4650.0,
         1,
         0.0
        ],
        [
         41.1,
         18.2,
         192.0,
         4050.0,
         0,
         0.0
        ],
        [
         41.3,
         21.1,
         195.0,
         4400.0,
         0,
         0.0
        ],
        [
         41.4,
         18.6,
         191.0,
         3700.0,
         0,
         0.0
        ],
        [
         41.6,
         18.0,
         192.0,
         3950.0,
         0,
         0.0
        ],
        [
         42.0,
         13.5,
         210.0,
         4150.0,
         1,
         0.0
        ],
        [
         42.0,
         19.5,
         200.0,
         4050.0,
         0,
         0.0
        ],
        [
         42.6,
         13.7,
         213.0,
         4950.0,
         1,
         0.0
        ],
        [
         42.7,
         13.7,
         208.0,
         3950.0,
         1,
         0.0
        ],
        [
         42.7,
         18.3,
         196.0,
         4075.0,
         0,
         0.0
        ],
        [
         42.9,
         13.1,
         215.0,
         5000.0,
         1,
         0.0
        ],
        [
         43.2,
         19.0,
         197.0,
         4775.0,
         0,
         0.0
        ],
        [
         43.3,
         13.4,
         209.0,
         4400.0,
         1,
         0.0
        ],
        [
         43.3,
         14.0,
         208.0,
         4575.0,
         1,
         0.0
        ],
        [
         43.6,
         13.9,
         217.0,
         4900.0,
         1,
         0.0
        ],
        [
         43.8,
         13.9,
         208.0,
         4300.0,
         1,
         0.0
        ],
        [
         44.5,
         14.3,
         216.0,
         4100.0,
         1,
         0.0
        ],
        [
         44.5,
         15.7,
         217.0,
         4875.0,
         1,
         0.0
        ],
        [
         44.9,
         13.8,
         212.0,
         4750.0,
         1,
         0.0
        ],
        [
         45.0,
         15.4,
         220.0,
         5050.0,
         1,
         0.0
        ],
        [
         45.1,
         14.4,
         210.0,
         4400.0,
         1,
         0.0
        ],
        [
         45.1,
         14.5,
         207.0,
         5050.0,
         1,
         0.0
        ],
        [
         45.1,
         14.5,
         215.0,
         5000.0,
         1,
         0.0
        ],
        [
         45.2,
         13.8,
         215.0,
         4750.0,
         1,
         0.0
        ],
        [
         45.2,
         14.8,
         212.0,
         5200.0,
         1,
         0.0
        ],
        [
         45.3,
         13.7,
         210.0,
         4300.0,
         1,
         0.0
        ],
        [
         45.3,
         13.8,
         208.0,
         4200.0,
         1,
         0.0
        ],
        [
         45.4,
         14.6,
         211.0,
         4800.0,
         1,
         0.0
        ],
        [
         45.5,
         13.9,
         210.0,
         4200.0,
         1,
         0.0
        ],
        [
         45.5,
         14.5,
         212.0,
         4750.0,
         1,
         0.0
        ],
        [
         45.6,
         20.3,
         191.0,
         4600.0,
         0,
         0.0
        ],
        [
         45.7,
         13.9,
         214.0,
         4400.0,
         1,
         0.0
        ],
        [
         45.8,
         14.2,
         219.0,
         4700.0,
         1,
         0.0
        ],
        [
         46.1,
         13.2,
         211.0,
         4500.0,
         1,
         0.0
        ],
        [
         46.2,
         14.1,
         217.0,
         4375.0,
         1,
         0.0
        ],
        [
         46.2,
         14.4,
         214.0,
         4650.0,
         1,
         0.0
        ],
        [
         46.2,
         14.5,
         209.0,
         4800.0,
         1,
         0.0
        ],
        [
         46.2,
         14.9,
         221.0,
         5300.0,
         1,
         0.0
        ],
        [
         46.4,
         15.0,
         216.0,
         4700.0,
         1,
         0.0
        ],
        [
         46.5,
         13.5,
         210.0,
         4550.0,
         1,
         0.0
        ],
        [
         46.5,
         14.4,
         217.0,
         4900.0,
         1,
         0.0
        ],
        [
         46.5,
         14.5,
         213.0,
         4400.0,
         1,
         0.0
        ],
        [
         46.6,
         14.2,
         210.0,
         4850.0,
         1,
         0.0
        ],
        [
         46.7,
         15.3,
         219.0,
         5200.0,
         1,
         0.0
        ],
        [
         46.8,
         14.3,
         215.0,
         4850.0,
         1,
         0.0
        ],
        [
         46.8,
         15.4,
         215.0,
         5150.0,
         1,
         0.0
        ],
        [
         46.9,
         14.6,
         222.0,
         4875.0,
         1,
         0.0
        ],
        [
         47.2,
         13.7,
         214.0,
         4925.0,
         1,
         0.0
        ],
        [
         47.2,
         15.5,
         215.0,
         4975.0,
         1,
         0.0
        ],
        [
         47.3,
         13.8,
         216.0,
         4725.0,
         1,
         0.0
        ],
        [
         47.3,
         15.3,
         222.0,
         5250.0,
         1,
         0.0
        ],
        [
         47.4,
         14.6,
         212.0,
         4725.0,
         1,
         0.0
        ],
        [
         47.5,
         14.0,
         212.0,
         4875.0,
         1,
         0.0
        ],
        [
         47.5,
         14.2,
         209.0,
         4600.0,
         1,
         0.0
        ],
        [
         47.5,
         15.0,
         218.0,
         4950.0,
         1,
         0.0
        ],
        [
         47.7,
         15.0,
         216.0,
         4750.0,
         1,
         0.0
        ],
        [
         47.8,
         15.0,
         215.0,
         5650.0,
         1,
         0.0
        ],
        [
         48.1,
         15.1,
         209.0,
         5500.0,
         1,
         0.0
        ],
        [
         48.2,
         15.6,
         221.0,
         5100.0,
         1,
         0.0
        ],
        [
         48.4,
         14.4,
         203.0,
         4625.0,
         1,
         0.0
        ],
        [
         48.4,
         14.6,
         213.0,
         5850.0,
         1,
         0.0
        ],
        [
         48.5,
         15.0,
         219.0,
         4850.0,
         1,
         0.0
        ],
        [
         48.7,
         14.1,
         210.0,
         4450.0,
         1,
         0.0
        ],
        [
         48.7,
         15.1,
         222.0,
         5350.0,
         1,
         0.0
        ],
        [
         48.7,
         15.7,
         208.0,
         5350.0,
         1,
         0.0
        ],
        [
         49.0,
         16.1,
         216.0,
         5550.0,
         1,
         0.0
        ],
        [
         49.1,
         14.5,
         212.0,
         4625.0,
         1,
         0.0
        ],
        [
         49.2,
         15.2,
         221.0,
         6300.0,
         1,
         0.0
        ],
        [
         49.3,
         15.7,
         217.0,
         5850.0,
         1,
         0.0
        ],
        [
         49.4,
         15.8,
         216.0,
         4925.0,
         1,
         0.0
        ],
        [
         49.5,
         16.1,
         224.0,
         5650.0,
         1,
         0.0
        ],
        [
         49.5,
         16.2,
         229.0,
         5800.0,
         1,
         0.0
        ],
        [
         49.6,
         16.0,
         225.0,
         5700.0,
         1,
         0.0
        ],
        [
         49.8,
         15.9,
         229.0,
         5950.0,
         1,
         0.0
        ],
        [
         49.8,
         16.8,
         230.0,
         5700.0,
         1,
         0.0
        ],
        [
         49.9,
         16.1,
         213.0,
         5400.0,
         1,
         0.0
        ],
        [
         50.0,
         15.2,
         218.0,
         5700.0,
         1,
         0.0
        ],
        [
         50.0,
         16.3,
         230.0,
         5700.0,
         1,
         0.0
        ],
        [
         50.1,
         15.0,
         225.0,
         5000.0,
         1,
         0.0
        ],
        [
         50.4,
         15.3,
         224.0,
         5550.0,
         1,
         0.0
        ],
        [
         50.4,
         15.7,
         222.0,
         5750.0,
         1,
         0.0
        ],
        [
         50.5,
         15.9,
         225.0,
         5400.0,
         1,
         0.0
        ],
        [
         50.7,
         15.0,
         223.0,
         5550.0,
         1,
         0.0
        ],
        [
         50.8,
         17.3,
         228.0,
         5600.0,
         1,
         0.0
        ],
        [
         51.1,
         16.3,
         220.0,
         6000.0,
         1,
         0.0
        ],
        [
         51.1,
         16.5,
         225.0,
         5250.0,
         1,
         0.0
        ],
        [
         51.3,
         14.2,
         218.0,
         5300.0,
         1,
         0.0
        ],
        [
         52.1,
         17.0,
         230.0,
         5550.0,
         1,
         0.0
        ],
        [
         54.3,
         15.7,
         231.0,
         5650.0,
         1,
         0.0
        ],
        [
         55.1,
         16.0,
         230.0,
         5850.0,
         1,
         0.0
        ],
        [
         55.9,
         17.0,
         228.0,
         5600.0,
         1,
         0.0
        ],
        [
         59.6,
         17.0,
         230.0,
         6050.0,
         1,
         0.0
        ],
        [
         34.0,
         17.1,
         185.0,
         3400.0,
         0,
         1.0
        ],
        [
         35.6,
         17.5,
         191.0,
         3175.0,
         0,
         1.0
        ],
        [
         35.7,
         18.0,
         202.0,
         3550.0,
         0,
         1.0
        ],
        [
         36.0,
         17.1,
         187.0,
         3700.0,
         0,
         1.0
        ],
        [
         36.0,
         17.9,
         190.0,
         3450.0,
         0,
         1.0
        ],
        [
         36.2,
         17.3,
         187.0,
         3300.0,
         0,
         1.0
        ],
        [
         36.3,
         19.5,
         190.0,
         3800.0,
         0,
         1.0
        ],
        [
         36.4,
         17.0,
         195.0,
         3325.0,
         0,
         1.0
        ],
        [
         36.5,
         18.0,
         182.0,
         3150.0,
         0,
         1.0
        ],
        [
         36.6,
         18.4,
         184.0,
         3475.0,
         0,
         1.0
        ],
        [
         37.0,
         16.5,
         185.0,
         3400.0,
         0,
         1.0
        ],
        [
         37.2,
         18.1,
         178.0,
         3900.0,
         0,
         1.0
        ],
        [
         37.3,
         16.8,
         192.0,
         3000.0,
         0,
         1.0
        ],
        [
         37.5,
         18.5,
         199.0,
         4475.0,
         0,
         1.0
        ],
        [
         37.5,
         18.9,
         179.0,
         2975.0,
         0,
         1.0
        ],
        [
         37.6,
         19.3,
         181.0,
         3300.0,
         0,
         1.0
        ],
        [
         37.8,
         18.1,
         193.0,
         3750.0,
         0,
         1.0
        ],
        [
         38.1,
         17.6,
         187.0,
         3425.0,
         0,
         1.0
        ],
        [
         38.1,
         18.6,
         190.0,
         3700.0,
         0,
         1.0
        ],
        [
         39.2,
         18.6,
         190.0,
         4250.0,
         0,
         1.0
        ],
        [
         39.2,
         21.1,
         196.0,
         4150.0,
         0,
         1.0
        ],
        [
         39.5,
         17.8,
         188.0,
         3300.0,
         0,
         1.0
        ],
        [
         39.6,
         18.1,
         186.0,
         4450.0,
         0,
         1.0
        ],
        [
         39.6,
         18.8,
         190.0,
         4600.0,
         0,
         1.0
        ],
        [
         39.7,
         17.9,
         193.0,
         4250.0,
         0,
         1.0
        ],
        [
         39.8,
         19.1,
         184.0,
         4650.0,
         0,
         1.0
        ],
        [
         40.2,
         17.1,
         193.0,
         3400.0,
         0,
         1.0
        ],
        [
         40.3,
         18.5,
         196.0,
         4350.0,
         0,
         1.0
        ],
        [
         40.6,
         17.2,
         187.0,
         3475.0,
         0,
         1.0
        ],
        [
         40.7,
         17.0,
         190.0,
         3725.0,
         0,
         1.0
        ],
        [
         40.8,
         18.4,
         195.0,
         3900.0,
         0,
         1.0
        ],
        [
         40.9,
         16.6,
         187.0,
         3200.0,
         2,
         1.0
        ],
        [
         40.9,
         18.9,
         184.0,
         3900.0,
         0,
         1.0
        ],
        [
         41.1,
         17.5,
         190.0,
         3900.0,
         0,
         1.0
        ],
        [
         41.1,
         18.1,
         205.0,
         4300.0,
         0,
         1.0
        ],
        [
         41.1,
         19.0,
         182.0,
         3425.0,
         0,
         1.0
        ],
        [
         42.2,
         18.5,
         180.0,
         3550.0,
         0,
         1.0
        ],
        [
         42.3,
         21.2,
         191.0,
         4150.0,
         0,
         1.0
        ],
        [
         42.4,
         17.3,
         181.0,
         3600.0,
         2,
         1.0
        ],
        [
         43.2,
         16.6,
         187.0,
         2900.0,
         2,
         1.0
        ],
        [
         43.5,
         18.1,
         202.0,
         3400.0,
         2,
         1.0
        ],
        [
         45.2,
         17.8,
         198.0,
         3950.0,
         2,
         1.0
        ],
        [
         45.6,
         19.4,
         194.0,
         3525.0,
         2,
         1.0
        ],
        [
         45.7,
         17.0,
         195.0,
         3650.0,
         2,
         1.0
        ],
        [
         45.7,
         17.3,
         193.0,
         3600.0,
         2,
         1.0
        ],
        [
         45.9,
         17.1,
         190.0,
         3575.0,
         2,
         1.0
        ],
        [
         46.0,
         18.9,
         195.0,
         4150.0,
         2,
         1.0
        ],
        [
         46.1,
         18.2,
         178.0,
         3250.0,
         2,
         1.0
        ],
        [
         46.2,
         17.5,
         187.0,
         3650.0,
         2,
         1.0
        ],
        [
         46.4,
         17.8,
         191.0,
         3700.0,
         2,
         1.0
        ],
        [
         46.4,
         18.6,
         190.0,
         3450.0,
         2,
         1.0
        ],
        [
         46.5,
         17.9,
         192.0,
         3500.0,
         2,
         1.0
        ],
        [
         46.7,
         17.9,
         195.0,
         3300.0,
         2,
         1.0
        ],
        [
         46.8,
         16.5,
         189.0,
         3650.0,
         2,
         1.0
        ],
        [
         46.9,
         16.6,
         192.0,
         2700.0,
         2,
         1.0
        ],
        [
         47.0,
         17.3,
         185.0,
         3700.0,
         2,
         1.0
        ],
        [
         47.5,
         16.8,
         199.0,
         3900.0,
         2,
         1.0
        ],
        [
         47.6,
         18.3,
         195.0,
         3850.0,
         2,
         1.0
        ],
        [
         48.1,
         16.4,
         199.0,
         3325.0,
         2,
         1.0
        ],
        [
         48.5,
         17.5,
         191.0,
         3400.0,
         2,
         1.0
        ],
        [
         49.0,
         19.5,
         210.0,
         3950.0,
         2,
         1.0
        ],
        [
         49.0,
         19.6,
         212.0,
         4300.0,
         2,
         1.0
        ],
        [
         49.3,
         19.9,
         203.0,
         4050.0,
         2,
         1.0
        ],
        [
         49.7,
         18.6,
         195.0,
         3600.0,
         2,
         1.0
        ],
        [
         50.0,
         19.5,
         196.0,
         3900.0,
         2,
         1.0
        ],
        [
         50.2,
         18.7,
         198.0,
         3775.0,
         2,
         1.0
        ],
        [
         50.2,
         18.8,
         202.0,
         3800.0,
         2,
         1.0
        ],
        [
         50.5,
         18.4,
         200.0,
         3400.0,
         2,
         1.0
        ],
        [
         50.5,
         19.6,
         201.0,
         4050.0,
         2,
         1.0
        ],
        [
         50.6,
         19.4,
         193.0,
         3800.0,
         2,
         1.0
        ],
        [
         50.7,
         19.7,
         203.0,
         4050.0,
         2,
         1.0
        ],
        [
         50.8,
         18.5,
         201.0,
         4450.0,
         2,
         1.0
        ],
        [
         50.8,
         19.0,
         210.0,
         4100.0,
         2,
         1.0
        ],
        [
         50.9,
         17.9,
         196.0,
         3675.0,
         2,
         1.0
        ],
        [
         50.9,
         19.1,
         196.0,
         3550.0,
         2,
         1.0
        ],
        [
         51.0,
         18.8,
         203.0,
         4100.0,
         2,
         1.0
        ],
        [
         51.3,
         18.2,
         197.0,
         3750.0,
         2,
         1.0
        ],
        [
         51.3,
         19.9,
         198.0,
         3700.0,
         2,
         1.0
        ],
        [
         51.4,
         19.0,
         201.0,
         3950.0,
         2,
         1.0
        ],
        [
         51.5,
         18.7,
         187.0,
         3250.0,
         2,
         1.0
        ],
        [
         51.7,
         20.3,
         194.0,
         3775.0,
         2,
         1.0
        ],
        [
         52.0,
         20.7,
         210.0,
         4800.0,
         2,
         1.0
        ],
        [
         52.7,
         19.8,
         197.0,
         3725.0,
         2,
         1.0
        ],
        [
         53.5,
         19.9,
         205.0,
         4500.0,
         2,
         1.0
        ],
        [
         54.2,
         20.8,
         201.0,
         4300.0,
         2,
         1.0
        ],
        [
         55.8,
         19.8,
         207.0,
         4000.0,
         2,
         1.0
        ],
        [
         58.0,
         17.8,
         181.0,
         3700.0,
         2,
         1.0
        ],
        [
         33.5,
         19.0,
         190.0,
         3600.0,
         0,
         2.0
        ],
        [
         34.4,
         18.4,
         184.0,
         3325.0,
         0,
         2.0
        ],
        [
         34.6,
         21.1,
         198.0,
         4400.0,
         0,
         2.0
        ],
        [
         35.2,
         15.9,
         186.0,
         3050.0,
         0,
         2.0
        ],
        [
         35.5,
         17.5,
         190.0,
         3700.0,
         0,
         2.0
        ],
        [
         35.7,
         17.0,
         189.0,
         3350.0,
         0,
         2.0
        ],
        [
         35.9,
         16.6,
         190.0,
         3050.0,
         0,
         2.0
        ],
        [
         36.2,
         16.1,
         187.0,
         3550.0,
         0,
         2.0
        ],
        [
         36.6,
         17.8,
         185.0,
         3700.0,
         0,
         2.0
        ],
        [
         36.7,
         19.3,
         193.0,
         3450.0,
         0,
         2.0
        ],
        [
         37.2,
         19.4,
         184.0,
         3900.0,
         0,
         2.0
        ],
        [
         37.8,
         17.3,
         180.0,
         3700.0,
         0,
         2.0
        ],
        [
         38.5,
         17.9,
         190.0,
         3325.0,
         0,
         2.0
        ],
        [
         38.6,
         21.2,
         191.0,
         3800.0,
         0,
         2.0
        ],
        [
         38.7,
         19.0,
         195.0,
         3450.0,
         0,
         2.0
        ],
        [
         38.8,
         17.6,
         191.0,
         3275.0,
         0,
         2.0
        ],
        [
         39.0,
         17.1,
         191.0,
         3050.0,
         0,
         2.0
        ],
        [
         39.1,
         18.7,
         181.0,
         3750.0,
         0,
         2.0
        ],
        [
         39.2,
         19.6,
         195.0,
         4675.0,
         0,
         2.0
        ],
        [
         39.3,
         20.6,
         190.0,
         3650.0,
         0,
         2.0
        ],
        [
         39.5,
         17.4,
         186.0,
         3800.0,
         0,
         2.0
        ],
        [
         39.6,
         17.2,
         196.0,
         3550.0,
         0,
         2.0
        ],
        [
         39.7,
         18.4,
         190.0,
         3900.0,
         0,
         2.0
        ],
        [
         40.2,
         17.0,
         176.0,
         3450.0,
         0,
         2.0
        ],
        [
         40.3,
         18.0,
         195.0,
         3250.0,
         0,
         2.0
        ],
        [
         41.4,
         18.5,
         202.0,
         3875.0,
         0,
         2.0
        ],
        [
         41.5,
         18.3,
         195.0,
         4300.0,
         0,
         2.0
        ],
        [
         41.8,
         19.4,
         198.0,
         4450.0,
         0,
         2.0
        ],
        [
         42.0,
         20.2,
         190.0,
         4250.0,
         0,
         2.0
        ],
        [
         42.1,
         19.1,
         195.0,
         4000.0,
         0,
         2.0
        ],
        [
         42.5,
         20.7,
         197.0,
         4500.0,
         0,
         2.0
        ],
        [
         42.8,
         18.5,
         195.0,
         4250.0,
         0,
         2.0
        ],
        [
         42.9,
         17.6,
         196.0,
         4700.0,
         0,
         2.0
        ],
        [
         43.1,
         19.2,
         197.0,
         3500.0,
         0,
         2.0
        ],
        [
         44.1,
         18.0,
         210.0,
         4000.0,
         0,
         2.0
        ],
        [
         45.8,
         18.9,
         197.0,
         4150.0,
         0,
         2.0
        ]
       ],
       "datasetInfos": [],
       "dbfsResultPath": null,
       "isJsonSchema": true,
       "metadata": {},
       "overflow": false,
       "plotOptions": {
        "customPlotOptions": {},
        "displayType": "table",
        "pivotAggregation": null,
        "pivotColumns": null,
        "xColumns": null,
        "yColumns": null
       },
       "removedWidgets": [],
       "schema": [
        {
         "metadata": "{}",
         "name": "CulmenLength",
         "type": "\"float\""
        },
        {
         "metadata": "{}",
         "name": "CulmenDepth",
         "type": "\"float\""
        },
        {
         "metadata": "{}",
         "name": "FlipperLength",
         "type": "\"float\""
        },
        {
         "metadata": "{}",
         "name": "BodyMass",
         "type": "\"float\""
        },
        {
         "metadata": "{}",
         "name": "Species",
         "type": "\"integer\""
        },
        {
         "metadata": "{\"ml_attr\":{\"vals\":[\"Biscoe\",\"Dream\",\"Torgersen\"],\"type\":\"nominal\",\"name\":\"IslandIdx\"}}",
         "name": "IslandIdx",
         "type": "\"double\""
        }
       ],
       "type": "table"
      }
     },
     "output_type": "display_data"
    }
   ],
   "source": [
    "from pyspark.ml.feature import StringIndexer\n",
    "\n",
    "indexer = StringIndexer(inputCol=\"Island\", outputCol=\"IslandIdx\")\n",
    "indexedData = indexer.fit(train).transform(train).drop(\"Island\")\n",
    "display(indexedData)"
   ]
  },
  {
   "cell_type": "code",
   "execution_count": 0,
   "metadata": {
    "application/vnd.databricks.v1+cell": {
     "cellMetadata": {
      "byteLimit": 2048000,
      "rowLimit": 10000
     },
     "inputWidgets": {},
     "nuid": "451d3d74-ab6f-4b3e-b897-d56cd72b0665",
     "showTitle": false,
     "title": ""
    }
   },
   "outputs": [
    {
     "output_type": "display_data",
     "data": {
      "text/html": [
       "<style scoped>\n",
       "  .table-result-container {\n",
       "    max-height: 300px;\n",
       "    overflow: auto;\n",
       "  }\n",
       "  table, th, td {\n",
       "    border: 1px solid black;\n",
       "    border-collapse: collapse;\n",
       "  }\n",
       "  th, td {\n",
       "    padding: 5px;\n",
       "  }\n",
       "  th {\n",
       "    text-align: left;\n",
       "  }\n",
       "</style><div class='table-result-container'><table class='table-result'><thead style='background-color: white'><tr><th>numericFeatures</th><th>normalizedFeatures</th></tr></thead><tbody><tr><td>Map(vectorType -> dense, length -> 4, values -> List(34.5, 18.100000381469727, 187.0, 2900.0))</td><td>Map(vectorType -> dense, length -> 4, values -> List(0.03831417848516463, 0.6172839215462804, 0.2542372881355932, 0.05555555555555555))</td></tr><tr><td>Map(vectorType -> dense, length -> 4, values -> List(35.0, 17.899999618530273, 190.0, 3450.0))</td><td>Map(vectorType -> dense, length -> 4, values -> List(0.05747126772774694, 0.5925924704943777, 0.3050847457627119, 0.20833333333333334))</td></tr><tr><td>Map(vectorType -> dense, length -> 4, values -> List(35.0, 17.899999618530273, 192.0, 3725.0))</td><td>Map(vectorType -> dense, length -> 4, values -> List(0.05747126772774694, 0.5925924704943777, 0.3389830508474576, 0.2847222222222222))</td></tr><tr><td>Map(vectorType -> dense, length -> 4, values -> List(35.5, 16.200000762939453, 195.0, 3350.0))</td><td>Map(vectorType -> dense, length -> 4, values -> List(0.07662835697032926, 0.3827160784537196, 0.3898305084745763, 0.18055555555555555))</td></tr><tr><td>Map(vectorType -> dense, length -> 4, values -> List(35.70000076293945, 16.899999618530273, 185.0, 3150.0))</td><td>Map(vectorType -> dense, length -> 4, values -> List(0.08429122189876057, 0.4691356861851216, 0.22033898305084745, 0.125))</td></tr><tr><td>Map(vectorType -> dense, length -> 4, values -> List(35.900001525878906, 19.200000762939453, 189.0, 3800.0))</td><td>Map(vectorType -> dense, length -> 4, values -> List(0.09195408682719187, 0.7530864313814878, 0.288135593220339, 0.3055555555555556))</td></tr><tr><td>Map(vectorType -> dense, length -> 4, values -> List(36.400001525878906, 17.100000381469727, 184.0, 2850.0))</td><td>Map(vectorType -> dense, length -> 4, values -> List(0.11111117606977418, 0.4938271372370243, 0.2033898305084746, 0.041666666666666664))</td></tr><tr><td>Map(vectorType -> dense, length -> 4, values -> List(36.5, 16.600000381469727, 181.0, 2850.0))</td><td>Map(vectorType -> dense, length -> 4, values -> List(0.11494253545549388, 0.43209874508239626, 0.15254237288135594, 0.041666666666666664))</td></tr><tr><td>Map(vectorType -> dense, length -> 4, values -> List(37.599998474121094, 17.0, 185.0, 3600.0))</td><td>Map(vectorType -> dense, length -> 4, values -> List(0.15708807332637822, 0.48148141171107295, 0.22033898305084745, 0.25))</td></tr><tr><td>Map(vectorType -> dense, length -> 4, values -> List(37.599998474121094, 19.100000381469727, 194.0, 3750.0))</td><td>Map(vectorType -> dense, length -> 4, values -> List(0.15708807332637822, 0.7407407058555364, 0.3728813559322034, 0.2916666666666667))</td></tr><tr><td>Map(vectorType -> dense, length -> 4, values -> List(37.70000076293945, 16.0, 183.0, 3075.0))</td><td>Map(vectorType -> dense, length -> 4, values -> List(0.1609195788690898, 0.3580246274018169, 0.1864406779661017, 0.10416666666666667))</td></tr><tr><td>Map(vectorType -> dense, length -> 4, values -> List(37.70000076293945, 18.700000762939453, 180.0, 3600.0))</td><td>Map(vectorType -> dense, length -> 4, values -> List(0.1609195788690898, 0.6913580392268598, 0.13559322033898305, 0.25))</td></tr><tr><td>Map(vectorType -> dense, length -> 4, values -> List(37.79999923706055, 18.299999237060547, 174.0, 3400.0))</td><td>Map(vectorType -> dense, length -> 4, values -> List(0.16475093825480952, 0.6419751371230543, 0.03389830508474576, 0.19444444444444445))</td></tr><tr><td>Map(vectorType -> dense, length -> 4, values -> List(37.79999923706055, 20.0, 190.0, 4250.0))</td><td>Map(vectorType -> dense, length -> 4, values -> List(0.16475093825480952, 0.8518517646388412, 0.3050847457627119, 0.4305555555555556))</td></tr><tr><td>Map(vectorType -> dense, length -> 4, values -> List(37.900001525878906, 18.600000381469727, 172.0, 3150.0))</td><td>Map(vectorType -> dense, length -> 4, values -> List(0.16858244379752113, 0.6790123137009084, 0.0, 0.125))</td></tr><tr><td>Map(vectorType -> dense, length -> 4, values -> List(38.099998474121094, 16.5, 198.0, 3825.0))</td><td>Map(vectorType -> dense, length -> 4, values -> List(0.17624516256896053, 0.4197530195564449, 0.4406779661016949, 0.3125))</td></tr><tr><td>Map(vectorType -> dense, length -> 4, values -> List(38.099998474121094, 17.0, 181.0, 3175.0))</td><td>Map(vectorType -> dense, length -> 4, values -> List(0.17624516256896053, 0.48148141171107295, 0.15254237288135594, 0.13194444444444445))</td></tr><tr><td>Map(vectorType -> dense, length -> 4, values -> List(38.20000076293945, 20.0, 190.0, 3900.0))</td><td>Map(vectorType -> dense, length -> 4, values -> List(0.18007666811167214, 0.8518517646388412, 0.3050847457627119, 0.3333333333333333))</td></tr><tr><td>Map(vectorType -> dense, length -> 4, values -> List(38.599998474121094, 17.200000762939453, 199.0, 3750.0))</td><td>Map(vectorType -> dense, length -> 4, values -> List(0.19540225181154283, 0.5061728627629757, 0.4576271186440678, 0.2916666666666667))</td></tr><tr><td>Map(vectorType -> dense, length -> 4, values -> List(38.79999923706055, 17.200000762939453, 180.0, 3800.0))</td><td>Map(vectorType -> dense, length -> 4, values -> List(0.20306511673997416, 0.5061728627629757, 0.13559322033898305, 0.3055555555555556))</td></tr><tr><td>Map(vectorType -> dense, length -> 4, values -> List(39.599998474121094, 20.700000762939453, 191.0, 3900.0))</td><td>Map(vectorType -> dense, length -> 4, values -> List(0.23371643029670747, 0.938271607845372, 0.3220338983050847, 0.3333333333333333))</td></tr><tr><td>Map(vectorType -> dense, length -> 4, values -> List(39.70000076293945, 17.700000762939453, 193.0, 3200.0))</td><td>Map(vectorType -> dense, length -> 4, values -> List(0.23754793583941908, 0.5679012549176037, 0.3559322033898305, 0.1388888888888889))</td></tr><tr><td>Map(vectorType -> dense, length -> 4, values -> List(39.70000076293945, 18.899999618530273, 184.0, 3550.0))</td><td>Map(vectorType -> dense, length -> 4, values -> List(0.23754793583941908, 0.7160492548036338, 0.2033898305084746, 0.2361111111111111))</td></tr><tr><td>Map(vectorType -> dense, length -> 4, values -> List(40.099998474121094, 18.899999618530273, 188.0, 4300.0))</td><td>Map(vectorType -> dense, length -> 4, values -> List(0.25287351953928977, 0.7160492548036338, 0.2711864406779661, 0.4444444444444444))</td></tr><tr><td>Map(vectorType -> dense, length -> 4, values -> List(40.5, 17.899999618530273, 187.0, 3200.0))</td><td>Map(vectorType -> dense, length -> 4, values -> List(0.2681992493961524, 0.5925924704943777, 0.2542372881355932, 0.1388888888888889))</td></tr><tr><td>Map(vectorType -> dense, length -> 4, values -> List(40.5, 18.899999618530273, 180.0, 3950.0))</td><td>Map(vectorType -> dense, length -> 4, values -> List(0.2681992493961524, 0.7160492548036338, 0.13559322033898305, 0.3472222222222222))</td></tr><tr><td>Map(vectorType -> dense, length -> 4, values -> List(40.599998474121094, 18.600000381469727, 183.0, 3550.0))</td><td>Map(vectorType -> dense, length -> 4, values -> List(0.2720306087818721, 0.6790123137009084, 0.1864406779661017, 0.2361111111111111))</td></tr><tr><td>Map(vectorType -> dense, length -> 4, values -> List(40.900001525878906, 13.699999809265137, 214.0, 4650.0))</td><td>Map(vectorType -> dense, length -> 4, values -> List(0.283524979253015, 0.07407399994301501, 0.711864406779661, 0.5416666666666666))</td></tr><tr><td>Map(vectorType -> dense, length -> 4, values -> List(41.099998474121094, 18.200000762939453, 192.0, 4050.0))</td><td>Map(vectorType -> dense, length -> 4, values -> List(0.29118769802445443, 0.6296296470722318, 0.3389830508474576, 0.375))</td></tr><tr><td>Map(vectorType -> dense, length -> 4, values -> List(41.29999923706055, 21.100000381469727, 195.0, 4400.0))</td><td>Map(vectorType -> dense, length -> 4, values -> List(0.2988505629528857, 0.9876542744740486, 0.3898305084745763, 0.4722222222222222))</td></tr><tr><td>Map(vectorType -> dense, length -> 4, values -> List(41.400001525878906, 18.600000381469727, 191.0, 3700.0))</td><td>Map(vectorType -> dense, length -> 4, values -> List(0.3026820684955973, 0.6790123137009084, 0.3220338983050847, 0.2777777777777778))</td></tr><tr><td>Map(vectorType -> dense, length -> 4, values -> List(41.599998474121094, 18.0, 192.0, 3950.0))</td><td>Map(vectorType -> dense, length -> 4, values -> List(0.31034478726703674, 0.604938196020329, 0.3389830508474576, 0.3472222222222222))</td></tr><tr><td>Map(vectorType -> dense, length -> 4, values -> List(42.0, 13.5, 210.0, 4150.0))</td><td>Map(vectorType -> dense, length -> 4, values -> List(0.32567051712389933, 0.04938266662867668, 0.6440677966101694, 0.4027777777777778))</td></tr><tr><td>Map(vectorType -> dense, length -> 4, values -> List(42.0, 19.5, 200.0, 4050.0))</td><td>Map(vectorType -> dense, length -> 4, values -> List(0.32567051712389933, 0.7901233724842132, 0.4745762711864407, 0.375))</td></tr><tr><td>Map(vectorType -> dense, length -> 4, values -> List(42.599998474121094, 13.699999809265137, 213.0, 4950.0))</td><td>Map(vectorType -> dense, length -> 4, values -> List(0.34865896575220134, 0.07407399994301501, 0.6949152542372882, 0.625))</td></tr><tr><td>Map(vectorType -> dense, length -> 4, values -> List(42.70000076293945, 13.699999809265137, 208.0, 3950.0))</td><td>Map(vectorType -> dense, length -> 4, values -> List(0.35249047129491295, 0.07407399994301501, 0.6101694915254238, 0.3472222222222222))</td></tr><tr><td>Map(vectorType -> dense, length -> 4, values -> List(42.70000076293945, 18.299999237060547, 196.0, 4075.0))</td><td>Map(vectorType -> dense, length -> 4, values -> List(0.35249047129491295, 0.6419751371230543, 0.4067796610169492, 0.3819444444444444))</td></tr><tr><td>Map(vectorType -> dense, length -> 4, values -> List(42.900001525878906, 13.100000381469727, 215.0, 5000.0))</td><td>Map(vectorType -> dense, length -> 4, values -> List(0.3601533362233443, 0.0, 0.7288135593220338, 0.6388888888888888))</td></tr><tr><td>Map(vectorType -> dense, length -> 4, values -> List(43.20000076293945, 19.0, 197.0, 4775.0))</td><td>Map(vectorType -> dense, length -> 4, values -> List(0.37164756053749526, 0.7283949803295852, 0.423728813559322, 0.5763888888888888))</td></tr><tr><td>Map(vectorType -> dense, length -> 4, values -> List(43.29999923706055, 13.399999618530273, 209.0, 4400.0))</td><td>Map(vectorType -> dense, length -> 4, values -> List(0.37547891992321497, 0.03703694110272532, 0.6271186440677966, 0.4722222222222222))</td></tr><tr><td>Map(vectorType -> dense, length -> 4, values -> List(43.29999923706055, 14.0, 208.0, 4575.0))</td><td>Map(vectorType -> dense, length -> 4, values -> List(0.37547891992321497, 0.11111105878330473, 0.6101694915254238, 0.5208333333333334))</td></tr><tr><td>Map(vectorType -> dense, length -> 4, values -> List(43.599998474121094, 13.899999618530273, 217.0, 4900.0))</td><td>Map(vectorType -> dense, length -> 4, values -> List(0.386973144237366, 0.09876533325735336, 0.7627118644067796, 0.6111111111111112))</td></tr><tr><td>Map(vectorType -> dense, length -> 4, values -> List(43.79999923706055, 13.899999618530273, 208.0, 4300.0))</td><td>Map(vectorType -> dense, length -> 4, values -> List(0.3946360091657973, 0.09876533325735336, 0.6101694915254238, 0.4444444444444444))</td></tr><tr><td>Map(vectorType -> dense, length -> 4, values -> List(44.5, 14.300000190734863, 216.0, 4100.0))</td><td>Map(vectorType -> dense, length -> 4, values -> List(0.4214559633368109, 0.14814811762359442, 0.7457627118644068, 0.3888888888888889))</td></tr><tr><td>Map(vectorType -> dense, length -> 4, values -> List(44.5, 15.699999809265137, 217.0, 4875.0))</td><td>Map(vectorType -> dense, length -> 4, values -> List(0.4214559633368109, 0.32098756856152716, 0.7627118644067796, 0.6041666666666666))</td></tr><tr><td>Map(vectorType -> dense, length -> 4, values -> List(44.900001525878906, 13.800000190734863, 212.0, 4750.0))</td><td>Map(vectorType -> dense, length -> 4, values -> List(0.43678169319367355, 0.08641972546896638, 0.6779661016949152, 0.5694444444444444))</td></tr><tr><td>Map(vectorType -> dense, length -> 4, values -> List(45.0, 15.399999618530273, 220.0, 5050.0))</td><td>Map(vectorType -> dense, length -> 4, values -> List(0.4406130525793932, 0.2839505097212375, 0.8135593220338984, 0.6527777777777778))</td></tr><tr><td>Map(vectorType -> dense, length -> 4, values -> List(45.099998474121094, 14.399999618530273, 210.0, 4400.0))</td><td>Map(vectorType -> dense, length -> 4, values -> List(0.4444444119651129, 0.1604937254119814, 0.6440677966101694, 0.4722222222222222))</td></tr><tr><td>Map(vectorType -> dense, length -> 4, values -> List(45.099998474121094, 14.5, 207.0, 5050.0))</td><td>Map(vectorType -> dense, length -> 4, values -> List(0.4444444119651129, 0.17283945093793276, 0.5932203389830508, 0.6527777777777778))</td></tr><tr><td>Map(vectorType -> dense, length -> 4, values -> List(45.099998474121094, 14.5, 215.0, 5000.0))</td><td>Map(vectorType -> dense, length -> 4, values -> List(0.4444444119651129, 0.17283945093793276, 0.7288135593220338, 0.6388888888888888))</td></tr><tr><td>Map(vectorType -> dense, length -> 4, values -> List(45.20000076293945, 13.800000190734863, 215.0, 4750.0))</td><td>Map(vectorType -> dense, length -> 4, values -> List(0.44827591750782453, 0.08641972546896638, 0.7288135593220338, 0.5694444444444444))</td></tr><tr><td>Map(vectorType -> dense, length -> 4, values -> List(45.20000076293945, 14.800000190734863, 212.0, 5200.0))</td><td>Map(vectorType -> dense, length -> 4, values -> List(0.44827591750782453, 0.20987650977822245, 0.6779661016949152, 0.6944444444444444))</td></tr><tr><td>Map(vectorType -> dense, length -> 4, values -> List(45.29999923706055, 13.699999809265137, 210.0, 4300.0))</td><td>Map(vectorType -> dense, length -> 4, values -> List(0.45210727689354424, 0.07407399994301501, 0.6440677966101694, 0.4444444444444444))</td></tr><tr><td>Map(vectorType -> dense, length -> 4, values -> List(45.29999923706055, 13.800000190734863, 208.0, 4200.0))</td><td>Map(vectorType -> dense, length -> 4, values -> List(0.45210727689354424, 0.08641972546896638, 0.6101694915254238, 0.4166666666666667))</td></tr><tr><td>Map(vectorType -> dense, length -> 4, values -> List(45.400001525878906, 14.600000381469727, 211.0, 4800.0))</td><td>Map(vectorType -> dense, length -> 4, values -> List(0.45593878243625585, 0.1851851764638841, 0.6610169491525424, 0.5833333333333334))</td></tr><tr><td>Map(vectorType -> dense, length -> 4, values -> List(45.5, 13.899999618530273, 210.0, 4200.0))</td><td>Map(vectorType -> dense, length -> 4, values -> List(0.4597701418219755, 0.09876533325735336, 0.6440677966101694, 0.4166666666666667))</td></tr><tr><td>Map(vectorType -> dense, length -> 4, values -> List(45.5, 14.5, 212.0, 4750.0))</td><td>Map(vectorType -> dense, length -> 4, values -> List(0.4597701418219755, 0.17283945093793276, 0.6779661016949152, 0.5694444444444444))</td></tr><tr><td>Map(vectorType -> dense, length -> 4, values -> List(45.599998474121094, 20.299999237060547, 191.0, 4600.0))</td><td>Map(vectorType -> dense, length -> 4, values -> List(0.4636015012076952, 0.8888887057415665, 0.3220338983050847, 0.5277777777777778))</td></tr><tr><td>Map(vectorType -> dense, length -> 4, values -> List(45.70000076293945, 13.899999618530273, 214.0, 4400.0))</td><td>Map(vectorType -> dense, length -> 4, values -> List(0.46743300675040683, 0.09876533325735336, 0.711864406779661, 0.4722222222222222))</td></tr><tr><td>Map(vectorType -> dense, length -> 4, values -> List(45.79999923706055, 14.199999809265137, 219.0, 4700.0))</td><td>Map(vectorType -> dense, length -> 4, values -> List(0.47126436613612654, 0.13580239209764305, 0.7966101694915254, 0.5555555555555556))</td></tr><tr><td>Map(vectorType -> dense, length -> 4, values -> List(46.099998474121094, 13.199999809265137, 211.0, 4500.0))</td><td>Map(vectorType -> dense, length -> 4, values -> List(0.4827585904502775, 0.012345607788386979, 0.6610169491525424, 0.5))</td></tr><tr><td>Map(vectorType -> dense, length -> 4, values -> List(46.20000076293945, 14.100000381469727, 217.0, 4375.0))</td><td>Map(vectorType -> dense, length -> 4, values -> List(0.48659009599298914, 0.12345678430925608, 0.7627118644067796, 0.4652777777777778))</td></tr><tr><td>Map(vectorType -> dense, length -> 4, values -> List(46.20000076293945, 14.399999618530273, 214.0, 4650.0))</td><td>Map(vectorType -> dense, length -> 4, values -> List(0.48659009599298914, 0.1604937254119814, 0.711864406779661, 0.5416666666666666))</td></tr><tr><td>Map(vectorType -> dense, length -> 4, values -> List(46.20000076293945, 14.5, 209.0, 4800.0))</td><td>Map(vectorType -> dense, length -> 4, values -> List(0.48659009599298914, 0.17283945093793276, 0.6271186440677966, 0.5833333333333334))</td></tr><tr><td>Map(vectorType -> dense, length -> 4, values -> List(46.20000076293945, 14.899999618530273, 221.0, 5300.0))</td><td>Map(vectorType -> dense, length -> 4, values -> List(0.48659009599298914, 0.22222211756660945, 0.8305084745762712, 0.7222222222222222))</td></tr><tr><td>Map(vectorType -> dense, length -> 4, values -> List(46.400001525878906, 15.0, 216.0, 4700.0))</td><td>Map(vectorType -> dense, length -> 4, values -> List(0.49425296092142046, 0.2345678430925608, 0.7457627118644068, 0.5555555555555556))</td></tr><tr><td>Map(vectorType -> dense, length -> 4, values -> List(46.5, 13.5, 210.0, 4550.0))</td><td>Map(vectorType -> dense, length -> 4, values -> List(0.49808432030714017, 0.04938266662867668, 0.6440677966101694, 0.5138888888888888))</td></tr><tr><td>Map(vectorType -> dense, length -> 4, values -> List(46.5, 14.399999618530273, 217.0, 4900.0))</td><td>Map(vectorType -> dense, length -> 4, values -> List(0.49808432030714017, 0.1604937254119814, 0.7627118644067796, 0.6111111111111112))</td></tr><tr><td>Map(vectorType -> dense, length -> 4, values -> List(46.5, 14.5, 213.0, 4400.0))</td><td>Map(vectorType -> dense, length -> 4, values -> List(0.49808432030714017, 0.17283945093793276, 0.6949152542372882, 0.4722222222222222))</td></tr><tr><td>Map(vectorType -> dense, length -> 4, values -> List(46.599998474121094, 14.199999809265137, 210.0, 4850.0))</td><td>Map(vectorType -> dense, length -> 4, values -> List(0.5019156796928599, 0.13580239209764305, 0.6440677966101694, 0.5972222222222222))</td></tr><tr><td>Map(vectorType -> dense, length -> 4, values -> List(46.70000076293945, 15.300000190734863, 219.0, 5200.0))</td><td>Map(vectorType -> dense, length -> 4, values -> List(0.5057471852355715, 0.2716049019328505, 0.7966101694915254, 0.6944444444444444))</td></tr><tr><td>Map(vectorType -> dense, length -> 4, values -> List(46.79999923706055, 14.300000190734863, 215.0, 4850.0))</td><td>Map(vectorType -> dense, length -> 4, values -> List(0.5095785446212912, 0.14814811762359442, 0.7288135593220338, 0.5972222222222222))</td></tr><tr><td>Map(vectorType -> dense, length -> 4, values -> List(46.79999923706055, 15.399999618530273, 215.0, 5150.0))</td><td>Map(vectorType -> dense, length -> 4, values -> List(0.5095785446212912, 0.2839505097212375, 0.7288135593220338, 0.6805555555555556))</td></tr><tr><td>Map(vectorType -> dense, length -> 4, values -> List(46.900001525878906, 14.600000381469727, 222.0, 4875.0))</td><td>Map(vectorType -> dense, length -> 4, values -> List(0.5134100501640028, 0.1851851764638841, 0.847457627118644, 0.6041666666666666))</td></tr><tr><td>Map(vectorType -> dense, length -> 4, values -> List(47.20000076293945, 13.699999809265137, 214.0, 4925.0))</td><td>Map(vectorType -> dense, length -> 4, values -> List(0.5249042744781538, 0.07407399994301501, 0.711864406779661, 0.6180555555555556))</td></tr><tr><td>Map(vectorType -> dense, length -> 4, values -> List(47.20000076293945, 15.5, 215.0, 4975.0))</td><td>Map(vectorType -> dense, length -> 4, values -> List(0.5249042744781538, 0.29629623524718884, 0.7288135593220338, 0.6319444444444444))</td></tr><tr><td>Map(vectorType -> dense, length -> 4, values -> List(47.29999923706055, 13.800000190734863, 216.0, 4725.0))</td><td>Map(vectorType -> dense, length -> 4, values -> List(0.5287356338638735, 0.08641972546896638, 0.7457627118644068, 0.5625))</td></tr><tr><td>Map(vectorType -> dense, length -> 4, values -> List(47.29999923706055, 15.300000190734863, 222.0, 5250.0))</td><td>Map(vectorType -> dense, length -> 4, values -> List(0.5287356338638735, 0.2716049019328505, 0.847457627118644, 0.7083333333333334))</td></tr><tr><td>Map(vectorType -> dense, length -> 4, values -> List(47.400001525878906, 14.600000381469727, 212.0, 4725.0))</td><td>Map(vectorType -> dense, length -> 4, values -> List(0.5325671394065851, 0.1851851764638841, 0.6779661016949152, 0.5625))</td></tr><tr><td>Map(vectorType -> dense, length -> 4, values -> List(47.5, 14.0, 212.0, 4875.0))</td><td>Map(vectorType -> dense, length -> 4, values -> List(0.5363984987923048, 0.11111105878330473, 0.6779661016949152, 0.6041666666666666))</td></tr><tr><td>Map(vectorType -> dense, length -> 4, values -> List(47.5, 14.199999809265137, 209.0, 4600.0))</td><td>Map(vectorType -> dense, length -> 4, values -> List(0.5363984987923048, 0.13580239209764305, 0.6271186440677966, 0.5277777777777778))</td></tr><tr><td>Map(vectorType -> dense, length -> 4, values -> List(47.5, 15.0, 218.0, 4950.0))</td><td>Map(vectorType -> dense, length -> 4, values -> List(0.5363984987923048, 0.2345678430925608, 0.7796610169491526, 0.625))</td></tr><tr><td>Map(vectorType -> dense, length -> 4, values -> List(47.70000076293945, 15.0, 216.0, 4750.0))</td><td>Map(vectorType -> dense, length -> 4, values -> List(0.5440613637207361, 0.2345678430925608, 0.7457627118644068, 0.5694444444444444))</td></tr><tr><td>Map(vectorType -> dense, length -> 4, values -> List(47.79999923706055, 15.0, 215.0, 5650.0))</td><td>Map(vectorType -> dense, length -> 4, values -> List(0.5478927231064558, 0.2345678430925608, 0.7288135593220338, 0.8194444444444444))</td></tr><tr><td>Map(vectorType -> dense, length -> 4, values -> List(48.099998474121094, 15.100000381469727, 209.0, 5500.0))</td><td>Map(vectorType -> dense, length -> 4, values -> List(0.5593869474206068, 0.24691356861851216, 0.6271186440677966, 0.7777777777777778))</td></tr><tr><td>Map(vectorType -> dense, length -> 4, values -> List(48.20000076293945, 15.600000381469727, 221.0, 5100.0))</td><td>Map(vectorType -> dense, length -> 4, values -> List(0.5632184529633184, 0.3086419607731402, 0.8305084745762712, 0.6666666666666666))</td></tr><tr><td>Map(vectorType -> dense, length -> 4, values -> List(48.400001525878906, 14.399999618530273, 203.0, 4625.0))</td><td>Map(vectorType -> dense, length -> 4, values -> List(0.5708813178917497, 0.1604937254119814, 0.5254237288135594, 0.5347222222222222))</td></tr><tr><td>Map(vectorType -> dense, length -> 4, values -> List(48.400001525878906, 14.600000381469727, 213.0, 5850.0))</td><td>Map(vectorType -> dense, length -> 4, values -> List(0.5708813178917497, 0.1851851764638841, 0.6949152542372882, 0.875))</td></tr><tr><td>Map(vectorType -> dense, length -> 4, values -> List(48.5, 15.0, 219.0, 4850.0))</td><td>Map(vectorType -> dense, length -> 4, values -> List(0.5747126772774694, 0.2345678430925608, 0.7966101694915254, 0.5972222222222222))</td></tr><tr><td>Map(vectorType -> dense, length -> 4, values -> List(48.70000076293945, 14.100000381469727, 210.0, 4450.0))</td><td>Map(vectorType -> dense, length -> 4, values -> List(0.5823755422059007, 0.12345678430925608, 0.6440677966101694, 0.4861111111111111))</td></tr><tr><td>Map(vectorType -> dense, length -> 4, values -> List(48.70000076293945, 15.100000381469727, 222.0, 5350.0))</td><td>Map(vectorType -> dense, length -> 4, values -> List(0.5823755422059007, 0.24691356861851216, 0.847457627118644, 0.7361111111111112))</td></tr><tr><td>Map(vectorType -> dense, length -> 4, values -> List(48.70000076293945, 15.699999809265137, 208.0, 5350.0))</td><td>Map(vectorType -> dense, length -> 4, values -> List(0.5823755422059007, 0.32098756856152716, 0.6101694915254238, 0.7361111111111112))</td></tr><tr><td>Map(vectorType -> dense, length -> 4, values -> List(49.0, 16.100000381469727, 216.0, 5550.0))</td><td>Map(vectorType -> dense, length -> 4, values -> List(0.5938697665200517, 0.3703703529277682, 0.7457627118644068, 0.7916666666666666))</td></tr><tr><td>Map(vectorType -> dense, length -> 4, values -> List(49.099998474121094, 14.5, 212.0, 4625.0))</td><td>Map(vectorType -> dense, length -> 4, values -> List(0.5977011259057714, 0.17283945093793276, 0.6779661016949152, 0.5347222222222222))</td></tr><tr><td>Map(vectorType -> dense, length -> 4, values -> List(49.20000076293945, 15.199999809265137, 221.0, 6300.0))</td><td>Map(vectorType -> dense, length -> 4, values -> List(0.601532631448483, 0.25925917640689916, 0.8305084745762712, 1.0))</td></tr><tr><td>Map(vectorType -> dense, length -> 4, values -> List(49.29999923706055, 15.699999809265137, 217.0, 5850.0))</td><td>Map(vectorType -> dense, length -> 4, values -> List(0.6053639908342028, 0.32098756856152716, 0.7627118644067796, 0.875))</td></tr><tr><td>Map(vectorType -> dense, length -> 4, values -> List(49.400001525878906, 15.800000190734863, 216.0, 4925.0))</td><td>Map(vectorType -> dense, length -> 4, values -> List(0.6091954963769144, 0.3333332940874785, 0.7457627118644068, 0.6180555555555556))</td></tr><tr><td>Map(vectorType -> dense, length -> 4, values -> List(49.5, 16.100000381469727, 224.0, 5650.0))</td><td>Map(vectorType -> dense, length -> 4, values -> List(0.613026855762634, 0.3703703529277682, 0.8813559322033898, 0.8194444444444444))</td></tr><tr><td>Map(vectorType -> dense, length -> 4, values -> List(49.5, 16.200000762939453, 229.0, 5800.0))</td><td>Map(vectorType -> dense, length -> 4, values -> List(0.613026855762634, 0.3827160784537196, 0.9661016949152542, 0.8611111111111112))</td></tr><tr><td>Map(vectorType -> dense, length -> 4, values -> List(49.599998474121094, 16.0, 225.0, 5700.0))</td><td>Map(vectorType -> dense, length -> 4, values -> List(0.6168582151483537, 0.3580246274018169, 0.8983050847457628, 0.8333333333333334))</td></tr><tr><td>Map(vectorType -> dense, length -> 4, values -> List(49.79999923706055, 15.899999618530273, 229.0, 5950.0))</td><td>Map(vectorType -> dense, length -> 4, values -> List(0.6245210800767851, 0.34567890187586553, 0.9661016949152542, 0.9027777777777778))</td></tr><tr><td>Map(vectorType -> dense, length -> 4, values -> List(49.79999923706055, 16.799999237060547, 230.0, 5700.0))</td><td>Map(vectorType -> dense, length -> 4, values -> List(0.6245210800767851, 0.4567899606591702, 0.9830508474576272, 0.8333333333333334))</td></tr><tr><td>Map(vectorType -> dense, length -> 4, values -> List(49.900001525878906, 16.100000381469727, 213.0, 5400.0))</td><td>Map(vectorType -> dense, length -> 4, values -> List(0.6283525856194967, 0.3703703529277682, 0.6949152542372882, 0.75))</td></tr><tr><td>Map(vectorType -> dense, length -> 4, values -> List(50.0, 15.199999809265137, 218.0, 5700.0))</td><td>Map(vectorType -> dense, length -> 4, values -> List(0.6321839450052164, 0.25925917640689916, 0.7796610169491526, 0.8333333333333334))</td></tr><tr><td>Map(vectorType -> dense, length -> 4, values -> List(50.0, 16.299999237060547, 230.0, 5700.0))</td><td>Map(vectorType -> dense, length -> 4, values -> List(0.6321839450052164, 0.3950615685045422, 0.9830508474576272, 0.8333333333333334))</td></tr><tr><td>Map(vectorType -> dense, length -> 4, values -> List(50.099998474121094, 15.0, 225.0, 5000.0))</td><td>Map(vectorType -> dense, length -> 4, values -> List(0.636015304390936, 0.2345678430925608, 0.8983050847457628, 0.6388888888888888))</td></tr><tr><td>Map(vectorType -> dense, length -> 4, values -> List(50.400001525878906, 15.300000190734863, 224.0, 5550.0))</td><td>Map(vectorType -> dense, length -> 4, values -> List(0.647509674862079, 0.2716049019328505, 0.8813559322033898, 0.7916666666666666))</td></tr><tr><td>Map(vectorType -> dense, length -> 4, values -> List(50.400001525878906, 15.699999809265137, 222.0, 5750.0))</td><td>Map(vectorType -> dense, length -> 4, values -> List(0.647509674862079, 0.32098756856152716, 0.847457627118644, 0.8472222222222222))</td></tr><tr><td>Map(vectorType -> dense, length -> 4, values -> List(50.5, 15.899999618530273, 225.0, 5400.0))</td><td>Map(vectorType -> dense, length -> 4, values -> List(0.6513410342477987, 0.34567890187586553, 0.8983050847457628, 0.75))</td></tr><tr><td>Map(vectorType -> dense, length -> 4, values -> List(50.70000076293945, 15.0, 223.0, 5550.0))</td><td>Map(vectorType -> dense, length -> 4, values -> List(0.65900389917623, 0.2345678430925608, 0.864406779661017, 0.7916666666666666))</td></tr><tr><td>Map(vectorType -> dense, length -> 4, values -> List(50.79999923706055, 17.299999237060547, 228.0, 5600.0))</td><td>Map(vectorType -> dense, length -> 4, values -> List(0.6628352585619497, 0.5185183528137983, 0.9491525423728814, 0.8055555555555556))</td></tr><tr><td>Map(vectorType -> dense, length -> 4, values -> List(51.099998474121094, 16.299999237060547, 220.0, 6000.0))</td><td>Map(vectorType -> dense, length -> 4, values -> List(0.6743294828761007, 0.3950615685045422, 0.8135593220338984, 0.9166666666666666))</td></tr><tr><td>Map(vectorType -> dense, length -> 4, values -> List(51.099998474121094, 16.5, 225.0, 5250.0))</td><td>Map(vectorType -> dense, length -> 4, values -> List(0.6743294828761007, 0.4197530195564449, 0.8983050847457628, 0.7083333333333334))</td></tr><tr><td>Map(vectorType -> dense, length -> 4, values -> List(51.29999923706055, 14.199999809265137, 218.0, 5300.0))</td><td>Map(vectorType -> dense, length -> 4, values -> List(0.681992347804532, 0.13580239209764305, 0.7796610169491526, 0.7222222222222222))</td></tr><tr><td>Map(vectorType -> dense, length -> 4, values -> List(52.099998474121094, 17.0, 230.0, 5550.0))</td><td>Map(vectorType -> dense, length -> 4, values -> List(0.7126436613612653, 0.48148141171107295, 0.9830508474576272, 0.7916666666666666))</td></tr><tr><td>Map(vectorType -> dense, length -> 4, values -> List(54.29999923706055, 15.699999809265137, 231.0, 5650.0))</td><td>Map(vectorType -> dense, length -> 4, values -> List(0.7969348832600259, 0.32098756856152716, 1.0, 0.8194444444444444))</td></tr><tr><td>Map(vectorType -> dense, length -> 4, values -> List(55.099998474121094, 16.0, 230.0, 5850.0))</td><td>Map(vectorType -> dense, length -> 4, values -> List(0.8275861968167592, 0.3580246274018169, 0.9830508474576272, 0.875))</td></tr><tr><td>Map(vectorType -> dense, length -> 4, values -> List(55.900001525878906, 17.0, 228.0, 5600.0))</td><td>Map(vectorType -> dense, length -> 4, values -> List(0.8582376565304844, 0.48148141171107295, 0.9491525423728814, 0.8055555555555556))</td></tr><tr><td>Map(vectorType -> dense, length -> 4, values -> List(59.599998474121094, 17.0, 230.0, 6050.0))</td><td>Map(vectorType -> dense, length -> 4, values -> List(1.0, 0.48148141171107295, 0.9830508474576272, 0.9305555555555556))</td></tr><tr><td>Map(vectorType -> dense, length -> 4, values -> List(34.0, 17.100000381469727, 185.0, 3400.0))</td><td>Map(vectorType -> dense, length -> 4, values -> List(0.019157089242582314, 0.4938271372370243, 0.22033898305084745, 0.19444444444444445))</td></tr><tr><td>Map(vectorType -> dense, length -> 4, values -> List(35.599998474121094, 17.5, 191.0, 3175.0))</td><td>Map(vectorType -> dense, length -> 4, values -> List(0.08045971635604895, 0.543209803865701, 0.3220338983050847, 0.13194444444444445))</td></tr><tr><td>Map(vectorType -> dense, length -> 4, values -> List(35.70000076293945, 18.0, 202.0, 3550.0))</td><td>Map(vectorType -> dense, length -> 4, values -> List(0.08429122189876057, 0.604938196020329, 0.5084745762711864, 0.2361111111111111))</td></tr><tr><td>Map(vectorType -> dense, length -> 4, values -> List(36.0, 17.100000381469727, 187.0, 3700.0))</td><td>Map(vectorType -> dense, length -> 4, values -> List(0.09578544621291157, 0.4938271372370243, 0.2542372881355932, 0.2777777777777778))</td></tr><tr><td>Map(vectorType -> dense, length -> 4, values -> List(36.0, 17.899999618530273, 190.0, 3450.0))</td><td>Map(vectorType -> dense, length -> 4, values -> List(0.09578544621291157, 0.5925924704943777, 0.3050847457627119, 0.20833333333333334))</td></tr><tr><td>Map(vectorType -> dense, length -> 4, values -> List(36.20000076293945, 17.299999237060547, 187.0, 3300.0))</td><td>Map(vectorType -> dense, length -> 4, values -> List(0.10344831114134288, 0.5185183528137983, 0.2542372881355932, 0.16666666666666666))</td></tr><tr><td>Map(vectorType -> dense, length -> 4, values -> List(36.29999923706055, 19.5, 190.0, 3800.0))</td><td>Map(vectorType -> dense, length -> 4, values -> List(0.10727967052706258, 0.7901233724842132, 0.3050847457627119, 0.3055555555555556))</td></tr><tr><td>Map(vectorType -> dense, length -> 4, values -> List(36.400001525878906, 17.0, 195.0, 3325.0))</td><td>Map(vectorType -> dense, length -> 4, values -> List(0.11111117606977418, 0.48148141171107295, 0.3898305084745763, 0.1736111111111111))</td></tr><tr><td>Map(vectorType -> dense, length -> 4, values -> List(36.5, 18.0, 182.0, 3150.0))</td><td>Map(vectorType -> dense, length -> 4, values -> List(0.11494253545549388, 0.604938196020329, 0.1694915254237288, 0.125))</td></tr><tr><td>Map(vectorType -> dense, length -> 4, values -> List(36.599998474121094, 18.399999618530273, 184.0, 3475.0))</td><td>Map(vectorType -> dense, length -> 4, values -> List(0.11877389484121359, 0.6543208626490057, 0.2033898305084746, 0.2152777777777778))</td></tr><tr><td>Map(vectorType -> dense, length -> 4, values -> List(37.0, 16.5, 185.0, 3400.0))</td><td>Map(vectorType -> dense, length -> 4, values -> List(0.1340996246980762, 0.4197530195564449, 0.22033898305084745, 0.19444444444444445))</td></tr><tr><td>Map(vectorType -> dense, length -> 4, values -> List(37.20000076293945, 18.100000381469727, 178.0, 3900.0))</td><td>Map(vectorType -> dense, length -> 4, values -> List(0.1417624896265075, 0.6172839215462804, 0.1016949152542373, 0.3333333333333333))</td></tr><tr><td>Map(vectorType -> dense, length -> 4, values -> List(37.29999923706055, 16.799999237060547, 192.0, 3000.0))</td><td>Map(vectorType -> dense, length -> 4, values -> List(0.14559384901222722, 0.4567899606591702, 0.3389830508474576, 0.08333333333333333))</td></tr><tr><td>Map(vectorType -> dense, length -> 4, values -> List(37.5, 18.5, 199.0, 4475.0))</td><td>Map(vectorType -> dense, length -> 4, values -> List(0.1532567139406585, 0.666666588174957, 0.4576271186440678, 0.4930555555555556))</td></tr><tr><td>Map(vectorType -> dense, length -> 4, values -> List(37.5, 18.899999618530273, 179.0, 2975.0))</td><td>Map(vectorType -> dense, length -> 4, values -> List(0.1532567139406585, 0.7160492548036338, 0.11864406779661017, 0.0763888888888889))</td></tr><tr><td>Map(vectorType -> dense, length -> 4, values -> List(37.599998474121094, 19.299999237060547, 181.0, 3300.0))</td><td>Map(vectorType -> dense, length -> 4, values -> List(0.15708807332637822, 0.7654319214323104, 0.15254237288135594, 0.16666666666666666))</td></tr><tr><td>Map(vectorType -> dense, length -> 4, values -> List(37.79999923706055, 18.100000381469727, 193.0, 3750.0))</td><td>Map(vectorType -> dense, length -> 4, values -> List(0.16475093825480952, 0.6172839215462804, 0.3559322033898305, 0.2916666666666667))</td></tr><tr><td>Map(vectorType -> dense, length -> 4, values -> List(38.099998474121094, 17.600000381469727, 187.0, 3425.0))</td><td>Map(vectorType -> dense, length -> 4, values -> List(0.17624516256896053, 0.5555555293916523, 0.2542372881355932, 0.2013888888888889))</td></tr><tr><td>Map(vectorType -> dense, length -> 4, values -> List(38.099998474121094, 18.600000381469727, 190.0, 3700.0))</td><td>Map(vectorType -> dense, length -> 4, values -> List(0.17624516256896053, 0.6790123137009084, 0.3050847457627119, 0.2777777777777778))</td></tr><tr><td>Map(vectorType -> dense, length -> 4, values -> List(39.20000076293945, 18.600000381469727, 190.0, 4250.0))</td><td>Map(vectorType -> dense, length -> 4, values -> List(0.21839084659683677, 0.6790123137009084, 0.3050847457627119, 0.4305555555555556))</td></tr><tr><td>Map(vectorType -> dense, length -> 4, values -> List(39.20000076293945, 21.100000381469727, 196.0, 4150.0))</td><td>Map(vectorType -> dense, length -> 4, values -> List(0.21839084659683677, 0.9876542744740486, 0.4067796610169492, 0.4027777777777778))</td></tr><tr><td>Map(vectorType -> dense, length -> 4, values -> List(39.5, 17.799999237060547, 188.0, 3300.0))</td><td>Map(vectorType -> dense, length -> 4, values -> List(0.22988507091098775, 0.5802467449684263, 0.2711864406779661, 0.16666666666666666))</td></tr><tr><td>Map(vectorType -> dense, length -> 4, values -> List(39.599998474121094, 18.100000381469727, 186.0, 4450.0))</td><td>Map(vectorType -> dense, length -> 4, values -> List(0.23371643029670747, 0.6172839215462804, 0.23728813559322035, 0.4861111111111111))</td></tr><tr><td>Map(vectorType -> dense, length -> 4, values -> List(39.599998474121094, 18.799999237060547, 190.0, 4600.0))</td><td>Map(vectorType -> dense, length -> 4, values -> List(0.23371643029670747, 0.7037035292776824, 0.3050847457627119, 0.5277777777777778))</td></tr><tr><td>Map(vectorType -> dense, length -> 4, values -> List(39.70000076293945, 17.899999618530273, 193.0, 4250.0))</td><td>Map(vectorType -> dense, length -> 4, values -> List(0.23754793583941908, 0.5925924704943777, 0.3559322033898305, 0.4305555555555556))</td></tr><tr><td>Map(vectorType -> dense, length -> 4, values -> List(39.79999923706055, 19.100000381469727, 184.0, 4650.0))</td><td>Map(vectorType -> dense, length -> 4, values -> List(0.24137929522513876, 0.7407407058555364, 0.2033898305084746, 0.5416666666666666))</td></tr><tr><td>Map(vectorType -> dense, length -> 4, values -> List(40.20000076293945, 17.100000381469727, 193.0, 3400.0))</td><td>Map(vectorType -> dense, length -> 4, values -> List(0.2567050250820014, 0.4938271372370243, 0.3559322033898305, 0.19444444444444445))</td></tr><tr><td>Map(vectorType -> dense, length -> 4, values -> List(40.29999923706055, 18.5, 196.0, 4350.0))</td><td>Map(vectorType -> dense, length -> 4, values -> List(0.2605363844677211, 0.666666588174957, 0.4067796610169492, 0.4583333333333333))</td></tr><tr><td>Map(vectorType -> dense, length -> 4, values -> List(40.599998474121094, 17.200000762939453, 187.0, 3475.0))</td><td>Map(vectorType -> dense, length -> 4, values -> List(0.2720306087818721, 0.5061728627629757, 0.2542372881355932, 0.2152777777777778))</td></tr><tr><td>Map(vectorType -> dense, length -> 4, values -> List(40.70000076293945, 17.0, 190.0, 3725.0))</td><td>Map(vectorType -> dense, length -> 4, values -> List(0.2758621143245837, 0.48148141171107295, 0.3050847457627119, 0.2847222222222222))</td></tr><tr><td>Map(vectorType -> dense, length -> 4, values -> List(40.79999923706055, 18.399999618530273, 195.0, 3900.0))</td><td>Map(vectorType -> dense, length -> 4, values -> List(0.2796934737103034, 0.6543208626490057, 0.3898305084745763, 0.3333333333333333))</td></tr><tr><td>Map(vectorType -> dense, length -> 4, values -> List(40.900001525878906, 16.600000381469727, 187.0, 3200.0))</td><td>Map(vectorType -> dense, length -> 4, values -> List(0.283524979253015, 0.43209874508239626, 0.2542372881355932, 0.1388888888888889))</td></tr><tr><td>Map(vectorType -> dense, length -> 4, values -> List(40.900001525878906, 18.899999618530273, 184.0, 3900.0))</td><td>Map(vectorType -> dense, length -> 4, values -> List(0.283524979253015, 0.7160492548036338, 0.2033898305084746, 0.3333333333333333))</td></tr><tr><td>Map(vectorType -> dense, length -> 4, values -> List(41.099998474121094, 17.5, 190.0, 3900.0))</td><td>Map(vectorType -> dense, length -> 4, values -> List(0.29118769802445443, 0.543209803865701, 0.3050847457627119, 0.3333333333333333))</td></tr><tr><td>Map(vectorType -> dense, length -> 4, values -> List(41.099998474121094, 18.100000381469727, 205.0, 4300.0))</td><td>Map(vectorType -> dense, length -> 4, values -> List(0.29118769802445443, 0.6172839215462804, 0.559322033898305, 0.4444444444444444))</td></tr><tr><td>Map(vectorType -> dense, length -> 4, values -> List(41.099998474121094, 19.0, 182.0, 3425.0))</td><td>Map(vectorType -> dense, length -> 4, values -> List(0.29118769802445443, 0.7283949803295852, 0.1694915254237288, 0.2013888888888889))</td></tr><tr><td>Map(vectorType -> dense, length -> 4, values -> List(42.20000076293945, 18.5, 180.0, 3550.0))</td><td>Map(vectorType -> dense, length -> 4, values -> List(0.33333338205233065, 0.666666588174957, 0.13559322033898305, 0.2361111111111111))</td></tr><tr><td>Map(vectorType -> dense, length -> 4, values -> List(42.29999923706055, 21.200000762939453, 191.0, 4150.0))</td><td>Map(vectorType -> dense, length -> 4, values -> List(0.33716474143805036, 1.0, 0.3220338983050847, 0.4027777777777778))</td></tr><tr><td>Map(vectorType -> dense, length -> 4, values -> List(42.400001525878906, 17.299999237060547, 181.0, 3600.0))</td><td>Map(vectorType -> dense, length -> 4, values -> List(0.340996246980762, 0.5185183528137983, 0.15254237288135594, 0.25))</td></tr><tr><td>Map(vectorType -> dense, length -> 4, values -> List(43.20000076293945, 16.600000381469727, 187.0, 2900.0))</td><td>Map(vectorType -> dense, length -> 4, values -> List(0.37164756053749526, 0.43209874508239626, 0.2542372881355932, 0.05555555555555555))</td></tr><tr><td>Map(vectorType -> dense, length -> 4, values -> List(43.5, 18.100000381469727, 202.0, 3400.0))</td><td>Map(vectorType -> dense, length -> 4, values -> List(0.3831417848516463, 0.6172839215462804, 0.5084745762711864, 0.19444444444444445))</td></tr><tr><td>Map(vectorType -> dense, length -> 4, values -> List(45.20000076293945, 17.799999237060547, 198.0, 3950.0))</td><td>Map(vectorType -> dense, length -> 4, values -> List(0.44827591750782453, 0.5802467449684263, 0.4406779661016949, 0.3472222222222222))</td></tr><tr><td>Map(vectorType -> dense, length -> 4, values -> List(45.599998474121094, 19.399999618530273, 194.0, 3525.0))</td><td>Map(vectorType -> dense, length -> 4, values -> List(0.4636015012076952, 0.7777776469582618, 0.3728813559322034, 0.22916666666666666))</td></tr><tr><td>Map(vectorType -> dense, length -> 4, values -> List(45.70000076293945, 17.0, 195.0, 3650.0))</td><td>Map(vectorType -> dense, length -> 4, values -> List(0.46743300675040683, 0.48148141171107295, 0.3898305084745763, 0.2638888888888889))</td></tr><tr><td>Map(vectorType -> dense, length -> 4, values -> List(45.70000076293945, 17.299999237060547, 193.0, 3600.0))</td><td>Map(vectorType -> dense, length -> 4, values -> List(0.46743300675040683, 0.5185183528137983, 0.3559322033898305, 0.25))</td></tr><tr><td>Map(vectorType -> dense, length -> 4, values -> List(45.900001525878906, 17.100000381469727, 190.0, 3575.0))</td><td>Map(vectorType -> dense, length -> 4, values -> List(0.47509587167883816, 0.4938271372370243, 0.3050847457627119, 0.24305555555555555))</td></tr><tr><td>Map(vectorType -> dense, length -> 4, values -> List(46.0, 18.899999618530273, 195.0, 4150.0))</td><td>Map(vectorType -> dense, length -> 4, values -> List(0.47892723106455787, 0.7160492548036338, 0.3898305084745763, 0.4027777777777778))</td></tr><tr><td>Map(vectorType -> dense, length -> 4, values -> List(46.099998474121094, 18.200000762939453, 178.0, 3250.0))</td><td>Map(vectorType -> dense, length -> 4, values -> List(0.4827585904502775, 0.6296296470722318, 0.1016949152542373, 0.1527777777777778))</td></tr><tr><td>Map(vectorType -> dense, length -> 4, values -> List(46.20000076293945, 17.5, 187.0, 3650.0))</td><td>Map(vectorType -> dense, length -> 4, values -> List(0.48659009599298914, 0.543209803865701, 0.2542372881355932, 0.2638888888888889))</td></tr><tr><td>Map(vectorType -> dense, length -> 4, values -> List(46.400001525878906, 17.799999237060547, 191.0, 3700.0))</td><td>Map(vectorType -> dense, length -> 4, values -> List(0.49425296092142046, 0.5802467449684263, 0.3220338983050847, 0.2777777777777778))</td></tr><tr><td>Map(vectorType -> dense, length -> 4, values -> List(46.400001525878906, 18.600000381469727, 190.0, 3450.0))</td><td>Map(vectorType -> dense, length -> 4, values -> List(0.49425296092142046, 0.6790123137009084, 0.3050847457627119, 0.20833333333333334))</td></tr><tr><td>Map(vectorType -> dense, length -> 4, values -> List(46.5, 17.899999618530273, 192.0, 3500.0))</td><td>Map(vectorType -> dense, length -> 4, values -> List(0.49808432030714017, 0.5925924704943777, 0.3389830508474576, 0.2222222222222222))</td></tr><tr><td>Map(vectorType -> dense, length -> 4, values -> List(46.70000076293945, 17.899999618530273, 195.0, 3300.0))</td><td>Map(vectorType -> dense, length -> 4, values -> List(0.5057471852355715, 0.5925924704943777, 0.3898305084745763, 0.16666666666666666))</td></tr><tr><td>Map(vectorType -> dense, length -> 4, values -> List(46.79999923706055, 16.5, 189.0, 3650.0))</td><td>Map(vectorType -> dense, length -> 4, values -> List(0.5095785446212912, 0.4197530195564449, 0.288135593220339, 0.2638888888888889))</td></tr><tr><td>Map(vectorType -> dense, length -> 4, values -> List(46.900001525878906, 16.600000381469727, 192.0, 2700.0))</td><td>Map(vectorType -> dense, length -> 4, values -> List(0.5134100501640028, 0.43209874508239626, 0.3389830508474576, 0.0))</td></tr><tr><td>Map(vectorType -> dense, length -> 4, values -> List(47.0, 17.299999237060547, 185.0, 3700.0))</td><td>Map(vectorType -> dense, length -> 4, values -> List(0.5172414095497225, 0.5185183528137983, 0.22033898305084745, 0.2777777777777778))</td></tr><tr><td>Map(vectorType -> dense, length -> 4, values -> List(47.5, 16.799999237060547, 199.0, 3900.0))</td><td>Map(vectorType -> dense, length -> 4, values -> List(0.5363984987923048, 0.4567899606591702, 0.4576271186440678, 0.3333333333333333))</td></tr><tr><td>Map(vectorType -> dense, length -> 4, values -> List(47.599998474121094, 18.299999237060547, 195.0, 3850.0))</td><td>Map(vectorType -> dense, length -> 4, values -> List(0.5402298581780245, 0.6419751371230543, 0.3898305084745763, 0.3194444444444444))</td></tr><tr><td>Map(vectorType -> dense, length -> 4, values -> List(48.099998474121094, 16.399999618530273, 199.0, 3325.0))</td><td>Map(vectorType -> dense, length -> 4, values -> List(0.5593869474206068, 0.4074072940304936, 0.4576271186440678, 0.1736111111111111))</td></tr><tr><td>Map(vectorType -> dense, length -> 4, values -> List(48.5, 17.5, 191.0, 3400.0))</td><td>Map(vectorType -> dense, length -> 4, values -> List(0.5747126772774694, 0.543209803865701, 0.3220338983050847, 0.19444444444444445))</td></tr><tr><td>Map(vectorType -> dense, length -> 4, values -> List(49.0, 19.5, 210.0, 3950.0))</td><td>Map(vectorType -> dense, length -> 4, values -> List(0.5938697665200517, 0.7901233724842132, 0.6440677966101694, 0.3472222222222222))</td></tr><tr><td>Map(vectorType -> dense, length -> 4, values -> List(49.0, 19.600000381469727, 212.0, 4300.0))</td><td>Map(vectorType -> dense, length -> 4, values -> List(0.5938697665200517, 0.8024690980101645, 0.6779661016949152, 0.4444444444444444))</td></tr><tr><td>Map(vectorType -> dense, length -> 4, values -> List(49.29999923706055, 19.899999618530273, 203.0, 4050.0))</td><td>Map(vectorType -> dense, length -> 4, values -> List(0.6053639908342028, 0.8395060391128898, 0.5254237288135594, 0.375))</td></tr><tr><td>Map(vectorType -> dense, length -> 4, values -> List(49.70000076293945, 18.600000381469727, 195.0, 3600.0))</td><td>Map(vectorType -> dense, length -> 4, values -> List(0.6206897206910653, 0.6790123137009084, 0.3898305084745763, 0.25))</td></tr><tr><td>Map(vectorType -> dense, length -> 4, values -> List(50.0, 19.5, 196.0, 3900.0))</td><td>Map(vectorType -> dense, length -> 4, values -> List(0.6321839450052164, 0.7901233724842132, 0.4067796610169492, 0.3333333333333333))</td></tr><tr><td>Map(vectorType -> dense, length -> 4, values -> List(50.20000076293945, 18.700000762939453, 198.0, 3775.0))</td><td>Map(vectorType -> dense, length -> 4, values -> List(0.6398468099336476, 0.6913580392268598, 0.4406779661016949, 0.2986111111111111))</td></tr><tr><td>Map(vectorType -> dense, length -> 4, values -> List(50.20000076293945, 18.799999237060547, 202.0, 3800.0))</td><td>Map(vectorType -> dense, length -> 4, values -> List(0.6398468099336476, 0.7037035292776824, 0.5084745762711864, 0.3055555555555556))</td></tr><tr><td>Map(vectorType -> dense, length -> 4, values -> List(50.5, 18.399999618530273, 200.0, 3400.0))</td><td>Map(vectorType -> dense, length -> 4, values -> List(0.6513410342477987, 0.6543208626490057, 0.4745762711864407, 0.19444444444444445))</td></tr><tr><td>Map(vectorType -> dense, length -> 4, values -> List(50.5, 19.600000381469727, 201.0, 4050.0))</td><td>Map(vectorType -> dense, length -> 4, values -> List(0.6513410342477987, 0.8024690980101645, 0.4915254237288136, 0.375))</td></tr><tr><td>Map(vectorType -> dense, length -> 4, values -> List(50.599998474121094, 19.399999618530273, 193.0, 3800.0))</td><td>Map(vectorType -> dense, length -> 4, values -> List(0.6551723936335184, 0.7777776469582618, 0.3559322033898305, 0.3055555555555556))</td></tr><tr><td>Map(vectorType -> dense, length -> 4, values -> List(50.70000076293945, 19.700000762939453, 203.0, 4050.0))</td><td>Map(vectorType -> dense, length -> 4, values -> List(0.65900389917623, 0.8148148235361159, 0.5254237288135594, 0.375))</td></tr><tr><td>Map(vectorType -> dense, length -> 4, values -> List(50.79999923706055, 18.5, 201.0, 4450.0))</td><td>Map(vectorType -> dense, length -> 4, values -> List(0.6628352585619497, 0.666666588174957, 0.4915254237288136, 0.4861111111111111))</td></tr><tr><td>Map(vectorType -> dense, length -> 4, values -> List(50.79999923706055, 19.0, 210.0, 4100.0))</td><td>Map(vectorType -> dense, length -> 4, values -> List(0.6628352585619497, 0.7283949803295852, 0.6440677966101694, 0.3888888888888889))</td></tr><tr><td>Map(vectorType -> dense, length -> 4, values -> List(50.900001525878906, 17.899999618530273, 196.0, 3675.0))</td><td>Map(vectorType -> dense, length -> 4, values -> List(0.6666667641046613, 0.5925924704943777, 0.4067796610169492, 0.2708333333333333))</td></tr><tr><td>Map(vectorType -> dense, length -> 4, values -> List(50.900001525878906, 19.100000381469727, 196.0, 3550.0))</td><td>Map(vectorType -> dense, length -> 4, values -> List(0.6666667641046613, 0.7407407058555364, 0.4067796610169492, 0.2361111111111111))</td></tr><tr><td>Map(vectorType -> dense, length -> 4, values -> List(51.0, 18.799999237060547, 203.0, 4100.0))</td><td>Map(vectorType -> dense, length -> 4, values -> List(0.670498123490381, 0.7037035292776824, 0.5254237288135594, 0.3888888888888889))</td></tr><tr><td>Map(vectorType -> dense, length -> 4, values -> List(51.29999923706055, 18.200000762939453, 197.0, 3750.0))</td><td>Map(vectorType -> dense, length -> 4, values -> List(0.681992347804532, 0.6296296470722318, 0.423728813559322, 0.2916666666666667))</td></tr><tr><td>Map(vectorType -> dense, length -> 4, values -> List(51.29999923706055, 19.899999618530273, 198.0, 3700.0))</td><td>Map(vectorType -> dense, length -> 4, values -> List(0.681992347804532, 0.8395060391128898, 0.4406779661016949, 0.2777777777777778))</td></tr><tr><td>Map(vectorType -> dense, length -> 4, values -> List(51.400001525878906, 19.0, 201.0, 3950.0))</td><td>Map(vectorType -> dense, length -> 4, values -> List(0.6858238533472436, 0.7283949803295852, 0.4915254237288136, 0.3472222222222222))</td></tr><tr><td>Map(vectorType -> dense, length -> 4, values -> List(51.5, 18.700000762939453, 187.0, 3250.0))</td><td>Map(vectorType -> dense, length -> 4, values -> List(0.6896552127329633, 0.6913580392268598, 0.2542372881355932, 0.1527777777777778))</td></tr><tr><td>Map(vectorType -> dense, length -> 4, values -> List(51.70000076293945, 20.299999237060547, 194.0, 3775.0))</td><td>Map(vectorType -> dense, length -> 4, values -> List(0.6973180776613946, 0.8888887057415665, 0.3728813559322034, 0.2986111111111111))</td></tr><tr><td>Map(vectorType -> dense, length -> 4, values -> List(52.0, 20.700000762939453, 210.0, 4800.0))</td><td>Map(vectorType -> dense, length -> 4, values -> List(0.7088123019755456, 0.938271607845372, 0.6440677966101694, 0.5833333333333334))</td></tr><tr><td>Map(vectorType -> dense, length -> 4, values -> List(52.70000076293945, 19.799999237060547, 197.0, 3725.0))</td><td>Map(vectorType -> dense, length -> 4, values -> List(0.7356322561465592, 0.8271603135869384, 0.423728813559322, 0.2847222222222222))</td></tr><tr><td>Map(vectorType -> dense, length -> 4, values -> List(53.5, 19.899999618530273, 205.0, 4500.0))</td><td>Map(vectorType -> dense, length -> 4, values -> List(0.7662835697032926, 0.8395060391128898, 0.559322033898305, 0.5))</td></tr><tr><td>Map(vectorType -> dense, length -> 4, values -> List(54.20000076293945, 20.799999237060547, 201.0, 4300.0))</td><td>Map(vectorType -> dense, length -> 4, values -> List(0.7931035238743062, 0.9506170978961945, 0.4915254237288136, 0.4444444444444444))</td></tr><tr><td>Map(vectorType -> dense, length -> 4, values -> List(55.79999923706055, 19.799999237060547, 207.0, 4000.0))</td><td>Map(vectorType -> dense, length -> 4, values -> List(0.8544061509877728, 0.8271603135869384, 0.5932203389830508, 0.3611111111111111))</td></tr><tr><td>Map(vectorType -> dense, length -> 4, values -> List(58.0, 17.799999237060547, 181.0, 3700.0))</td><td>Map(vectorType -> dense, length -> 4, values -> List(0.9386973728865334, 0.5802467449684263, 0.15254237288135594, 0.2777777777777778))</td></tr><tr><td>Map(vectorType -> dense, length -> 4, values -> List(33.5, 19.0, 190.0, 3600.0))</td><td>Map(vectorType -> dense, length -> 4, values -> List(0.0, 0.7283949803295852, 0.3050847457627119, 0.25))</td></tr><tr><td>Map(vectorType -> dense, length -> 4, values -> List(34.400001525878906, 18.399999618530273, 184.0, 3325.0))</td><td>Map(vectorType -> dense, length -> 4, values -> List(0.03448281909944493, 0.6543208626490057, 0.2033898305084746, 0.1736111111111111))</td></tr><tr><td>Map(vectorType -> dense, length -> 4, values -> List(34.599998474121094, 21.100000381469727, 198.0, 4400.0))</td><td>Map(vectorType -> dense, length -> 4, values -> List(0.04214553787088433, 0.9876542744740486, 0.4406779661016949, 0.4722222222222222))</td></tr><tr><td>Map(vectorType -> dense, length -> 4, values -> List(35.20000076293945, 15.899999618530273, 186.0, 3050.0))</td><td>Map(vectorType -> dense, length -> 4, values -> List(0.06513413265617825, 0.34567890187586553, 0.23728813559322035, 0.09722222222222222))</td></tr><tr><td>Map(vectorType -> dense, length -> 4, values -> List(35.5, 17.5, 190.0, 3700.0))</td><td>Map(vectorType -> dense, length -> 4, values -> List(0.07662835697032926, 0.543209803865701, 0.3050847457627119, 0.2777777777777778))</td></tr><tr><td>Map(vectorType -> dense, length -> 4, values -> List(35.70000076293945, 17.0, 189.0, 3350.0))</td><td>Map(vectorType -> dense, length -> 4, values -> List(0.08429122189876057, 0.48148141171107295, 0.288135593220339, 0.18055555555555555))</td></tr><tr><td>Map(vectorType -> dense, length -> 4, values -> List(35.900001525878906, 16.600000381469727, 190.0, 3050.0))</td><td>Map(vectorType -> dense, length -> 4, values -> List(0.09195408682719187, 0.43209874508239626, 0.3050847457627119, 0.09722222222222222))</td></tr><tr><td>Map(vectorType -> dense, length -> 4, values -> List(36.20000076293945, 16.100000381469727, 187.0, 3550.0))</td><td>Map(vectorType -> dense, length -> 4, values -> List(0.10344831114134288, 0.3703703529277682, 0.2542372881355932, 0.2361111111111111))</td></tr><tr><td>Map(vectorType -> dense, length -> 4, values -> List(36.599998474121094, 17.799999237060547, 185.0, 3700.0))</td><td>Map(vectorType -> dense, length -> 4, values -> List(0.11877389484121359, 0.5802467449684263, 0.22033898305084745, 0.2777777777777778))</td></tr><tr><td>Map(vectorType -> dense, length -> 4, values -> List(36.70000076293945, 19.299999237060547, 193.0, 3450.0))</td><td>Map(vectorType -> dense, length -> 4, values -> List(0.12260540038392519, 0.7654319214323104, 0.3559322033898305, 0.20833333333333334))</td></tr><tr><td>Map(vectorType -> dense, length -> 4, values -> List(37.20000076293945, 19.399999618530273, 184.0, 3900.0))</td><td>Map(vectorType -> dense, length -> 4, values -> List(0.1417624896265075, 0.7777776469582618, 0.2033898305084746, 0.3333333333333333))</td></tr><tr><td>Map(vectorType -> dense, length -> 4, values -> List(37.79999923706055, 17.299999237060547, 180.0, 3700.0))</td><td>Map(vectorType -> dense, length -> 4, values -> List(0.16475093825480952, 0.5185183528137983, 0.13559322033898305, 0.2777777777777778))</td></tr><tr><td>Map(vectorType -> dense, length -> 4, values -> List(38.5, 17.899999618530273, 190.0, 3325.0))</td><td>Map(vectorType -> dense, length -> 4, values -> List(0.19157089242582315, 0.5925924704943777, 0.3050847457627119, 0.1736111111111111))</td></tr><tr><td>Map(vectorType -> dense, length -> 4, values -> List(38.599998474121094, 21.200000762939453, 191.0, 3800.0))</td><td>Map(vectorType -> dense, length -> 4, values -> List(0.19540225181154283, 1.0, 0.3220338983050847, 0.3055555555555556))</td></tr><tr><td>Map(vectorType -> dense, length -> 4, values -> List(38.70000076293945, 19.0, 195.0, 3450.0))</td><td>Map(vectorType -> dense, length -> 4, values -> List(0.19923375735425444, 0.7283949803295852, 0.3898305084745763, 0.20833333333333334))</td></tr><tr><td>Map(vectorType -> dense, length -> 4, values -> List(38.79999923706055, 17.600000381469727, 191.0, 3275.0))</td><td>Map(vectorType -> dense, length -> 4, values -> List(0.20306511673997416, 0.5555555293916523, 0.3220338983050847, 0.1597222222222222))</td></tr><tr><td>Map(vectorType -> dense, length -> 4, values -> List(39.0, 17.100000381469727, 191.0, 3050.0))</td><td>Map(vectorType -> dense, length -> 4, values -> List(0.21072798166840545, 0.4938271372370243, 0.3220338983050847, 0.09722222222222222))</td></tr><tr><td>Map(vectorType -> dense, length -> 4, values -> List(39.099998474121094, 18.700000762939453, 181.0, 3750.0))</td><td>Map(vectorType -> dense, length -> 4, values -> List(0.21455934105412516, 0.6913580392268598, 0.15254237288135594, 0.2916666666666667))</td></tr><tr><td>Map(vectorType -> dense, length -> 4, values -> List(39.20000076293945, 19.600000381469727, 195.0, 4675.0))</td><td>Map(vectorType -> dense, length -> 4, values -> List(0.21839084659683677, 0.8024690980101645, 0.3898305084745763, 0.5486111111111112))</td></tr><tr><td>Map(vectorType -> dense, length -> 4, values -> List(39.29999923706055, 20.600000381469727, 190.0, 3650.0))</td><td>Map(vectorType -> dense, length -> 4, values -> List(0.22222220598255646, 0.9259258823194206, 0.3050847457627119, 0.2638888888888889))</td></tr><tr><td>Map(vectorType -> dense, length -> 4, values -> List(39.5, 17.399999618530273, 186.0, 3800.0))</td><td>Map(vectorType -> dense, length -> 4, values -> List(0.22988507091098775, 0.5308640783397497, 0.23728813559322035, 0.3055555555555556))</td></tr><tr><td>Map(vectorType -> dense, length -> 4, values -> List(39.599998474121094, 17.200000762939453, 196.0, 3550.0))</td><td>Map(vectorType -> dense, length -> 4, values -> List(0.23371643029670747, 0.5061728627629757, 0.4067796610169492, 0.2361111111111111))</td></tr><tr><td>Map(vectorType -> dense, length -> 4, values -> List(39.70000076293945, 18.399999618530273, 190.0, 3900.0))</td><td>Map(vectorType -> dense, length -> 4, values -> List(0.23754793583941908, 0.6543208626490057, 0.3050847457627119, 0.3333333333333333))</td></tr><tr><td>Map(vectorType -> dense, length -> 4, values -> List(40.20000076293945, 17.0, 176.0, 3450.0))</td><td>Map(vectorType -> dense, length -> 4, values -> List(0.2567050250820014, 0.48148141171107295, 0.06779661016949153, 0.20833333333333334))</td></tr><tr><td>Map(vectorType -> dense, length -> 4, values -> List(40.29999923706055, 18.0, 195.0, 3250.0))</td><td>Map(vectorType -> dense, length -> 4, values -> List(0.2605363844677211, 0.604938196020329, 0.3898305084745763, 0.1527777777777778))</td></tr><tr><td>Map(vectorType -> dense, length -> 4, values -> List(41.400001525878906, 18.5, 202.0, 3875.0))</td><td>Map(vectorType -> dense, length -> 4, values -> List(0.3026820684955973, 0.666666588174957, 0.5084745762711864, 0.3263888888888889))</td></tr><tr><td>Map(vectorType -> dense, length -> 4, values -> List(41.5, 18.299999237060547, 195.0, 4300.0))</td><td>Map(vectorType -> dense, length -> 4, values -> List(0.306513427881317, 0.6419751371230543, 0.3898305084745763, 0.4444444444444444))</td></tr><tr><td>Map(vectorType -> dense, length -> 4, values -> List(41.79999923706055, 19.399999618530273, 198.0, 4450.0))</td><td>Map(vectorType -> dense, length -> 4, values -> List(0.318007652195468, 0.7777776469582618, 0.4406779661016949, 0.4861111111111111))</td></tr><tr><td>Map(vectorType -> dense, length -> 4, values -> List(42.0, 20.200000762939453, 190.0, 4250.0))</td><td>Map(vectorType -> dense, length -> 4, values -> List(0.32567051712389933, 0.8765432156907439, 0.3050847457627119, 0.4305555555555556))</td></tr><tr><td>Map(vectorType -> dense, length -> 4, values -> List(42.099998474121094, 19.100000381469727, 195.0, 4000.0))</td><td>Map(vectorType -> dense, length -> 4, values -> List(0.32950187650961904, 0.7407407058555364, 0.3898305084745763, 0.3611111111111111))</td></tr><tr><td>Map(vectorType -> dense, length -> 4, values -> List(42.5, 20.700000762939453, 197.0, 4500.0))</td><td>Map(vectorType -> dense, length -> 4, values -> List(0.34482760636648163, 0.938271607845372, 0.423728813559322, 0.5))</td></tr><tr><td>Map(vectorType -> dense, length -> 4, values -> List(42.79999923706055, 18.5, 195.0, 4250.0))</td><td>Map(vectorType -> dense, length -> 4, values -> List(0.35632183068063267, 0.666666588174957, 0.3898305084745763, 0.4305555555555556))</td></tr><tr><td>Map(vectorType -> dense, length -> 4, values -> List(42.900001525878906, 17.600000381469727, 196.0, 4700.0))</td><td>Map(vectorType -> dense, length -> 4, values -> List(0.3601533362233443, 0.5555555293916523, 0.4067796610169492, 0.5555555555555556))</td></tr><tr><td>Map(vectorType -> dense, length -> 4, values -> List(43.099998474121094, 19.200000762939453, 197.0, 3500.0))</td><td>Map(vectorType -> dense, length -> 4, values -> List(0.36781605499478365, 0.7530864313814878, 0.423728813559322, 0.2222222222222222))</td></tr><tr><td>Map(vectorType -> dense, length -> 4, values -> List(44.099998474121094, 18.0, 210.0, 4000.0))</td><td>Map(vectorType -> dense, length -> 4, values -> List(0.4061302334799483, 0.604938196020329, 0.6440677966101694, 0.3611111111111111))</td></tr><tr><td>Map(vectorType -> dense, length -> 4, values -> List(45.79999923706055, 18.899999618530273, 197.0, 4150.0))</td><td>Map(vectorType -> dense, length -> 4, values -> List(0.47126436613612654, 0.7160492548036338, 0.423728813559322, 0.4027777777777778))</td></tr></tbody></table></div>"
      ]
     },
     "metadata": {
      "application/vnd.databricks.v1+output": {
       "addedWidgets": {},
       "aggData": [],
       "aggError": "",
       "aggOverflow": false,
       "aggSchema": [],
       "aggSeriesLimitReached": false,
       "aggType": "",
       "arguments": {},
       "columnCustomDisplayInfos": {},
       "data": [
        [
         {
          "length": 4,
          "values": [
           34.5,
           18.100000381469727,
           187.0,
           2900.0
          ],
          "vectorType": "dense"
         },
         {
          "length": 4,
          "values": [
           0.03831417848516463,
           0.6172839215462804,
           0.2542372881355932,
           0.05555555555555555
          ],
          "vectorType": "dense"
         }
        ],
        [
         {
          "length": 4,
          "values": [
           35.0,
           17.899999618530273,
           190.0,
           3450.0
          ],
          "vectorType": "dense"
         },
         {
          "length": 4,
          "values": [
           0.05747126772774694,
           0.5925924704943777,
           0.3050847457627119,
           0.20833333333333334
          ],
          "vectorType": "dense"
         }
        ],
        [
         {
          "length": 4,
          "values": [
           35.0,
           17.899999618530273,
           192.0,
           3725.0
          ],
          "vectorType": "dense"
         },
         {
          "length": 4,
          "values": [
           0.05747126772774694,
           0.5925924704943777,
           0.3389830508474576,
           0.2847222222222222
          ],
          "vectorType": "dense"
         }
        ],
        [
         {
          "length": 4,
          "values": [
           35.5,
           16.200000762939453,
           195.0,
           3350.0
          ],
          "vectorType": "dense"
         },
         {
          "length": 4,
          "values": [
           0.07662835697032926,
           0.3827160784537196,
           0.3898305084745763,
           0.18055555555555555
          ],
          "vectorType": "dense"
         }
        ],
        [
         {
          "length": 4,
          "values": [
           35.70000076293945,
           16.899999618530273,
           185.0,
           3150.0
          ],
          "vectorType": "dense"
         },
         {
          "length": 4,
          "values": [
           0.08429122189876057,
           0.4691356861851216,
           0.22033898305084745,
           0.125
          ],
          "vectorType": "dense"
         }
        ],
        [
         {
          "length": 4,
          "values": [
           35.900001525878906,
           19.200000762939453,
           189.0,
           3800.0
          ],
          "vectorType": "dense"
         },
         {
          "length": 4,
          "values": [
           0.09195408682719187,
           0.7530864313814878,
           0.288135593220339,
           0.3055555555555556
          ],
          "vectorType": "dense"
         }
        ],
        [
         {
          "length": 4,
          "values": [
           36.400001525878906,
           17.100000381469727,
           184.0,
           2850.0
          ],
          "vectorType": "dense"
         },
         {
          "length": 4,
          "values": [
           0.11111117606977418,
           0.4938271372370243,
           0.2033898305084746,
           0.041666666666666664
          ],
          "vectorType": "dense"
         }
        ],
        [
         {
          "length": 4,
          "values": [
           36.5,
           16.600000381469727,
           181.0,
           2850.0
          ],
          "vectorType": "dense"
         },
         {
          "length": 4,
          "values": [
           0.11494253545549388,
           0.43209874508239626,
           0.15254237288135594,
           0.041666666666666664
          ],
          "vectorType": "dense"
         }
        ],
        [
         {
          "length": 4,
          "values": [
           37.599998474121094,
           17.0,
           185.0,
           3600.0
          ],
          "vectorType": "dense"
         },
         {
          "length": 4,
          "values": [
           0.15708807332637822,
           0.48148141171107295,
           0.22033898305084745,
           0.25
          ],
          "vectorType": "dense"
         }
        ],
        [
         {
          "length": 4,
          "values": [
           37.599998474121094,
           19.100000381469727,
           194.0,
           3750.0
          ],
          "vectorType": "dense"
         },
         {
          "length": 4,
          "values": [
           0.15708807332637822,
           0.7407407058555364,
           0.3728813559322034,
           0.2916666666666667
          ],
          "vectorType": "dense"
         }
        ],
        [
         {
          "length": 4,
          "values": [
           37.70000076293945,
           16.0,
           183.0,
           3075.0
          ],
          "vectorType": "dense"
         },
         {
          "length": 4,
          "values": [
           0.1609195788690898,
           0.3580246274018169,
           0.1864406779661017,
           0.10416666666666667
          ],
          "vectorType": "dense"
         }
        ],
        [
         {
          "length": 4,
          "values": [
           37.70000076293945,
           18.700000762939453,
           180.0,
           3600.0
          ],
          "vectorType": "dense"
         },
         {
          "length": 4,
          "values": [
           0.1609195788690898,
           0.6913580392268598,
           0.13559322033898305,
           0.25
          ],
          "vectorType": "dense"
         }
        ],
        [
         {
          "length": 4,
          "values": [
           37.79999923706055,
           18.299999237060547,
           174.0,
           3400.0
          ],
          "vectorType": "dense"
         },
         {
          "length": 4,
          "values": [
           0.16475093825480952,
           0.6419751371230543,
           0.03389830508474576,
           0.19444444444444445
          ],
          "vectorType": "dense"
         }
        ],
        [
         {
          "length": 4,
          "values": [
           37.79999923706055,
           20.0,
           190.0,
           4250.0
          ],
          "vectorType": "dense"
         },
         {
          "length": 4,
          "values": [
           0.16475093825480952,
           0.8518517646388412,
           0.3050847457627119,
           0.4305555555555556
          ],
          "vectorType": "dense"
         }
        ],
        [
         {
          "length": 4,
          "values": [
           37.900001525878906,
           18.600000381469727,
           172.0,
           3150.0
          ],
          "vectorType": "dense"
         },
         {
          "length": 4,
          "values": [
           0.16858244379752113,
           0.6790123137009084,
           0.0,
           0.125
          ],
          "vectorType": "dense"
         }
        ],
        [
         {
          "length": 4,
          "values": [
           38.099998474121094,
           16.5,
           198.0,
           3825.0
          ],
          "vectorType": "dense"
         },
         {
          "length": 4,
          "values": [
           0.17624516256896053,
           0.4197530195564449,
           0.4406779661016949,
           0.3125
          ],
          "vectorType": "dense"
         }
        ],
        [
         {
          "length": 4,
          "values": [
           38.099998474121094,
           17.0,
           181.0,
           3175.0
          ],
          "vectorType": "dense"
         },
         {
          "length": 4,
          "values": [
           0.17624516256896053,
           0.48148141171107295,
           0.15254237288135594,
           0.13194444444444445
          ],
          "vectorType": "dense"
         }
        ],
        [
         {
          "length": 4,
          "values": [
           38.20000076293945,
           20.0,
           190.0,
           3900.0
          ],
          "vectorType": "dense"
         },
         {
          "length": 4,
          "values": [
           0.18007666811167214,
           0.8518517646388412,
           0.3050847457627119,
           0.3333333333333333
          ],
          "vectorType": "dense"
         }
        ],
        [
         {
          "length": 4,
          "values": [
           38.599998474121094,
           17.200000762939453,
           199.0,
           3750.0
          ],
          "vectorType": "dense"
         },
         {
          "length": 4,
          "values": [
           0.19540225181154283,
           0.5061728627629757,
           0.4576271186440678,
           0.2916666666666667
          ],
          "vectorType": "dense"
         }
        ],
        [
         {
          "length": 4,
          "values": [
           38.79999923706055,
           17.200000762939453,
           180.0,
           3800.0
          ],
          "vectorType": "dense"
         },
         {
          "length": 4,
          "values": [
           0.20306511673997416,
           0.5061728627629757,
           0.13559322033898305,
           0.3055555555555556
          ],
          "vectorType": "dense"
         }
        ],
        [
         {
          "length": 4,
          "values": [
           39.599998474121094,
           20.700000762939453,
           191.0,
           3900.0
          ],
          "vectorType": "dense"
         },
         {
          "length": 4,
          "values": [
           0.23371643029670747,
           0.938271607845372,
           0.3220338983050847,
           0.3333333333333333
          ],
          "vectorType": "dense"
         }
        ],
        [
         {
          "length": 4,
          "values": [
           39.70000076293945,
           17.700000762939453,
           193.0,
           3200.0
          ],
          "vectorType": "dense"
         },
         {
          "length": 4,
          "values": [
           0.23754793583941908,
           0.5679012549176037,
           0.3559322033898305,
           0.1388888888888889
          ],
          "vectorType": "dense"
         }
        ],
        [
         {
          "length": 4,
          "values": [
           39.70000076293945,
           18.899999618530273,
           184.0,
           3550.0
          ],
          "vectorType": "dense"
         },
         {
          "length": 4,
          "values": [
           0.23754793583941908,
           0.7160492548036338,
           0.2033898305084746,
           0.2361111111111111
          ],
          "vectorType": "dense"
         }
        ],
        [
         {
          "length": 4,
          "values": [
           40.099998474121094,
           18.899999618530273,
           188.0,
           4300.0
          ],
          "vectorType": "dense"
         },
         {
          "length": 4,
          "values": [
           0.25287351953928977,
           0.7160492548036338,
           0.2711864406779661,
           0.4444444444444444
          ],
          "vectorType": "dense"
         }
        ],
        [
         {
          "length": 4,
          "values": [
           40.5,
           17.899999618530273,
           187.0,
           3200.0
          ],
          "vectorType": "dense"
         },
         {
          "length": 4,
          "values": [
           0.2681992493961524,
           0.5925924704943777,
           0.2542372881355932,
           0.1388888888888889
          ],
          "vectorType": "dense"
         }
        ],
        [
         {
          "length": 4,
          "values": [
           40.5,
           18.899999618530273,
           180.0,
           3950.0
          ],
          "vectorType": "dense"
         },
         {
          "length": 4,
          "values": [
           0.2681992493961524,
           0.7160492548036338,
           0.13559322033898305,
           0.3472222222222222
          ],
          "vectorType": "dense"
         }
        ],
        [
         {
          "length": 4,
          "values": [
           40.599998474121094,
           18.600000381469727,
           183.0,
           3550.0
          ],
          "vectorType": "dense"
         },
         {
          "length": 4,
          "values": [
           0.2720306087818721,
           0.6790123137009084,
           0.1864406779661017,
           0.2361111111111111
          ],
          "vectorType": "dense"
         }
        ],
        [
         {
          "length": 4,
          "values": [
           40.900001525878906,
           13.699999809265137,
           214.0,
           4650.0
          ],
          "vectorType": "dense"
         },
         {
          "length": 4,
          "values": [
           0.283524979253015,
           0.07407399994301501,
           0.711864406779661,
           0.5416666666666666
          ],
          "vectorType": "dense"
         }
        ],
        [
         {
          "length": 4,
          "values": [
           41.099998474121094,
           18.200000762939453,
           192.0,
           4050.0
          ],
          "vectorType": "dense"
         },
         {
          "length": 4,
          "values": [
           0.29118769802445443,
           0.6296296470722318,
           0.3389830508474576,
           0.375
          ],
          "vectorType": "dense"
         }
        ],
        [
         {
          "length": 4,
          "values": [
           41.29999923706055,
           21.100000381469727,
           195.0,
           4400.0
          ],
          "vectorType": "dense"
         },
         {
          "length": 4,
          "values": [
           0.2988505629528857,
           0.9876542744740486,
           0.3898305084745763,
           0.4722222222222222
          ],
          "vectorType": "dense"
         }
        ],
        [
         {
          "length": 4,
          "values": [
           41.400001525878906,
           18.600000381469727,
           191.0,
           3700.0
          ],
          "vectorType": "dense"
         },
         {
          "length": 4,
          "values": [
           0.3026820684955973,
           0.6790123137009084,
           0.3220338983050847,
           0.2777777777777778
          ],
          "vectorType": "dense"
         }
        ],
        [
         {
          "length": 4,
          "values": [
           41.599998474121094,
           18.0,
           192.0,
           3950.0
          ],
          "vectorType": "dense"
         },
         {
          "length": 4,
          "values": [
           0.31034478726703674,
           0.604938196020329,
           0.3389830508474576,
           0.3472222222222222
          ],
          "vectorType": "dense"
         }
        ],
        [
         {
          "length": 4,
          "values": [
           42.0,
           13.5,
           210.0,
           4150.0
          ],
          "vectorType": "dense"
         },
         {
          "length": 4,
          "values": [
           0.32567051712389933,
           0.04938266662867668,
           0.6440677966101694,
           0.4027777777777778
          ],
          "vectorType": "dense"
         }
        ],
        [
         {
          "length": 4,
          "values": [
           42.0,
           19.5,
           200.0,
           4050.0
          ],
          "vectorType": "dense"
         },
         {
          "length": 4,
          "values": [
           0.32567051712389933,
           0.7901233724842132,
           0.4745762711864407,
           0.375
          ],
          "vectorType": "dense"
         }
        ],
        [
         {
          "length": 4,
          "values": [
           42.599998474121094,
           13.699999809265137,
           213.0,
           4950.0
          ],
          "vectorType": "dense"
         },
         {
          "length": 4,
          "values": [
           0.34865896575220134,
           0.07407399994301501,
           0.6949152542372882,
           0.625
          ],
          "vectorType": "dense"
         }
        ],
        [
         {
          "length": 4,
          "values": [
           42.70000076293945,
           13.699999809265137,
           208.0,
           3950.0
          ],
          "vectorType": "dense"
         },
         {
          "length": 4,
          "values": [
           0.35249047129491295,
           0.07407399994301501,
           0.6101694915254238,
           0.3472222222222222
          ],
          "vectorType": "dense"
         }
        ],
        [
         {
          "length": 4,
          "values": [
           42.70000076293945,
           18.299999237060547,
           196.0,
           4075.0
          ],
          "vectorType": "dense"
         },
         {
          "length": 4,
          "values": [
           0.35249047129491295,
           0.6419751371230543,
           0.4067796610169492,
           0.3819444444444444
          ],
          "vectorType": "dense"
         }
        ],
        [
         {
          "length": 4,
          "values": [
           42.900001525878906,
           13.100000381469727,
           215.0,
           5000.0
          ],
          "vectorType": "dense"
         },
         {
          "length": 4,
          "values": [
           0.3601533362233443,
           0.0,
           0.7288135593220338,
           0.6388888888888888
          ],
          "vectorType": "dense"
         }
        ],
        [
         {
          "length": 4,
          "values": [
           43.20000076293945,
           19.0,
           197.0,
           4775.0
          ],
          "vectorType": "dense"
         },
         {
          "length": 4,
          "values": [
           0.37164756053749526,
           0.7283949803295852,
           0.423728813559322,
           0.5763888888888888
          ],
          "vectorType": "dense"
         }
        ],
        [
         {
          "length": 4,
          "values": [
           43.29999923706055,
           13.399999618530273,
           209.0,
           4400.0
          ],
          "vectorType": "dense"
         },
         {
          "length": 4,
          "values": [
           0.37547891992321497,
           0.03703694110272532,
           0.6271186440677966,
           0.4722222222222222
          ],
          "vectorType": "dense"
         }
        ],
        [
         {
          "length": 4,
          "values": [
           43.29999923706055,
           14.0,
           208.0,
           4575.0
          ],
          "vectorType": "dense"
         },
         {
          "length": 4,
          "values": [
           0.37547891992321497,
           0.11111105878330473,
           0.6101694915254238,
           0.5208333333333334
          ],
          "vectorType": "dense"
         }
        ],
        [
         {
          "length": 4,
          "values": [
           43.599998474121094,
           13.899999618530273,
           217.0,
           4900.0
          ],
          "vectorType": "dense"
         },
         {
          "length": 4,
          "values": [
           0.386973144237366,
           0.09876533325735336,
           0.7627118644067796,
           0.6111111111111112
          ],
          "vectorType": "dense"
         }
        ],
        [
         {
          "length": 4,
          "values": [
           43.79999923706055,
           13.899999618530273,
           208.0,
           4300.0
          ],
          "vectorType": "dense"
         },
         {
          "length": 4,
          "values": [
           0.3946360091657973,
           0.09876533325735336,
           0.6101694915254238,
           0.4444444444444444
          ],
          "vectorType": "dense"
         }
        ],
        [
         {
          "length": 4,
          "values": [
           44.5,
           14.300000190734863,
           216.0,
           4100.0
          ],
          "vectorType": "dense"
         },
         {
          "length": 4,
          "values": [
           0.4214559633368109,
           0.14814811762359442,
           0.7457627118644068,
           0.3888888888888889
          ],
          "vectorType": "dense"
         }
        ],
        [
         {
          "length": 4,
          "values": [
           44.5,
           15.699999809265137,
           217.0,
           4875.0
          ],
          "vectorType": "dense"
         },
         {
          "length": 4,
          "values": [
           0.4214559633368109,
           0.32098756856152716,
           0.7627118644067796,
           0.6041666666666666
          ],
          "vectorType": "dense"
         }
        ],
        [
         {
          "length": 4,
          "values": [
           44.900001525878906,
           13.800000190734863,
           212.0,
           4750.0
          ],
          "vectorType": "dense"
         },
         {
          "length": 4,
          "values": [
           0.43678169319367355,
           0.08641972546896638,
           0.6779661016949152,
           0.5694444444444444
          ],
          "vectorType": "dense"
         }
        ],
        [
         {
          "length": 4,
          "values": [
           45.0,
           15.399999618530273,
           220.0,
           5050.0
          ],
          "vectorType": "dense"
         },
         {
          "length": 4,
          "values": [
           0.4406130525793932,
           0.2839505097212375,
           0.8135593220338984,
           0.6527777777777778
          ],
          "vectorType": "dense"
         }
        ],
        [
         {
          "length": 4,
          "values": [
           45.099998474121094,
           14.399999618530273,
           210.0,
           4400.0
          ],
          "vectorType": "dense"
         },
         {
          "length": 4,
          "values": [
           0.4444444119651129,
           0.1604937254119814,
           0.6440677966101694,
           0.4722222222222222
          ],
          "vectorType": "dense"
         }
        ],
        [
         {
          "length": 4,
          "values": [
           45.099998474121094,
           14.5,
           207.0,
           5050.0
          ],
          "vectorType": "dense"
         },
         {
          "length": 4,
          "values": [
           0.4444444119651129,
           0.17283945093793276,
           0.5932203389830508,
           0.6527777777777778
          ],
          "vectorType": "dense"
         }
        ],
        [
         {
          "length": 4,
          "values": [
           45.099998474121094,
           14.5,
           215.0,
           5000.0
          ],
          "vectorType": "dense"
         },
         {
          "length": 4,
          "values": [
           0.4444444119651129,
           0.17283945093793276,
           0.7288135593220338,
           0.6388888888888888
          ],
          "vectorType": "dense"
         }
        ],
        [
         {
          "length": 4,
          "values": [
           45.20000076293945,
           13.800000190734863,
           215.0,
           4750.0
          ],
          "vectorType": "dense"
         },
         {
          "length": 4,
          "values": [
           0.44827591750782453,
           0.08641972546896638,
           0.7288135593220338,
           0.5694444444444444
          ],
          "vectorType": "dense"
         }
        ],
        [
         {
          "length": 4,
          "values": [
           45.20000076293945,
           14.800000190734863,
           212.0,
           5200.0
          ],
          "vectorType": "dense"
         },
         {
          "length": 4,
          "values": [
           0.44827591750782453,
           0.20987650977822245,
           0.6779661016949152,
           0.6944444444444444
          ],
          "vectorType": "dense"
         }
        ],
        [
         {
          "length": 4,
          "values": [
           45.29999923706055,
           13.699999809265137,
           210.0,
           4300.0
          ],
          "vectorType": "dense"
         },
         {
          "length": 4,
          "values": [
           0.45210727689354424,
           0.07407399994301501,
           0.6440677966101694,
           0.4444444444444444
          ],
          "vectorType": "dense"
         }
        ],
        [
         {
          "length": 4,
          "values": [
           45.29999923706055,
           13.800000190734863,
           208.0,
           4200.0
          ],
          "vectorType": "dense"
         },
         {
          "length": 4,
          "values": [
           0.45210727689354424,
           0.08641972546896638,
           0.6101694915254238,
           0.4166666666666667
          ],
          "vectorType": "dense"
         }
        ],
        [
         {
          "length": 4,
          "values": [
           45.400001525878906,
           14.600000381469727,
           211.0,
           4800.0
          ],
          "vectorType": "dense"
         },
         {
          "length": 4,
          "values": [
           0.45593878243625585,
           0.1851851764638841,
           0.6610169491525424,
           0.5833333333333334
          ],
          "vectorType": "dense"
         }
        ],
        [
         {
          "length": 4,
          "values": [
           45.5,
           13.899999618530273,
           210.0,
           4200.0
          ],
          "vectorType": "dense"
         },
         {
          "length": 4,
          "values": [
           0.4597701418219755,
           0.09876533325735336,
           0.6440677966101694,
           0.4166666666666667
          ],
          "vectorType": "dense"
         }
        ],
        [
         {
          "length": 4,
          "values": [
           45.5,
           14.5,
           212.0,
           4750.0
          ],
          "vectorType": "dense"
         },
         {
          "length": 4,
          "values": [
           0.4597701418219755,
           0.17283945093793276,
           0.6779661016949152,
           0.5694444444444444
          ],
          "vectorType": "dense"
         }
        ],
        [
         {
          "length": 4,
          "values": [
           45.599998474121094,
           20.299999237060547,
           191.0,
           4600.0
          ],
          "vectorType": "dense"
         },
         {
          "length": 4,
          "values": [
           0.4636015012076952,
           0.8888887057415665,
           0.3220338983050847,
           0.5277777777777778
          ],
          "vectorType": "dense"
         }
        ],
        [
         {
          "length": 4,
          "values": [
           45.70000076293945,
           13.899999618530273,
           214.0,
           4400.0
          ],
          "vectorType": "dense"
         },
         {
          "length": 4,
          "values": [
           0.46743300675040683,
           0.09876533325735336,
           0.711864406779661,
           0.4722222222222222
          ],
          "vectorType": "dense"
         }
        ],
        [
         {
          "length": 4,
          "values": [
           45.79999923706055,
           14.199999809265137,
           219.0,
           4700.0
          ],
          "vectorType": "dense"
         },
         {
          "length": 4,
          "values": [
           0.47126436613612654,
           0.13580239209764305,
           0.7966101694915254,
           0.5555555555555556
          ],
          "vectorType": "dense"
         }
        ],
        [
         {
          "length": 4,
          "values": [
           46.099998474121094,
           13.199999809265137,
           211.0,
           4500.0
          ],
          "vectorType": "dense"
         },
         {
          "length": 4,
          "values": [
           0.4827585904502775,
           0.012345607788386979,
           0.6610169491525424,
           0.5
          ],
          "vectorType": "dense"
         }
        ],
        [
         {
          "length": 4,
          "values": [
           46.20000076293945,
           14.100000381469727,
           217.0,
           4375.0
          ],
          "vectorType": "dense"
         },
         {
          "length": 4,
          "values": [
           0.48659009599298914,
           0.12345678430925608,
           0.7627118644067796,
           0.4652777777777778
          ],
          "vectorType": "dense"
         }
        ],
        [
         {
          "length": 4,
          "values": [
           46.20000076293945,
           14.399999618530273,
           214.0,
           4650.0
          ],
          "vectorType": "dense"
         },
         {
          "length": 4,
          "values": [
           0.48659009599298914,
           0.1604937254119814,
           0.711864406779661,
           0.5416666666666666
          ],
          "vectorType": "dense"
         }
        ],
        [
         {
          "length": 4,
          "values": [
           46.20000076293945,
           14.5,
           209.0,
           4800.0
          ],
          "vectorType": "dense"
         },
         {
          "length": 4,
          "values": [
           0.48659009599298914,
           0.17283945093793276,
           0.6271186440677966,
           0.5833333333333334
          ],
          "vectorType": "dense"
         }
        ],
        [
         {
          "length": 4,
          "values": [
           46.20000076293945,
           14.899999618530273,
           221.0,
           5300.0
          ],
          "vectorType": "dense"
         },
         {
          "length": 4,
          "values": [
           0.48659009599298914,
           0.22222211756660945,
           0.8305084745762712,
           0.7222222222222222
          ],
          "vectorType": "dense"
         }
        ],
        [
         {
          "length": 4,
          "values": [
           46.400001525878906,
           15.0,
           216.0,
           4700.0
          ],
          "vectorType": "dense"
         },
         {
          "length": 4,
          "values": [
           0.49425296092142046,
           0.2345678430925608,
           0.7457627118644068,
           0.5555555555555556
          ],
          "vectorType": "dense"
         }
        ],
        [
         {
          "length": 4,
          "values": [
           46.5,
           13.5,
           210.0,
           4550.0
          ],
          "vectorType": "dense"
         },
         {
          "length": 4,
          "values": [
           0.49808432030714017,
           0.04938266662867668,
           0.6440677966101694,
           0.5138888888888888
          ],
          "vectorType": "dense"
         }
        ],
        [
         {
          "length": 4,
          "values": [
           46.5,
           14.399999618530273,
           217.0,
           4900.0
          ],
          "vectorType": "dense"
         },
         {
          "length": 4,
          "values": [
           0.49808432030714017,
           0.1604937254119814,
           0.7627118644067796,
           0.6111111111111112
          ],
          "vectorType": "dense"
         }
        ],
        [
         {
          "length": 4,
          "values": [
           46.5,
           14.5,
           213.0,
           4400.0
          ],
          "vectorType": "dense"
         },
         {
          "length": 4,
          "values": [
           0.49808432030714017,
           0.17283945093793276,
           0.6949152542372882,
           0.4722222222222222
          ],
          "vectorType": "dense"
         }
        ],
        [
         {
          "length": 4,
          "values": [
           46.599998474121094,
           14.199999809265137,
           210.0,
           4850.0
          ],
          "vectorType": "dense"
         },
         {
          "length": 4,
          "values": [
           0.5019156796928599,
           0.13580239209764305,
           0.6440677966101694,
           0.5972222222222222
          ],
          "vectorType": "dense"
         }
        ],
        [
         {
          "length": 4,
          "values": [
           46.70000076293945,
           15.300000190734863,
           219.0,
           5200.0
          ],
          "vectorType": "dense"
         },
         {
          "length": 4,
          "values": [
           0.5057471852355715,
           0.2716049019328505,
           0.7966101694915254,
           0.6944444444444444
          ],
          "vectorType": "dense"
         }
        ],
        [
         {
          "length": 4,
          "values": [
           46.79999923706055,
           14.300000190734863,
           215.0,
           4850.0
          ],
          "vectorType": "dense"
         },
         {
          "length": 4,
          "values": [
           0.5095785446212912,
           0.14814811762359442,
           0.7288135593220338,
           0.5972222222222222
          ],
          "vectorType": "dense"
         }
        ],
        [
         {
          "length": 4,
          "values": [
           46.79999923706055,
           15.399999618530273,
           215.0,
           5150.0
          ],
          "vectorType": "dense"
         },
         {
          "length": 4,
          "values": [
           0.5095785446212912,
           0.2839505097212375,
           0.7288135593220338,
           0.6805555555555556
          ],
          "vectorType": "dense"
         }
        ],
        [
         {
          "length": 4,
          "values": [
           46.900001525878906,
           14.600000381469727,
           222.0,
           4875.0
          ],
          "vectorType": "dense"
         },
         {
          "length": 4,
          "values": [
           0.5134100501640028,
           0.1851851764638841,
           0.847457627118644,
           0.6041666666666666
          ],
          "vectorType": "dense"
         }
        ],
        [
         {
          "length": 4,
          "values": [
           47.20000076293945,
           13.699999809265137,
           214.0,
           4925.0
          ],
          "vectorType": "dense"
         },
         {
          "length": 4,
          "values": [
           0.5249042744781538,
           0.07407399994301501,
           0.711864406779661,
           0.6180555555555556
          ],
          "vectorType": "dense"
         }
        ],
        [
         {
          "length": 4,
          "values": [
           47.20000076293945,
           15.5,
           215.0,
           4975.0
          ],
          "vectorType": "dense"
         },
         {
          "length": 4,
          "values": [
           0.5249042744781538,
           0.29629623524718884,
           0.7288135593220338,
           0.6319444444444444
          ],
          "vectorType": "dense"
         }
        ],
        [
         {
          "length": 4,
          "values": [
           47.29999923706055,
           13.800000190734863,
           216.0,
           4725.0
          ],
          "vectorType": "dense"
         },
         {
          "length": 4,
          "values": [
           0.5287356338638735,
           0.08641972546896638,
           0.7457627118644068,
           0.5625
          ],
          "vectorType": "dense"
         }
        ],
        [
         {
          "length": 4,
          "values": [
           47.29999923706055,
           15.300000190734863,
           222.0,
           5250.0
          ],
          "vectorType": "dense"
         },
         {
          "length": 4,
          "values": [
           0.5287356338638735,
           0.2716049019328505,
           0.847457627118644,
           0.7083333333333334
          ],
          "vectorType": "dense"
         }
        ],
        [
         {
          "length": 4,
          "values": [
           47.400001525878906,
           14.600000381469727,
           212.0,
           4725.0
          ],
          "vectorType": "dense"
         },
         {
          "length": 4,
          "values": [
           0.5325671394065851,
           0.1851851764638841,
           0.6779661016949152,
           0.5625
          ],
          "vectorType": "dense"
         }
        ],
        [
         {
          "length": 4,
          "values": [
           47.5,
           14.0,
           212.0,
           4875.0
          ],
          "vectorType": "dense"
         },
         {
          "length": 4,
          "values": [
           0.5363984987923048,
           0.11111105878330473,
           0.6779661016949152,
           0.6041666666666666
          ],
          "vectorType": "dense"
         }
        ],
        [
         {
          "length": 4,
          "values": [
           47.5,
           14.199999809265137,
           209.0,
           4600.0
          ],
          "vectorType": "dense"
         },
         {
          "length": 4,
          "values": [
           0.5363984987923048,
           0.13580239209764305,
           0.6271186440677966,
           0.5277777777777778
          ],
          "vectorType": "dense"
         }
        ],
        [
         {
          "length": 4,
          "values": [
           47.5,
           15.0,
           218.0,
           4950.0
          ],
          "vectorType": "dense"
         },
         {
          "length": 4,
          "values": [
           0.5363984987923048,
           0.2345678430925608,
           0.7796610169491526,
           0.625
          ],
          "vectorType": "dense"
         }
        ],
        [
         {
          "length": 4,
          "values": [
           47.70000076293945,
           15.0,
           216.0,
           4750.0
          ],
          "vectorType": "dense"
         },
         {
          "length": 4,
          "values": [
           0.5440613637207361,
           0.2345678430925608,
           0.7457627118644068,
           0.5694444444444444
          ],
          "vectorType": "dense"
         }
        ],
        [
         {
          "length": 4,
          "values": [
           47.79999923706055,
           15.0,
           215.0,
           5650.0
          ],
          "vectorType": "dense"
         },
         {
          "length": 4,
          "values": [
           0.5478927231064558,
           0.2345678430925608,
           0.7288135593220338,
           0.8194444444444444
          ],
          "vectorType": "dense"
         }
        ],
        [
         {
          "length": 4,
          "values": [
           48.099998474121094,
           15.100000381469727,
           209.0,
           5500.0
          ],
          "vectorType": "dense"
         },
         {
          "length": 4,
          "values": [
           0.5593869474206068,
           0.24691356861851216,
           0.6271186440677966,
           0.7777777777777778
          ],
          "vectorType": "dense"
         }
        ],
        [
         {
          "length": 4,
          "values": [
           48.20000076293945,
           15.600000381469727,
           221.0,
           5100.0
          ],
          "vectorType": "dense"
         },
         {
          "length": 4,
          "values": [
           0.5632184529633184,
           0.3086419607731402,
           0.8305084745762712,
           0.6666666666666666
          ],
          "vectorType": "dense"
         }
        ],
        [
         {
          "length": 4,
          "values": [
           48.400001525878906,
           14.399999618530273,
           203.0,
           4625.0
          ],
          "vectorType": "dense"
         },
         {
          "length": 4,
          "values": [
           0.5708813178917497,
           0.1604937254119814,
           0.5254237288135594,
           0.5347222222222222
          ],
          "vectorType": "dense"
         }
        ],
        [
         {
          "length": 4,
          "values": [
           48.400001525878906,
           14.600000381469727,
           213.0,
           5850.0
          ],
          "vectorType": "dense"
         },
         {
          "length": 4,
          "values": [
           0.5708813178917497,
           0.1851851764638841,
           0.6949152542372882,
           0.875
          ],
          "vectorType": "dense"
         }
        ],
        [
         {
          "length": 4,
          "values": [
           48.5,
           15.0,
           219.0,
           4850.0
          ],
          "vectorType": "dense"
         },
         {
          "length": 4,
          "values": [
           0.5747126772774694,
           0.2345678430925608,
           0.7966101694915254,
           0.5972222222222222
          ],
          "vectorType": "dense"
         }
        ],
        [
         {
          "length": 4,
          "values": [
           48.70000076293945,
           14.100000381469727,
           210.0,
           4450.0
          ],
          "vectorType": "dense"
         },
         {
          "length": 4,
          "values": [
           0.5823755422059007,
           0.12345678430925608,
           0.6440677966101694,
           0.4861111111111111
          ],
          "vectorType": "dense"
         }
        ],
        [
         {
          "length": 4,
          "values": [
           48.70000076293945,
           15.100000381469727,
           222.0,
           5350.0
          ],
          "vectorType": "dense"
         },
         {
          "length": 4,
          "values": [
           0.5823755422059007,
           0.24691356861851216,
           0.847457627118644,
           0.7361111111111112
          ],
          "vectorType": "dense"
         }
        ],
        [
         {
          "length": 4,
          "values": [
           48.70000076293945,
           15.699999809265137,
           208.0,
           5350.0
          ],
          "vectorType": "dense"
         },
         {
          "length": 4,
          "values": [
           0.5823755422059007,
           0.32098756856152716,
           0.6101694915254238,
           0.7361111111111112
          ],
          "vectorType": "dense"
         }
        ],
        [
         {
          "length": 4,
          "values": [
           49.0,
           16.100000381469727,
           216.0,
           5550.0
          ],
          "vectorType": "dense"
         },
         {
          "length": 4,
          "values": [
           0.5938697665200517,
           0.3703703529277682,
           0.7457627118644068,
           0.7916666666666666
          ],
          "vectorType": "dense"
         }
        ],
        [
         {
          "length": 4,
          "values": [
           49.099998474121094,
           14.5,
           212.0,
           4625.0
          ],
          "vectorType": "dense"
         },
         {
          "length": 4,
          "values": [
           0.5977011259057714,
           0.17283945093793276,
           0.6779661016949152,
           0.5347222222222222
          ],
          "vectorType": "dense"
         }
        ],
        [
         {
          "length": 4,
          "values": [
           49.20000076293945,
           15.199999809265137,
           221.0,
           6300.0
          ],
          "vectorType": "dense"
         },
         {
          "length": 4,
          "values": [
           0.601532631448483,
           0.25925917640689916,
           0.8305084745762712,
           1.0
          ],
          "vectorType": "dense"
         }
        ],
        [
         {
          "length": 4,
          "values": [
           49.29999923706055,
           15.699999809265137,
           217.0,
           5850.0
          ],
          "vectorType": "dense"
         },
         {
          "length": 4,
          "values": [
           0.6053639908342028,
           0.32098756856152716,
           0.7627118644067796,
           0.875
          ],
          "vectorType": "dense"
         }
        ],
        [
         {
          "length": 4,
          "values": [
           49.400001525878906,
           15.800000190734863,
           216.0,
           4925.0
          ],
          "vectorType": "dense"
         },
         {
          "length": 4,
          "values": [
           0.6091954963769144,
           0.3333332940874785,
           0.7457627118644068,
           0.6180555555555556
          ],
          "vectorType": "dense"
         }
        ],
        [
         {
          "length": 4,
          "values": [
           49.5,
           16.100000381469727,
           224.0,
           5650.0
          ],
          "vectorType": "dense"
         },
         {
          "length": 4,
          "values": [
           0.613026855762634,
           0.3703703529277682,
           0.8813559322033898,
           0.8194444444444444
          ],
          "vectorType": "dense"
         }
        ],
        [
         {
          "length": 4,
          "values": [
           49.5,
           16.200000762939453,
           229.0,
           5800.0
          ],
          "vectorType": "dense"
         },
         {
          "length": 4,
          "values": [
           0.613026855762634,
           0.3827160784537196,
           0.9661016949152542,
           0.8611111111111112
          ],
          "vectorType": "dense"
         }
        ],
        [
         {
          "length": 4,
          "values": [
           49.599998474121094,
           16.0,
           225.0,
           5700.0
          ],
          "vectorType": "dense"
         },
         {
          "length": 4,
          "values": [
           0.6168582151483537,
           0.3580246274018169,
           0.8983050847457628,
           0.8333333333333334
          ],
          "vectorType": "dense"
         }
        ],
        [
         {
          "length": 4,
          "values": [
           49.79999923706055,
           15.899999618530273,
           229.0,
           5950.0
          ],
          "vectorType": "dense"
         },
         {
          "length": 4,
          "values": [
           0.6245210800767851,
           0.34567890187586553,
           0.9661016949152542,
           0.9027777777777778
          ],
          "vectorType": "dense"
         }
        ],
        [
         {
          "length": 4,
          "values": [
           49.79999923706055,
           16.799999237060547,
           230.0,
           5700.0
          ],
          "vectorType": "dense"
         },
         {
          "length": 4,
          "values": [
           0.6245210800767851,
           0.4567899606591702,
           0.9830508474576272,
           0.8333333333333334
          ],
          "vectorType": "dense"
         }
        ],
        [
         {
          "length": 4,
          "values": [
           49.900001525878906,
           16.100000381469727,
           213.0,
           5400.0
          ],
          "vectorType": "dense"
         },
         {
          "length": 4,
          "values": [
           0.6283525856194967,
           0.3703703529277682,
           0.6949152542372882,
           0.75
          ],
          "vectorType": "dense"
         }
        ],
        [
         {
          "length": 4,
          "values": [
           50.0,
           15.199999809265137,
           218.0,
           5700.0
          ],
          "vectorType": "dense"
         },
         {
          "length": 4,
          "values": [
           0.6321839450052164,
           0.25925917640689916,
           0.7796610169491526,
           0.8333333333333334
          ],
          "vectorType": "dense"
         }
        ],
        [
         {
          "length": 4,
          "values": [
           50.0,
           16.299999237060547,
           230.0,
           5700.0
          ],
          "vectorType": "dense"
         },
         {
          "length": 4,
          "values": [
           0.6321839450052164,
           0.3950615685045422,
           0.9830508474576272,
           0.8333333333333334
          ],
          "vectorType": "dense"
         }
        ],
        [
         {
          "length": 4,
          "values": [
           50.099998474121094,
           15.0,
           225.0,
           5000.0
          ],
          "vectorType": "dense"
         },
         {
          "length": 4,
          "values": [
           0.636015304390936,
           0.2345678430925608,
           0.8983050847457628,
           0.6388888888888888
          ],
          "vectorType": "dense"
         }
        ],
        [
         {
          "length": 4,
          "values": [
           50.400001525878906,
           15.300000190734863,
           224.0,
           5550.0
          ],
          "vectorType": "dense"
         },
         {
          "length": 4,
          "values": [
           0.647509674862079,
           0.2716049019328505,
           0.8813559322033898,
           0.7916666666666666
          ],
          "vectorType": "dense"
         }
        ],
        [
         {
          "length": 4,
          "values": [
           50.400001525878906,
           15.699999809265137,
           222.0,
           5750.0
          ],
          "vectorType": "dense"
         },
         {
          "length": 4,
          "values": [
           0.647509674862079,
           0.32098756856152716,
           0.847457627118644,
           0.8472222222222222
          ],
          "vectorType": "dense"
         }
        ],
        [
         {
          "length": 4,
          "values": [
           50.5,
           15.899999618530273,
           225.0,
           5400.0
          ],
          "vectorType": "dense"
         },
         {
          "length": 4,
          "values": [
           0.6513410342477987,
           0.34567890187586553,
           0.8983050847457628,
           0.75
          ],
          "vectorType": "dense"
         }
        ],
        [
         {
          "length": 4,
          "values": [
           50.70000076293945,
           15.0,
           223.0,
           5550.0
          ],
          "vectorType": "dense"
         },
         {
          "length": 4,
          "values": [
           0.65900389917623,
           0.2345678430925608,
           0.864406779661017,
           0.7916666666666666
          ],
          "vectorType": "dense"
         }
        ],
        [
         {
          "length": 4,
          "values": [
           50.79999923706055,
           17.299999237060547,
           228.0,
           5600.0
          ],
          "vectorType": "dense"
         },
         {
          "length": 4,
          "values": [
           0.6628352585619497,
           0.5185183528137983,
           0.9491525423728814,
           0.8055555555555556
          ],
          "vectorType": "dense"
         }
        ],
        [
         {
          "length": 4,
          "values": [
           51.099998474121094,
           16.299999237060547,
           220.0,
           6000.0
          ],
          "vectorType": "dense"
         },
         {
          "length": 4,
          "values": [
           0.6743294828761007,
           0.3950615685045422,
           0.8135593220338984,
           0.9166666666666666
          ],
          "vectorType": "dense"
         }
        ],
        [
         {
          "length": 4,
          "values": [
           51.099998474121094,
           16.5,
           225.0,
           5250.0
          ],
          "vectorType": "dense"
         },
         {
          "length": 4,
          "values": [
           0.6743294828761007,
           0.4197530195564449,
           0.8983050847457628,
           0.7083333333333334
          ],
          "vectorType": "dense"
         }
        ],
        [
         {
          "length": 4,
          "values": [
           51.29999923706055,
           14.199999809265137,
           218.0,
           5300.0
          ],
          "vectorType": "dense"
         },
         {
          "length": 4,
          "values": [
           0.681992347804532,
           0.13580239209764305,
           0.7796610169491526,
           0.7222222222222222
          ],
          "vectorType": "dense"
         }
        ],
        [
         {
          "length": 4,
          "values": [
           52.099998474121094,
           17.0,
           230.0,
           5550.0
          ],
          "vectorType": "dense"
         },
         {
          "length": 4,
          "values": [
           0.7126436613612653,
           0.48148141171107295,
           0.9830508474576272,
           0.7916666666666666
          ],
          "vectorType": "dense"
         }
        ],
        [
         {
          "length": 4,
          "values": [
           54.29999923706055,
           15.699999809265137,
           231.0,
           5650.0
          ],
          "vectorType": "dense"
         },
         {
          "length": 4,
          "values": [
           0.7969348832600259,
           0.32098756856152716,
           1.0,
           0.8194444444444444
          ],
          "vectorType": "dense"
         }
        ],
        [
         {
          "length": 4,
          "values": [
           55.099998474121094,
           16.0,
           230.0,
           5850.0
          ],
          "vectorType": "dense"
         },
         {
          "length": 4,
          "values": [
           0.8275861968167592,
           0.3580246274018169,
           0.9830508474576272,
           0.875
          ],
          "vectorType": "dense"
         }
        ],
        [
         {
          "length": 4,
          "values": [
           55.900001525878906,
           17.0,
           228.0,
           5600.0
          ],
          "vectorType": "dense"
         },
         {
          "length": 4,
          "values": [
           0.8582376565304844,
           0.48148141171107295,
           0.9491525423728814,
           0.8055555555555556
          ],
          "vectorType": "dense"
         }
        ],
        [
         {
          "length": 4,
          "values": [
           59.599998474121094,
           17.0,
           230.0,
           6050.0
          ],
          "vectorType": "dense"
         },
         {
          "length": 4,
          "values": [
           1.0,
           0.48148141171107295,
           0.9830508474576272,
           0.9305555555555556
          ],
          "vectorType": "dense"
         }
        ],
        [
         {
          "length": 4,
          "values": [
           34.0,
           17.100000381469727,
           185.0,
           3400.0
          ],
          "vectorType": "dense"
         },
         {
          "length": 4,
          "values": [
           0.019157089242582314,
           0.4938271372370243,
           0.22033898305084745,
           0.19444444444444445
          ],
          "vectorType": "dense"
         }
        ],
        [
         {
          "length": 4,
          "values": [
           35.599998474121094,
           17.5,
           191.0,
           3175.0
          ],
          "vectorType": "dense"
         },
         {
          "length": 4,
          "values": [
           0.08045971635604895,
           0.543209803865701,
           0.3220338983050847,
           0.13194444444444445
          ],
          "vectorType": "dense"
         }
        ],
        [
         {
          "length": 4,
          "values": [
           35.70000076293945,
           18.0,
           202.0,
           3550.0
          ],
          "vectorType": "dense"
         },
         {
          "length": 4,
          "values": [
           0.08429122189876057,
           0.604938196020329,
           0.5084745762711864,
           0.2361111111111111
          ],
          "vectorType": "dense"
         }
        ],
        [
         {
          "length": 4,
          "values": [
           36.0,
           17.100000381469727,
           187.0,
           3700.0
          ],
          "vectorType": "dense"
         },
         {
          "length": 4,
          "values": [
           0.09578544621291157,
           0.4938271372370243,
           0.2542372881355932,
           0.2777777777777778
          ],
          "vectorType": "dense"
         }
        ],
        [
         {
          "length": 4,
          "values": [
           36.0,
           17.899999618530273,
           190.0,
           3450.0
          ],
          "vectorType": "dense"
         },
         {
          "length": 4,
          "values": [
           0.09578544621291157,
           0.5925924704943777,
           0.3050847457627119,
           0.20833333333333334
          ],
          "vectorType": "dense"
         }
        ],
        [
         {
          "length": 4,
          "values": [
           36.20000076293945,
           17.299999237060547,
           187.0,
           3300.0
          ],
          "vectorType": "dense"
         },
         {
          "length": 4,
          "values": [
           0.10344831114134288,
           0.5185183528137983,
           0.2542372881355932,
           0.16666666666666666
          ],
          "vectorType": "dense"
         }
        ],
        [
         {
          "length": 4,
          "values": [
           36.29999923706055,
           19.5,
           190.0,
           3800.0
          ],
          "vectorType": "dense"
         },
         {
          "length": 4,
          "values": [
           0.10727967052706258,
           0.7901233724842132,
           0.3050847457627119,
           0.3055555555555556
          ],
          "vectorType": "dense"
         }
        ],
        [
         {
          "length": 4,
          "values": [
           36.400001525878906,
           17.0,
           195.0,
           3325.0
          ],
          "vectorType": "dense"
         },
         {
          "length": 4,
          "values": [
           0.11111117606977418,
           0.48148141171107295,
           0.3898305084745763,
           0.1736111111111111
          ],
          "vectorType": "dense"
         }
        ],
        [
         {
          "length": 4,
          "values": [
           36.5,
           18.0,
           182.0,
           3150.0
          ],
          "vectorType": "dense"
         },
         {
          "length": 4,
          "values": [
           0.11494253545549388,
           0.604938196020329,
           0.1694915254237288,
           0.125
          ],
          "vectorType": "dense"
         }
        ],
        [
         {
          "length": 4,
          "values": [
           36.599998474121094,
           18.399999618530273,
           184.0,
           3475.0
          ],
          "vectorType": "dense"
         },
         {
          "length": 4,
          "values": [
           0.11877389484121359,
           0.6543208626490057,
           0.2033898305084746,
           0.2152777777777778
          ],
          "vectorType": "dense"
         }
        ],
        [
         {
          "length": 4,
          "values": [
           37.0,
           16.5,
           185.0,
           3400.0
          ],
          "vectorType": "dense"
         },
         {
          "length": 4,
          "values": [
           0.1340996246980762,
           0.4197530195564449,
           0.22033898305084745,
           0.19444444444444445
          ],
          "vectorType": "dense"
         }
        ],
        [
         {
          "length": 4,
          "values": [
           37.20000076293945,
           18.100000381469727,
           178.0,
           3900.0
          ],
          "vectorType": "dense"
         },
         {
          "length": 4,
          "values": [
           0.1417624896265075,
           0.6172839215462804,
           0.1016949152542373,
           0.3333333333333333
          ],
          "vectorType": "dense"
         }
        ],
        [
         {
          "length": 4,
          "values": [
           37.29999923706055,
           16.799999237060547,
           192.0,
           3000.0
          ],
          "vectorType": "dense"
         },
         {
          "length": 4,
          "values": [
           0.14559384901222722,
           0.4567899606591702,
           0.3389830508474576,
           0.08333333333333333
          ],
          "vectorType": "dense"
         }
        ],
        [
         {
          "length": 4,
          "values": [
           37.5,
           18.5,
           199.0,
           4475.0
          ],
          "vectorType": "dense"
         },
         {
          "length": 4,
          "values": [
           0.1532567139406585,
           0.666666588174957,
           0.4576271186440678,
           0.4930555555555556
          ],
          "vectorType": "dense"
         }
        ],
        [
         {
          "length": 4,
          "values": [
           37.5,
           18.899999618530273,
           179.0,
           2975.0
          ],
          "vectorType": "dense"
         },
         {
          "length": 4,
          "values": [
           0.1532567139406585,
           0.7160492548036338,
           0.11864406779661017,
           0.0763888888888889
          ],
          "vectorType": "dense"
         }
        ],
        [
         {
          "length": 4,
          "values": [
           37.599998474121094,
           19.299999237060547,
           181.0,
           3300.0
          ],
          "vectorType": "dense"
         },
         {
          "length": 4,
          "values": [
           0.15708807332637822,
           0.7654319214323104,
           0.15254237288135594,
           0.16666666666666666
          ],
          "vectorType": "dense"
         }
        ],
        [
         {
          "length": 4,
          "values": [
           37.79999923706055,
           18.100000381469727,
           193.0,
           3750.0
          ],
          "vectorType": "dense"
         },
         {
          "length": 4,
          "values": [
           0.16475093825480952,
           0.6172839215462804,
           0.3559322033898305,
           0.2916666666666667
          ],
          "vectorType": "dense"
         }
        ],
        [
         {
          "length": 4,
          "values": [
           38.099998474121094,
           17.600000381469727,
           187.0,
           3425.0
          ],
          "vectorType": "dense"
         },
         {
          "length": 4,
          "values": [
           0.17624516256896053,
           0.5555555293916523,
           0.2542372881355932,
           0.2013888888888889
          ],
          "vectorType": "dense"
         }
        ],
        [
         {
          "length": 4,
          "values": [
           38.099998474121094,
           18.600000381469727,
           190.0,
           3700.0
          ],
          "vectorType": "dense"
         },
         {
          "length": 4,
          "values": [
           0.17624516256896053,
           0.6790123137009084,
           0.3050847457627119,
           0.2777777777777778
          ],
          "vectorType": "dense"
         }
        ],
        [
         {
          "length": 4,
          "values": [
           39.20000076293945,
           18.600000381469727,
           190.0,
           4250.0
          ],
          "vectorType": "dense"
         },
         {
          "length": 4,
          "values": [
           0.21839084659683677,
           0.6790123137009084,
           0.3050847457627119,
           0.4305555555555556
          ],
          "vectorType": "dense"
         }
        ],
        [
         {
          "length": 4,
          "values": [
           39.20000076293945,
           21.100000381469727,
           196.0,
           4150.0
          ],
          "vectorType": "dense"
         },
         {
          "length": 4,
          "values": [
           0.21839084659683677,
           0.9876542744740486,
           0.4067796610169492,
           0.4027777777777778
          ],
          "vectorType": "dense"
         }
        ],
        [
         {
          "length": 4,
          "values": [
           39.5,
           17.799999237060547,
           188.0,
           3300.0
          ],
          "vectorType": "dense"
         },
         {
          "length": 4,
          "values": [
           0.22988507091098775,
           0.5802467449684263,
           0.2711864406779661,
           0.16666666666666666
          ],
          "vectorType": "dense"
         }
        ],
        [
         {
          "length": 4,
          "values": [
           39.599998474121094,
           18.100000381469727,
           186.0,
           4450.0
          ],
          "vectorType": "dense"
         },
         {
          "length": 4,
          "values": [
           0.23371643029670747,
           0.6172839215462804,
           0.23728813559322035,
           0.4861111111111111
          ],
          "vectorType": "dense"
         }
        ],
        [
         {
          "length": 4,
          "values": [
           39.599998474121094,
           18.799999237060547,
           190.0,
           4600.0
          ],
          "vectorType": "dense"
         },
         {
          "length": 4,
          "values": [
           0.23371643029670747,
           0.7037035292776824,
           0.3050847457627119,
           0.5277777777777778
          ],
          "vectorType": "dense"
         }
        ],
        [
         {
          "length": 4,
          "values": [
           39.70000076293945,
           17.899999618530273,
           193.0,
           4250.0
          ],
          "vectorType": "dense"
         },
         {
          "length": 4,
          "values": [
           0.23754793583941908,
           0.5925924704943777,
           0.3559322033898305,
           0.4305555555555556
          ],
          "vectorType": "dense"
         }
        ],
        [
         {
          "length": 4,
          "values": [
           39.79999923706055,
           19.100000381469727,
           184.0,
           4650.0
          ],
          "vectorType": "dense"
         },
         {
          "length": 4,
          "values": [
           0.24137929522513876,
           0.7407407058555364,
           0.2033898305084746,
           0.5416666666666666
          ],
          "vectorType": "dense"
         }
        ],
        [
         {
          "length": 4,
          "values": [
           40.20000076293945,
           17.100000381469727,
           193.0,
           3400.0
          ],
          "vectorType": "dense"
         },
         {
          "length": 4,
          "values": [
           0.2567050250820014,
           0.4938271372370243,
           0.3559322033898305,
           0.19444444444444445
          ],
          "vectorType": "dense"
         }
        ],
        [
         {
          "length": 4,
          "values": [
           40.29999923706055,
           18.5,
           196.0,
           4350.0
          ],
          "vectorType": "dense"
         },
         {
          "length": 4,
          "values": [
           0.2605363844677211,
           0.666666588174957,
           0.4067796610169492,
           0.4583333333333333
          ],
          "vectorType": "dense"
         }
        ],
        [
         {
          "length": 4,
          "values": [
           40.599998474121094,
           17.200000762939453,
           187.0,
           3475.0
          ],
          "vectorType": "dense"
         },
         {
          "length": 4,
          "values": [
           0.2720306087818721,
           0.5061728627629757,
           0.2542372881355932,
           0.2152777777777778
          ],
          "vectorType": "dense"
         }
        ],
        [
         {
          "length": 4,
          "values": [
           40.70000076293945,
           17.0,
           190.0,
           3725.0
          ],
          "vectorType": "dense"
         },
         {
          "length": 4,
          "values": [
           0.2758621143245837,
           0.48148141171107295,
           0.3050847457627119,
           0.2847222222222222
          ],
          "vectorType": "dense"
         }
        ],
        [
         {
          "length": 4,
          "values": [
           40.79999923706055,
           18.399999618530273,
           195.0,
           3900.0
          ],
          "vectorType": "dense"
         },
         {
          "length": 4,
          "values": [
           0.2796934737103034,
           0.6543208626490057,
           0.3898305084745763,
           0.3333333333333333
          ],
          "vectorType": "dense"
         }
        ],
        [
         {
          "length": 4,
          "values": [
           40.900001525878906,
           16.600000381469727,
           187.0,
           3200.0
          ],
          "vectorType": "dense"
         },
         {
          "length": 4,
          "values": [
           0.283524979253015,
           0.43209874508239626,
           0.2542372881355932,
           0.1388888888888889
          ],
          "vectorType": "dense"
         }
        ],
        [
         {
          "length": 4,
          "values": [
           40.900001525878906,
           18.899999618530273,
           184.0,
           3900.0
          ],
          "vectorType": "dense"
         },
         {
          "length": 4,
          "values": [
           0.283524979253015,
           0.7160492548036338,
           0.2033898305084746,
           0.3333333333333333
          ],
          "vectorType": "dense"
         }
        ],
        [
         {
          "length": 4,
          "values": [
           41.099998474121094,
           17.5,
           190.0,
           3900.0
          ],
          "vectorType": "dense"
         },
         {
          "length": 4,
          "values": [
           0.29118769802445443,
           0.543209803865701,
           0.3050847457627119,
           0.3333333333333333
          ],
          "vectorType": "dense"
         }
        ],
        [
         {
          "length": 4,
          "values": [
           41.099998474121094,
           18.100000381469727,
           205.0,
           4300.0
          ],
          "vectorType": "dense"
         },
         {
          "length": 4,
          "values": [
           0.29118769802445443,
           0.6172839215462804,
           0.559322033898305,
           0.4444444444444444
          ],
          "vectorType": "dense"
         }
        ],
        [
         {
          "length": 4,
          "values": [
           41.099998474121094,
           19.0,
           182.0,
           3425.0
          ],
          "vectorType": "dense"
         },
         {
          "length": 4,
          "values": [
           0.29118769802445443,
           0.7283949803295852,
           0.1694915254237288,
           0.2013888888888889
          ],
          "vectorType": "dense"
         }
        ],
        [
         {
          "length": 4,
          "values": [
           42.20000076293945,
           18.5,
           180.0,
           3550.0
          ],
          "vectorType": "dense"
         },
         {
          "length": 4,
          "values": [
           0.33333338205233065,
           0.666666588174957,
           0.13559322033898305,
           0.2361111111111111
          ],
          "vectorType": "dense"
         }
        ],
        [
         {
          "length": 4,
          "values": [
           42.29999923706055,
           21.200000762939453,
           191.0,
           4150.0
          ],
          "vectorType": "dense"
         },
         {
          "length": 4,
          "values": [
           0.33716474143805036,
           1.0,
           0.3220338983050847,
           0.4027777777777778
          ],
          "vectorType": "dense"
         }
        ],
        [
         {
          "length": 4,
          "values": [
           42.400001525878906,
           17.299999237060547,
           181.0,
           3600.0
          ],
          "vectorType": "dense"
         },
         {
          "length": 4,
          "values": [
           0.340996246980762,
           0.5185183528137983,
           0.15254237288135594,
           0.25
          ],
          "vectorType": "dense"
         }
        ],
        [
         {
          "length": 4,
          "values": [
           43.20000076293945,
           16.600000381469727,
           187.0,
           2900.0
          ],
          "vectorType": "dense"
         },
         {
          "length": 4,
          "values": [
           0.37164756053749526,
           0.43209874508239626,
           0.2542372881355932,
           0.05555555555555555
          ],
          "vectorType": "dense"
         }
        ],
        [
         {
          "length": 4,
          "values": [
           43.5,
           18.100000381469727,
           202.0,
           3400.0
          ],
          "vectorType": "dense"
         },
         {
          "length": 4,
          "values": [
           0.3831417848516463,
           0.6172839215462804,
           0.5084745762711864,
           0.19444444444444445
          ],
          "vectorType": "dense"
         }
        ],
        [
         {
          "length": 4,
          "values": [
           45.20000076293945,
           17.799999237060547,
           198.0,
           3950.0
          ],
          "vectorType": "dense"
         },
         {
          "length": 4,
          "values": [
           0.44827591750782453,
           0.5802467449684263,
           0.4406779661016949,
           0.3472222222222222
          ],
          "vectorType": "dense"
         }
        ],
        [
         {
          "length": 4,
          "values": [
           45.599998474121094,
           19.399999618530273,
           194.0,
           3525.0
          ],
          "vectorType": "dense"
         },
         {
          "length": 4,
          "values": [
           0.4636015012076952,
           0.7777776469582618,
           0.3728813559322034,
           0.22916666666666666
          ],
          "vectorType": "dense"
         }
        ],
        [
         {
          "length": 4,
          "values": [
           45.70000076293945,
           17.0,
           195.0,
           3650.0
          ],
          "vectorType": "dense"
         },
         {
          "length": 4,
          "values": [
           0.46743300675040683,
           0.48148141171107295,
           0.3898305084745763,
           0.2638888888888889
          ],
          "vectorType": "dense"
         }
        ],
        [
         {
          "length": 4,
          "values": [
           45.70000076293945,
           17.299999237060547,
           193.0,
           3600.0
          ],
          "vectorType": "dense"
         },
         {
          "length": 4,
          "values": [
           0.46743300675040683,
           0.5185183528137983,
           0.3559322033898305,
           0.25
          ],
          "vectorType": "dense"
         }
        ],
        [
         {
          "length": 4,
          "values": [
           45.900001525878906,
           17.100000381469727,
           190.0,
           3575.0
          ],
          "vectorType": "dense"
         },
         {
          "length": 4,
          "values": [
           0.47509587167883816,
           0.4938271372370243,
           0.3050847457627119,
           0.24305555555555555
          ],
          "vectorType": "dense"
         }
        ],
        [
         {
          "length": 4,
          "values": [
           46.0,
           18.899999618530273,
           195.0,
           4150.0
          ],
          "vectorType": "dense"
         },
         {
          "length": 4,
          "values": [
           0.47892723106455787,
           0.7160492548036338,
           0.3898305084745763,
           0.4027777777777778
          ],
          "vectorType": "dense"
         }
        ],
        [
         {
          "length": 4,
          "values": [
           46.099998474121094,
           18.200000762939453,
           178.0,
           3250.0
          ],
          "vectorType": "dense"
         },
         {
          "length": 4,
          "values": [
           0.4827585904502775,
           0.6296296470722318,
           0.1016949152542373,
           0.1527777777777778
          ],
          "vectorType": "dense"
         }
        ],
        [
         {
          "length": 4,
          "values": [
           46.20000076293945,
           17.5,
           187.0,
           3650.0
          ],
          "vectorType": "dense"
         },
         {
          "length": 4,
          "values": [
           0.48659009599298914,
           0.543209803865701,
           0.2542372881355932,
           0.2638888888888889
          ],
          "vectorType": "dense"
         }
        ],
        [
         {
          "length": 4,
          "values": [
           46.400001525878906,
           17.799999237060547,
           191.0,
           3700.0
          ],
          "vectorType": "dense"
         },
         {
          "length": 4,
          "values": [
           0.49425296092142046,
           0.5802467449684263,
           0.3220338983050847,
           0.2777777777777778
          ],
          "vectorType": "dense"
         }
        ],
        [
         {
          "length": 4,
          "values": [
           46.400001525878906,
           18.600000381469727,
           190.0,
           3450.0
          ],
          "vectorType": "dense"
         },
         {
          "length": 4,
          "values": [
           0.49425296092142046,
           0.6790123137009084,
           0.3050847457627119,
           0.20833333333333334
          ],
          "vectorType": "dense"
         }
        ],
        [
         {
          "length": 4,
          "values": [
           46.5,
           17.899999618530273,
           192.0,
           3500.0
          ],
          "vectorType": "dense"
         },
         {
          "length": 4,
          "values": [
           0.49808432030714017,
           0.5925924704943777,
           0.3389830508474576,
           0.2222222222222222
          ],
          "vectorType": "dense"
         }
        ],
        [
         {
          "length": 4,
          "values": [
           46.70000076293945,
           17.899999618530273,
           195.0,
           3300.0
          ],
          "vectorType": "dense"
         },
         {
          "length": 4,
          "values": [
           0.5057471852355715,
           0.5925924704943777,
           0.3898305084745763,
           0.16666666666666666
          ],
          "vectorType": "dense"
         }
        ],
        [
         {
          "length": 4,
          "values": [
           46.79999923706055,
           16.5,
           189.0,
           3650.0
          ],
          "vectorType": "dense"
         },
         {
          "length": 4,
          "values": [
           0.5095785446212912,
           0.4197530195564449,
           0.288135593220339,
           0.2638888888888889
          ],
          "vectorType": "dense"
         }
        ],
        [
         {
          "length": 4,
          "values": [
           46.900001525878906,
           16.600000381469727,
           192.0,
           2700.0
          ],
          "vectorType": "dense"
         },
         {
          "length": 4,
          "values": [
           0.5134100501640028,
           0.43209874508239626,
           0.3389830508474576,
           0.0
          ],
          "vectorType": "dense"
         }
        ],
        [
         {
          "length": 4,
          "values": [
           47.0,
           17.299999237060547,
           185.0,
           3700.0
          ],
          "vectorType": "dense"
         },
         {
          "length": 4,
          "values": [
           0.5172414095497225,
           0.5185183528137983,
           0.22033898305084745,
           0.2777777777777778
          ],
          "vectorType": "dense"
         }
        ],
        [
         {
          "length": 4,
          "values": [
           47.5,
           16.799999237060547,
           199.0,
           3900.0
          ],
          "vectorType": "dense"
         },
         {
          "length": 4,
          "values": [
           0.5363984987923048,
           0.4567899606591702,
           0.4576271186440678,
           0.3333333333333333
          ],
          "vectorType": "dense"
         }
        ],
        [
         {
          "length": 4,
          "values": [
           47.599998474121094,
           18.299999237060547,
           195.0,
           3850.0
          ],
          "vectorType": "dense"
         },
         {
          "length": 4,
          "values": [
           0.5402298581780245,
           0.6419751371230543,
           0.3898305084745763,
           0.3194444444444444
          ],
          "vectorType": "dense"
         }
        ],
        [
         {
          "length": 4,
          "values": [
           48.099998474121094,
           16.399999618530273,
           199.0,
           3325.0
          ],
          "vectorType": "dense"
         },
         {
          "length": 4,
          "values": [
           0.5593869474206068,
           0.4074072940304936,
           0.4576271186440678,
           0.1736111111111111
          ],
          "vectorType": "dense"
         }
        ],
        [
         {
          "length": 4,
          "values": [
           48.5,
           17.5,
           191.0,
           3400.0
          ],
          "vectorType": "dense"
         },
         {
          "length": 4,
          "values": [
           0.5747126772774694,
           0.543209803865701,
           0.3220338983050847,
           0.19444444444444445
          ],
          "vectorType": "dense"
         }
        ],
        [
         {
          "length": 4,
          "values": [
           49.0,
           19.5,
           210.0,
           3950.0
          ],
          "vectorType": "dense"
         },
         {
          "length": 4,
          "values": [
           0.5938697665200517,
           0.7901233724842132,
           0.6440677966101694,
           0.3472222222222222
          ],
          "vectorType": "dense"
         }
        ],
        [
         {
          "length": 4,
          "values": [
           49.0,
           19.600000381469727,
           212.0,
           4300.0
          ],
          "vectorType": "dense"
         },
         {
          "length": 4,
          "values": [
           0.5938697665200517,
           0.8024690980101645,
           0.6779661016949152,
           0.4444444444444444
          ],
          "vectorType": "dense"
         }
        ],
        [
         {
          "length": 4,
          "values": [
           49.29999923706055,
           19.899999618530273,
           203.0,
           4050.0
          ],
          "vectorType": "dense"
         },
         {
          "length": 4,
          "values": [
           0.6053639908342028,
           0.8395060391128898,
           0.5254237288135594,
           0.375
          ],
          "vectorType": "dense"
         }
        ],
        [
         {
          "length": 4,
          "values": [
           49.70000076293945,
           18.600000381469727,
           195.0,
           3600.0
          ],
          "vectorType": "dense"
         },
         {
          "length": 4,
          "values": [
           0.6206897206910653,
           0.6790123137009084,
           0.3898305084745763,
           0.25
          ],
          "vectorType": "dense"
         }
        ],
        [
         {
          "length": 4,
          "values": [
           50.0,
           19.5,
           196.0,
           3900.0
          ],
          "vectorType": "dense"
         },
         {
          "length": 4,
          "values": [
           0.6321839450052164,
           0.7901233724842132,
           0.4067796610169492,
           0.3333333333333333
          ],
          "vectorType": "dense"
         }
        ],
        [
         {
          "length": 4,
          "values": [
           50.20000076293945,
           18.700000762939453,
           198.0,
           3775.0
          ],
          "vectorType": "dense"
         },
         {
          "length": 4,
          "values": [
           0.6398468099336476,
           0.6913580392268598,
           0.4406779661016949,
           0.2986111111111111
          ],
          "vectorType": "dense"
         }
        ],
        [
         {
          "length": 4,
          "values": [
           50.20000076293945,
           18.799999237060547,
           202.0,
           3800.0
          ],
          "vectorType": "dense"
         },
         {
          "length": 4,
          "values": [
           0.6398468099336476,
           0.7037035292776824,
           0.5084745762711864,
           0.3055555555555556
          ],
          "vectorType": "dense"
         }
        ],
        [
         {
          "length": 4,
          "values": [
           50.5,
           18.399999618530273,
           200.0,
           3400.0
          ],
          "vectorType": "dense"
         },
         {
          "length": 4,
          "values": [
           0.6513410342477987,
           0.6543208626490057,
           0.4745762711864407,
           0.19444444444444445
          ],
          "vectorType": "dense"
         }
        ],
        [
         {
          "length": 4,
          "values": [
           50.5,
           19.600000381469727,
           201.0,
           4050.0
          ],
          "vectorType": "dense"
         },
         {
          "length": 4,
          "values": [
           0.6513410342477987,
           0.8024690980101645,
           0.4915254237288136,
           0.375
          ],
          "vectorType": "dense"
         }
        ],
        [
         {
          "length": 4,
          "values": [
           50.599998474121094,
           19.399999618530273,
           193.0,
           3800.0
          ],
          "vectorType": "dense"
         },
         {
          "length": 4,
          "values": [
           0.6551723936335184,
           0.7777776469582618,
           0.3559322033898305,
           0.3055555555555556
          ],
          "vectorType": "dense"
         }
        ],
        [
         {
          "length": 4,
          "values": [
           50.70000076293945,
           19.700000762939453,
           203.0,
           4050.0
          ],
          "vectorType": "dense"
         },
         {
          "length": 4,
          "values": [
           0.65900389917623,
           0.8148148235361159,
           0.5254237288135594,
           0.375
          ],
          "vectorType": "dense"
         }
        ],
        [
         {
          "length": 4,
          "values": [
           50.79999923706055,
           18.5,
           201.0,
           4450.0
          ],
          "vectorType": "dense"
         },
         {
          "length": 4,
          "values": [
           0.6628352585619497,
           0.666666588174957,
           0.4915254237288136,
           0.4861111111111111
          ],
          "vectorType": "dense"
         }
        ],
        [
         {
          "length": 4,
          "values": [
           50.79999923706055,
           19.0,
           210.0,
           4100.0
          ],
          "vectorType": "dense"
         },
         {
          "length": 4,
          "values": [
           0.6628352585619497,
           0.7283949803295852,
           0.6440677966101694,
           0.3888888888888889
          ],
          "vectorType": "dense"
         }
        ],
        [
         {
          "length": 4,
          "values": [
           50.900001525878906,
           17.899999618530273,
           196.0,
           3675.0
          ],
          "vectorType": "dense"
         },
         {
          "length": 4,
          "values": [
           0.6666667641046613,
           0.5925924704943777,
           0.4067796610169492,
           0.2708333333333333
          ],
          "vectorType": "dense"
         }
        ],
        [
         {
          "length": 4,
          "values": [
           50.900001525878906,
           19.100000381469727,
           196.0,
           3550.0
          ],
          "vectorType": "dense"
         },
         {
          "length": 4,
          "values": [
           0.6666667641046613,
           0.7407407058555364,
           0.4067796610169492,
           0.2361111111111111
          ],
          "vectorType": "dense"
         }
        ],
        [
         {
          "length": 4,
          "values": [
           51.0,
           18.799999237060547,
           203.0,
           4100.0
          ],
          "vectorType": "dense"
         },
         {
          "length": 4,
          "values": [
           0.670498123490381,
           0.7037035292776824,
           0.5254237288135594,
           0.3888888888888889
          ],
          "vectorType": "dense"
         }
        ],
        [
         {
          "length": 4,
          "values": [
           51.29999923706055,
           18.200000762939453,
           197.0,
           3750.0
          ],
          "vectorType": "dense"
         },
         {
          "length": 4,
          "values": [
           0.681992347804532,
           0.6296296470722318,
           0.423728813559322,
           0.2916666666666667
          ],
          "vectorType": "dense"
         }
        ],
        [
         {
          "length": 4,
          "values": [
           51.29999923706055,
           19.899999618530273,
           198.0,
           3700.0
          ],
          "vectorType": "dense"
         },
         {
          "length": 4,
          "values": [
           0.681992347804532,
           0.8395060391128898,
           0.4406779661016949,
           0.2777777777777778
          ],
          "vectorType": "dense"
         }
        ],
        [
         {
          "length": 4,
          "values": [
           51.400001525878906,
           19.0,
           201.0,
           3950.0
          ],
          "vectorType": "dense"
         },
         {
          "length": 4,
          "values": [
           0.6858238533472436,
           0.7283949803295852,
           0.4915254237288136,
           0.3472222222222222
          ],
          "vectorType": "dense"
         }
        ],
        [
         {
          "length": 4,
          "values": [
           51.5,
           18.700000762939453,
           187.0,
           3250.0
          ],
          "vectorType": "dense"
         },
         {
          "length": 4,
          "values": [
           0.6896552127329633,
           0.6913580392268598,
           0.2542372881355932,
           0.1527777777777778
          ],
          "vectorType": "dense"
         }
        ],
        [
         {
          "length": 4,
          "values": [
           51.70000076293945,
           20.299999237060547,
           194.0,
           3775.0
          ],
          "vectorType": "dense"
         },
         {
          "length": 4,
          "values": [
           0.6973180776613946,
           0.8888887057415665,
           0.3728813559322034,
           0.2986111111111111
          ],
          "vectorType": "dense"
         }
        ],
        [
         {
          "length": 4,
          "values": [
           52.0,
           20.700000762939453,
           210.0,
           4800.0
          ],
          "vectorType": "dense"
         },
         {
          "length": 4,
          "values": [
           0.7088123019755456,
           0.938271607845372,
           0.6440677966101694,
           0.5833333333333334
          ],
          "vectorType": "dense"
         }
        ],
        [
         {
          "length": 4,
          "values": [
           52.70000076293945,
           19.799999237060547,
           197.0,
           3725.0
          ],
          "vectorType": "dense"
         },
         {
          "length": 4,
          "values": [
           0.7356322561465592,
           0.8271603135869384,
           0.423728813559322,
           0.2847222222222222
          ],
          "vectorType": "dense"
         }
        ],
        [
         {
          "length": 4,
          "values": [
           53.5,
           19.899999618530273,
           205.0,
           4500.0
          ],
          "vectorType": "dense"
         },
         {
          "length": 4,
          "values": [
           0.7662835697032926,
           0.8395060391128898,
           0.559322033898305,
           0.5
          ],
          "vectorType": "dense"
         }
        ],
        [
         {
          "length": 4,
          "values": [
           54.20000076293945,
           20.799999237060547,
           201.0,
           4300.0
          ],
          "vectorType": "dense"
         },
         {
          "length": 4,
          "values": [
           0.7931035238743062,
           0.9506170978961945,
           0.4915254237288136,
           0.4444444444444444
          ],
          "vectorType": "dense"
         }
        ],
        [
         {
          "length": 4,
          "values": [
           55.79999923706055,
           19.799999237060547,
           207.0,
           4000.0
          ],
          "vectorType": "dense"
         },
         {
          "length": 4,
          "values": [
           0.8544061509877728,
           0.8271603135869384,
           0.5932203389830508,
           0.3611111111111111
          ],
          "vectorType": "dense"
         }
        ],
        [
         {
          "length": 4,
          "values": [
           58.0,
           17.799999237060547,
           181.0,
           3700.0
          ],
          "vectorType": "dense"
         },
         {
          "length": 4,
          "values": [
           0.9386973728865334,
           0.5802467449684263,
           0.15254237288135594,
           0.2777777777777778
          ],
          "vectorType": "dense"
         }
        ],
        [
         {
          "length": 4,
          "values": [
           33.5,
           19.0,
           190.0,
           3600.0
          ],
          "vectorType": "dense"
         },
         {
          "length": 4,
          "values": [
           0.0,
           0.7283949803295852,
           0.3050847457627119,
           0.25
          ],
          "vectorType": "dense"
         }
        ],
        [
         {
          "length": 4,
          "values": [
           34.400001525878906,
           18.399999618530273,
           184.0,
           3325.0
          ],
          "vectorType": "dense"
         },
         {
          "length": 4,
          "values": [
           0.03448281909944493,
           0.6543208626490057,
           0.2033898305084746,
           0.1736111111111111
          ],
          "vectorType": "dense"
         }
        ],
        [
         {
          "length": 4,
          "values": [
           34.599998474121094,
           21.100000381469727,
           198.0,
           4400.0
          ],
          "vectorType": "dense"
         },
         {
          "length": 4,
          "values": [
           0.04214553787088433,
           0.9876542744740486,
           0.4406779661016949,
           0.4722222222222222
          ],
          "vectorType": "dense"
         }
        ],
        [
         {
          "length": 4,
          "values": [
           35.20000076293945,
           15.899999618530273,
           186.0,
           3050.0
          ],
          "vectorType": "dense"
         },
         {
          "length": 4,
          "values": [
           0.06513413265617825,
           0.34567890187586553,
           0.23728813559322035,
           0.09722222222222222
          ],
          "vectorType": "dense"
         }
        ],
        [
         {
          "length": 4,
          "values": [
           35.5,
           17.5,
           190.0,
           3700.0
          ],
          "vectorType": "dense"
         },
         {
          "length": 4,
          "values": [
           0.07662835697032926,
           0.543209803865701,
           0.3050847457627119,
           0.2777777777777778
          ],
          "vectorType": "dense"
         }
        ],
        [
         {
          "length": 4,
          "values": [
           35.70000076293945,
           17.0,
           189.0,
           3350.0
          ],
          "vectorType": "dense"
         },
         {
          "length": 4,
          "values": [
           0.08429122189876057,
           0.48148141171107295,
           0.288135593220339,
           0.18055555555555555
          ],
          "vectorType": "dense"
         }
        ],
        [
         {
          "length": 4,
          "values": [
           35.900001525878906,
           16.600000381469727,
           190.0,
           3050.0
          ],
          "vectorType": "dense"
         },
         {
          "length": 4,
          "values": [
           0.09195408682719187,
           0.43209874508239626,
           0.3050847457627119,
           0.09722222222222222
          ],
          "vectorType": "dense"
         }
        ],
        [
         {
          "length": 4,
          "values": [
           36.20000076293945,
           16.100000381469727,
           187.0,
           3550.0
          ],
          "vectorType": "dense"
         },
         {
          "length": 4,
          "values": [
           0.10344831114134288,
           0.3703703529277682,
           0.2542372881355932,
           0.2361111111111111
          ],
          "vectorType": "dense"
         }
        ],
        [
         {
          "length": 4,
          "values": [
           36.599998474121094,
           17.799999237060547,
           185.0,
           3700.0
          ],
          "vectorType": "dense"
         },
         {
          "length": 4,
          "values": [
           0.11877389484121359,
           0.5802467449684263,
           0.22033898305084745,
           0.2777777777777778
          ],
          "vectorType": "dense"
         }
        ],
        [
         {
          "length": 4,
          "values": [
           36.70000076293945,
           19.299999237060547,
           193.0,
           3450.0
          ],
          "vectorType": "dense"
         },
         {
          "length": 4,
          "values": [
           0.12260540038392519,
           0.7654319214323104,
           0.3559322033898305,
           0.20833333333333334
          ],
          "vectorType": "dense"
         }
        ],
        [
         {
          "length": 4,
          "values": [
           37.20000076293945,
           19.399999618530273,
           184.0,
           3900.0
          ],
          "vectorType": "dense"
         },
         {
          "length": 4,
          "values": [
           0.1417624896265075,
           0.7777776469582618,
           0.2033898305084746,
           0.3333333333333333
          ],
          "vectorType": "dense"
         }
        ],
        [
         {
          "length": 4,
          "values": [
           37.79999923706055,
           17.299999237060547,
           180.0,
           3700.0
          ],
          "vectorType": "dense"
         },
         {
          "length": 4,
          "values": [
           0.16475093825480952,
           0.5185183528137983,
           0.13559322033898305,
           0.2777777777777778
          ],
          "vectorType": "dense"
         }
        ],
        [
         {
          "length": 4,
          "values": [
           38.5,
           17.899999618530273,
           190.0,
           3325.0
          ],
          "vectorType": "dense"
         },
         {
          "length": 4,
          "values": [
           0.19157089242582315,
           0.5925924704943777,
           0.3050847457627119,
           0.1736111111111111
          ],
          "vectorType": "dense"
         }
        ],
        [
         {
          "length": 4,
          "values": [
           38.599998474121094,
           21.200000762939453,
           191.0,
           3800.0
          ],
          "vectorType": "dense"
         },
         {
          "length": 4,
          "values": [
           0.19540225181154283,
           1.0,
           0.3220338983050847,
           0.3055555555555556
          ],
          "vectorType": "dense"
         }
        ],
        [
         {
          "length": 4,
          "values": [
           38.70000076293945,
           19.0,
           195.0,
           3450.0
          ],
          "vectorType": "dense"
         },
         {
          "length": 4,
          "values": [
           0.19923375735425444,
           0.7283949803295852,
           0.3898305084745763,
           0.20833333333333334
          ],
          "vectorType": "dense"
         }
        ],
        [
         {
          "length": 4,
          "values": [
           38.79999923706055,
           17.600000381469727,
           191.0,
           3275.0
          ],
          "vectorType": "dense"
         },
         {
          "length": 4,
          "values": [
           0.20306511673997416,
           0.5555555293916523,
           0.3220338983050847,
           0.1597222222222222
          ],
          "vectorType": "dense"
         }
        ],
        [
         {
          "length": 4,
          "values": [
           39.0,
           17.100000381469727,
           191.0,
           3050.0
          ],
          "vectorType": "dense"
         },
         {
          "length": 4,
          "values": [
           0.21072798166840545,
           0.4938271372370243,
           0.3220338983050847,
           0.09722222222222222
          ],
          "vectorType": "dense"
         }
        ],
        [
         {
          "length": 4,
          "values": [
           39.099998474121094,
           18.700000762939453,
           181.0,
           3750.0
          ],
          "vectorType": "dense"
         },
         {
          "length": 4,
          "values": [
           0.21455934105412516,
           0.6913580392268598,
           0.15254237288135594,
           0.2916666666666667
          ],
          "vectorType": "dense"
         }
        ],
        [
         {
          "length": 4,
          "values": [
           39.20000076293945,
           19.600000381469727,
           195.0,
           4675.0
          ],
          "vectorType": "dense"
         },
         {
          "length": 4,
          "values": [
           0.21839084659683677,
           0.8024690980101645,
           0.3898305084745763,
           0.5486111111111112
          ],
          "vectorType": "dense"
         }
        ],
        [
         {
          "length": 4,
          "values": [
           39.29999923706055,
           20.600000381469727,
           190.0,
           3650.0
          ],
          "vectorType": "dense"
         },
         {
          "length": 4,
          "values": [
           0.22222220598255646,
           0.9259258823194206,
           0.3050847457627119,
           0.2638888888888889
          ],
          "vectorType": "dense"
         }
        ],
        [
         {
          "length": 4,
          "values": [
           39.5,
           17.399999618530273,
           186.0,
           3800.0
          ],
          "vectorType": "dense"
         },
         {
          "length": 4,
          "values": [
           0.22988507091098775,
           0.5308640783397497,
           0.23728813559322035,
           0.3055555555555556
          ],
          "vectorType": "dense"
         }
        ],
        [
         {
          "length": 4,
          "values": [
           39.599998474121094,
           17.200000762939453,
           196.0,
           3550.0
          ],
          "vectorType": "dense"
         },
         {
          "length": 4,
          "values": [
           0.23371643029670747,
           0.5061728627629757,
           0.4067796610169492,
           0.2361111111111111
          ],
          "vectorType": "dense"
         }
        ],
        [
         {
          "length": 4,
          "values": [
           39.70000076293945,
           18.399999618530273,
           190.0,
           3900.0
          ],
          "vectorType": "dense"
         },
         {
          "length": 4,
          "values": [
           0.23754793583941908,
           0.6543208626490057,
           0.3050847457627119,
           0.3333333333333333
          ],
          "vectorType": "dense"
         }
        ],
        [
         {
          "length": 4,
          "values": [
           40.20000076293945,
           17.0,
           176.0,
           3450.0
          ],
          "vectorType": "dense"
         },
         {
          "length": 4,
          "values": [
           0.2567050250820014,
           0.48148141171107295,
           0.06779661016949153,
           0.20833333333333334
          ],
          "vectorType": "dense"
         }
        ],
        [
         {
          "length": 4,
          "values": [
           40.29999923706055,
           18.0,
           195.0,
           3250.0
          ],
          "vectorType": "dense"
         },
         {
          "length": 4,
          "values": [
           0.2605363844677211,
           0.604938196020329,
           0.3898305084745763,
           0.1527777777777778
          ],
          "vectorType": "dense"
         }
        ],
        [
         {
          "length": 4,
          "values": [
           41.400001525878906,
           18.5,
           202.0,
           3875.0
          ],
          "vectorType": "dense"
         },
         {
          "length": 4,
          "values": [
           0.3026820684955973,
           0.666666588174957,
           0.5084745762711864,
           0.3263888888888889
          ],
          "vectorType": "dense"
         }
        ],
        [
         {
          "length": 4,
          "values": [
           41.5,
           18.299999237060547,
           195.0,
           4300.0
          ],
          "vectorType": "dense"
         },
         {
          "length": 4,
          "values": [
           0.306513427881317,
           0.6419751371230543,
           0.3898305084745763,
           0.4444444444444444
          ],
          "vectorType": "dense"
         }
        ],
        [
         {
          "length": 4,
          "values": [
           41.79999923706055,
           19.399999618530273,
           198.0,
           4450.0
          ],
          "vectorType": "dense"
         },
         {
          "length": 4,
          "values": [
           0.318007652195468,
           0.7777776469582618,
           0.4406779661016949,
           0.4861111111111111
          ],
          "vectorType": "dense"
         }
        ],
        [
         {
          "length": 4,
          "values": [
           42.0,
           20.200000762939453,
           190.0,
           4250.0
          ],
          "vectorType": "dense"
         },
         {
          "length": 4,
          "values": [
           0.32567051712389933,
           0.8765432156907439,
           0.3050847457627119,
           0.4305555555555556
          ],
          "vectorType": "dense"
         }
        ],
        [
         {
          "length": 4,
          "values": [
           42.099998474121094,
           19.100000381469727,
           195.0,
           4000.0
          ],
          "vectorType": "dense"
         },
         {
          "length": 4,
          "values": [
           0.32950187650961904,
           0.7407407058555364,
           0.3898305084745763,
           0.3611111111111111
          ],
          "vectorType": "dense"
         }
        ],
        [
         {
          "length": 4,
          "values": [
           42.5,
           20.700000762939453,
           197.0,
           4500.0
          ],
          "vectorType": "dense"
         },
         {
          "length": 4,
          "values": [
           0.34482760636648163,
           0.938271607845372,
           0.423728813559322,
           0.5
          ],
          "vectorType": "dense"
         }
        ],
        [
         {
          "length": 4,
          "values": [
           42.79999923706055,
           18.5,
           195.0,
           4250.0
          ],
          "vectorType": "dense"
         },
         {
          "length": 4,
          "values": [
           0.35632183068063267,
           0.666666588174957,
           0.3898305084745763,
           0.4305555555555556
          ],
          "vectorType": "dense"
         }
        ],
        [
         {
          "length": 4,
          "values": [
           42.900001525878906,
           17.600000381469727,
           196.0,
           4700.0
          ],
          "vectorType": "dense"
         },
         {
          "length": 4,
          "values": [
           0.3601533362233443,
           0.5555555293916523,
           0.4067796610169492,
           0.5555555555555556
          ],
          "vectorType": "dense"
         }
        ],
        [
         {
          "length": 4,
          "values": [
           43.099998474121094,
           19.200000762939453,
           197.0,
           3500.0
          ],
          "vectorType": "dense"
         },
         {
          "length": 4,
          "values": [
           0.36781605499478365,
           0.7530864313814878,
           0.423728813559322,
           0.2222222222222222
          ],
          "vectorType": "dense"
         }
        ],
        [
         {
          "length": 4,
          "values": [
           44.099998474121094,
           18.0,
           210.0,
           4000.0
          ],
          "vectorType": "dense"
         },
         {
          "length": 4,
          "values": [
           0.4061302334799483,
           0.604938196020329,
           0.6440677966101694,
           0.3611111111111111
          ],
          "vectorType": "dense"
         }
        ],
        [
         {
          "length": 4,
          "values": [
           45.79999923706055,
           18.899999618530273,
           197.0,
           4150.0
          ],
          "vectorType": "dense"
         },
         {
          "length": 4,
          "values": [
           0.47126436613612654,
           0.7160492548036338,
           0.423728813559322,
           0.4027777777777778
          ],
          "vectorType": "dense"
         }
        ]
       ],
       "datasetInfos": [],
       "dbfsResultPath": null,
       "isJsonSchema": true,
       "metadata": {},
       "overflow": false,
       "plotOptions": {
        "customPlotOptions": {},
        "displayType": "table",
        "pivotAggregation": null,
        "pivotColumns": null,
        "xColumns": null,
        "yColumns": null
       },
       "removedWidgets": [],
       "schema": [
        {
         "metadata": "{\"ml_attr\":{\"attrs\":{\"numeric\":[{\"idx\":0,\"name\":\"CulmenLength\"},{\"idx\":1,\"name\":\"CulmenDepth\"},{\"idx\":2,\"name\":\"FlipperLength\"},{\"idx\":3,\"name\":\"BodyMass\"}]},\"num_attrs\":4}}",
         "name": "numericFeatures",
         "type": "{\"type\":\"udt\",\"class\":\"org.apache.spark.ml.linalg.VectorUDT\",\"pyClass\":\"pyspark.ml.linalg.VectorUDT\",\"sqlType\":{\"type\":\"struct\",\"fields\":[{\"name\":\"type\",\"type\":\"byte\",\"nullable\":false,\"metadata\":{}},{\"name\":\"size\",\"type\":\"integer\",\"nullable\":true,\"metadata\":{}},{\"name\":\"indices\",\"type\":{\"type\":\"array\",\"elementType\":\"integer\",\"containsNull\":false},\"nullable\":true,\"metadata\":{}},{\"name\":\"values\",\"type\":{\"type\":\"array\",\"elementType\":\"double\",\"containsNull\":false},\"nullable\":true,\"metadata\":{}}]}}"
        },
        {
         "metadata": "{\"ml_attr\":{\"num_attrs\":4}}",
         "name": "normalizedFeatures",
         "type": "{\"type\":\"udt\",\"class\":\"org.apache.spark.ml.linalg.VectorUDT\",\"pyClass\":\"pyspark.ml.linalg.VectorUDT\",\"sqlType\":{\"type\":\"struct\",\"fields\":[{\"name\":\"type\",\"type\":\"byte\",\"nullable\":false,\"metadata\":{}},{\"name\":\"size\",\"type\":\"integer\",\"nullable\":true,\"metadata\":{}},{\"name\":\"indices\",\"type\":{\"type\":\"array\",\"elementType\":\"integer\",\"containsNull\":false},\"nullable\":true,\"metadata\":{}},{\"name\":\"values\",\"type\":{\"type\":\"array\",\"elementType\":\"double\",\"containsNull\":false},\"nullable\":true,\"metadata\":{}}]}}"
        }
       ],
       "type": "table"
      }
     },
     "output_type": "display_data"
    }
   ],
   "source": [
    "from pyspark.ml.feature import VectorAssembler, MinMaxScaler\n",
    "\n",
    "# Create a vector column containing all numeric features\n",
    "numericFeatures = [\"CulmenLength\", \"CulmenDepth\", \"FlipperLength\", \"BodyMass\"]\n",
    "numericColVector = VectorAssembler(inputCols=numericFeatures, outputCol=\"numericFeatures\")\n",
    "vectorizedData = numericColVector.transform(indexedData)\n",
    "   \n",
    "# Use a MinMax scaler to normalize the numeric values in the vector\n",
    "minMax = MinMaxScaler(inputCol = numericColVector.getOutputCol(), outputCol=\"normalizedFeatures\")\n",
    "scaledData = minMax.fit(vectorizedData).transform(vectorizedData)\n",
    "   \n",
    "# Display the data with numeric feature vectors (before and after scaling)\n",
    "compareNumerics = scaledData.select(\"numericFeatures\", \"normalizedFeatures\")\n",
    "display(compareNumerics)"
   ]
  },
  {
   "cell_type": "code",
   "execution_count": 0,
   "metadata": {
    "application/vnd.databricks.v1+cell": {
     "cellMetadata": {
      "byteLimit": 2048000,
      "rowLimit": 10000
     },
     "inputWidgets": {},
     "nuid": "1a1950b3-0446-44b6-a1aa-686be3092a40",
     "showTitle": false,
     "title": ""
    }
   },
   "outputs": [
    {
     "output_type": "display_data",
     "data": {
      "text/html": [
       "<style scoped>\n",
       "  .table-result-container {\n",
       "    max-height: 300px;\n",
       "    overflow: auto;\n",
       "  }\n",
       "  table, th, td {\n",
       "    border: 1px solid black;\n",
       "    border-collapse: collapse;\n",
       "  }\n",
       "  th, td {\n",
       "    padding: 5px;\n",
       "  }\n",
       "  th {\n",
       "    text-align: left;\n",
       "  }\n",
       "</style><div class='table-result-container'><table class='table-result'><thead style='background-color: white'><tr><th>features</th><th>label</th></tr></thead><tbody><tr><td>Map(vectorType -> dense, length -> 5, values -> List(0.0, 0.03831417848516463, 0.6172839215462804, 0.2542372881355932, 0.05555555555555555))</td><td>0</td></tr><tr><td>Map(vectorType -> dense, length -> 5, values -> List(0.0, 0.05747126772774694, 0.5925924704943777, 0.3050847457627119, 0.20833333333333334))</td><td>0</td></tr><tr><td>Map(vectorType -> dense, length -> 5, values -> List(0.0, 0.05747126772774694, 0.5925924704943777, 0.3389830508474576, 0.2847222222222222))</td><td>0</td></tr><tr><td>Map(vectorType -> dense, length -> 5, values -> List(0.0, 0.07662835697032926, 0.3827160784537196, 0.3898305084745763, 0.18055555555555555))</td><td>0</td></tr><tr><td>Map(vectorType -> dense, length -> 5, values -> List(0.0, 0.08429122189876057, 0.4691356861851216, 0.22033898305084745, 0.125))</td><td>0</td></tr><tr><td>Map(vectorType -> dense, length -> 5, values -> List(0.0, 0.09195408682719187, 0.7530864313814878, 0.288135593220339, 0.3055555555555556))</td><td>0</td></tr><tr><td>Map(vectorType -> dense, length -> 5, values -> List(0.0, 0.11111117606977418, 0.4938271372370243, 0.2033898305084746, 0.041666666666666664))</td><td>0</td></tr><tr><td>Map(vectorType -> dense, length -> 5, values -> List(0.0, 0.11494253545549388, 0.43209874508239626, 0.15254237288135594, 0.041666666666666664))</td><td>0</td></tr><tr><td>Map(vectorType -> dense, length -> 5, values -> List(0.0, 0.15708807332637822, 0.48148141171107295, 0.22033898305084745, 0.25))</td><td>0</td></tr><tr><td>Map(vectorType -> dense, length -> 5, values -> List(0.0, 0.15708807332637822, 0.7407407058555364, 0.3728813559322034, 0.2916666666666667))</td><td>0</td></tr><tr><td>Map(vectorType -> dense, length -> 5, values -> List(0.0, 0.1609195788690898, 0.3580246274018169, 0.1864406779661017, 0.10416666666666667))</td><td>0</td></tr><tr><td>Map(vectorType -> dense, length -> 5, values -> List(0.0, 0.1609195788690898, 0.6913580392268598, 0.13559322033898305, 0.25))</td><td>0</td></tr><tr><td>Map(vectorType -> dense, length -> 5, values -> List(0.0, 0.16475093825480952, 0.6419751371230543, 0.03389830508474576, 0.19444444444444445))</td><td>0</td></tr><tr><td>Map(vectorType -> dense, length -> 5, values -> List(0.0, 0.16475093825480952, 0.8518517646388412, 0.3050847457627119, 0.4305555555555556))</td><td>0</td></tr><tr><td>Map(vectorType -> dense, length -> 5, values -> List(0.0, 0.16858244379752113, 0.6790123137009084, 0.0, 0.125))</td><td>0</td></tr><tr><td>Map(vectorType -> dense, length -> 5, values -> List(0.0, 0.17624516256896053, 0.4197530195564449, 0.4406779661016949, 0.3125))</td><td>0</td></tr><tr><td>Map(vectorType -> dense, length -> 5, values -> List(0.0, 0.17624516256896053, 0.48148141171107295, 0.15254237288135594, 0.13194444444444445))</td><td>0</td></tr><tr><td>Map(vectorType -> dense, length -> 5, values -> List(0.0, 0.18007666811167214, 0.8518517646388412, 0.3050847457627119, 0.3333333333333333))</td><td>0</td></tr><tr><td>Map(vectorType -> dense, length -> 5, values -> List(0.0, 0.19540225181154283, 0.5061728627629757, 0.4576271186440678, 0.2916666666666667))</td><td>0</td></tr><tr><td>Map(vectorType -> dense, length -> 5, values -> List(0.0, 0.20306511673997416, 0.5061728627629757, 0.13559322033898305, 0.3055555555555556))</td><td>0</td></tr><tr><td>Map(vectorType -> dense, length -> 5, values -> List(0.0, 0.23371643029670747, 0.938271607845372, 0.3220338983050847, 0.3333333333333333))</td><td>0</td></tr><tr><td>Map(vectorType -> dense, length -> 5, values -> List(0.0, 0.23754793583941908, 0.5679012549176037, 0.3559322033898305, 0.1388888888888889))</td><td>0</td></tr><tr><td>Map(vectorType -> dense, length -> 5, values -> List(0.0, 0.23754793583941908, 0.7160492548036338, 0.2033898305084746, 0.2361111111111111))</td><td>0</td></tr><tr><td>Map(vectorType -> dense, length -> 5, values -> List(0.0, 0.25287351953928977, 0.7160492548036338, 0.2711864406779661, 0.4444444444444444))</td><td>0</td></tr><tr><td>Map(vectorType -> dense, length -> 5, values -> List(0.0, 0.2681992493961524, 0.5925924704943777, 0.2542372881355932, 0.1388888888888889))</td><td>0</td></tr><tr><td>Map(vectorType -> dense, length -> 5, values -> List(0.0, 0.2681992493961524, 0.7160492548036338, 0.13559322033898305, 0.3472222222222222))</td><td>0</td></tr><tr><td>Map(vectorType -> dense, length -> 5, values -> List(0.0, 0.2720306087818721, 0.6790123137009084, 0.1864406779661017, 0.2361111111111111))</td><td>0</td></tr><tr><td>Map(vectorType -> dense, length -> 5, values -> List(0.0, 0.283524979253015, 0.07407399994301501, 0.711864406779661, 0.5416666666666666))</td><td>1</td></tr><tr><td>Map(vectorType -> dense, length -> 5, values -> List(0.0, 0.29118769802445443, 0.6296296470722318, 0.3389830508474576, 0.375))</td><td>0</td></tr><tr><td>Map(vectorType -> dense, length -> 5, values -> List(0.0, 0.2988505629528857, 0.9876542744740486, 0.3898305084745763, 0.4722222222222222))</td><td>0</td></tr><tr><td>Map(vectorType -> dense, length -> 5, values -> List(0.0, 0.3026820684955973, 0.6790123137009084, 0.3220338983050847, 0.2777777777777778))</td><td>0</td></tr><tr><td>Map(vectorType -> dense, length -> 5, values -> List(0.0, 0.31034478726703674, 0.604938196020329, 0.3389830508474576, 0.3472222222222222))</td><td>0</td></tr><tr><td>Map(vectorType -> dense, length -> 5, values -> List(0.0, 0.32567051712389933, 0.04938266662867668, 0.6440677966101694, 0.4027777777777778))</td><td>1</td></tr><tr><td>Map(vectorType -> dense, length -> 5, values -> List(0.0, 0.32567051712389933, 0.7901233724842132, 0.4745762711864407, 0.375))</td><td>0</td></tr><tr><td>Map(vectorType -> dense, length -> 5, values -> List(0.0, 0.34865896575220134, 0.07407399994301501, 0.6949152542372882, 0.625))</td><td>1</td></tr><tr><td>Map(vectorType -> dense, length -> 5, values -> List(0.0, 0.35249047129491295, 0.07407399994301501, 0.6101694915254238, 0.3472222222222222))</td><td>1</td></tr><tr><td>Map(vectorType -> dense, length -> 5, values -> List(0.0, 0.35249047129491295, 0.6419751371230543, 0.4067796610169492, 0.3819444444444444))</td><td>0</td></tr><tr><td>Map(vectorType -> dense, length -> 5, values -> List(0.0, 0.3601533362233443, 0.0, 0.7288135593220338, 0.6388888888888888))</td><td>1</td></tr><tr><td>Map(vectorType -> dense, length -> 5, values -> List(0.0, 0.37164756053749526, 0.7283949803295852, 0.423728813559322, 0.5763888888888888))</td><td>0</td></tr><tr><td>Map(vectorType -> dense, length -> 5, values -> List(0.0, 0.37547891992321497, 0.03703694110272532, 0.6271186440677966, 0.4722222222222222))</td><td>1</td></tr><tr><td>Map(vectorType -> dense, length -> 5, values -> List(0.0, 0.37547891992321497, 0.11111105878330473, 0.6101694915254238, 0.5208333333333334))</td><td>1</td></tr><tr><td>Map(vectorType -> dense, length -> 5, values -> List(0.0, 0.386973144237366, 0.09876533325735336, 0.7627118644067796, 0.6111111111111112))</td><td>1</td></tr><tr><td>Map(vectorType -> dense, length -> 5, values -> List(0.0, 0.3946360091657973, 0.09876533325735336, 0.6101694915254238, 0.4444444444444444))</td><td>1</td></tr><tr><td>Map(vectorType -> dense, length -> 5, values -> List(0.0, 0.4214559633368109, 0.14814811762359442, 0.7457627118644068, 0.3888888888888889))</td><td>1</td></tr><tr><td>Map(vectorType -> dense, length -> 5, values -> List(0.0, 0.4214559633368109, 0.32098756856152716, 0.7627118644067796, 0.6041666666666666))</td><td>1</td></tr><tr><td>Map(vectorType -> dense, length -> 5, values -> List(0.0, 0.43678169319367355, 0.08641972546896638, 0.6779661016949152, 0.5694444444444444))</td><td>1</td></tr><tr><td>Map(vectorType -> dense, length -> 5, values -> List(0.0, 0.4406130525793932, 0.2839505097212375, 0.8135593220338984, 0.6527777777777778))</td><td>1</td></tr><tr><td>Map(vectorType -> dense, length -> 5, values -> List(0.0, 0.4444444119651129, 0.1604937254119814, 0.6440677966101694, 0.4722222222222222))</td><td>1</td></tr><tr><td>Map(vectorType -> dense, length -> 5, values -> List(0.0, 0.4444444119651129, 0.17283945093793276, 0.5932203389830508, 0.6527777777777778))</td><td>1</td></tr><tr><td>Map(vectorType -> dense, length -> 5, values -> List(0.0, 0.4444444119651129, 0.17283945093793276, 0.7288135593220338, 0.6388888888888888))</td><td>1</td></tr><tr><td>Map(vectorType -> dense, length -> 5, values -> List(0.0, 0.44827591750782453, 0.08641972546896638, 0.7288135593220338, 0.5694444444444444))</td><td>1</td></tr><tr><td>Map(vectorType -> dense, length -> 5, values -> List(0.0, 0.44827591750782453, 0.20987650977822245, 0.6779661016949152, 0.6944444444444444))</td><td>1</td></tr><tr><td>Map(vectorType -> dense, length -> 5, values -> List(0.0, 0.45210727689354424, 0.07407399994301501, 0.6440677966101694, 0.4444444444444444))</td><td>1</td></tr><tr><td>Map(vectorType -> dense, length -> 5, values -> List(0.0, 0.45210727689354424, 0.08641972546896638, 0.6101694915254238, 0.4166666666666667))</td><td>1</td></tr><tr><td>Map(vectorType -> dense, length -> 5, values -> List(0.0, 0.45593878243625585, 0.1851851764638841, 0.6610169491525424, 0.5833333333333334))</td><td>1</td></tr><tr><td>Map(vectorType -> dense, length -> 5, values -> List(0.0, 0.4597701418219755, 0.09876533325735336, 0.6440677966101694, 0.4166666666666667))</td><td>1</td></tr><tr><td>Map(vectorType -> dense, length -> 5, values -> List(0.0, 0.4597701418219755, 0.17283945093793276, 0.6779661016949152, 0.5694444444444444))</td><td>1</td></tr><tr><td>Map(vectorType -> dense, length -> 5, values -> List(0.0, 0.4636015012076952, 0.8888887057415665, 0.3220338983050847, 0.5277777777777778))</td><td>0</td></tr><tr><td>Map(vectorType -> dense, length -> 5, values -> List(0.0, 0.46743300675040683, 0.09876533325735336, 0.711864406779661, 0.4722222222222222))</td><td>1</td></tr><tr><td>Map(vectorType -> dense, length -> 5, values -> List(0.0, 0.47126436613612654, 0.13580239209764305, 0.7966101694915254, 0.5555555555555556))</td><td>1</td></tr><tr><td>Map(vectorType -> dense, length -> 5, values -> List(0.0, 0.4827585904502775, 0.012345607788386979, 0.6610169491525424, 0.5))</td><td>1</td></tr><tr><td>Map(vectorType -> dense, length -> 5, values -> List(0.0, 0.48659009599298914, 0.12345678430925608, 0.7627118644067796, 0.4652777777777778))</td><td>1</td></tr><tr><td>Map(vectorType -> dense, length -> 5, values -> List(0.0, 0.48659009599298914, 0.1604937254119814, 0.711864406779661, 0.5416666666666666))</td><td>1</td></tr><tr><td>Map(vectorType -> dense, length -> 5, values -> List(0.0, 0.48659009599298914, 0.17283945093793276, 0.6271186440677966, 0.5833333333333334))</td><td>1</td></tr><tr><td>Map(vectorType -> dense, length -> 5, values -> List(0.0, 0.48659009599298914, 0.22222211756660945, 0.8305084745762712, 0.7222222222222222))</td><td>1</td></tr><tr><td>Map(vectorType -> dense, length -> 5, values -> List(0.0, 0.49425296092142046, 0.2345678430925608, 0.7457627118644068, 0.5555555555555556))</td><td>1</td></tr><tr><td>Map(vectorType -> dense, length -> 5, values -> List(0.0, 0.49808432030714017, 0.04938266662867668, 0.6440677966101694, 0.5138888888888888))</td><td>1</td></tr><tr><td>Map(vectorType -> dense, length -> 5, values -> List(0.0, 0.49808432030714017, 0.1604937254119814, 0.7627118644067796, 0.6111111111111112))</td><td>1</td></tr><tr><td>Map(vectorType -> dense, length -> 5, values -> List(0.0, 0.49808432030714017, 0.17283945093793276, 0.6949152542372882, 0.4722222222222222))</td><td>1</td></tr><tr><td>Map(vectorType -> dense, length -> 5, values -> List(0.0, 0.5019156796928599, 0.13580239209764305, 0.6440677966101694, 0.5972222222222222))</td><td>1</td></tr><tr><td>Map(vectorType -> dense, length -> 5, values -> List(0.0, 0.5057471852355715, 0.2716049019328505, 0.7966101694915254, 0.6944444444444444))</td><td>1</td></tr><tr><td>Map(vectorType -> dense, length -> 5, values -> List(0.0, 0.5095785446212912, 0.14814811762359442, 0.7288135593220338, 0.5972222222222222))</td><td>1</td></tr><tr><td>Map(vectorType -> dense, length -> 5, values -> List(0.0, 0.5095785446212912, 0.2839505097212375, 0.7288135593220338, 0.6805555555555556))</td><td>1</td></tr><tr><td>Map(vectorType -> dense, length -> 5, values -> List(0.0, 0.5134100501640028, 0.1851851764638841, 0.847457627118644, 0.6041666666666666))</td><td>1</td></tr><tr><td>Map(vectorType -> dense, length -> 5, values -> List(0.0, 0.5249042744781538, 0.07407399994301501, 0.711864406779661, 0.6180555555555556))</td><td>1</td></tr><tr><td>Map(vectorType -> dense, length -> 5, values -> List(0.0, 0.5249042744781538, 0.29629623524718884, 0.7288135593220338, 0.6319444444444444))</td><td>1</td></tr><tr><td>Map(vectorType -> dense, length -> 5, values -> List(0.0, 0.5287356338638735, 0.08641972546896638, 0.7457627118644068, 0.5625))</td><td>1</td></tr><tr><td>Map(vectorType -> dense, length -> 5, values -> List(0.0, 0.5287356338638735, 0.2716049019328505, 0.847457627118644, 0.7083333333333334))</td><td>1</td></tr><tr><td>Map(vectorType -> dense, length -> 5, values -> List(0.0, 0.5325671394065851, 0.1851851764638841, 0.6779661016949152, 0.5625))</td><td>1</td></tr><tr><td>Map(vectorType -> dense, length -> 5, values -> List(0.0, 0.5363984987923048, 0.11111105878330473, 0.6779661016949152, 0.6041666666666666))</td><td>1</td></tr><tr><td>Map(vectorType -> dense, length -> 5, values -> List(0.0, 0.5363984987923048, 0.13580239209764305, 0.6271186440677966, 0.5277777777777778))</td><td>1</td></tr><tr><td>Map(vectorType -> dense, length -> 5, values -> List(0.0, 0.5363984987923048, 0.2345678430925608, 0.7796610169491526, 0.625))</td><td>1</td></tr><tr><td>Map(vectorType -> dense, length -> 5, values -> List(0.0, 0.5440613637207361, 0.2345678430925608, 0.7457627118644068, 0.5694444444444444))</td><td>1</td></tr><tr><td>Map(vectorType -> dense, length -> 5, values -> List(0.0, 0.5478927231064558, 0.2345678430925608, 0.7288135593220338, 0.8194444444444444))</td><td>1</td></tr><tr><td>Map(vectorType -> dense, length -> 5, values -> List(0.0, 0.5593869474206068, 0.24691356861851216, 0.6271186440677966, 0.7777777777777778))</td><td>1</td></tr><tr><td>Map(vectorType -> dense, length -> 5, values -> List(0.0, 0.5632184529633184, 0.3086419607731402, 0.8305084745762712, 0.6666666666666666))</td><td>1</td></tr><tr><td>Map(vectorType -> dense, length -> 5, values -> List(0.0, 0.5708813178917497, 0.1604937254119814, 0.5254237288135594, 0.5347222222222222))</td><td>1</td></tr><tr><td>Map(vectorType -> dense, length -> 5, values -> List(0.0, 0.5708813178917497, 0.1851851764638841, 0.6949152542372882, 0.875))</td><td>1</td></tr><tr><td>Map(vectorType -> dense, length -> 5, values -> List(0.0, 0.5747126772774694, 0.2345678430925608, 0.7966101694915254, 0.5972222222222222))</td><td>1</td></tr><tr><td>Map(vectorType -> dense, length -> 5, values -> List(0.0, 0.5823755422059007, 0.12345678430925608, 0.6440677966101694, 0.4861111111111111))</td><td>1</td></tr><tr><td>Map(vectorType -> dense, length -> 5, values -> List(0.0, 0.5823755422059007, 0.24691356861851216, 0.847457627118644, 0.7361111111111112))</td><td>1</td></tr><tr><td>Map(vectorType -> dense, length -> 5, values -> List(0.0, 0.5823755422059007, 0.32098756856152716, 0.6101694915254238, 0.7361111111111112))</td><td>1</td></tr><tr><td>Map(vectorType -> dense, length -> 5, values -> List(0.0, 0.5938697665200517, 0.3703703529277682, 0.7457627118644068, 0.7916666666666666))</td><td>1</td></tr><tr><td>Map(vectorType -> dense, length -> 5, values -> List(0.0, 0.5977011259057714, 0.17283945093793276, 0.6779661016949152, 0.5347222222222222))</td><td>1</td></tr><tr><td>Map(vectorType -> dense, length -> 5, values -> List(0.0, 0.601532631448483, 0.25925917640689916, 0.8305084745762712, 1.0))</td><td>1</td></tr><tr><td>Map(vectorType -> dense, length -> 5, values -> List(0.0, 0.6053639908342028, 0.32098756856152716, 0.7627118644067796, 0.875))</td><td>1</td></tr><tr><td>Map(vectorType -> dense, length -> 5, values -> List(0.0, 0.6091954963769144, 0.3333332940874785, 0.7457627118644068, 0.6180555555555556))</td><td>1</td></tr><tr><td>Map(vectorType -> dense, length -> 5, values -> List(0.0, 0.613026855762634, 0.3703703529277682, 0.8813559322033898, 0.8194444444444444))</td><td>1</td></tr><tr><td>Map(vectorType -> dense, length -> 5, values -> List(0.0, 0.613026855762634, 0.3827160784537196, 0.9661016949152542, 0.8611111111111112))</td><td>1</td></tr><tr><td>Map(vectorType -> dense, length -> 5, values -> List(0.0, 0.6168582151483537, 0.3580246274018169, 0.8983050847457628, 0.8333333333333334))</td><td>1</td></tr><tr><td>Map(vectorType -> dense, length -> 5, values -> List(0.0, 0.6245210800767851, 0.34567890187586553, 0.9661016949152542, 0.9027777777777778))</td><td>1</td></tr><tr><td>Map(vectorType -> dense, length -> 5, values -> List(0.0, 0.6245210800767851, 0.4567899606591702, 0.9830508474576272, 0.8333333333333334))</td><td>1</td></tr><tr><td>Map(vectorType -> dense, length -> 5, values -> List(0.0, 0.6283525856194967, 0.3703703529277682, 0.6949152542372882, 0.75))</td><td>1</td></tr><tr><td>Map(vectorType -> dense, length -> 5, values -> List(0.0, 0.6321839450052164, 0.25925917640689916, 0.7796610169491526, 0.8333333333333334))</td><td>1</td></tr><tr><td>Map(vectorType -> dense, length -> 5, values -> List(0.0, 0.6321839450052164, 0.3950615685045422, 0.9830508474576272, 0.8333333333333334))</td><td>1</td></tr><tr><td>Map(vectorType -> dense, length -> 5, values -> List(0.0, 0.636015304390936, 0.2345678430925608, 0.8983050847457628, 0.6388888888888888))</td><td>1</td></tr><tr><td>Map(vectorType -> dense, length -> 5, values -> List(0.0, 0.647509674862079, 0.2716049019328505, 0.8813559322033898, 0.7916666666666666))</td><td>1</td></tr><tr><td>Map(vectorType -> dense, length -> 5, values -> List(0.0, 0.647509674862079, 0.32098756856152716, 0.847457627118644, 0.8472222222222222))</td><td>1</td></tr><tr><td>Map(vectorType -> dense, length -> 5, values -> List(0.0, 0.6513410342477987, 0.34567890187586553, 0.8983050847457628, 0.75))</td><td>1</td></tr><tr><td>Map(vectorType -> dense, length -> 5, values -> List(0.0, 0.65900389917623, 0.2345678430925608, 0.864406779661017, 0.7916666666666666))</td><td>1</td></tr><tr><td>Map(vectorType -> dense, length -> 5, values -> List(0.0, 0.6628352585619497, 0.5185183528137983, 0.9491525423728814, 0.8055555555555556))</td><td>1</td></tr><tr><td>Map(vectorType -> dense, length -> 5, values -> List(0.0, 0.6743294828761007, 0.3950615685045422, 0.8135593220338984, 0.9166666666666666))</td><td>1</td></tr><tr><td>Map(vectorType -> dense, length -> 5, values -> List(0.0, 0.6743294828761007, 0.4197530195564449, 0.8983050847457628, 0.7083333333333334))</td><td>1</td></tr><tr><td>Map(vectorType -> dense, length -> 5, values -> List(0.0, 0.681992347804532, 0.13580239209764305, 0.7796610169491526, 0.7222222222222222))</td><td>1</td></tr><tr><td>Map(vectorType -> dense, length -> 5, values -> List(0.0, 0.7126436613612653, 0.48148141171107295, 0.9830508474576272, 0.7916666666666666))</td><td>1</td></tr><tr><td>Map(vectorType -> dense, length -> 5, values -> List(0.0, 0.7969348832600259, 0.32098756856152716, 1.0, 0.8194444444444444))</td><td>1</td></tr><tr><td>Map(vectorType -> dense, length -> 5, values -> List(0.0, 0.8275861968167592, 0.3580246274018169, 0.9830508474576272, 0.875))</td><td>1</td></tr><tr><td>Map(vectorType -> dense, length -> 5, values -> List(0.0, 0.8582376565304844, 0.48148141171107295, 0.9491525423728814, 0.8055555555555556))</td><td>1</td></tr><tr><td>Map(vectorType -> dense, length -> 5, values -> List(0.0, 1.0, 0.48148141171107295, 0.9830508474576272, 0.9305555555555556))</td><td>1</td></tr><tr><td>Map(vectorType -> dense, length -> 5, values -> List(1.0, 0.019157089242582314, 0.4938271372370243, 0.22033898305084745, 0.19444444444444445))</td><td>0</td></tr><tr><td>Map(vectorType -> dense, length -> 5, values -> List(1.0, 0.08045971635604895, 0.543209803865701, 0.3220338983050847, 0.13194444444444445))</td><td>0</td></tr><tr><td>Map(vectorType -> dense, length -> 5, values -> List(1.0, 0.08429122189876057, 0.604938196020329, 0.5084745762711864, 0.2361111111111111))</td><td>0</td></tr><tr><td>Map(vectorType -> dense, length -> 5, values -> List(1.0, 0.09578544621291157, 0.4938271372370243, 0.2542372881355932, 0.2777777777777778))</td><td>0</td></tr><tr><td>Map(vectorType -> dense, length -> 5, values -> List(1.0, 0.09578544621291157, 0.5925924704943777, 0.3050847457627119, 0.20833333333333334))</td><td>0</td></tr><tr><td>Map(vectorType -> dense, length -> 5, values -> List(1.0, 0.10344831114134288, 0.5185183528137983, 0.2542372881355932, 0.16666666666666666))</td><td>0</td></tr><tr><td>Map(vectorType -> dense, length -> 5, values -> List(1.0, 0.10727967052706258, 0.7901233724842132, 0.3050847457627119, 0.3055555555555556))</td><td>0</td></tr><tr><td>Map(vectorType -> dense, length -> 5, values -> List(1.0, 0.11111117606977418, 0.48148141171107295, 0.3898305084745763, 0.1736111111111111))</td><td>0</td></tr><tr><td>Map(vectorType -> dense, length -> 5, values -> List(1.0, 0.11494253545549388, 0.604938196020329, 0.1694915254237288, 0.125))</td><td>0</td></tr><tr><td>Map(vectorType -> dense, length -> 5, values -> List(1.0, 0.11877389484121359, 0.6543208626490057, 0.2033898305084746, 0.2152777777777778))</td><td>0</td></tr><tr><td>Map(vectorType -> dense, length -> 5, values -> List(1.0, 0.1340996246980762, 0.4197530195564449, 0.22033898305084745, 0.19444444444444445))</td><td>0</td></tr><tr><td>Map(vectorType -> dense, length -> 5, values -> List(1.0, 0.1417624896265075, 0.6172839215462804, 0.1016949152542373, 0.3333333333333333))</td><td>0</td></tr><tr><td>Map(vectorType -> dense, length -> 5, values -> List(1.0, 0.14559384901222722, 0.4567899606591702, 0.3389830508474576, 0.08333333333333333))</td><td>0</td></tr><tr><td>Map(vectorType -> dense, length -> 5, values -> List(1.0, 0.1532567139406585, 0.666666588174957, 0.4576271186440678, 0.4930555555555556))</td><td>0</td></tr><tr><td>Map(vectorType -> dense, length -> 5, values -> List(1.0, 0.1532567139406585, 0.7160492548036338, 0.11864406779661017, 0.0763888888888889))</td><td>0</td></tr><tr><td>Map(vectorType -> dense, length -> 5, values -> List(1.0, 0.15708807332637822, 0.7654319214323104, 0.15254237288135594, 0.16666666666666666))</td><td>0</td></tr><tr><td>Map(vectorType -> dense, length -> 5, values -> List(1.0, 0.16475093825480952, 0.6172839215462804, 0.3559322033898305, 0.2916666666666667))</td><td>0</td></tr><tr><td>Map(vectorType -> dense, length -> 5, values -> List(1.0, 0.17624516256896053, 0.5555555293916523, 0.2542372881355932, 0.2013888888888889))</td><td>0</td></tr><tr><td>Map(vectorType -> dense, length -> 5, values -> List(1.0, 0.17624516256896053, 0.6790123137009084, 0.3050847457627119, 0.2777777777777778))</td><td>0</td></tr><tr><td>Map(vectorType -> dense, length -> 5, values -> List(1.0, 0.21839084659683677, 0.6790123137009084, 0.3050847457627119, 0.4305555555555556))</td><td>0</td></tr><tr><td>Map(vectorType -> dense, length -> 5, values -> List(1.0, 0.21839084659683677, 0.9876542744740486, 0.4067796610169492, 0.4027777777777778))</td><td>0</td></tr><tr><td>Map(vectorType -> dense, length -> 5, values -> List(1.0, 0.22988507091098775, 0.5802467449684263, 0.2711864406779661, 0.16666666666666666))</td><td>0</td></tr><tr><td>Map(vectorType -> dense, length -> 5, values -> List(1.0, 0.23371643029670747, 0.6172839215462804, 0.23728813559322035, 0.4861111111111111))</td><td>0</td></tr><tr><td>Map(vectorType -> dense, length -> 5, values -> List(1.0, 0.23371643029670747, 0.7037035292776824, 0.3050847457627119, 0.5277777777777778))</td><td>0</td></tr><tr><td>Map(vectorType -> dense, length -> 5, values -> List(1.0, 0.23754793583941908, 0.5925924704943777, 0.3559322033898305, 0.4305555555555556))</td><td>0</td></tr><tr><td>Map(vectorType -> dense, length -> 5, values -> List(1.0, 0.24137929522513876, 0.7407407058555364, 0.2033898305084746, 0.5416666666666666))</td><td>0</td></tr><tr><td>Map(vectorType -> dense, length -> 5, values -> List(1.0, 0.2567050250820014, 0.4938271372370243, 0.3559322033898305, 0.19444444444444445))</td><td>0</td></tr><tr><td>Map(vectorType -> dense, length -> 5, values -> List(1.0, 0.2605363844677211, 0.666666588174957, 0.4067796610169492, 0.4583333333333333))</td><td>0</td></tr><tr><td>Map(vectorType -> dense, length -> 5, values -> List(1.0, 0.2720306087818721, 0.5061728627629757, 0.2542372881355932, 0.2152777777777778))</td><td>0</td></tr><tr><td>Map(vectorType -> dense, length -> 5, values -> List(1.0, 0.2758621143245837, 0.48148141171107295, 0.3050847457627119, 0.2847222222222222))</td><td>0</td></tr><tr><td>Map(vectorType -> dense, length -> 5, values -> List(1.0, 0.2796934737103034, 0.6543208626490057, 0.3898305084745763, 0.3333333333333333))</td><td>0</td></tr><tr><td>Map(vectorType -> dense, length -> 5, values -> List(1.0, 0.283524979253015, 0.43209874508239626, 0.2542372881355932, 0.1388888888888889))</td><td>2</td></tr><tr><td>Map(vectorType -> dense, length -> 5, values -> List(1.0, 0.283524979253015, 0.7160492548036338, 0.2033898305084746, 0.3333333333333333))</td><td>0</td></tr><tr><td>Map(vectorType -> dense, length -> 5, values -> List(1.0, 0.29118769802445443, 0.543209803865701, 0.3050847457627119, 0.3333333333333333))</td><td>0</td></tr><tr><td>Map(vectorType -> dense, length -> 5, values -> List(1.0, 0.29118769802445443, 0.6172839215462804, 0.559322033898305, 0.4444444444444444))</td><td>0</td></tr><tr><td>Map(vectorType -> dense, length -> 5, values -> List(1.0, 0.29118769802445443, 0.7283949803295852, 0.1694915254237288, 0.2013888888888889))</td><td>0</td></tr><tr><td>Map(vectorType -> dense, length -> 5, values -> List(1.0, 0.33333338205233065, 0.666666588174957, 0.13559322033898305, 0.2361111111111111))</td><td>0</td></tr><tr><td>Map(vectorType -> dense, length -> 5, values -> List(1.0, 0.33716474143805036, 1.0, 0.3220338983050847, 0.4027777777777778))</td><td>0</td></tr><tr><td>Map(vectorType -> dense, length -> 5, values -> List(1.0, 0.340996246980762, 0.5185183528137983, 0.15254237288135594, 0.25))</td><td>2</td></tr><tr><td>Map(vectorType -> dense, length -> 5, values -> List(1.0, 0.37164756053749526, 0.43209874508239626, 0.2542372881355932, 0.05555555555555555))</td><td>2</td></tr><tr><td>Map(vectorType -> dense, length -> 5, values -> List(1.0, 0.3831417848516463, 0.6172839215462804, 0.5084745762711864, 0.19444444444444445))</td><td>2</td></tr><tr><td>Map(vectorType -> dense, length -> 5, values -> List(1.0, 0.44827591750782453, 0.5802467449684263, 0.4406779661016949, 0.3472222222222222))</td><td>2</td></tr><tr><td>Map(vectorType -> dense, length -> 5, values -> List(1.0, 0.4636015012076952, 0.7777776469582618, 0.3728813559322034, 0.22916666666666666))</td><td>2</td></tr><tr><td>Map(vectorType -> dense, length -> 5, values -> List(1.0, 0.46743300675040683, 0.48148141171107295, 0.3898305084745763, 0.2638888888888889))</td><td>2</td></tr><tr><td>Map(vectorType -> dense, length -> 5, values -> List(1.0, 0.46743300675040683, 0.5185183528137983, 0.3559322033898305, 0.25))</td><td>2</td></tr><tr><td>Map(vectorType -> dense, length -> 5, values -> List(1.0, 0.47509587167883816, 0.4938271372370243, 0.3050847457627119, 0.24305555555555555))</td><td>2</td></tr><tr><td>Map(vectorType -> dense, length -> 5, values -> List(1.0, 0.47892723106455787, 0.7160492548036338, 0.3898305084745763, 0.4027777777777778))</td><td>2</td></tr><tr><td>Map(vectorType -> dense, length -> 5, values -> List(1.0, 0.4827585904502775, 0.6296296470722318, 0.1016949152542373, 0.1527777777777778))</td><td>2</td></tr><tr><td>Map(vectorType -> dense, length -> 5, values -> List(1.0, 0.48659009599298914, 0.543209803865701, 0.2542372881355932, 0.2638888888888889))</td><td>2</td></tr><tr><td>Map(vectorType -> dense, length -> 5, values -> List(1.0, 0.49425296092142046, 0.5802467449684263, 0.3220338983050847, 0.2777777777777778))</td><td>2</td></tr><tr><td>Map(vectorType -> dense, length -> 5, values -> List(1.0, 0.49425296092142046, 0.6790123137009084, 0.3050847457627119, 0.20833333333333334))</td><td>2</td></tr><tr><td>Map(vectorType -> dense, length -> 5, values -> List(1.0, 0.49808432030714017, 0.5925924704943777, 0.3389830508474576, 0.2222222222222222))</td><td>2</td></tr><tr><td>Map(vectorType -> dense, length -> 5, values -> List(1.0, 0.5057471852355715, 0.5925924704943777, 0.3898305084745763, 0.16666666666666666))</td><td>2</td></tr><tr><td>Map(vectorType -> dense, length -> 5, values -> List(1.0, 0.5095785446212912, 0.4197530195564449, 0.288135593220339, 0.2638888888888889))</td><td>2</td></tr><tr><td>Map(vectorType -> dense, length -> 5, values -> List(1.0, 0.5134100501640028, 0.43209874508239626, 0.3389830508474576, 0.0))</td><td>2</td></tr><tr><td>Map(vectorType -> dense, length -> 5, values -> List(1.0, 0.5172414095497225, 0.5185183528137983, 0.22033898305084745, 0.2777777777777778))</td><td>2</td></tr><tr><td>Map(vectorType -> dense, length -> 5, values -> List(1.0, 0.5363984987923048, 0.4567899606591702, 0.4576271186440678, 0.3333333333333333))</td><td>2</td></tr><tr><td>Map(vectorType -> dense, length -> 5, values -> List(1.0, 0.5402298581780245, 0.6419751371230543, 0.3898305084745763, 0.3194444444444444))</td><td>2</td></tr><tr><td>Map(vectorType -> dense, length -> 5, values -> List(1.0, 0.5593869474206068, 0.4074072940304936, 0.4576271186440678, 0.1736111111111111))</td><td>2</td></tr><tr><td>Map(vectorType -> dense, length -> 5, values -> List(1.0, 0.5747126772774694, 0.543209803865701, 0.3220338983050847, 0.19444444444444445))</td><td>2</td></tr><tr><td>Map(vectorType -> dense, length -> 5, values -> List(1.0, 0.5938697665200517, 0.7901233724842132, 0.6440677966101694, 0.3472222222222222))</td><td>2</td></tr><tr><td>Map(vectorType -> dense, length -> 5, values -> List(1.0, 0.5938697665200517, 0.8024690980101645, 0.6779661016949152, 0.4444444444444444))</td><td>2</td></tr><tr><td>Map(vectorType -> dense, length -> 5, values -> List(1.0, 0.6053639908342028, 0.8395060391128898, 0.5254237288135594, 0.375))</td><td>2</td></tr><tr><td>Map(vectorType -> dense, length -> 5, values -> List(1.0, 0.6206897206910653, 0.6790123137009084, 0.3898305084745763, 0.25))</td><td>2</td></tr><tr><td>Map(vectorType -> dense, length -> 5, values -> List(1.0, 0.6321839450052164, 0.7901233724842132, 0.4067796610169492, 0.3333333333333333))</td><td>2</td></tr><tr><td>Map(vectorType -> dense, length -> 5, values -> List(1.0, 0.6398468099336476, 0.6913580392268598, 0.4406779661016949, 0.2986111111111111))</td><td>2</td></tr><tr><td>Map(vectorType -> dense, length -> 5, values -> List(1.0, 0.6398468099336476, 0.7037035292776824, 0.5084745762711864, 0.3055555555555556))</td><td>2</td></tr><tr><td>Map(vectorType -> dense, length -> 5, values -> List(1.0, 0.6513410342477987, 0.6543208626490057, 0.4745762711864407, 0.19444444444444445))</td><td>2</td></tr><tr><td>Map(vectorType -> dense, length -> 5, values -> List(1.0, 0.6513410342477987, 0.8024690980101645, 0.4915254237288136, 0.375))</td><td>2</td></tr><tr><td>Map(vectorType -> dense, length -> 5, values -> List(1.0, 0.6551723936335184, 0.7777776469582618, 0.3559322033898305, 0.3055555555555556))</td><td>2</td></tr><tr><td>Map(vectorType -> dense, length -> 5, values -> List(1.0, 0.65900389917623, 0.8148148235361159, 0.5254237288135594, 0.375))</td><td>2</td></tr><tr><td>Map(vectorType -> dense, length -> 5, values -> List(1.0, 0.6628352585619497, 0.666666588174957, 0.4915254237288136, 0.4861111111111111))</td><td>2</td></tr><tr><td>Map(vectorType -> dense, length -> 5, values -> List(1.0, 0.6628352585619497, 0.7283949803295852, 0.6440677966101694, 0.3888888888888889))</td><td>2</td></tr><tr><td>Map(vectorType -> dense, length -> 5, values -> List(1.0, 0.6666667641046613, 0.5925924704943777, 0.4067796610169492, 0.2708333333333333))</td><td>2</td></tr><tr><td>Map(vectorType -> dense, length -> 5, values -> List(1.0, 0.6666667641046613, 0.7407407058555364, 0.4067796610169492, 0.2361111111111111))</td><td>2</td></tr><tr><td>Map(vectorType -> dense, length -> 5, values -> List(1.0, 0.670498123490381, 0.7037035292776824, 0.5254237288135594, 0.3888888888888889))</td><td>2</td></tr><tr><td>Map(vectorType -> dense, length -> 5, values -> List(1.0, 0.681992347804532, 0.6296296470722318, 0.423728813559322, 0.2916666666666667))</td><td>2</td></tr><tr><td>Map(vectorType -> dense, length -> 5, values -> List(1.0, 0.681992347804532, 0.8395060391128898, 0.4406779661016949, 0.2777777777777778))</td><td>2</td></tr><tr><td>Map(vectorType -> dense, length -> 5, values -> List(1.0, 0.6858238533472436, 0.7283949803295852, 0.4915254237288136, 0.3472222222222222))</td><td>2</td></tr><tr><td>Map(vectorType -> dense, length -> 5, values -> List(1.0, 0.6896552127329633, 0.6913580392268598, 0.2542372881355932, 0.1527777777777778))</td><td>2</td></tr><tr><td>Map(vectorType -> dense, length -> 5, values -> List(1.0, 0.6973180776613946, 0.8888887057415665, 0.3728813559322034, 0.2986111111111111))</td><td>2</td></tr><tr><td>Map(vectorType -> dense, length -> 5, values -> List(1.0, 0.7088123019755456, 0.938271607845372, 0.6440677966101694, 0.5833333333333334))</td><td>2</td></tr><tr><td>Map(vectorType -> dense, length -> 5, values -> List(1.0, 0.7356322561465592, 0.8271603135869384, 0.423728813559322, 0.2847222222222222))</td><td>2</td></tr><tr><td>Map(vectorType -> dense, length -> 5, values -> List(1.0, 0.7662835697032926, 0.8395060391128898, 0.559322033898305, 0.5))</td><td>2</td></tr><tr><td>Map(vectorType -> dense, length -> 5, values -> List(1.0, 0.7931035238743062, 0.9506170978961945, 0.4915254237288136, 0.4444444444444444))</td><td>2</td></tr><tr><td>Map(vectorType -> dense, length -> 5, values -> List(1.0, 0.8544061509877728, 0.8271603135869384, 0.5932203389830508, 0.3611111111111111))</td><td>2</td></tr><tr><td>Map(vectorType -> dense, length -> 5, values -> List(1.0, 0.9386973728865334, 0.5802467449684263, 0.15254237288135594, 0.2777777777777778))</td><td>2</td></tr><tr><td>Map(vectorType -> dense, length -> 5, values -> List(2.0, 0.0, 0.7283949803295852, 0.3050847457627119, 0.25))</td><td>0</td></tr><tr><td>Map(vectorType -> dense, length -> 5, values -> List(2.0, 0.03448281909944493, 0.6543208626490057, 0.2033898305084746, 0.1736111111111111))</td><td>0</td></tr><tr><td>Map(vectorType -> dense, length -> 5, values -> List(2.0, 0.04214553787088433, 0.9876542744740486, 0.4406779661016949, 0.4722222222222222))</td><td>0</td></tr><tr><td>Map(vectorType -> dense, length -> 5, values -> List(2.0, 0.06513413265617825, 0.34567890187586553, 0.23728813559322035, 0.09722222222222222))</td><td>0</td></tr><tr><td>Map(vectorType -> dense, length -> 5, values -> List(2.0, 0.07662835697032926, 0.543209803865701, 0.3050847457627119, 0.2777777777777778))</td><td>0</td></tr><tr><td>Map(vectorType -> dense, length -> 5, values -> List(2.0, 0.08429122189876057, 0.48148141171107295, 0.288135593220339, 0.18055555555555555))</td><td>0</td></tr><tr><td>Map(vectorType -> dense, length -> 5, values -> List(2.0, 0.09195408682719187, 0.43209874508239626, 0.3050847457627119, 0.09722222222222222))</td><td>0</td></tr><tr><td>Map(vectorType -> dense, length -> 5, values -> List(2.0, 0.10344831114134288, 0.3703703529277682, 0.2542372881355932, 0.2361111111111111))</td><td>0</td></tr><tr><td>Map(vectorType -> dense, length -> 5, values -> List(2.0, 0.11877389484121359, 0.5802467449684263, 0.22033898305084745, 0.2777777777777778))</td><td>0</td></tr><tr><td>Map(vectorType -> dense, length -> 5, values -> List(2.0, 0.12260540038392519, 0.7654319214323104, 0.3559322033898305, 0.20833333333333334))</td><td>0</td></tr><tr><td>Map(vectorType -> dense, length -> 5, values -> List(2.0, 0.1417624896265075, 0.7777776469582618, 0.2033898305084746, 0.3333333333333333))</td><td>0</td></tr><tr><td>Map(vectorType -> dense, length -> 5, values -> List(2.0, 0.16475093825480952, 0.5185183528137983, 0.13559322033898305, 0.2777777777777778))</td><td>0</td></tr><tr><td>Map(vectorType -> dense, length -> 5, values -> List(2.0, 0.19157089242582315, 0.5925924704943777, 0.3050847457627119, 0.1736111111111111))</td><td>0</td></tr><tr><td>Map(vectorType -> dense, length -> 5, values -> List(2.0, 0.19540225181154283, 1.0, 0.3220338983050847, 0.3055555555555556))</td><td>0</td></tr><tr><td>Map(vectorType -> dense, length -> 5, values -> List(2.0, 0.19923375735425444, 0.7283949803295852, 0.3898305084745763, 0.20833333333333334))</td><td>0</td></tr><tr><td>Map(vectorType -> dense, length -> 5, values -> List(2.0, 0.20306511673997416, 0.5555555293916523, 0.3220338983050847, 0.1597222222222222))</td><td>0</td></tr><tr><td>Map(vectorType -> dense, length -> 5, values -> List(2.0, 0.21072798166840545, 0.4938271372370243, 0.3220338983050847, 0.09722222222222222))</td><td>0</td></tr><tr><td>Map(vectorType -> dense, length -> 5, values -> List(2.0, 0.21455934105412516, 0.6913580392268598, 0.15254237288135594, 0.2916666666666667))</td><td>0</td></tr><tr><td>Map(vectorType -> dense, length -> 5, values -> List(2.0, 0.21839084659683677, 0.8024690980101645, 0.3898305084745763, 0.5486111111111112))</td><td>0</td></tr><tr><td>Map(vectorType -> dense, length -> 5, values -> List(2.0, 0.22222220598255646, 0.9259258823194206, 0.3050847457627119, 0.2638888888888889))</td><td>0</td></tr><tr><td>Map(vectorType -> dense, length -> 5, values -> List(2.0, 0.22988507091098775, 0.5308640783397497, 0.23728813559322035, 0.3055555555555556))</td><td>0</td></tr><tr><td>Map(vectorType -> dense, length -> 5, values -> List(2.0, 0.23371643029670747, 0.5061728627629757, 0.4067796610169492, 0.2361111111111111))</td><td>0</td></tr><tr><td>Map(vectorType -> dense, length -> 5, values -> List(2.0, 0.23754793583941908, 0.6543208626490057, 0.3050847457627119, 0.3333333333333333))</td><td>0</td></tr><tr><td>Map(vectorType -> dense, length -> 5, values -> List(2.0, 0.2567050250820014, 0.48148141171107295, 0.06779661016949153, 0.20833333333333334))</td><td>0</td></tr><tr><td>Map(vectorType -> dense, length -> 5, values -> List(2.0, 0.2605363844677211, 0.604938196020329, 0.3898305084745763, 0.1527777777777778))</td><td>0</td></tr><tr><td>Map(vectorType -> dense, length -> 5, values -> List(2.0, 0.3026820684955973, 0.666666588174957, 0.5084745762711864, 0.3263888888888889))</td><td>0</td></tr><tr><td>Map(vectorType -> dense, length -> 5, values -> List(2.0, 0.306513427881317, 0.6419751371230543, 0.3898305084745763, 0.4444444444444444))</td><td>0</td></tr><tr><td>Map(vectorType -> dense, length -> 5, values -> List(2.0, 0.318007652195468, 0.7777776469582618, 0.4406779661016949, 0.4861111111111111))</td><td>0</td></tr><tr><td>Map(vectorType -> dense, length -> 5, values -> List(2.0, 0.32567051712389933, 0.8765432156907439, 0.3050847457627119, 0.4305555555555556))</td><td>0</td></tr><tr><td>Map(vectorType -> dense, length -> 5, values -> List(2.0, 0.32950187650961904, 0.7407407058555364, 0.3898305084745763, 0.3611111111111111))</td><td>0</td></tr><tr><td>Map(vectorType -> dense, length -> 5, values -> List(2.0, 0.34482760636648163, 0.938271607845372, 0.423728813559322, 0.5))</td><td>0</td></tr><tr><td>Map(vectorType -> dense, length -> 5, values -> List(2.0, 0.35632183068063267, 0.666666588174957, 0.3898305084745763, 0.4305555555555556))</td><td>0</td></tr><tr><td>Map(vectorType -> dense, length -> 5, values -> List(2.0, 0.3601533362233443, 0.5555555293916523, 0.4067796610169492, 0.5555555555555556))</td><td>0</td></tr><tr><td>Map(vectorType -> dense, length -> 5, values -> List(2.0, 0.36781605499478365, 0.7530864313814878, 0.423728813559322, 0.2222222222222222))</td><td>0</td></tr><tr><td>Map(vectorType -> dense, length -> 5, values -> List(2.0, 0.4061302334799483, 0.604938196020329, 0.6440677966101694, 0.3611111111111111))</td><td>0</td></tr><tr><td>Map(vectorType -> dense, length -> 5, values -> List(2.0, 0.47126436613612654, 0.7160492548036338, 0.423728813559322, 0.4027777777777778))</td><td>0</td></tr></tbody></table></div>"
      ]
     },
     "metadata": {
      "application/vnd.databricks.v1+output": {
       "addedWidgets": {},
       "aggData": [],
       "aggError": "",
       "aggOverflow": false,
       "aggSchema": [],
       "aggSeriesLimitReached": false,
       "aggType": "",
       "arguments": {},
       "columnCustomDisplayInfos": {},
       "data": [
        [
         {
          "length": 5,
          "values": [
           0.0,
           0.03831417848516463,
           0.6172839215462804,
           0.2542372881355932,
           0.05555555555555555
          ],
          "vectorType": "dense"
         },
         0
        ],
        [
         {
          "length": 5,
          "values": [
           0.0,
           0.05747126772774694,
           0.5925924704943777,
           0.3050847457627119,
           0.20833333333333334
          ],
          "vectorType": "dense"
         },
         0
        ],
        [
         {
          "length": 5,
          "values": [
           0.0,
           0.05747126772774694,
           0.5925924704943777,
           0.3389830508474576,
           0.2847222222222222
          ],
          "vectorType": "dense"
         },
         0
        ],
        [
         {
          "length": 5,
          "values": [
           0.0,
           0.07662835697032926,
           0.3827160784537196,
           0.3898305084745763,
           0.18055555555555555
          ],
          "vectorType": "dense"
         },
         0
        ],
        [
         {
          "length": 5,
          "values": [
           0.0,
           0.08429122189876057,
           0.4691356861851216,
           0.22033898305084745,
           0.125
          ],
          "vectorType": "dense"
         },
         0
        ],
        [
         {
          "length": 5,
          "values": [
           0.0,
           0.09195408682719187,
           0.7530864313814878,
           0.288135593220339,
           0.3055555555555556
          ],
          "vectorType": "dense"
         },
         0
        ],
        [
         {
          "length": 5,
          "values": [
           0.0,
           0.11111117606977418,
           0.4938271372370243,
           0.2033898305084746,
           0.041666666666666664
          ],
          "vectorType": "dense"
         },
         0
        ],
        [
         {
          "length": 5,
          "values": [
           0.0,
           0.11494253545549388,
           0.43209874508239626,
           0.15254237288135594,
           0.041666666666666664
          ],
          "vectorType": "dense"
         },
         0
        ],
        [
         {
          "length": 5,
          "values": [
           0.0,
           0.15708807332637822,
           0.48148141171107295,
           0.22033898305084745,
           0.25
          ],
          "vectorType": "dense"
         },
         0
        ],
        [
         {
          "length": 5,
          "values": [
           0.0,
           0.15708807332637822,
           0.7407407058555364,
           0.3728813559322034,
           0.2916666666666667
          ],
          "vectorType": "dense"
         },
         0
        ],
        [
         {
          "length": 5,
          "values": [
           0.0,
           0.1609195788690898,
           0.3580246274018169,
           0.1864406779661017,
           0.10416666666666667
          ],
          "vectorType": "dense"
         },
         0
        ],
        [
         {
          "length": 5,
          "values": [
           0.0,
           0.1609195788690898,
           0.6913580392268598,
           0.13559322033898305,
           0.25
          ],
          "vectorType": "dense"
         },
         0
        ],
        [
         {
          "length": 5,
          "values": [
           0.0,
           0.16475093825480952,
           0.6419751371230543,
           0.03389830508474576,
           0.19444444444444445
          ],
          "vectorType": "dense"
         },
         0
        ],
        [
         {
          "length": 5,
          "values": [
           0.0,
           0.16475093825480952,
           0.8518517646388412,
           0.3050847457627119,
           0.4305555555555556
          ],
          "vectorType": "dense"
         },
         0
        ],
        [
         {
          "length": 5,
          "values": [
           0.0,
           0.16858244379752113,
           0.6790123137009084,
           0.0,
           0.125
          ],
          "vectorType": "dense"
         },
         0
        ],
        [
         {
          "length": 5,
          "values": [
           0.0,
           0.17624516256896053,
           0.4197530195564449,
           0.4406779661016949,
           0.3125
          ],
          "vectorType": "dense"
         },
         0
        ],
        [
         {
          "length": 5,
          "values": [
           0.0,
           0.17624516256896053,
           0.48148141171107295,
           0.15254237288135594,
           0.13194444444444445
          ],
          "vectorType": "dense"
         },
         0
        ],
        [
         {
          "length": 5,
          "values": [
           0.0,
           0.18007666811167214,
           0.8518517646388412,
           0.3050847457627119,
           0.3333333333333333
          ],
          "vectorType": "dense"
         },
         0
        ],
        [
         {
          "length": 5,
          "values": [
           0.0,
           0.19540225181154283,
           0.5061728627629757,
           0.4576271186440678,
           0.2916666666666667
          ],
          "vectorType": "dense"
         },
         0
        ],
        [
         {
          "length": 5,
          "values": [
           0.0,
           0.20306511673997416,
           0.5061728627629757,
           0.13559322033898305,
           0.3055555555555556
          ],
          "vectorType": "dense"
         },
         0
        ],
        [
         {
          "length": 5,
          "values": [
           0.0,
           0.23371643029670747,
           0.938271607845372,
           0.3220338983050847,
           0.3333333333333333
          ],
          "vectorType": "dense"
         },
         0
        ],
        [
         {
          "length": 5,
          "values": [
           0.0,
           0.23754793583941908,
           0.5679012549176037,
           0.3559322033898305,
           0.1388888888888889
          ],
          "vectorType": "dense"
         },
         0
        ],
        [
         {
          "length": 5,
          "values": [
           0.0,
           0.23754793583941908,
           0.7160492548036338,
           0.2033898305084746,
           0.2361111111111111
          ],
          "vectorType": "dense"
         },
         0
        ],
        [
         {
          "length": 5,
          "values": [
           0.0,
           0.25287351953928977,
           0.7160492548036338,
           0.2711864406779661,
           0.4444444444444444
          ],
          "vectorType": "dense"
         },
         0
        ],
        [
         {
          "length": 5,
          "values": [
           0.0,
           0.2681992493961524,
           0.5925924704943777,
           0.2542372881355932,
           0.1388888888888889
          ],
          "vectorType": "dense"
         },
         0
        ],
        [
         {
          "length": 5,
          "values": [
           0.0,
           0.2681992493961524,
           0.7160492548036338,
           0.13559322033898305,
           0.3472222222222222
          ],
          "vectorType": "dense"
         },
         0
        ],
        [
         {
          "length": 5,
          "values": [
           0.0,
           0.2720306087818721,
           0.6790123137009084,
           0.1864406779661017,
           0.2361111111111111
          ],
          "vectorType": "dense"
         },
         0
        ],
        [
         {
          "length": 5,
          "values": [
           0.0,
           0.283524979253015,
           0.07407399994301501,
           0.711864406779661,
           0.5416666666666666
          ],
          "vectorType": "dense"
         },
         1
        ],
        [
         {
          "length": 5,
          "values": [
           0.0,
           0.29118769802445443,
           0.6296296470722318,
           0.3389830508474576,
           0.375
          ],
          "vectorType": "dense"
         },
         0
        ],
        [
         {
          "length": 5,
          "values": [
           0.0,
           0.2988505629528857,
           0.9876542744740486,
           0.3898305084745763,
           0.4722222222222222
          ],
          "vectorType": "dense"
         },
         0
        ],
        [
         {
          "length": 5,
          "values": [
           0.0,
           0.3026820684955973,
           0.6790123137009084,
           0.3220338983050847,
           0.2777777777777778
          ],
          "vectorType": "dense"
         },
         0
        ],
        [
         {
          "length": 5,
          "values": [
           0.0,
           0.31034478726703674,
           0.604938196020329,
           0.3389830508474576,
           0.3472222222222222
          ],
          "vectorType": "dense"
         },
         0
        ],
        [
         {
          "length": 5,
          "values": [
           0.0,
           0.32567051712389933,
           0.04938266662867668,
           0.6440677966101694,
           0.4027777777777778
          ],
          "vectorType": "dense"
         },
         1
        ],
        [
         {
          "length": 5,
          "values": [
           0.0,
           0.32567051712389933,
           0.7901233724842132,
           0.4745762711864407,
           0.375
          ],
          "vectorType": "dense"
         },
         0
        ],
        [
         {
          "length": 5,
          "values": [
           0.0,
           0.34865896575220134,
           0.07407399994301501,
           0.6949152542372882,
           0.625
          ],
          "vectorType": "dense"
         },
         1
        ],
        [
         {
          "length": 5,
          "values": [
           0.0,
           0.35249047129491295,
           0.07407399994301501,
           0.6101694915254238,
           0.3472222222222222
          ],
          "vectorType": "dense"
         },
         1
        ],
        [
         {
          "length": 5,
          "values": [
           0.0,
           0.35249047129491295,
           0.6419751371230543,
           0.4067796610169492,
           0.3819444444444444
          ],
          "vectorType": "dense"
         },
         0
        ],
        [
         {
          "length": 5,
          "values": [
           0.0,
           0.3601533362233443,
           0.0,
           0.7288135593220338,
           0.6388888888888888
          ],
          "vectorType": "dense"
         },
         1
        ],
        [
         {
          "length": 5,
          "values": [
           0.0,
           0.37164756053749526,
           0.7283949803295852,
           0.423728813559322,
           0.5763888888888888
          ],
          "vectorType": "dense"
         },
         0
        ],
        [
         {
          "length": 5,
          "values": [
           0.0,
           0.37547891992321497,
           0.03703694110272532,
           0.6271186440677966,
           0.4722222222222222
          ],
          "vectorType": "dense"
         },
         1
        ],
        [
         {
          "length": 5,
          "values": [
           0.0,
           0.37547891992321497,
           0.11111105878330473,
           0.6101694915254238,
           0.5208333333333334
          ],
          "vectorType": "dense"
         },
         1
        ],
        [
         {
          "length": 5,
          "values": [
           0.0,
           0.386973144237366,
           0.09876533325735336,
           0.7627118644067796,
           0.6111111111111112
          ],
          "vectorType": "dense"
         },
         1
        ],
        [
         {
          "length": 5,
          "values": [
           0.0,
           0.3946360091657973,
           0.09876533325735336,
           0.6101694915254238,
           0.4444444444444444
          ],
          "vectorType": "dense"
         },
         1
        ],
        [
         {
          "length": 5,
          "values": [
           0.0,
           0.4214559633368109,
           0.14814811762359442,
           0.7457627118644068,
           0.3888888888888889
          ],
          "vectorType": "dense"
         },
         1
        ],
        [
         {
          "length": 5,
          "values": [
           0.0,
           0.4214559633368109,
           0.32098756856152716,
           0.7627118644067796,
           0.6041666666666666
          ],
          "vectorType": "dense"
         },
         1
        ],
        [
         {
          "length": 5,
          "values": [
           0.0,
           0.43678169319367355,
           0.08641972546896638,
           0.6779661016949152,
           0.5694444444444444
          ],
          "vectorType": "dense"
         },
         1
        ],
        [
         {
          "length": 5,
          "values": [
           0.0,
           0.4406130525793932,
           0.2839505097212375,
           0.8135593220338984,
           0.6527777777777778
          ],
          "vectorType": "dense"
         },
         1
        ],
        [
         {
          "length": 5,
          "values": [
           0.0,
           0.4444444119651129,
           0.1604937254119814,
           0.6440677966101694,
           0.4722222222222222
          ],
          "vectorType": "dense"
         },
         1
        ],
        [
         {
          "length": 5,
          "values": [
           0.0,
           0.4444444119651129,
           0.17283945093793276,
           0.5932203389830508,
           0.6527777777777778
          ],
          "vectorType": "dense"
         },
         1
        ],
        [
         {
          "length": 5,
          "values": [
           0.0,
           0.4444444119651129,
           0.17283945093793276,
           0.7288135593220338,
           0.6388888888888888
          ],
          "vectorType": "dense"
         },
         1
        ],
        [
         {
          "length": 5,
          "values": [
           0.0,
           0.44827591750782453,
           0.08641972546896638,
           0.7288135593220338,
           0.5694444444444444
          ],
          "vectorType": "dense"
         },
         1
        ],
        [
         {
          "length": 5,
          "values": [
           0.0,
           0.44827591750782453,
           0.20987650977822245,
           0.6779661016949152,
           0.6944444444444444
          ],
          "vectorType": "dense"
         },
         1
        ],
        [
         {
          "length": 5,
          "values": [
           0.0,
           0.45210727689354424,
           0.07407399994301501,
           0.6440677966101694,
           0.4444444444444444
          ],
          "vectorType": "dense"
         },
         1
        ],
        [
         {
          "length": 5,
          "values": [
           0.0,
           0.45210727689354424,
           0.08641972546896638,
           0.6101694915254238,
           0.4166666666666667
          ],
          "vectorType": "dense"
         },
         1
        ],
        [
         {
          "length": 5,
          "values": [
           0.0,
           0.45593878243625585,
           0.1851851764638841,
           0.6610169491525424,
           0.5833333333333334
          ],
          "vectorType": "dense"
         },
         1
        ],
        [
         {
          "length": 5,
          "values": [
           0.0,
           0.4597701418219755,
           0.09876533325735336,
           0.6440677966101694,
           0.4166666666666667
          ],
          "vectorType": "dense"
         },
         1
        ],
        [
         {
          "length": 5,
          "values": [
           0.0,
           0.4597701418219755,
           0.17283945093793276,
           0.6779661016949152,
           0.5694444444444444
          ],
          "vectorType": "dense"
         },
         1
        ],
        [
         {
          "length": 5,
          "values": [
           0.0,
           0.4636015012076952,
           0.8888887057415665,
           0.3220338983050847,
           0.5277777777777778
          ],
          "vectorType": "dense"
         },
         0
        ],
        [
         {
          "length": 5,
          "values": [
           0.0,
           0.46743300675040683,
           0.09876533325735336,
           0.711864406779661,
           0.4722222222222222
          ],
          "vectorType": "dense"
         },
         1
        ],
        [
         {
          "length": 5,
          "values": [
           0.0,
           0.47126436613612654,
           0.13580239209764305,
           0.7966101694915254,
           0.5555555555555556
          ],
          "vectorType": "dense"
         },
         1
        ],
        [
         {
          "length": 5,
          "values": [
           0.0,
           0.4827585904502775,
           0.012345607788386979,
           0.6610169491525424,
           0.5
          ],
          "vectorType": "dense"
         },
         1
        ],
        [
         {
          "length": 5,
          "values": [
           0.0,
           0.48659009599298914,
           0.12345678430925608,
           0.7627118644067796,
           0.4652777777777778
          ],
          "vectorType": "dense"
         },
         1
        ],
        [
         {
          "length": 5,
          "values": [
           0.0,
           0.48659009599298914,
           0.1604937254119814,
           0.711864406779661,
           0.5416666666666666
          ],
          "vectorType": "dense"
         },
         1
        ],
        [
         {
          "length": 5,
          "values": [
           0.0,
           0.48659009599298914,
           0.17283945093793276,
           0.6271186440677966,
           0.5833333333333334
          ],
          "vectorType": "dense"
         },
         1
        ],
        [
         {
          "length": 5,
          "values": [
           0.0,
           0.48659009599298914,
           0.22222211756660945,
           0.8305084745762712,
           0.7222222222222222
          ],
          "vectorType": "dense"
         },
         1
        ],
        [
         {
          "length": 5,
          "values": [
           0.0,
           0.49425296092142046,
           0.2345678430925608,
           0.7457627118644068,
           0.5555555555555556
          ],
          "vectorType": "dense"
         },
         1
        ],
        [
         {
          "length": 5,
          "values": [
           0.0,
           0.49808432030714017,
           0.04938266662867668,
           0.6440677966101694,
           0.5138888888888888
          ],
          "vectorType": "dense"
         },
         1
        ],
        [
         {
          "length": 5,
          "values": [
           0.0,
           0.49808432030714017,
           0.1604937254119814,
           0.7627118644067796,
           0.6111111111111112
          ],
          "vectorType": "dense"
         },
         1
        ],
        [
         {
          "length": 5,
          "values": [
           0.0,
           0.49808432030714017,
           0.17283945093793276,
           0.6949152542372882,
           0.4722222222222222
          ],
          "vectorType": "dense"
         },
         1
        ],
        [
         {
          "length": 5,
          "values": [
           0.0,
           0.5019156796928599,
           0.13580239209764305,
           0.6440677966101694,
           0.5972222222222222
          ],
          "vectorType": "dense"
         },
         1
        ],
        [
         {
          "length": 5,
          "values": [
           0.0,
           0.5057471852355715,
           0.2716049019328505,
           0.7966101694915254,
           0.6944444444444444
          ],
          "vectorType": "dense"
         },
         1
        ],
        [
         {
          "length": 5,
          "values": [
           0.0,
           0.5095785446212912,
           0.14814811762359442,
           0.7288135593220338,
           0.5972222222222222
          ],
          "vectorType": "dense"
         },
         1
        ],
        [
         {
          "length": 5,
          "values": [
           0.0,
           0.5095785446212912,
           0.2839505097212375,
           0.7288135593220338,
           0.6805555555555556
          ],
          "vectorType": "dense"
         },
         1
        ],
        [
         {
          "length": 5,
          "values": [
           0.0,
           0.5134100501640028,
           0.1851851764638841,
           0.847457627118644,
           0.6041666666666666
          ],
          "vectorType": "dense"
         },
         1
        ],
        [
         {
          "length": 5,
          "values": [
           0.0,
           0.5249042744781538,
           0.07407399994301501,
           0.711864406779661,
           0.6180555555555556
          ],
          "vectorType": "dense"
         },
         1
        ],
        [
         {
          "length": 5,
          "values": [
           0.0,
           0.5249042744781538,
           0.29629623524718884,
           0.7288135593220338,
           0.6319444444444444
          ],
          "vectorType": "dense"
         },
         1
        ],
        [
         {
          "length": 5,
          "values": [
           0.0,
           0.5287356338638735,
           0.08641972546896638,
           0.7457627118644068,
           0.5625
          ],
          "vectorType": "dense"
         },
         1
        ],
        [
         {
          "length": 5,
          "values": [
           0.0,
           0.5287356338638735,
           0.2716049019328505,
           0.847457627118644,
           0.7083333333333334
          ],
          "vectorType": "dense"
         },
         1
        ],
        [
         {
          "length": 5,
          "values": [
           0.0,
           0.5325671394065851,
           0.1851851764638841,
           0.6779661016949152,
           0.5625
          ],
          "vectorType": "dense"
         },
         1
        ],
        [
         {
          "length": 5,
          "values": [
           0.0,
           0.5363984987923048,
           0.11111105878330473,
           0.6779661016949152,
           0.6041666666666666
          ],
          "vectorType": "dense"
         },
         1
        ],
        [
         {
          "length": 5,
          "values": [
           0.0,
           0.5363984987923048,
           0.13580239209764305,
           0.6271186440677966,
           0.5277777777777778
          ],
          "vectorType": "dense"
         },
         1
        ],
        [
         {
          "length": 5,
          "values": [
           0.0,
           0.5363984987923048,
           0.2345678430925608,
           0.7796610169491526,
           0.625
          ],
          "vectorType": "dense"
         },
         1
        ],
        [
         {
          "length": 5,
          "values": [
           0.0,
           0.5440613637207361,
           0.2345678430925608,
           0.7457627118644068,
           0.5694444444444444
          ],
          "vectorType": "dense"
         },
         1
        ],
        [
         {
          "length": 5,
          "values": [
           0.0,
           0.5478927231064558,
           0.2345678430925608,
           0.7288135593220338,
           0.8194444444444444
          ],
          "vectorType": "dense"
         },
         1
        ],
        [
         {
          "length": 5,
          "values": [
           0.0,
           0.5593869474206068,
           0.24691356861851216,
           0.6271186440677966,
           0.7777777777777778
          ],
          "vectorType": "dense"
         },
         1
        ],
        [
         {
          "length": 5,
          "values": [
           0.0,
           0.5632184529633184,
           0.3086419607731402,
           0.8305084745762712,
           0.6666666666666666
          ],
          "vectorType": "dense"
         },
         1
        ],
        [
         {
          "length": 5,
          "values": [
           0.0,
           0.5708813178917497,
           0.1604937254119814,
           0.5254237288135594,
           0.5347222222222222
          ],
          "vectorType": "dense"
         },
         1
        ],
        [
         {
          "length": 5,
          "values": [
           0.0,
           0.5708813178917497,
           0.1851851764638841,
           0.6949152542372882,
           0.875
          ],
          "vectorType": "dense"
         },
         1
        ],
        [
         {
          "length": 5,
          "values": [
           0.0,
           0.5747126772774694,
           0.2345678430925608,
           0.7966101694915254,
           0.5972222222222222
          ],
          "vectorType": "dense"
         },
         1
        ],
        [
         {
          "length": 5,
          "values": [
           0.0,
           0.5823755422059007,
           0.12345678430925608,
           0.6440677966101694,
           0.4861111111111111
          ],
          "vectorType": "dense"
         },
         1
        ],
        [
         {
          "length": 5,
          "values": [
           0.0,
           0.5823755422059007,
           0.24691356861851216,
           0.847457627118644,
           0.7361111111111112
          ],
          "vectorType": "dense"
         },
         1
        ],
        [
         {
          "length": 5,
          "values": [
           0.0,
           0.5823755422059007,
           0.32098756856152716,
           0.6101694915254238,
           0.7361111111111112
          ],
          "vectorType": "dense"
         },
         1
        ],
        [
         {
          "length": 5,
          "values": [
           0.0,
           0.5938697665200517,
           0.3703703529277682,
           0.7457627118644068,
           0.7916666666666666
          ],
          "vectorType": "dense"
         },
         1
        ],
        [
         {
          "length": 5,
          "values": [
           0.0,
           0.5977011259057714,
           0.17283945093793276,
           0.6779661016949152,
           0.5347222222222222
          ],
          "vectorType": "dense"
         },
         1
        ],
        [
         {
          "length": 5,
          "values": [
           0.0,
           0.601532631448483,
           0.25925917640689916,
           0.8305084745762712,
           1.0
          ],
          "vectorType": "dense"
         },
         1
        ],
        [
         {
          "length": 5,
          "values": [
           0.0,
           0.6053639908342028,
           0.32098756856152716,
           0.7627118644067796,
           0.875
          ],
          "vectorType": "dense"
         },
         1
        ],
        [
         {
          "length": 5,
          "values": [
           0.0,
           0.6091954963769144,
           0.3333332940874785,
           0.7457627118644068,
           0.6180555555555556
          ],
          "vectorType": "dense"
         },
         1
        ],
        [
         {
          "length": 5,
          "values": [
           0.0,
           0.613026855762634,
           0.3703703529277682,
           0.8813559322033898,
           0.8194444444444444
          ],
          "vectorType": "dense"
         },
         1
        ],
        [
         {
          "length": 5,
          "values": [
           0.0,
           0.613026855762634,
           0.3827160784537196,
           0.9661016949152542,
           0.8611111111111112
          ],
          "vectorType": "dense"
         },
         1
        ],
        [
         {
          "length": 5,
          "values": [
           0.0,
           0.6168582151483537,
           0.3580246274018169,
           0.8983050847457628,
           0.8333333333333334
          ],
          "vectorType": "dense"
         },
         1
        ],
        [
         {
          "length": 5,
          "values": [
           0.0,
           0.6245210800767851,
           0.34567890187586553,
           0.9661016949152542,
           0.9027777777777778
          ],
          "vectorType": "dense"
         },
         1
        ],
        [
         {
          "length": 5,
          "values": [
           0.0,
           0.6245210800767851,
           0.4567899606591702,
           0.9830508474576272,
           0.8333333333333334
          ],
          "vectorType": "dense"
         },
         1
        ],
        [
         {
          "length": 5,
          "values": [
           0.0,
           0.6283525856194967,
           0.3703703529277682,
           0.6949152542372882,
           0.75
          ],
          "vectorType": "dense"
         },
         1
        ],
        [
         {
          "length": 5,
          "values": [
           0.0,
           0.6321839450052164,
           0.25925917640689916,
           0.7796610169491526,
           0.8333333333333334
          ],
          "vectorType": "dense"
         },
         1
        ],
        [
         {
          "length": 5,
          "values": [
           0.0,
           0.6321839450052164,
           0.3950615685045422,
           0.9830508474576272,
           0.8333333333333334
          ],
          "vectorType": "dense"
         },
         1
        ],
        [
         {
          "length": 5,
          "values": [
           0.0,
           0.636015304390936,
           0.2345678430925608,
           0.8983050847457628,
           0.6388888888888888
          ],
          "vectorType": "dense"
         },
         1
        ],
        [
         {
          "length": 5,
          "values": [
           0.0,
           0.647509674862079,
           0.2716049019328505,
           0.8813559322033898,
           0.7916666666666666
          ],
          "vectorType": "dense"
         },
         1
        ],
        [
         {
          "length": 5,
          "values": [
           0.0,
           0.647509674862079,
           0.32098756856152716,
           0.847457627118644,
           0.8472222222222222
          ],
          "vectorType": "dense"
         },
         1
        ],
        [
         {
          "length": 5,
          "values": [
           0.0,
           0.6513410342477987,
           0.34567890187586553,
           0.8983050847457628,
           0.75
          ],
          "vectorType": "dense"
         },
         1
        ],
        [
         {
          "length": 5,
          "values": [
           0.0,
           0.65900389917623,
           0.2345678430925608,
           0.864406779661017,
           0.7916666666666666
          ],
          "vectorType": "dense"
         },
         1
        ],
        [
         {
          "length": 5,
          "values": [
           0.0,
           0.6628352585619497,
           0.5185183528137983,
           0.9491525423728814,
           0.8055555555555556
          ],
          "vectorType": "dense"
         },
         1
        ],
        [
         {
          "length": 5,
          "values": [
           0.0,
           0.6743294828761007,
           0.3950615685045422,
           0.8135593220338984,
           0.9166666666666666
          ],
          "vectorType": "dense"
         },
         1
        ],
        [
         {
          "length": 5,
          "values": [
           0.0,
           0.6743294828761007,
           0.4197530195564449,
           0.8983050847457628,
           0.7083333333333334
          ],
          "vectorType": "dense"
         },
         1
        ],
        [
         {
          "length": 5,
          "values": [
           0.0,
           0.681992347804532,
           0.13580239209764305,
           0.7796610169491526,
           0.7222222222222222
          ],
          "vectorType": "dense"
         },
         1
        ],
        [
         {
          "length": 5,
          "values": [
           0.0,
           0.7126436613612653,
           0.48148141171107295,
           0.9830508474576272,
           0.7916666666666666
          ],
          "vectorType": "dense"
         },
         1
        ],
        [
         {
          "length": 5,
          "values": [
           0.0,
           0.7969348832600259,
           0.32098756856152716,
           1.0,
           0.8194444444444444
          ],
          "vectorType": "dense"
         },
         1
        ],
        [
         {
          "length": 5,
          "values": [
           0.0,
           0.8275861968167592,
           0.3580246274018169,
           0.9830508474576272,
           0.875
          ],
          "vectorType": "dense"
         },
         1
        ],
        [
         {
          "length": 5,
          "values": [
           0.0,
           0.8582376565304844,
           0.48148141171107295,
           0.9491525423728814,
           0.8055555555555556
          ],
          "vectorType": "dense"
         },
         1
        ],
        [
         {
          "length": 5,
          "values": [
           0.0,
           1.0,
           0.48148141171107295,
           0.9830508474576272,
           0.9305555555555556
          ],
          "vectorType": "dense"
         },
         1
        ],
        [
         {
          "length": 5,
          "values": [
           1.0,
           0.019157089242582314,
           0.4938271372370243,
           0.22033898305084745,
           0.19444444444444445
          ],
          "vectorType": "dense"
         },
         0
        ],
        [
         {
          "length": 5,
          "values": [
           1.0,
           0.08045971635604895,
           0.543209803865701,
           0.3220338983050847,
           0.13194444444444445
          ],
          "vectorType": "dense"
         },
         0
        ],
        [
         {
          "length": 5,
          "values": [
           1.0,
           0.08429122189876057,
           0.604938196020329,
           0.5084745762711864,
           0.2361111111111111
          ],
          "vectorType": "dense"
         },
         0
        ],
        [
         {
          "length": 5,
          "values": [
           1.0,
           0.09578544621291157,
           0.4938271372370243,
           0.2542372881355932,
           0.2777777777777778
          ],
          "vectorType": "dense"
         },
         0
        ],
        [
         {
          "length": 5,
          "values": [
           1.0,
           0.09578544621291157,
           0.5925924704943777,
           0.3050847457627119,
           0.20833333333333334
          ],
          "vectorType": "dense"
         },
         0
        ],
        [
         {
          "length": 5,
          "values": [
           1.0,
           0.10344831114134288,
           0.5185183528137983,
           0.2542372881355932,
           0.16666666666666666
          ],
          "vectorType": "dense"
         },
         0
        ],
        [
         {
          "length": 5,
          "values": [
           1.0,
           0.10727967052706258,
           0.7901233724842132,
           0.3050847457627119,
           0.3055555555555556
          ],
          "vectorType": "dense"
         },
         0
        ],
        [
         {
          "length": 5,
          "values": [
           1.0,
           0.11111117606977418,
           0.48148141171107295,
           0.3898305084745763,
           0.1736111111111111
          ],
          "vectorType": "dense"
         },
         0
        ],
        [
         {
          "length": 5,
          "values": [
           1.0,
           0.11494253545549388,
           0.604938196020329,
           0.1694915254237288,
           0.125
          ],
          "vectorType": "dense"
         },
         0
        ],
        [
         {
          "length": 5,
          "values": [
           1.0,
           0.11877389484121359,
           0.6543208626490057,
           0.2033898305084746,
           0.2152777777777778
          ],
          "vectorType": "dense"
         },
         0
        ],
        [
         {
          "length": 5,
          "values": [
           1.0,
           0.1340996246980762,
           0.4197530195564449,
           0.22033898305084745,
           0.19444444444444445
          ],
          "vectorType": "dense"
         },
         0
        ],
        [
         {
          "length": 5,
          "values": [
           1.0,
           0.1417624896265075,
           0.6172839215462804,
           0.1016949152542373,
           0.3333333333333333
          ],
          "vectorType": "dense"
         },
         0
        ],
        [
         {
          "length": 5,
          "values": [
           1.0,
           0.14559384901222722,
           0.4567899606591702,
           0.3389830508474576,
           0.08333333333333333
          ],
          "vectorType": "dense"
         },
         0
        ],
        [
         {
          "length": 5,
          "values": [
           1.0,
           0.1532567139406585,
           0.666666588174957,
           0.4576271186440678,
           0.4930555555555556
          ],
          "vectorType": "dense"
         },
         0
        ],
        [
         {
          "length": 5,
          "values": [
           1.0,
           0.1532567139406585,
           0.7160492548036338,
           0.11864406779661017,
           0.0763888888888889
          ],
          "vectorType": "dense"
         },
         0
        ],
        [
         {
          "length": 5,
          "values": [
           1.0,
           0.15708807332637822,
           0.7654319214323104,
           0.15254237288135594,
           0.16666666666666666
          ],
          "vectorType": "dense"
         },
         0
        ],
        [
         {
          "length": 5,
          "values": [
           1.0,
           0.16475093825480952,
           0.6172839215462804,
           0.3559322033898305,
           0.2916666666666667
          ],
          "vectorType": "dense"
         },
         0
        ],
        [
         {
          "length": 5,
          "values": [
           1.0,
           0.17624516256896053,
           0.5555555293916523,
           0.2542372881355932,
           0.2013888888888889
          ],
          "vectorType": "dense"
         },
         0
        ],
        [
         {
          "length": 5,
          "values": [
           1.0,
           0.17624516256896053,
           0.6790123137009084,
           0.3050847457627119,
           0.2777777777777778
          ],
          "vectorType": "dense"
         },
         0
        ],
        [
         {
          "length": 5,
          "values": [
           1.0,
           0.21839084659683677,
           0.6790123137009084,
           0.3050847457627119,
           0.4305555555555556
          ],
          "vectorType": "dense"
         },
         0
        ],
        [
         {
          "length": 5,
          "values": [
           1.0,
           0.21839084659683677,
           0.9876542744740486,
           0.4067796610169492,
           0.4027777777777778
          ],
          "vectorType": "dense"
         },
         0
        ],
        [
         {
          "length": 5,
          "values": [
           1.0,
           0.22988507091098775,
           0.5802467449684263,
           0.2711864406779661,
           0.16666666666666666
          ],
          "vectorType": "dense"
         },
         0
        ],
        [
         {
          "length": 5,
          "values": [
           1.0,
           0.23371643029670747,
           0.6172839215462804,
           0.23728813559322035,
           0.4861111111111111
          ],
          "vectorType": "dense"
         },
         0
        ],
        [
         {
          "length": 5,
          "values": [
           1.0,
           0.23371643029670747,
           0.7037035292776824,
           0.3050847457627119,
           0.5277777777777778
          ],
          "vectorType": "dense"
         },
         0
        ],
        [
         {
          "length": 5,
          "values": [
           1.0,
           0.23754793583941908,
           0.5925924704943777,
           0.3559322033898305,
           0.4305555555555556
          ],
          "vectorType": "dense"
         },
         0
        ],
        [
         {
          "length": 5,
          "values": [
           1.0,
           0.24137929522513876,
           0.7407407058555364,
           0.2033898305084746,
           0.5416666666666666
          ],
          "vectorType": "dense"
         },
         0
        ],
        [
         {
          "length": 5,
          "values": [
           1.0,
           0.2567050250820014,
           0.4938271372370243,
           0.3559322033898305,
           0.19444444444444445
          ],
          "vectorType": "dense"
         },
         0
        ],
        [
         {
          "length": 5,
          "values": [
           1.0,
           0.2605363844677211,
           0.666666588174957,
           0.4067796610169492,
           0.4583333333333333
          ],
          "vectorType": "dense"
         },
         0
        ],
        [
         {
          "length": 5,
          "values": [
           1.0,
           0.2720306087818721,
           0.5061728627629757,
           0.2542372881355932,
           0.2152777777777778
          ],
          "vectorType": "dense"
         },
         0
        ],
        [
         {
          "length": 5,
          "values": [
           1.0,
           0.2758621143245837,
           0.48148141171107295,
           0.3050847457627119,
           0.2847222222222222
          ],
          "vectorType": "dense"
         },
         0
        ],
        [
         {
          "length": 5,
          "values": [
           1.0,
           0.2796934737103034,
           0.6543208626490057,
           0.3898305084745763,
           0.3333333333333333
          ],
          "vectorType": "dense"
         },
         0
        ],
        [
         {
          "length": 5,
          "values": [
           1.0,
           0.283524979253015,
           0.43209874508239626,
           0.2542372881355932,
           0.1388888888888889
          ],
          "vectorType": "dense"
         },
         2
        ],
        [
         {
          "length": 5,
          "values": [
           1.0,
           0.283524979253015,
           0.7160492548036338,
           0.2033898305084746,
           0.3333333333333333
          ],
          "vectorType": "dense"
         },
         0
        ],
        [
         {
          "length": 5,
          "values": [
           1.0,
           0.29118769802445443,
           0.543209803865701,
           0.3050847457627119,
           0.3333333333333333
          ],
          "vectorType": "dense"
         },
         0
        ],
        [
         {
          "length": 5,
          "values": [
           1.0,
           0.29118769802445443,
           0.6172839215462804,
           0.559322033898305,
           0.4444444444444444
          ],
          "vectorType": "dense"
         },
         0
        ],
        [
         {
          "length": 5,
          "values": [
           1.0,
           0.29118769802445443,
           0.7283949803295852,
           0.1694915254237288,
           0.2013888888888889
          ],
          "vectorType": "dense"
         },
         0
        ],
        [
         {
          "length": 5,
          "values": [
           1.0,
           0.33333338205233065,
           0.666666588174957,
           0.13559322033898305,
           0.2361111111111111
          ],
          "vectorType": "dense"
         },
         0
        ],
        [
         {
          "length": 5,
          "values": [
           1.0,
           0.33716474143805036,
           1.0,
           0.3220338983050847,
           0.4027777777777778
          ],
          "vectorType": "dense"
         },
         0
        ],
        [
         {
          "length": 5,
          "values": [
           1.0,
           0.340996246980762,
           0.5185183528137983,
           0.15254237288135594,
           0.25
          ],
          "vectorType": "dense"
         },
         2
        ],
        [
         {
          "length": 5,
          "values": [
           1.0,
           0.37164756053749526,
           0.43209874508239626,
           0.2542372881355932,
           0.05555555555555555
          ],
          "vectorType": "dense"
         },
         2
        ],
        [
         {
          "length": 5,
          "values": [
           1.0,
           0.3831417848516463,
           0.6172839215462804,
           0.5084745762711864,
           0.19444444444444445
          ],
          "vectorType": "dense"
         },
         2
        ],
        [
         {
          "length": 5,
          "values": [
           1.0,
           0.44827591750782453,
           0.5802467449684263,
           0.4406779661016949,
           0.3472222222222222
          ],
          "vectorType": "dense"
         },
         2
        ],
        [
         {
          "length": 5,
          "values": [
           1.0,
           0.4636015012076952,
           0.7777776469582618,
           0.3728813559322034,
           0.22916666666666666
          ],
          "vectorType": "dense"
         },
         2
        ],
        [
         {
          "length": 5,
          "values": [
           1.0,
           0.46743300675040683,
           0.48148141171107295,
           0.3898305084745763,
           0.2638888888888889
          ],
          "vectorType": "dense"
         },
         2
        ],
        [
         {
          "length": 5,
          "values": [
           1.0,
           0.46743300675040683,
           0.5185183528137983,
           0.3559322033898305,
           0.25
          ],
          "vectorType": "dense"
         },
         2
        ],
        [
         {
          "length": 5,
          "values": [
           1.0,
           0.47509587167883816,
           0.4938271372370243,
           0.3050847457627119,
           0.24305555555555555
          ],
          "vectorType": "dense"
         },
         2
        ],
        [
         {
          "length": 5,
          "values": [
           1.0,
           0.47892723106455787,
           0.7160492548036338,
           0.3898305084745763,
           0.4027777777777778
          ],
          "vectorType": "dense"
         },
         2
        ],
        [
         {
          "length": 5,
          "values": [
           1.0,
           0.4827585904502775,
           0.6296296470722318,
           0.1016949152542373,
           0.1527777777777778
          ],
          "vectorType": "dense"
         },
         2
        ],
        [
         {
          "length": 5,
          "values": [
           1.0,
           0.48659009599298914,
           0.543209803865701,
           0.2542372881355932,
           0.2638888888888889
          ],
          "vectorType": "dense"
         },
         2
        ],
        [
         {
          "length": 5,
          "values": [
           1.0,
           0.49425296092142046,
           0.5802467449684263,
           0.3220338983050847,
           0.2777777777777778
          ],
          "vectorType": "dense"
         },
         2
        ],
        [
         {
          "length": 5,
          "values": [
           1.0,
           0.49425296092142046,
           0.6790123137009084,
           0.3050847457627119,
           0.20833333333333334
          ],
          "vectorType": "dense"
         },
         2
        ],
        [
         {
          "length": 5,
          "values": [
           1.0,
           0.49808432030714017,
           0.5925924704943777,
           0.3389830508474576,
           0.2222222222222222
          ],
          "vectorType": "dense"
         },
         2
        ],
        [
         {
          "length": 5,
          "values": [
           1.0,
           0.5057471852355715,
           0.5925924704943777,
           0.3898305084745763,
           0.16666666666666666
          ],
          "vectorType": "dense"
         },
         2
        ],
        [
         {
          "length": 5,
          "values": [
           1.0,
           0.5095785446212912,
           0.4197530195564449,
           0.288135593220339,
           0.2638888888888889
          ],
          "vectorType": "dense"
         },
         2
        ],
        [
         {
          "length": 5,
          "values": [
           1.0,
           0.5134100501640028,
           0.43209874508239626,
           0.3389830508474576,
           0.0
          ],
          "vectorType": "dense"
         },
         2
        ],
        [
         {
          "length": 5,
          "values": [
           1.0,
           0.5172414095497225,
           0.5185183528137983,
           0.22033898305084745,
           0.2777777777777778
          ],
          "vectorType": "dense"
         },
         2
        ],
        [
         {
          "length": 5,
          "values": [
           1.0,
           0.5363984987923048,
           0.4567899606591702,
           0.4576271186440678,
           0.3333333333333333
          ],
          "vectorType": "dense"
         },
         2
        ],
        [
         {
          "length": 5,
          "values": [
           1.0,
           0.5402298581780245,
           0.6419751371230543,
           0.3898305084745763,
           0.3194444444444444
          ],
          "vectorType": "dense"
         },
         2
        ],
        [
         {
          "length": 5,
          "values": [
           1.0,
           0.5593869474206068,
           0.4074072940304936,
           0.4576271186440678,
           0.1736111111111111
          ],
          "vectorType": "dense"
         },
         2
        ],
        [
         {
          "length": 5,
          "values": [
           1.0,
           0.5747126772774694,
           0.543209803865701,
           0.3220338983050847,
           0.19444444444444445
          ],
          "vectorType": "dense"
         },
         2
        ],
        [
         {
          "length": 5,
          "values": [
           1.0,
           0.5938697665200517,
           0.7901233724842132,
           0.6440677966101694,
           0.3472222222222222
          ],
          "vectorType": "dense"
         },
         2
        ],
        [
         {
          "length": 5,
          "values": [
           1.0,
           0.5938697665200517,
           0.8024690980101645,
           0.6779661016949152,
           0.4444444444444444
          ],
          "vectorType": "dense"
         },
         2
        ],
        [
         {
          "length": 5,
          "values": [
           1.0,
           0.6053639908342028,
           0.8395060391128898,
           0.5254237288135594,
           0.375
          ],
          "vectorType": "dense"
         },
         2
        ],
        [
         {
          "length": 5,
          "values": [
           1.0,
           0.6206897206910653,
           0.6790123137009084,
           0.3898305084745763,
           0.25
          ],
          "vectorType": "dense"
         },
         2
        ],
        [
         {
          "length": 5,
          "values": [
           1.0,
           0.6321839450052164,
           0.7901233724842132,
           0.4067796610169492,
           0.3333333333333333
          ],
          "vectorType": "dense"
         },
         2
        ],
        [
         {
          "length": 5,
          "values": [
           1.0,
           0.6398468099336476,
           0.6913580392268598,
           0.4406779661016949,
           0.2986111111111111
          ],
          "vectorType": "dense"
         },
         2
        ],
        [
         {
          "length": 5,
          "values": [
           1.0,
           0.6398468099336476,
           0.7037035292776824,
           0.5084745762711864,
           0.3055555555555556
          ],
          "vectorType": "dense"
         },
         2
        ],
        [
         {
          "length": 5,
          "values": [
           1.0,
           0.6513410342477987,
           0.6543208626490057,
           0.4745762711864407,
           0.19444444444444445
          ],
          "vectorType": "dense"
         },
         2
        ],
        [
         {
          "length": 5,
          "values": [
           1.0,
           0.6513410342477987,
           0.8024690980101645,
           0.4915254237288136,
           0.375
          ],
          "vectorType": "dense"
         },
         2
        ],
        [
         {
          "length": 5,
          "values": [
           1.0,
           0.6551723936335184,
           0.7777776469582618,
           0.3559322033898305,
           0.3055555555555556
          ],
          "vectorType": "dense"
         },
         2
        ],
        [
         {
          "length": 5,
          "values": [
           1.0,
           0.65900389917623,
           0.8148148235361159,
           0.5254237288135594,
           0.375
          ],
          "vectorType": "dense"
         },
         2
        ],
        [
         {
          "length": 5,
          "values": [
           1.0,
           0.6628352585619497,
           0.666666588174957,
           0.4915254237288136,
           0.4861111111111111
          ],
          "vectorType": "dense"
         },
         2
        ],
        [
         {
          "length": 5,
          "values": [
           1.0,
           0.6628352585619497,
           0.7283949803295852,
           0.6440677966101694,
           0.3888888888888889
          ],
          "vectorType": "dense"
         },
         2
        ],
        [
         {
          "length": 5,
          "values": [
           1.0,
           0.6666667641046613,
           0.5925924704943777,
           0.4067796610169492,
           0.2708333333333333
          ],
          "vectorType": "dense"
         },
         2
        ],
        [
         {
          "length": 5,
          "values": [
           1.0,
           0.6666667641046613,
           0.7407407058555364,
           0.4067796610169492,
           0.2361111111111111
          ],
          "vectorType": "dense"
         },
         2
        ],
        [
         {
          "length": 5,
          "values": [
           1.0,
           0.670498123490381,
           0.7037035292776824,
           0.5254237288135594,
           0.3888888888888889
          ],
          "vectorType": "dense"
         },
         2
        ],
        [
         {
          "length": 5,
          "values": [
           1.0,
           0.681992347804532,
           0.6296296470722318,
           0.423728813559322,
           0.2916666666666667
          ],
          "vectorType": "dense"
         },
         2
        ],
        [
         {
          "length": 5,
          "values": [
           1.0,
           0.681992347804532,
           0.8395060391128898,
           0.4406779661016949,
           0.2777777777777778
          ],
          "vectorType": "dense"
         },
         2
        ],
        [
         {
          "length": 5,
          "values": [
           1.0,
           0.6858238533472436,
           0.7283949803295852,
           0.4915254237288136,
           0.3472222222222222
          ],
          "vectorType": "dense"
         },
         2
        ],
        [
         {
          "length": 5,
          "values": [
           1.0,
           0.6896552127329633,
           0.6913580392268598,
           0.2542372881355932,
           0.1527777777777778
          ],
          "vectorType": "dense"
         },
         2
        ],
        [
         {
          "length": 5,
          "values": [
           1.0,
           0.6973180776613946,
           0.8888887057415665,
           0.3728813559322034,
           0.2986111111111111
          ],
          "vectorType": "dense"
         },
         2
        ],
        [
         {
          "length": 5,
          "values": [
           1.0,
           0.7088123019755456,
           0.938271607845372,
           0.6440677966101694,
           0.5833333333333334
          ],
          "vectorType": "dense"
         },
         2
        ],
        [
         {
          "length": 5,
          "values": [
           1.0,
           0.7356322561465592,
           0.8271603135869384,
           0.423728813559322,
           0.2847222222222222
          ],
          "vectorType": "dense"
         },
         2
        ],
        [
         {
          "length": 5,
          "values": [
           1.0,
           0.7662835697032926,
           0.8395060391128898,
           0.559322033898305,
           0.5
          ],
          "vectorType": "dense"
         },
         2
        ],
        [
         {
          "length": 5,
          "values": [
           1.0,
           0.7931035238743062,
           0.9506170978961945,
           0.4915254237288136,
           0.4444444444444444
          ],
          "vectorType": "dense"
         },
         2
        ],
        [
         {
          "length": 5,
          "values": [
           1.0,
           0.8544061509877728,
           0.8271603135869384,
           0.5932203389830508,
           0.3611111111111111
          ],
          "vectorType": "dense"
         },
         2
        ],
        [
         {
          "length": 5,
          "values": [
           1.0,
           0.9386973728865334,
           0.5802467449684263,
           0.15254237288135594,
           0.2777777777777778
          ],
          "vectorType": "dense"
         },
         2
        ],
        [
         {
          "length": 5,
          "values": [
           2.0,
           0.0,
           0.7283949803295852,
           0.3050847457627119,
           0.25
          ],
          "vectorType": "dense"
         },
         0
        ],
        [
         {
          "length": 5,
          "values": [
           2.0,
           0.03448281909944493,
           0.6543208626490057,
           0.2033898305084746,
           0.1736111111111111
          ],
          "vectorType": "dense"
         },
         0
        ],
        [
         {
          "length": 5,
          "values": [
           2.0,
           0.04214553787088433,
           0.9876542744740486,
           0.4406779661016949,
           0.4722222222222222
          ],
          "vectorType": "dense"
         },
         0
        ],
        [
         {
          "length": 5,
          "values": [
           2.0,
           0.06513413265617825,
           0.34567890187586553,
           0.23728813559322035,
           0.09722222222222222
          ],
          "vectorType": "dense"
         },
         0
        ],
        [
         {
          "length": 5,
          "values": [
           2.0,
           0.07662835697032926,
           0.543209803865701,
           0.3050847457627119,
           0.2777777777777778
          ],
          "vectorType": "dense"
         },
         0
        ],
        [
         {
          "length": 5,
          "values": [
           2.0,
           0.08429122189876057,
           0.48148141171107295,
           0.288135593220339,
           0.18055555555555555
          ],
          "vectorType": "dense"
         },
         0
        ],
        [
         {
          "length": 5,
          "values": [
           2.0,
           0.09195408682719187,
           0.43209874508239626,
           0.3050847457627119,
           0.09722222222222222
          ],
          "vectorType": "dense"
         },
         0
        ],
        [
         {
          "length": 5,
          "values": [
           2.0,
           0.10344831114134288,
           0.3703703529277682,
           0.2542372881355932,
           0.2361111111111111
          ],
          "vectorType": "dense"
         },
         0
        ],
        [
         {
          "length": 5,
          "values": [
           2.0,
           0.11877389484121359,
           0.5802467449684263,
           0.22033898305084745,
           0.2777777777777778
          ],
          "vectorType": "dense"
         },
         0
        ],
        [
         {
          "length": 5,
          "values": [
           2.0,
           0.12260540038392519,
           0.7654319214323104,
           0.3559322033898305,
           0.20833333333333334
          ],
          "vectorType": "dense"
         },
         0
        ],
        [
         {
          "length": 5,
          "values": [
           2.0,
           0.1417624896265075,
           0.7777776469582618,
           0.2033898305084746,
           0.3333333333333333
          ],
          "vectorType": "dense"
         },
         0
        ],
        [
         {
          "length": 5,
          "values": [
           2.0,
           0.16475093825480952,
           0.5185183528137983,
           0.13559322033898305,
           0.2777777777777778
          ],
          "vectorType": "dense"
         },
         0
        ],
        [
         {
          "length": 5,
          "values": [
           2.0,
           0.19157089242582315,
           0.5925924704943777,
           0.3050847457627119,
           0.1736111111111111
          ],
          "vectorType": "dense"
         },
         0
        ],
        [
         {
          "length": 5,
          "values": [
           2.0,
           0.19540225181154283,
           1.0,
           0.3220338983050847,
           0.3055555555555556
          ],
          "vectorType": "dense"
         },
         0
        ],
        [
         {
          "length": 5,
          "values": [
           2.0,
           0.19923375735425444,
           0.7283949803295852,
           0.3898305084745763,
           0.20833333333333334
          ],
          "vectorType": "dense"
         },
         0
        ],
        [
         {
          "length": 5,
          "values": [
           2.0,
           0.20306511673997416,
           0.5555555293916523,
           0.3220338983050847,
           0.1597222222222222
          ],
          "vectorType": "dense"
         },
         0
        ],
        [
         {
          "length": 5,
          "values": [
           2.0,
           0.21072798166840545,
           0.4938271372370243,
           0.3220338983050847,
           0.09722222222222222
          ],
          "vectorType": "dense"
         },
         0
        ],
        [
         {
          "length": 5,
          "values": [
           2.0,
           0.21455934105412516,
           0.6913580392268598,
           0.15254237288135594,
           0.2916666666666667
          ],
          "vectorType": "dense"
         },
         0
        ],
        [
         {
          "length": 5,
          "values": [
           2.0,
           0.21839084659683677,
           0.8024690980101645,
           0.3898305084745763,
           0.5486111111111112
          ],
          "vectorType": "dense"
         },
         0
        ],
        [
         {
          "length": 5,
          "values": [
           2.0,
           0.22222220598255646,
           0.9259258823194206,
           0.3050847457627119,
           0.2638888888888889
          ],
          "vectorType": "dense"
         },
         0
        ],
        [
         {
          "length": 5,
          "values": [
           2.0,
           0.22988507091098775,
           0.5308640783397497,
           0.23728813559322035,
           0.3055555555555556
          ],
          "vectorType": "dense"
         },
         0
        ],
        [
         {
          "length": 5,
          "values": [
           2.0,
           0.23371643029670747,
           0.5061728627629757,
           0.4067796610169492,
           0.2361111111111111
          ],
          "vectorType": "dense"
         },
         0
        ],
        [
         {
          "length": 5,
          "values": [
           2.0,
           0.23754793583941908,
           0.6543208626490057,
           0.3050847457627119,
           0.3333333333333333
          ],
          "vectorType": "dense"
         },
         0
        ],
        [
         {
          "length": 5,
          "values": [
           2.0,
           0.2567050250820014,
           0.48148141171107295,
           0.06779661016949153,
           0.20833333333333334
          ],
          "vectorType": "dense"
         },
         0
        ],
        [
         {
          "length": 5,
          "values": [
           2.0,
           0.2605363844677211,
           0.604938196020329,
           0.3898305084745763,
           0.1527777777777778
          ],
          "vectorType": "dense"
         },
         0
        ],
        [
         {
          "length": 5,
          "values": [
           2.0,
           0.3026820684955973,
           0.666666588174957,
           0.5084745762711864,
           0.3263888888888889
          ],
          "vectorType": "dense"
         },
         0
        ],
        [
         {
          "length": 5,
          "values": [
           2.0,
           0.306513427881317,
           0.6419751371230543,
           0.3898305084745763,
           0.4444444444444444
          ],
          "vectorType": "dense"
         },
         0
        ],
        [
         {
          "length": 5,
          "values": [
           2.0,
           0.318007652195468,
           0.7777776469582618,
           0.4406779661016949,
           0.4861111111111111
          ],
          "vectorType": "dense"
         },
         0
        ],
        [
         {
          "length": 5,
          "values": [
           2.0,
           0.32567051712389933,
           0.8765432156907439,
           0.3050847457627119,
           0.4305555555555556
          ],
          "vectorType": "dense"
         },
         0
        ],
        [
         {
          "length": 5,
          "values": [
           2.0,
           0.32950187650961904,
           0.7407407058555364,
           0.3898305084745763,
           0.3611111111111111
          ],
          "vectorType": "dense"
         },
         0
        ],
        [
         {
          "length": 5,
          "values": [
           2.0,
           0.34482760636648163,
           0.938271607845372,
           0.423728813559322,
           0.5
          ],
          "vectorType": "dense"
         },
         0
        ],
        [
         {
          "length": 5,
          "values": [
           2.0,
           0.35632183068063267,
           0.666666588174957,
           0.3898305084745763,
           0.4305555555555556
          ],
          "vectorType": "dense"
         },
         0
        ],
        [
         {
          "length": 5,
          "values": [
           2.0,
           0.3601533362233443,
           0.5555555293916523,
           0.4067796610169492,
           0.5555555555555556
          ],
          "vectorType": "dense"
         },
         0
        ],
        [
         {
          "length": 5,
          "values": [
           2.0,
           0.36781605499478365,
           0.7530864313814878,
           0.423728813559322,
           0.2222222222222222
          ],
          "vectorType": "dense"
         },
         0
        ],
        [
         {
          "length": 5,
          "values": [
           2.0,
           0.4061302334799483,
           0.604938196020329,
           0.6440677966101694,
           0.3611111111111111
          ],
          "vectorType": "dense"
         },
         0
        ],
        [
         {
          "length": 5,
          "values": [
           2.0,
           0.47126436613612654,
           0.7160492548036338,
           0.423728813559322,
           0.4027777777777778
          ],
          "vectorType": "dense"
         },
         0
        ]
       ],
       "datasetInfos": [],
       "dbfsResultPath": null,
       "isJsonSchema": true,
       "metadata": {},
       "overflow": false,
       "plotOptions": {
        "customPlotOptions": {},
        "displayType": "table",
        "pivotAggregation": null,
        "pivotColumns": null,
        "xColumns": null,
        "yColumns": null
       },
       "removedWidgets": [],
       "schema": [
        {
         "metadata": "{\"ml_attr\":{\"attrs\":{\"numeric\":[{\"idx\":1,\"name\":\"normalizedFeatures_0\"},{\"idx\":2,\"name\":\"normalizedFeatures_1\"},{\"idx\":3,\"name\":\"normalizedFeatures_2\"},{\"idx\":4,\"name\":\"normalizedFeatures_3\"}],\"nominal\":[{\"vals\":[\"Biscoe\",\"Dream\",\"Torgersen\"],\"idx\":0,\"name\":\"IslandIdx\"}]},\"num_attrs\":5}}",
         "name": "features",
         "type": "{\"type\":\"udt\",\"class\":\"org.apache.spark.ml.linalg.VectorUDT\",\"pyClass\":\"pyspark.ml.linalg.VectorUDT\",\"sqlType\":{\"type\":\"struct\",\"fields\":[{\"name\":\"type\",\"type\":\"byte\",\"nullable\":false,\"metadata\":{}},{\"name\":\"size\",\"type\":\"integer\",\"nullable\":true,\"metadata\":{}},{\"name\":\"indices\",\"type\":{\"type\":\"array\",\"elementType\":\"integer\",\"containsNull\":false},\"nullable\":true,\"metadata\":{}},{\"name\":\"values\",\"type\":{\"type\":\"array\",\"elementType\":\"double\",\"containsNull\":false},\"nullable\":true,\"metadata\":{}}]}}"
        },
        {
         "metadata": "{}",
         "name": "label",
         "type": "\"integer\""
        }
       ],
       "type": "table"
      }
     },
     "output_type": "display_data"
    }
   ],
   "source": [
    "featVect = VectorAssembler(inputCols=[\"IslandIdx\", \"normalizedFeatures\"], outputCol=\"featuresVector\")\n",
    "preppedData = featVect.transform(scaledData)[col(\"featuresVector\").alias(\"features\"), col(\"Species\").alias(\"label\")]\n",
    "display(preppedData)"
   ]
  },
  {
   "cell_type": "code",
   "execution_count": 0,
   "metadata": {
    "application/vnd.databricks.v1+cell": {
     "cellMetadata": {
      "byteLimit": 2048000,
      "rowLimit": 10000
     },
     "inputWidgets": {},
     "nuid": "aa9118a1-9c2c-44dd-b799-5f5b7059a4e8",
     "showTitle": false,
     "title": ""
    }
   },
   "outputs": [
    {
     "output_type": "stream",
     "name": "stdout",
     "output_type": "stream",
     "text": [
      "Model trained!\n"
     ]
    }
   ],
   "source": [
    "from pyspark.ml.classification import LogisticRegression\n",
    "\n",
    "lr = LogisticRegression(labelCol=\"label\", featuresCol=\"features\", maxIter=10, regParam=0.3)\n",
    "model = lr.fit(preppedData)\n",
    "print (\"Model trained!\")"
   ]
  },
  {
   "cell_type": "code",
   "execution_count": 0,
   "metadata": {
    "application/vnd.databricks.v1+cell": {
     "cellMetadata": {
      "byteLimit": 2048000,
      "rowLimit": 10000
     },
     "inputWidgets": {},
     "nuid": "f9107a79-90d7-418f-8323-dc7a816b0c7d",
     "showTitle": false,
     "title": ""
    }
   },
   "outputs": [
    {
     "output_type": "display_data",
     "data": {
      "text/html": [
       "<style scoped>\n",
       "  .table-result-container {\n",
       "    max-height: 300px;\n",
       "    overflow: auto;\n",
       "  }\n",
       "  table, th, td {\n",
       "    border: 1px solid black;\n",
       "    border-collapse: collapse;\n",
       "  }\n",
       "  th, td {\n",
       "    padding: 5px;\n",
       "  }\n",
       "  th {\n",
       "    text-align: left;\n",
       "  }\n",
       "</style><div class='table-result-container'><table class='table-result'><thead style='background-color: white'><tr><th>features</th><th>probability</th><th>prediction</th><th>trueLabel</th></tr></thead><tbody><tr><td>Map(vectorType -> dense, length -> 5, values -> List(0.0, 0.15023475607790435, 0.6829267753723604, 0.17307692307692307, 0.2903225806451613))</td><td>Map(vectorType -> dense, length -> 3, values -> List(0.8041298956091499, 0.07462084216639915, 0.121249262224451))</td><td>0</td><td>0</td></tr><tr><td>Map(vectorType -> dense, length -> 5, values -> List(0.0, 0.27230057374471406, 0.6463415017091123, 0.2884615384615385, 0.008064516129032258))</td><td>Map(vectorType -> dense, length -> 3, values -> List(0.6926378170951805, 0.0806457199929567, 0.22671646291186268))</td><td>0</td><td>0</td></tr><tr><td>Map(vectorType -> dense, length -> 5, values -> List(0.0, 0.28638504295026135, 0.5853658905347008, 0.13461538461538464, 0.3387096774193548))</td><td>Map(vectorType -> dense, length -> 3, values -> List(0.6904187950378495, 0.12622878995294903, 0.18335241500920146))</td><td>0</td><td>0</td></tr><tr><td>Map(vectorType -> dense, length -> 5, values -> List(0.0, 0.3239436871963018, 0.5121951106047075, 0.15384615384615385, 0.20967741935483872))</td><td>Map(vectorType -> dense, length -> 3, values -> List(0.6464570966139391, 0.13143301445707772, 0.222109888928983))</td><td>0</td><td>0</td></tr><tr><td>Map(vectorType -> dense, length -> 5, values -> List(0.0, 0.3521126256073964, 0.5365854481158709, 0.15384615384615385, 0.1935483870967742))</td><td>Map(vectorType -> dense, length -> 3, values -> List(0.627557093621821, 0.12698276789803903, 0.24546013848013998))</td><td>0</td><td>0</td></tr><tr><td>Map(vectorType -> dense, length -> 5, values -> List(0.0, 0.3990609756883826, 0.6707316066167787, 0.2884615384615385, 0.2903225806451613))</td><td>Map(vectorType -> dense, length -> 3, values -> List(0.5626398977524443, 0.15869820298748208, 0.2786618992600735))</td><td>0</td><td>0</td></tr><tr><td>Map(vectorType -> dense, length -> 5, values -> List(0.0, 0.41784038735827417, 0.8170731664767653, 0.4807692307692308, 0.5887096774193549))</td><td>Map(vectorType -> dense, length -> 3, values -> List(0.4727296164971249, 0.2817226207576132, 0.2455477627452619))</td><td>0</td><td>0</td></tr><tr><td>Map(vectorType -> dense, length -> 5, values -> List(0.0, 0.4225351507288757, 0.707317112883524, 0.19230769230769232, 0.3870967741935484))</td><td>Map(vectorType -> dense, length -> 3, values -> List(0.5725303302564737, 0.149622510347537, 0.2778471593959892))</td><td>0</td><td>0</td></tr><tr><td>Map(vectorType -> dense, length -> 5, values -> List(0.0, 0.450704268233713, 0.17073166476765295, 0.6153846153846154, 0.5806451612903226))</td><td>Map(vectorType -> dense, length -> 3, values -> List(0.1523909042903637, 0.736039131299543, 0.11156996441009326))</td><td>1</td><td>1</td></tr><tr><td>Map(vectorType -> dense, length -> 5, values -> List(0.0, 0.4741784432742061, 0.7560975553023537, 0.3653846153846154, 0.4435483870967742))</td><td>Map(vectorType -> dense, length -> 3, values -> List(0.46803102428896554, 0.21979192271975156, 0.31217705299128284))</td><td>0</td><td>0</td></tr><tr><td>Map(vectorType -> dense, length -> 5, values -> List(0.0, 0.5023473816853008, 0.10975605359324138, 0.5961538461538461, 0.5806451612903226))</td><td>Map(vectorType -> dense, length -> 3, values -> List(0.12116216591012244, 0.7678251269430112, 0.11101270714686652))</td><td>1</td><td>1</td></tr><tr><td>Map(vectorType -> dense, length -> 5, values -> List(0.0, 0.5211267933551923, 0.14634144355823803, 0.576923076923077, 0.5))</td><td>Map(vectorType -> dense, length -> 3, values -> List(0.14274343581347768, 0.7119427824731763, 0.14531378171334597))</td><td>1</td><td>1</td></tr><tr><td>Map(vectorType -> dense, length -> 5, values -> List(0.0, 0.5305164991901381, 0.13414627480265628, 0.7692307692307693, 0.5483870967741935))</td><td>Map(vectorType -> dense, length -> 3, values -> List(0.08566973748081562, 0.8122278564982555, 0.10210240602092902))</td><td>1</td><td>1</td></tr><tr><td>Map(vectorType -> dense, length -> 5, values -> List(0.0, 0.5352112625607396, 0.10975605359324138, 0.8076923076923077, 0.5806451612903226))</td><td>Map(vectorType -> dense, length -> 3, values -> List(0.0701347106518578, 0.8432387348032999, 0.08662655454484218))</td><td>1</td><td>1</td></tr><tr><td>Map(vectorType -> dense, length -> 5, values -> List(0.0, 0.5352112625607396, 0.2317072759420645, 0.6730769230769231, 0.5645161290322581))</td><td>Map(vectorType -> dense, length -> 3, values -> List(0.12250550905737231, 0.7415525818906904, 0.13594190905193723))</td><td>1</td><td>1</td></tr><tr><td>Map(vectorType -> dense, length -> 5, values -> List(0.0, 0.5586854376012327, 0.03658538996499666, 0.576923076923077, 0.46774193548387094))</td><td>Map(vectorType -> dense, length -> 3, values -> List(0.10820390234520254, 0.7573241336884062, 0.13447196396639116))</td><td>1</td><td>1</td></tr><tr><td>Map(vectorType -> dense, length -> 5, values -> List(0.0, 0.5774648492711243, 0.4878047730935439, 0.7884615384615385, 0.7580645161290323))</td><td>Map(vectorType -> dense, length -> 3, values -> List(0.1081579518922152, 0.7546638600820563, 0.13717818802572854))</td><td>1</td><td>1</td></tr><tr><td>Map(vectorType -> dense, length -> 5, values -> List(0.0, 0.5821596126417258, 0.17073166476765295, 0.6923076923076923, 0.6290322580645161))</td><td>Map(vectorType -> dense, length -> 3, values -> List(0.08246309043884455, 0.8059697683568926, 0.11156714120426292))</td><td>1</td><td>1</td></tr><tr><td>Map(vectorType -> dense, length -> 5, values -> List(0.0, 0.6009390243116174, 0.0, 0.6730769230769231, 0.7096774193548387))</td><td>Map(vectorType -> dense, length -> 3, values -> List(0.049158126034222024, 0.8806819652738063, 0.07015990869197178))</td><td>1</td><td>1</td></tr><tr><td>Map(vectorType -> dense, length -> 5, values -> List(0.0, 0.6150234935171647, 0.30487805587205785, 0.7115384615384616, 0.7741935483870968))</td><td>Map(vectorType -> dense, length -> 3, values -> List(0.07619660432324775, 0.8137480743449337, 0.11005532133181856))</td><td>1</td><td>1</td></tr><tr><td>Map(vectorType -> dense, length -> 5, values -> List(0.0, 0.6150234935171647, 0.37804871950030255, 0.8653846153846154, 0.9838709677419355))</td><td>Map(vectorType -> dense, length -> 3, values -> List(0.04536730790287338, 0.8895743514023936, 0.06505834069473293))</td><td>1</td><td>1</td></tr><tr><td>Map(vectorType -> dense, length -> 5, values -> List(0.0, 0.629107962722712, 0.04878044241882981, 0.6923076923076923, 0.5645161290322581))</td><td>Map(vectorType -> dense, length -> 3, values -> List(0.06078652393473823, 0.8326069604417085, 0.1066065156235533))</td><td>1</td><td>1</td></tr><tr><td>Map(vectorType -> dense, length -> 5, values -> List(0.0, 0.629107962722712, 0.2073170547326496, 0.8076923076923077, 0.6774193548387096))</td><td>Map(vectorType -> dense, length -> 3, values -> List(0.05572944781575927, 0.8463417263965743, 0.0979288257876664))</td><td>1</td><td>1</td></tr><tr><td>Map(vectorType -> dense, length -> 5, values -> List(0.0, 0.6431924319282594, 0.1585366123138198, 0.6153846153846154, 0.41935483870967744))</td><td>Map(vectorType -> dense, length -> 3, values -> List(0.1043749633256246, 0.7002780386229369, 0.1953469980514384))</td><td>1</td><td>1</td></tr><tr><td>Map(vectorType -> dense, length -> 5, values -> List(0.0, 0.6572769011338067, 0.21951222348823138, 0.7115384615384616, 0.7096774193548387))</td><td>Map(vectorType -> dense, length -> 3, values -> List(0.06155661424451738, 0.826178910475876, 0.11226447527960669))</td><td>1</td><td>1</td></tr><tr><td>Map(vectorType -> dense, length -> 5, values -> List(0.0, 0.6666666069687525, 0.30487805587205785, 0.7115384615384616, 0.6935483870967742))</td><td>Map(vectorType -> dense, length -> 3, values -> List(0.07324791620271758, 0.7880955261600445, 0.1386565576372377))</td><td>1</td><td>1</td></tr><tr><td>Map(vectorType -> dense, length -> 5, values -> List(0.0, 0.6713615494330967, 0.28048783466264293, 0.826923076923077, 0.6774193548387096))</td><td>Map(vectorType -> dense, length -> 3, values -> List(0.05486551475615372, 0.8284900185076731, 0.11664446673617324))</td><td>1</td><td>1</td></tr><tr><td>Map(vectorType -> dense, length -> 5, values -> List(0.0, 0.6760563128036982, 0.1829268335232347, 0.75, 0.7419354838709677))</td><td>Map(vectorType -> dense, length -> 3, values -> List(0.04677451640775361, 0.8589465015535315, 0.09427898203871513))</td><td>1</td><td>1</td></tr><tr><td>Map(vectorType -> dense, length -> 5, values -> List(0.0, 0.6901407820092456, 0.3414634458370545, 0.7115384615384616, 0.8387096774193549))</td><td>Map(vectorType -> dense, length -> 3, values -> List(0.05913907178722243, 0.8261557353030122, 0.1147051929097654))</td><td>1</td><td>1</td></tr><tr><td>Map(vectorType -> dense, length -> 5, values -> List(0.0, 0.7276994262552859, 0.14634144355823803, 0.7115384615384616, 0.8064516129032258))</td><td>Map(vectorType -> dense, length -> 3, values -> List(0.035950640712105505, 0.8778387969530063, 0.08621056233488814))</td><td>1</td><td>1</td></tr><tr><td>Map(vectorType -> dense, length -> 5, values -> List(0.0, 0.7558685437601232, 0.12195122234882314, 0.6153846153846154, 0.5483870967741935))</td><td>Map(vectorType -> dense, length -> 3, values -> List(0.05739845140042107, 0.7759226441805096, 0.1666789044190692))</td><td>1</td><td>1</td></tr><tr><td>Map(vectorType -> dense, length -> 5, values -> List(0.0, 0.765258249595069, 0.3658535507447208, 0.8076923076923077, 0.8064516129032258))</td><td>Map(vectorType -> dense, length -> 3, values -> List(0.04185585641150509, 0.835117207846594, 0.12302693574190082))</td><td>1</td><td>1</td></tr><tr><td>Map(vectorType -> dense, length -> 5, values -> List(0.0, 0.7699530129656705, 0.09756100113940823, 0.8076923076923077, 0.7741935483870968))</td><td>Map(vectorType -> dense, length -> 3, values -> List(0.023745642400652484, 0.9008557381510136, 0.07539861944833386))</td><td>1</td><td>1</td></tr><tr><td>Map(vectorType -> dense, length -> 5, values -> List(0.0, 0.7746477763362721, 0.3292682770814727, 1.0, 0.9354838709677419))</td><td>Map(vectorType -> dense, length -> 3, values -> List(0.019410753308539745, 0.9162662658806703, 0.06432298081078998))</td><td>1</td><td>1</td></tr><tr><td>Map(vectorType -> dense, length -> 5, values -> List(0.0, 0.7840374821712179, 0.35365861459263626, 0.8461538461538463, 1.0))</td><td>Map(vectorType -> dense, length -> 3, values -> List(0.025633666384491428, 0.8979798587406503, 0.07638647487485814))</td><td>1</td><td>1</td></tr><tr><td>Map(vectorType -> dense, length -> 5, values -> List(0.0, 0.7981219513767652, 0.1829268335232347, 0.8076923076923077, 0.7258064516129032))</td><td>Map(vectorType -> dense, length -> 3, values -> List(0.028600533068853448, 0.867239703631691, 0.1041597632994556))</td><td>1</td><td>1</td></tr><tr><td>Map(vectorType -> dense, length -> 5, values -> List(0.0, 0.7981219513767652, 0.2073170547326496, 0.9615384615384616, 0.8387096774193549))</td><td>Map(vectorType -> dense, length -> 3, values -> List(0.017493246262886772, 0.9155538921444268, 0.06695286159268649))</td><td>1</td><td>1</td></tr><tr><td>Map(vectorType -> dense, length -> 5, values -> List(0.0, 0.8215961264172583, 0.2073170547326496, 0.7307692307692308, 0.5967741935483871))</td><td>Map(vectorType -> dense, length -> 3, values -> List(0.04043263987251797, 0.7950153632401473, 0.16455199688733455))</td><td>1</td><td>1</td></tr><tr><td>Map(vectorType -> dense, length -> 5, values -> List(0.0, 0.8403755380871498, 0.24390244469764627, 0.8076923076923077, 0.8548387096774194))</td><td>Map(vectorType -> dense, length -> 3, values -> List(0.02319654176234393, 0.8822846882613143, 0.09451876997634172))</td><td>1</td><td>1</td></tr><tr><td>Map(vectorType -> dense, length -> 5, values -> List(0.0, 0.8403755380871498, 0.317073108325891, 0.8846153846153847, 0.7903225806451613))</td><td>Map(vectorType -> dense, length -> 3, values -> List(0.025507229155876204, 0.862151926805645, 0.11234084403847877))</td><td>1</td><td>1</td></tr><tr><td>Map(vectorType -> dense, length -> 5, values -> List(0.0, 0.8497652439220956, 0.12195122234882314, 0.7692307692307693, 0.9032258064516129))</td><td>Map(vectorType -> dense, length -> 3, values -> List(0.017088742396111276, 0.9127776201700699, 0.0701336374338189))</td><td>1</td><td>1</td></tr><tr><td>Map(vectorType -> dense, length -> 5, values -> List(0.0, 0.8638497131276429, 0.2317072759420645, 0.7307692307692308, 0.6774193548387096))</td><td>Map(vectorType -> dense, length -> 3, values -> List(0.03292836182657943, 0.8125315900050424, 0.1545400481683782))</td><td>1</td><td>1</td></tr><tr><td>Map(vectorType -> dense, length -> 5, values -> List(0.0, 0.8638497131276429, 0.317073108325891, 0.8461538461538463, 0.8548387096774194))</td><td>Map(vectorType -> dense, length -> 3, values -> List(0.02324714507205842, 0.8698352223143616, 0.10691763261357999))</td><td>1</td><td>1</td></tr><tr><td>Map(vectorType -> dense, length -> 5, values -> List(0.0, 0.8779341823331903, 0.29268288711647605, 0.9230769230769231, 0.7419354838709677))</td><td>Map(vectorType -> dense, length -> 3, values -> List(0.0211888574651871, 0.8621912214932315, 0.11661992104158142))</td><td>1</td><td>1</td></tr><tr><td>Map(vectorType -> dense, length -> 5, values -> List(0.0, 0.9107980632086291, 0.3658535507447208, 1.0, 0.8387096774193549))</td><td>Map(vectorType -> dense, length -> 3, values -> List(0.016087184053637918, 0.8819709518471008, 0.10194186409926125))</td><td>1</td><td>1</td></tr><tr><td>Map(vectorType -> dense, length -> 5, values -> List(0.0, 0.943661944084068, 0.4634146681858776, 0.9615384615384616, 0.8064516129032258))</td><td>Map(vectorType -> dense, length -> 3, values -> List(0.020626132251276606, 0.8319941879631658, 0.1473796797855575))</td><td>1</td><td>1</td></tr><tr><td>Map(vectorType -> dense, length -> 5, values -> List(0.0, 0.9577464132896153, 0.28048783466264293, 0.826923076923077, 0.8225806451612904))</td><td>Map(vectorType -> dense, length -> 3, values -> List(0.017376132425111563, 0.8604208995579751, 0.12220296801691338))</td><td>1</td><td>1</td></tr><tr><td>Map(vectorType -> dense, length -> 5, values -> List(0.0, 1.0, 0.30487805587205785, 0.7884615384615385, 0.8387096774193549))</td><td>Map(vectorType -> dense, length -> 3, values -> List(0.01697649117106649, 0.8446133785118339, 0.13841013031709973))</td><td>1</td><td>1</td></tr><tr><td>Map(vectorType -> dense, length -> 5, values -> List(1.0, 0.0, 0.2682926659070612, 0.19230769230769232, 0.04838709677419355))</td><td>Map(vectorType -> dense, length -> 3, values -> List(0.8634524575075543, 0.05432044056590722, 0.08222710192653856))</td><td>0</td><td>0</td></tr><tr><td>Map(vectorType -> dense, length -> 5, values -> List(1.0, 0.04694835008098619, 0.3414634458370545, 0.0, 0.0))</td><td>Map(vectorType -> dense, length -> 3, values -> List(0.8792622403235903, 0.029731903592687226, 0.09100585608372264))</td><td>0</td><td>0</td></tr><tr><td>Map(vectorType -> dense, length -> 5, values -> List(1.0, 0.18309863695334322, 0.5487803842679555, 0.3269230769230769, 0.1774193548387097))</td><td>Map(vectorType -> dense, length -> 3, values -> List(0.7628192498313837, 0.07519983815788643, 0.1619809120107298))</td><td>0</td><td>0</td></tr><tr><td>Map(vectorType -> dense, length -> 5, values -> List(1.0, 0.18309863695334322, 0.6341463329535306, 0.15384615384615385, 0.06451612903225806))</td><td>Map(vectorType -> dense, length -> 3, values -> List(0.8083682171888732, 0.03315587709529761, 0.1584759057158293))</td><td>0</td><td>0</td></tr><tr><td>Map(vectorType -> dense, length -> 5, values -> List(1.0, 0.22065728119938363, 0.6341463329535306, 0.2884615384615385, 0.1935483870967742))</td><td>Map(vectorType -> dense, length -> 3, values -> List(0.7562351790015709, 0.06308511495874881, 0.1806797060396802))</td><td>0</td><td>0</td></tr><tr><td>Map(vectorType -> dense, length -> 5, values -> List(1.0, 0.22535222366372784, 0.6463415017091123, 0.21153846153846156, 0.1935483870967742))</td><td>Map(vectorType -> dense, length -> 3, values -> List(0.7705008865371366, 0.0520199908441678, 0.17747912261869572))</td><td>0</td><td>0</td></tr><tr><td>Map(vectorType -> dense, length -> 5, values -> List(1.0, 0.2300469870343294, 0.43902433067471414, 0.13461538461538464, 0.03225806451612903))</td><td>Map(vectorType -> dense, length -> 3, values -> List(0.7578358820149136, 0.053306691741110294, 0.18885742624397617))</td><td>0</td><td>0</td></tr><tr><td>Map(vectorType -> dense, length -> 5, values -> List(1.0, 0.24413145623987673, 0.5487803842679555, 0.25, 0.14516129032258066))</td><td>Map(vectorType -> dense, length -> 3, values -> List(0.735197980086845, 0.0679676762664462, 0.19683434364670882))</td><td>0</td><td>0</td></tr><tr><td>Map(vectorType -> dense, length -> 5, values -> List(1.0, 0.2910798063208629, 0.7195122816391056, 0.21153846153846156, 0.3387096774193548))</td><td>Map(vectorType -> dense, length -> 3, values -> List(0.7276185554287187, 0.06636338121544905, 0.20601806335583223))</td><td>0</td><td>0</td></tr><tr><td>Map(vectorType -> dense, length -> 5, values -> List(1.0, 0.314553981361356, 0.8170731664767653, 0.23076923076923078, 0.3387096774193548))</td><td>Map(vectorType -> dense, length -> 3, values -> List(0.7172099161376706, 0.057560981173460826, 0.22522910268886853))</td><td>0</td><td>0</td></tr><tr><td>Map(vectorType -> dense, length -> 5, values -> List(1.0, 0.31924892382570025, 0.6707316066167787, 0.23076923076923078, 0.22580645161290322))</td><td>Map(vectorType -> dense, length -> 3, values -> List(0.6931866653789956, 0.06612880170734677, 0.24068453291365755))</td><td>0</td><td>0</td></tr><tr><td>Map(vectorType -> dense, length -> 5, values -> List(1.0, 0.3239436871963018, 0.6585366704646941, 0.13461538461538464, 0.24193548387096775))</td><td>Map(vectorType -> dense, length -> 3, values -> List(0.7095325570793063, 0.057314953133954856, 0.23315248978673891))</td><td>0</td><td>0</td></tr><tr><td>Map(vectorType -> dense, length -> 5, values -> List(1.0, 0.3474178622367949, 0.41463422576704784, 0.0, 0.11290322580645161))</td><td>Map(vectorType -> dense, length -> 3, values -> List(0.6864489259975548, 0.061942792516678793, 0.2516082814857665))</td><td>0</td><td>0</td></tr><tr><td>Map(vectorType -> dense, length -> 5, values -> List(1.0, 0.3802817431122337, 0.829268335232347, 0.42307692307692313, 0.3467741935483871))</td><td>Map(vectorType -> dense, length -> 3, values -> List(0.6102827165028741, 0.0966716954405753, 0.29304558805655045))</td><td>0</td><td>0</td></tr><tr><td>Map(vectorType -> dense, length -> 5, values -> List(1.0, 0.40845068152332836, 0.6829267753723604, 0.576923076923077, 0.45161290322580644))</td><td>Map(vectorType -> dense, length -> 3, values -> List(0.48887519301458804, 0.22320795874332275, 0.28791684824208924))</td><td>0</td><td>0</td></tr><tr><td>Map(vectorType -> dense, length -> 5, values -> List(1.0, 0.43192485656382146, 0.8536584401400134, 0.3076923076923077, 0.20967741935483872))</td><td>Map(vectorType -> dense, length -> 3, values -> List(0.5902798088754143, 0.05919789753291921, 0.35052229359166637))</td><td>0</td><td>0</td></tr><tr><td>Map(vectorType -> dense, length -> 5, values -> List(1.0, 0.44131456239876726, 0.6341463329535306, 0.44230769230769235, 0.3548387096774194))</td><td>Map(vectorType -> dense, length -> 3, values -> List(0.5017668978772221, 0.16987608397624152, 0.32835701814653645))</td><td>0</td><td>0</td></tr><tr><td>Map(vectorType -> dense, length -> 5, values -> List(1.0, 0.48826291247975345, 0.41463422576704784, 0.17307692307692307, 0.14516129032258066))</td><td>Map(vectorType -> dense, length -> 3, values -> List(0.5010243356791148, 0.11657175287208017, 0.3824039114488052))</td><td>0</td><td>2</td></tr><tr><td>Map(vectorType -> dense, length -> 5, values -> List(1.0, 0.48826291247975345, 0.4878047730935439, 0.17307692307692307, 0.14516129032258066))</td><td>Map(vectorType -> dense, length -> 3, values -> List(0.5134153541526063, 0.0989594478939959, 0.3876251979533978))</td><td>0</td><td>2</td></tr><tr><td>Map(vectorType -> dense, length -> 5, values -> List(1.0, 0.5211267933551923, 0.6341463329535306, 0.2692307692307693, 0.3870967741935484))</td><td>Map(vectorType -> dense, length -> 3, values -> List(0.4742627293390677, 0.14187827989472487, 0.3838589907662075))</td><td>0</td><td>0</td></tr><tr><td>Map(vectorType -> dense, length -> 5, values -> List(1.0, 0.5633802009718343, 0.7804878928135173, 0.34615384615384615, 0.4838709677419355))</td><td>Map(vectorType -> dense, length -> 3, values -> List(0.4338380960726312, 0.14923358903195488, 0.4169283148954141))</td><td>0</td><td>0</td></tr><tr><td>Map(vectorType -> dense, length -> 5, values -> List(1.0, 0.6150234935171647, 0.4024390570114661, 0.25, 0.11290322580645161))</td><td>Map(vectorType -> dense, length -> 3, values -> List(0.3506622124724564, 0.14359252056102131, 0.5057452669665223))</td><td>2</td><td>2</td></tr><tr><td>Map(vectorType -> dense, length -> 5, values -> List(1.0, 0.6244131993521105, 0.6585366704646941, 0.19230769230769232, 0.20161290322580644))</td><td>Map(vectorType -> dense, length -> 3, values -> List(0.39206684387483054, 0.0877868690729077, 0.5201462870522617))</td><td>2</td><td>2</td></tr><tr><td>Map(vectorType -> dense, length -> 5, values -> List(1.0, 0.629107962722712, 0.4512194994302959, 0.34615384615384615, 0.1935483870967742))</td><td>Map(vectorType -> dense, length -> 3, values -> List(0.3193840278314043, 0.1799211657806056, 0.50069480638799))</td><td>2</td><td>2</td></tr><tr><td>Map(vectorType -> dense, length -> 5, values -> List(1.0, 0.6807510761742998, 0.5487803842679555, 0.2884615384615385, 0.2903225806451613))</td><td>Map(vectorType -> dense, length -> 3, values -> List(0.3019970642605144, 0.16240160037891013, 0.5356013353605754))</td><td>2</td><td>2</td></tr><tr><td>Map(vectorType -> dense, length -> 5, values -> List(1.0, 0.8028168938411094, 0.5975610592902826, 0.3269230769230769, 0.4838709677419355))</td><td>Map(vectorType -> dense, length -> 3, values -> List(0.2025495604823438, 0.2267133425475306, 0.5707370969701256))</td><td>2</td><td>2</td></tr><tr><td>Map(vectorType -> dense, length -> 5, values -> List(1.0, 0.8169013630466567, 0.6951219441279421, 0.42307692307692313, 0.2903225806451613))</td><td>Map(vectorType -> dense, length -> 3, values -> List(0.18873301120160313, 0.1507913209926867, 0.6604756678057102))</td><td>2</td><td>2</td></tr><tr><td>Map(vectorType -> dense, length -> 5, values -> List(1.0, 0.8215961264172583, 0.5975610592902826, 0.2884615384615385, 0.28225806451612906))</td><td>Map(vectorType -> dense, length -> 3, values -> List(0.198714202716786, 0.14494323272072637, 0.6563425645624876))</td><td>2</td><td>2</td></tr><tr><td>Map(vectorType -> dense, length -> 5, values -> List(1.0, 0.8309858322522041, 0.4878047730935439, 0.38461538461538464, 0.25))</td><td>Map(vectorType -> dense, length -> 3, values -> List(0.16641248259531286, 0.19881704563447936, 0.6347704717702078))</td><td>2</td><td>2</td></tr><tr><td>Map(vectorType -> dense, length -> 5, values -> List(1.0, 0.8450703014577514, 0.5609755530235373, 0.23076923076923078, 0.16129032258064516))</td><td>Map(vectorType -> dense, length -> 3, values -> List(0.1868724923193305, 0.11027286162079215, 0.7028546460598774))</td><td>2</td><td>2</td></tr><tr><td>Map(vectorType -> dense, length -> 5, values -> List(1.0, 0.8544600072926972, 0.8170731664767653, 0.3653846153846154, 0.12903225806451613))</td><td>Map(vectorType -> dense, length -> 3, values -> List(0.17713124950520326, 0.07364398499492333, 0.7492247654998733))</td><td>2</td><td>2</td></tr><tr><td>Map(vectorType -> dense, length -> 5, values -> List(1.0, 0.9014083573736834, 0.7195122816391056, 0.2884615384615385, 0.24193548387096775))</td><td>Map(vectorType -> dense, length -> 3, values -> List(0.15739869550811622, 0.09990247099197758, 0.7426988334999063))</td><td>2</td><td>2</td></tr><tr><td>Map(vectorType -> dense, length -> 5, values -> List(1.0, 0.9295774748785207, 0.7560975553023537, 0.5384615384615385, 0.3387096774193548))</td><td>Map(vectorType -> dense, length -> 3, values -> List(0.11767370839742024, 0.16894074966504427, 0.7133855419375357))</td><td>2</td><td>2</td></tr><tr><td>Map(vectorType -> dense, length -> 5, values -> List(1.0, 0.9342722382491222, 0.5853658905347008, 0.44230769230769235, 0.3709677419354839))</td><td>Map(vectorType -> dense, length -> 3, values -> List(0.1147908609987609, 0.2164662753871617, 0.6687428636140773))</td><td>2</td><td>2</td></tr><tr><td>Map(vectorType -> dense, length -> 5, values -> List(1.0, 0.9342722382491222, 0.6951219441279421, 0.3653846153846154, 0.4032258064516129))</td><td>Map(vectorType -> dense, length -> 3, values -> List(0.1319600898472942, 0.1643287641247951, 0.7037111460279106))</td><td>2</td><td>2</td></tr><tr><td>Map(vectorType -> dense, length -> 5, values -> List(1.0, 0.943661944084068, 0.6707316066167787, 0.3653846153846154, 0.1774193548387097))</td><td>Map(vectorType -> dense, length -> 3, values -> List(0.12274725604028187, 0.10830863594903138, 0.7689441080106867))</td><td>2</td><td>2</td></tr><tr><td>Map(vectorType -> dense, length -> 5, values -> List(1.0, 0.9718308824951627, 0.8170731664767653, 0.5192307692307693, 0.532258064516129))</td><td>Map(vectorType -> dense, length -> 3, values -> List(0.10621449833041514, 0.20639807475424843, 0.6873874269153365))</td><td>2</td><td>2</td></tr><tr><td>Map(vectorType -> dense, length -> 5, values -> List(2.0, 0.09389670016197238, 0.5853658905347008, 0.2884615384615385, 0.18548387096774194))</td><td>Map(vectorType -> dense, length -> 3, values -> List(0.8515423950329221, 0.030310480046874422, 0.11814712492020349))</td><td>0</td><td>0</td></tr><tr><td>Map(vectorType -> dense, length -> 5, values -> List(2.0, 0.11737087520246547, 0.4756098369414594, 0.21153846153846156, 0.0967741935483871))</td><td>Map(vectorType -> dense, length -> 3, values -> List(0.8402156348204949, 0.029608265276515652, 0.13017609990298945))</td><td>0</td><td>0</td></tr><tr><td>Map(vectorType -> dense, length -> 5, values -> List(2.0, 0.14084505024295857, 0.743902386546772, 0.2884615384615385, 0.41935483870967744))</td><td>Map(vectorType -> dense, length -> 3, values -> List(0.8394631239806697, 0.03625605297991419, 0.12428082303941615))</td><td>0</td><td>0</td></tr><tr><td>Map(vectorType -> dense, length -> 5, values -> List(2.0, 0.192488342788289, 0.4756098369414594, 0.17307692307692307, 0.08064516129032258))</td><td>Map(vectorType -> dense, length -> 3, values -> List(0.7991435755140441, 0.03140677472391769, 0.16944964976203822))</td><td>0</td><td>0</td></tr><tr><td>Map(vectorType -> dense, length -> 5, values -> List(2.0, 0.2159625178287821, 0.6707316066167787, 0.17307692307692307, 0.2903225806451613))</td><td>Map(vectorType -> dense, length -> 3, values -> List(0.8040188263565957, 0.03091536757246764, 0.1650658060709367))</td><td>0</td><td>0</td></tr><tr><td>Map(vectorType -> dense, length -> 5, values -> List(2.0, 0.24413145623987673, 0.8780487776511768, 0.40384615384615385, 0.28225806451612906))</td><td>Map(vectorType -> dense, length -> 3, values -> List(0.7626585659199552, 0.03324212058983955, 0.20409931349020527))</td><td>0</td><td>0</td></tr><tr><td>Map(vectorType -> dense, length -> 5, values -> List(2.0, 0.26291086790976825, 0.7926828289656017, 0.38461538461538464, 0.1935483870967742))</td><td>Map(vectorType -> dense, length -> 3, values -> List(0.7406033642114436, 0.034229775119013144, 0.22516686066954336))</td><td>0</td><td>0</td></tr><tr><td>Map(vectorType -> dense, length -> 5, values -> List(2.0, 0.2676056312803698, 0.4634146681858776, 0.15384615384615385, 0.12903225806451613))</td><td>Map(vectorType -> dense, length -> 3, values -> List(0.7468242373845941, 0.04018056114871241, 0.21299520146669343))</td><td>0</td><td>0</td></tr><tr><td>Map(vectorType -> dense, length -> 5, values -> List(2.0, 0.30516427552641023, 0.4512194994302959, 0.19230769230769232, 0.0))</td><td>Map(vectorType -> dense, length -> 3, values -> List(0.7020148304866254, 0.037697874935254005, 0.2602872945781207))</td><td>0</td><td>0</td></tr><tr><td>Map(vectorType -> dense, length -> 5, values -> List(2.0, 0.31924892382570025, 0.5487803842679555, 0.057692307692307696, 0.23387096774193547))</td><td>Map(vectorType -> dense, length -> 3, values -> List(0.7342650618698952, 0.035852509920251685, 0.22988242820985308))</td><td>0</td><td>0</td></tr><tr><td>Map(vectorType -> dense, length -> 5, values -> List(2.0, 0.3990609756883826, 0.6951219441279421, 0.40384615384615385, 0.3548387096774194))</td><td>Map(vectorType -> dense, length -> 3, values -> List(0.6031274892185381, 0.07909636742610078, 0.317776143355361))</td><td>0</td><td>0</td></tr><tr><td>Map(vectorType -> dense, length -> 5, values -> List(2.0, 0.4131456239876726, 0.42682916191913234, 0.25, 0.25806451612903225))</td><td>Map(vectorType -> dense, length -> 3, values -> List(0.5874356273081647, 0.09017135022057655, 0.32239302247125895))</td><td>0</td><td>0</td></tr><tr><td>Map(vectorType -> dense, length -> 5, values -> List(2.0, 0.4225351507288757, 0.5243902793602893, 0.07692307692307693, 0.0967741935483871))</td><td>Map(vectorType -> dense, length -> 3, values -> List(0.6255531978610114, 0.03632013526889827, 0.33812666687009035))</td><td>0</td><td>0</td></tr><tr><td>Map(vectorType -> dense, length -> 5, values -> List(2.0, 0.4225351507288757, 0.6463415017091123, 0.21153846153846156, 0.13709677419354838))</td><td>Map(vectorType -> dense, length -> 3, values -> List(0.6106459393026609, 0.039404850620172814, 0.3499492100771663))</td><td>0</td><td>0</td></tr><tr><td>Map(vectorType -> dense, length -> 5, values -> List(2.0, 0.6525821377632051, 1.0, 0.3076923076923077, 0.41935483870967744))</td><td>Map(vectorType -> dense, length -> 3, values -> List(0.3970837204953928, 0.047091815061394406, 0.5558244644432129))</td><td>2</td><td>0</td></tr></tbody></table></div>"
      ]
     },
     "metadata": {
      "application/vnd.databricks.v1+output": {
       "addedWidgets": {},
       "aggData": [],
       "aggError": "",
       "aggOverflow": false,
       "aggSchema": [],
       "aggSeriesLimitReached": false,
       "aggType": "",
       "arguments": {},
       "columnCustomDisplayInfos": {},
       "data": [
        [
         {
          "length": 5,
          "values": [
           0.0,
           0.15023475607790435,
           0.6829267753723604,
           0.17307692307692307,
           0.2903225806451613
          ],
          "vectorType": "dense"
         },
         {
          "length": 3,
          "values": [
           0.8041298956091499,
           0.07462084216639915,
           0.121249262224451
          ],
          "vectorType": "dense"
         },
         0,
         0
        ],
        [
         {
          "length": 5,
          "values": [
           0.0,
           0.27230057374471406,
           0.6463415017091123,
           0.2884615384615385,
           0.008064516129032258
          ],
          "vectorType": "dense"
         },
         {
          "length": 3,
          "values": [
           0.6926378170951805,
           0.0806457199929567,
           0.22671646291186268
          ],
          "vectorType": "dense"
         },
         0,
         0
        ],
        [
         {
          "length": 5,
          "values": [
           0.0,
           0.28638504295026135,
           0.5853658905347008,
           0.13461538461538464,
           0.3387096774193548
          ],
          "vectorType": "dense"
         },
         {
          "length": 3,
          "values": [
           0.6904187950378495,
           0.12622878995294903,
           0.18335241500920146
          ],
          "vectorType": "dense"
         },
         0,
         0
        ],
        [
         {
          "length": 5,
          "values": [
           0.0,
           0.3239436871963018,
           0.5121951106047075,
           0.15384615384615385,
           0.20967741935483872
          ],
          "vectorType": "dense"
         },
         {
          "length": 3,
          "values": [
           0.6464570966139391,
           0.13143301445707772,
           0.222109888928983
          ],
          "vectorType": "dense"
         },
         0,
         0
        ],
        [
         {
          "length": 5,
          "values": [
           0.0,
           0.3521126256073964,
           0.5365854481158709,
           0.15384615384615385,
           0.1935483870967742
          ],
          "vectorType": "dense"
         },
         {
          "length": 3,
          "values": [
           0.627557093621821,
           0.12698276789803903,
           0.24546013848013998
          ],
          "vectorType": "dense"
         },
         0,
         0
        ],
        [
         {
          "length": 5,
          "values": [
           0.0,
           0.3990609756883826,
           0.6707316066167787,
           0.2884615384615385,
           0.2903225806451613
          ],
          "vectorType": "dense"
         },
         {
          "length": 3,
          "values": [
           0.5626398977524443,
           0.15869820298748208,
           0.2786618992600735
          ],
          "vectorType": "dense"
         },
         0,
         0
        ],
        [
         {
          "length": 5,
          "values": [
           0.0,
           0.41784038735827417,
           0.8170731664767653,
           0.4807692307692308,
           0.5887096774193549
          ],
          "vectorType": "dense"
         },
         {
          "length": 3,
          "values": [
           0.4727296164971249,
           0.2817226207576132,
           0.2455477627452619
          ],
          "vectorType": "dense"
         },
         0,
         0
        ],
        [
         {
          "length": 5,
          "values": [
           0.0,
           0.4225351507288757,
           0.707317112883524,
           0.19230769230769232,
           0.3870967741935484
          ],
          "vectorType": "dense"
         },
         {
          "length": 3,
          "values": [
           0.5725303302564737,
           0.149622510347537,
           0.2778471593959892
          ],
          "vectorType": "dense"
         },
         0,
         0
        ],
        [
         {
          "length": 5,
          "values": [
           0.0,
           0.450704268233713,
           0.17073166476765295,
           0.6153846153846154,
           0.5806451612903226
          ],
          "vectorType": "dense"
         },
         {
          "length": 3,
          "values": [
           0.1523909042903637,
           0.736039131299543,
           0.11156996441009326
          ],
          "vectorType": "dense"
         },
         1,
         1
        ],
        [
         {
          "length": 5,
          "values": [
           0.0,
           0.4741784432742061,
           0.7560975553023537,
           0.3653846153846154,
           0.4435483870967742
          ],
          "vectorType": "dense"
         },
         {
          "length": 3,
          "values": [
           0.46803102428896554,
           0.21979192271975156,
           0.31217705299128284
          ],
          "vectorType": "dense"
         },
         0,
         0
        ],
        [
         {
          "length": 5,
          "values": [
           0.0,
           0.5023473816853008,
           0.10975605359324138,
           0.5961538461538461,
           0.5806451612903226
          ],
          "vectorType": "dense"
         },
         {
          "length": 3,
          "values": [
           0.12116216591012244,
           0.7678251269430112,
           0.11101270714686652
          ],
          "vectorType": "dense"
         },
         1,
         1
        ],
        [
         {
          "length": 5,
          "values": [
           0.0,
           0.5211267933551923,
           0.14634144355823803,
           0.576923076923077,
           0.5
          ],
          "vectorType": "dense"
         },
         {
          "length": 3,
          "values": [
           0.14274343581347768,
           0.7119427824731763,
           0.14531378171334597
          ],
          "vectorType": "dense"
         },
         1,
         1
        ],
        [
         {
          "length": 5,
          "values": [
           0.0,
           0.5305164991901381,
           0.13414627480265628,
           0.7692307692307693,
           0.5483870967741935
          ],
          "vectorType": "dense"
         },
         {
          "length": 3,
          "values": [
           0.08566973748081562,
           0.8122278564982555,
           0.10210240602092902
          ],
          "vectorType": "dense"
         },
         1,
         1
        ],
        [
         {
          "length": 5,
          "values": [
           0.0,
           0.5352112625607396,
           0.10975605359324138,
           0.8076923076923077,
           0.5806451612903226
          ],
          "vectorType": "dense"
         },
         {
          "length": 3,
          "values": [
           0.0701347106518578,
           0.8432387348032999,
           0.08662655454484218
          ],
          "vectorType": "dense"
         },
         1,
         1
        ],
        [
         {
          "length": 5,
          "values": [
           0.0,
           0.5352112625607396,
           0.2317072759420645,
           0.6730769230769231,
           0.5645161290322581
          ],
          "vectorType": "dense"
         },
         {
          "length": 3,
          "values": [
           0.12250550905737231,
           0.7415525818906904,
           0.13594190905193723
          ],
          "vectorType": "dense"
         },
         1,
         1
        ],
        [
         {
          "length": 5,
          "values": [
           0.0,
           0.5586854376012327,
           0.03658538996499666,
           0.576923076923077,
           0.46774193548387094
          ],
          "vectorType": "dense"
         },
         {
          "length": 3,
          "values": [
           0.10820390234520254,
           0.7573241336884062,
           0.13447196396639116
          ],
          "vectorType": "dense"
         },
         1,
         1
        ],
        [
         {
          "length": 5,
          "values": [
           0.0,
           0.5774648492711243,
           0.4878047730935439,
           0.7884615384615385,
           0.7580645161290323
          ],
          "vectorType": "dense"
         },
         {
          "length": 3,
          "values": [
           0.1081579518922152,
           0.7546638600820563,
           0.13717818802572854
          ],
          "vectorType": "dense"
         },
         1,
         1
        ],
        [
         {
          "length": 5,
          "values": [
           0.0,
           0.5821596126417258,
           0.17073166476765295,
           0.6923076923076923,
           0.6290322580645161
          ],
          "vectorType": "dense"
         },
         {
          "length": 3,
          "values": [
           0.08246309043884455,
           0.8059697683568926,
           0.11156714120426292
          ],
          "vectorType": "dense"
         },
         1,
         1
        ],
        [
         {
          "length": 5,
          "values": [
           0.0,
           0.6009390243116174,
           0.0,
           0.6730769230769231,
           0.7096774193548387
          ],
          "vectorType": "dense"
         },
         {
          "length": 3,
          "values": [
           0.049158126034222024,
           0.8806819652738063,
           0.07015990869197178
          ],
          "vectorType": "dense"
         },
         1,
         1
        ],
        [
         {
          "length": 5,
          "values": [
           0.0,
           0.6150234935171647,
           0.30487805587205785,
           0.7115384615384616,
           0.7741935483870968
          ],
          "vectorType": "dense"
         },
         {
          "length": 3,
          "values": [
           0.07619660432324775,
           0.8137480743449337,
           0.11005532133181856
          ],
          "vectorType": "dense"
         },
         1,
         1
        ],
        [
         {
          "length": 5,
          "values": [
           0.0,
           0.6150234935171647,
           0.37804871950030255,
           0.8653846153846154,
           0.9838709677419355
          ],
          "vectorType": "dense"
         },
         {
          "length": 3,
          "values": [
           0.04536730790287338,
           0.8895743514023936,
           0.06505834069473293
          ],
          "vectorType": "dense"
         },
         1,
         1
        ],
        [
         {
          "length": 5,
          "values": [
           0.0,
           0.629107962722712,
           0.04878044241882981,
           0.6923076923076923,
           0.5645161290322581
          ],
          "vectorType": "dense"
         },
         {
          "length": 3,
          "values": [
           0.06078652393473823,
           0.8326069604417085,
           0.1066065156235533
          ],
          "vectorType": "dense"
         },
         1,
         1
        ],
        [
         {
          "length": 5,
          "values": [
           0.0,
           0.629107962722712,
           0.2073170547326496,
           0.8076923076923077,
           0.6774193548387096
          ],
          "vectorType": "dense"
         },
         {
          "length": 3,
          "values": [
           0.05572944781575927,
           0.8463417263965743,
           0.0979288257876664
          ],
          "vectorType": "dense"
         },
         1,
         1
        ],
        [
         {
          "length": 5,
          "values": [
           0.0,
           0.6431924319282594,
           0.1585366123138198,
           0.6153846153846154,
           0.41935483870967744
          ],
          "vectorType": "dense"
         },
         {
          "length": 3,
          "values": [
           0.1043749633256246,
           0.7002780386229369,
           0.1953469980514384
          ],
          "vectorType": "dense"
         },
         1,
         1
        ],
        [
         {
          "length": 5,
          "values": [
           0.0,
           0.6572769011338067,
           0.21951222348823138,
           0.7115384615384616,
           0.7096774193548387
          ],
          "vectorType": "dense"
         },
         {
          "length": 3,
          "values": [
           0.06155661424451738,
           0.826178910475876,
           0.11226447527960669
          ],
          "vectorType": "dense"
         },
         1,
         1
        ],
        [
         {
          "length": 5,
          "values": [
           0.0,
           0.6666666069687525,
           0.30487805587205785,
           0.7115384615384616,
           0.6935483870967742
          ],
          "vectorType": "dense"
         },
         {
          "length": 3,
          "values": [
           0.07324791620271758,
           0.7880955261600445,
           0.1386565576372377
          ],
          "vectorType": "dense"
         },
         1,
         1
        ],
        [
         {
          "length": 5,
          "values": [
           0.0,
           0.6713615494330967,
           0.28048783466264293,
           0.826923076923077,
           0.6774193548387096
          ],
          "vectorType": "dense"
         },
         {
          "length": 3,
          "values": [
           0.05486551475615372,
           0.8284900185076731,
           0.11664446673617324
          ],
          "vectorType": "dense"
         },
         1,
         1
        ],
        [
         {
          "length": 5,
          "values": [
           0.0,
           0.6760563128036982,
           0.1829268335232347,
           0.75,
           0.7419354838709677
          ],
          "vectorType": "dense"
         },
         {
          "length": 3,
          "values": [
           0.04677451640775361,
           0.8589465015535315,
           0.09427898203871513
          ],
          "vectorType": "dense"
         },
         1,
         1
        ],
        [
         {
          "length": 5,
          "values": [
           0.0,
           0.6901407820092456,
           0.3414634458370545,
           0.7115384615384616,
           0.8387096774193549
          ],
          "vectorType": "dense"
         },
         {
          "length": 3,
          "values": [
           0.05913907178722243,
           0.8261557353030122,
           0.1147051929097654
          ],
          "vectorType": "dense"
         },
         1,
         1
        ],
        [
         {
          "length": 5,
          "values": [
           0.0,
           0.7276994262552859,
           0.14634144355823803,
           0.7115384615384616,
           0.8064516129032258
          ],
          "vectorType": "dense"
         },
         {
          "length": 3,
          "values": [
           0.035950640712105505,
           0.8778387969530063,
           0.08621056233488814
          ],
          "vectorType": "dense"
         },
         1,
         1
        ],
        [
         {
          "length": 5,
          "values": [
           0.0,
           0.7558685437601232,
           0.12195122234882314,
           0.6153846153846154,
           0.5483870967741935
          ],
          "vectorType": "dense"
         },
         {
          "length": 3,
          "values": [
           0.05739845140042107,
           0.7759226441805096,
           0.1666789044190692
          ],
          "vectorType": "dense"
         },
         1,
         1
        ],
        [
         {
          "length": 5,
          "values": [
           0.0,
           0.765258249595069,
           0.3658535507447208,
           0.8076923076923077,
           0.8064516129032258
          ],
          "vectorType": "dense"
         },
         {
          "length": 3,
          "values": [
           0.04185585641150509,
           0.835117207846594,
           0.12302693574190082
          ],
          "vectorType": "dense"
         },
         1,
         1
        ],
        [
         {
          "length": 5,
          "values": [
           0.0,
           0.7699530129656705,
           0.09756100113940823,
           0.8076923076923077,
           0.7741935483870968
          ],
          "vectorType": "dense"
         },
         {
          "length": 3,
          "values": [
           0.023745642400652484,
           0.9008557381510136,
           0.07539861944833386
          ],
          "vectorType": "dense"
         },
         1,
         1
        ],
        [
         {
          "length": 5,
          "values": [
           0.0,
           0.7746477763362721,
           0.3292682770814727,
           1.0,
           0.9354838709677419
          ],
          "vectorType": "dense"
         },
         {
          "length": 3,
          "values": [
           0.019410753308539745,
           0.9162662658806703,
           0.06432298081078998
          ],
          "vectorType": "dense"
         },
         1,
         1
        ],
        [
         {
          "length": 5,
          "values": [
           0.0,
           0.7840374821712179,
           0.35365861459263626,
           0.8461538461538463,
           1.0
          ],
          "vectorType": "dense"
         },
         {
          "length": 3,
          "values": [
           0.025633666384491428,
           0.8979798587406503,
           0.07638647487485814
          ],
          "vectorType": "dense"
         },
         1,
         1
        ],
        [
         {
          "length": 5,
          "values": [
           0.0,
           0.7981219513767652,
           0.1829268335232347,
           0.8076923076923077,
           0.7258064516129032
          ],
          "vectorType": "dense"
         },
         {
          "length": 3,
          "values": [
           0.028600533068853448,
           0.867239703631691,
           0.1041597632994556
          ],
          "vectorType": "dense"
         },
         1,
         1
        ],
        [
         {
          "length": 5,
          "values": [
           0.0,
           0.7981219513767652,
           0.2073170547326496,
           0.9615384615384616,
           0.8387096774193549
          ],
          "vectorType": "dense"
         },
         {
          "length": 3,
          "values": [
           0.017493246262886772,
           0.9155538921444268,
           0.06695286159268649
          ],
          "vectorType": "dense"
         },
         1,
         1
        ],
        [
         {
          "length": 5,
          "values": [
           0.0,
           0.8215961264172583,
           0.2073170547326496,
           0.7307692307692308,
           0.5967741935483871
          ],
          "vectorType": "dense"
         },
         {
          "length": 3,
          "values": [
           0.04043263987251797,
           0.7950153632401473,
           0.16455199688733455
          ],
          "vectorType": "dense"
         },
         1,
         1
        ],
        [
         {
          "length": 5,
          "values": [
           0.0,
           0.8403755380871498,
           0.24390244469764627,
           0.8076923076923077,
           0.8548387096774194
          ],
          "vectorType": "dense"
         },
         {
          "length": 3,
          "values": [
           0.02319654176234393,
           0.8822846882613143,
           0.09451876997634172
          ],
          "vectorType": "dense"
         },
         1,
         1
        ],
        [
         {
          "length": 5,
          "values": [
           0.0,
           0.8403755380871498,
           0.317073108325891,
           0.8846153846153847,
           0.7903225806451613
          ],
          "vectorType": "dense"
         },
         {
          "length": 3,
          "values": [
           0.025507229155876204,
           0.862151926805645,
           0.11234084403847877
          ],
          "vectorType": "dense"
         },
         1,
         1
        ],
        [
         {
          "length": 5,
          "values": [
           0.0,
           0.8497652439220956,
           0.12195122234882314,
           0.7692307692307693,
           0.9032258064516129
          ],
          "vectorType": "dense"
         },
         {
          "length": 3,
          "values": [
           0.017088742396111276,
           0.9127776201700699,
           0.0701336374338189
          ],
          "vectorType": "dense"
         },
         1,
         1
        ],
        [
         {
          "length": 5,
          "values": [
           0.0,
           0.8638497131276429,
           0.2317072759420645,
           0.7307692307692308,
           0.6774193548387096
          ],
          "vectorType": "dense"
         },
         {
          "length": 3,
          "values": [
           0.03292836182657943,
           0.8125315900050424,
           0.1545400481683782
          ],
          "vectorType": "dense"
         },
         1,
         1
        ],
        [
         {
          "length": 5,
          "values": [
           0.0,
           0.8638497131276429,
           0.317073108325891,
           0.8461538461538463,
           0.8548387096774194
          ],
          "vectorType": "dense"
         },
         {
          "length": 3,
          "values": [
           0.02324714507205842,
           0.8698352223143616,
           0.10691763261357999
          ],
          "vectorType": "dense"
         },
         1,
         1
        ],
        [
         {
          "length": 5,
          "values": [
           0.0,
           0.8779341823331903,
           0.29268288711647605,
           0.9230769230769231,
           0.7419354838709677
          ],
          "vectorType": "dense"
         },
         {
          "length": 3,
          "values": [
           0.0211888574651871,
           0.8621912214932315,
           0.11661992104158142
          ],
          "vectorType": "dense"
         },
         1,
         1
        ],
        [
         {
          "length": 5,
          "values": [
           0.0,
           0.9107980632086291,
           0.3658535507447208,
           1.0,
           0.8387096774193549
          ],
          "vectorType": "dense"
         },
         {
          "length": 3,
          "values": [
           0.016087184053637918,
           0.8819709518471008,
           0.10194186409926125
          ],
          "vectorType": "dense"
         },
         1,
         1
        ],
        [
         {
          "length": 5,
          "values": [
           0.0,
           0.943661944084068,
           0.4634146681858776,
           0.9615384615384616,
           0.8064516129032258
          ],
          "vectorType": "dense"
         },
         {
          "length": 3,
          "values": [
           0.020626132251276606,
           0.8319941879631658,
           0.1473796797855575
          ],
          "vectorType": "dense"
         },
         1,
         1
        ],
        [
         {
          "length": 5,
          "values": [
           0.0,
           0.9577464132896153,
           0.28048783466264293,
           0.826923076923077,
           0.8225806451612904
          ],
          "vectorType": "dense"
         },
         {
          "length": 3,
          "values": [
           0.017376132425111563,
           0.8604208995579751,
           0.12220296801691338
          ],
          "vectorType": "dense"
         },
         1,
         1
        ],
        [
         {
          "length": 5,
          "values": [
           0.0,
           1.0,
           0.30487805587205785,
           0.7884615384615385,
           0.8387096774193549
          ],
          "vectorType": "dense"
         },
         {
          "length": 3,
          "values": [
           0.01697649117106649,
           0.8446133785118339,
           0.13841013031709973
          ],
          "vectorType": "dense"
         },
         1,
         1
        ],
        [
         {
          "length": 5,
          "values": [
           1.0,
           0.0,
           0.2682926659070612,
           0.19230769230769232,
           0.04838709677419355
          ],
          "vectorType": "dense"
         },
         {
          "length": 3,
          "values": [
           0.8634524575075543,
           0.05432044056590722,
           0.08222710192653856
          ],
          "vectorType": "dense"
         },
         0,
         0
        ],
        [
         {
          "length": 5,
          "values": [
           1.0,
           0.04694835008098619,
           0.3414634458370545,
           0.0,
           0.0
          ],
          "vectorType": "dense"
         },
         {
          "length": 3,
          "values": [
           0.8792622403235903,
           0.029731903592687226,
           0.09100585608372264
          ],
          "vectorType": "dense"
         },
         0,
         0
        ],
        [
         {
          "length": 5,
          "values": [
           1.0,
           0.18309863695334322,
           0.5487803842679555,
           0.3269230769230769,
           0.1774193548387097
          ],
          "vectorType": "dense"
         },
         {
          "length": 3,
          "values": [
           0.7628192498313837,
           0.07519983815788643,
           0.1619809120107298
          ],
          "vectorType": "dense"
         },
         0,
         0
        ],
        [
         {
          "length": 5,
          "values": [
           1.0,
           0.18309863695334322,
           0.6341463329535306,
           0.15384615384615385,
           0.06451612903225806
          ],
          "vectorType": "dense"
         },
         {
          "length": 3,
          "values": [
           0.8083682171888732,
           0.03315587709529761,
           0.1584759057158293
          ],
          "vectorType": "dense"
         },
         0,
         0
        ],
        [
         {
          "length": 5,
          "values": [
           1.0,
           0.22065728119938363,
           0.6341463329535306,
           0.2884615384615385,
           0.1935483870967742
          ],
          "vectorType": "dense"
         },
         {
          "length": 3,
          "values": [
           0.7562351790015709,
           0.06308511495874881,
           0.1806797060396802
          ],
          "vectorType": "dense"
         },
         0,
         0
        ],
        [
         {
          "length": 5,
          "values": [
           1.0,
           0.22535222366372784,
           0.6463415017091123,
           0.21153846153846156,
           0.1935483870967742
          ],
          "vectorType": "dense"
         },
         {
          "length": 3,
          "values": [
           0.7705008865371366,
           0.0520199908441678,
           0.17747912261869572
          ],
          "vectorType": "dense"
         },
         0,
         0
        ],
        [
         {
          "length": 5,
          "values": [
           1.0,
           0.2300469870343294,
           0.43902433067471414,
           0.13461538461538464,
           0.03225806451612903
          ],
          "vectorType": "dense"
         },
         {
          "length": 3,
          "values": [
           0.7578358820149136,
           0.053306691741110294,
           0.18885742624397617
          ],
          "vectorType": "dense"
         },
         0,
         0
        ],
        [
         {
          "length": 5,
          "values": [
           1.0,
           0.24413145623987673,
           0.5487803842679555,
           0.25,
           0.14516129032258066
          ],
          "vectorType": "dense"
         },
         {
          "length": 3,
          "values": [
           0.735197980086845,
           0.0679676762664462,
           0.19683434364670882
          ],
          "vectorType": "dense"
         },
         0,
         0
        ],
        [
         {
          "length": 5,
          "values": [
           1.0,
           0.2910798063208629,
           0.7195122816391056,
           0.21153846153846156,
           0.3387096774193548
          ],
          "vectorType": "dense"
         },
         {
          "length": 3,
          "values": [
           0.7276185554287187,
           0.06636338121544905,
           0.20601806335583223
          ],
          "vectorType": "dense"
         },
         0,
         0
        ],
        [
         {
          "length": 5,
          "values": [
           1.0,
           0.314553981361356,
           0.8170731664767653,
           0.23076923076923078,
           0.3387096774193548
          ],
          "vectorType": "dense"
         },
         {
          "length": 3,
          "values": [
           0.7172099161376706,
           0.057560981173460826,
           0.22522910268886853
          ],
          "vectorType": "dense"
         },
         0,
         0
        ],
        [
         {
          "length": 5,
          "values": [
           1.0,
           0.31924892382570025,
           0.6707316066167787,
           0.23076923076923078,
           0.22580645161290322
          ],
          "vectorType": "dense"
         },
         {
          "length": 3,
          "values": [
           0.6931866653789956,
           0.06612880170734677,
           0.24068453291365755
          ],
          "vectorType": "dense"
         },
         0,
         0
        ],
        [
         {
          "length": 5,
          "values": [
           1.0,
           0.3239436871963018,
           0.6585366704646941,
           0.13461538461538464,
           0.24193548387096775
          ],
          "vectorType": "dense"
         },
         {
          "length": 3,
          "values": [
           0.7095325570793063,
           0.057314953133954856,
           0.23315248978673891
          ],
          "vectorType": "dense"
         },
         0,
         0
        ],
        [
         {
          "length": 5,
          "values": [
           1.0,
           0.3474178622367949,
           0.41463422576704784,
           0.0,
           0.11290322580645161
          ],
          "vectorType": "dense"
         },
         {
          "length": 3,
          "values": [
           0.6864489259975548,
           0.061942792516678793,
           0.2516082814857665
          ],
          "vectorType": "dense"
         },
         0,
         0
        ],
        [
         {
          "length": 5,
          "values": [
           1.0,
           0.3802817431122337,
           0.829268335232347,
           0.42307692307692313,
           0.3467741935483871
          ],
          "vectorType": "dense"
         },
         {
          "length": 3,
          "values": [
           0.6102827165028741,
           0.0966716954405753,
           0.29304558805655045
          ],
          "vectorType": "dense"
         },
         0,
         0
        ],
        [
         {
          "length": 5,
          "values": [
           1.0,
           0.40845068152332836,
           0.6829267753723604,
           0.576923076923077,
           0.45161290322580644
          ],
          "vectorType": "dense"
         },
         {
          "length": 3,
          "values": [
           0.48887519301458804,
           0.22320795874332275,
           0.28791684824208924
          ],
          "vectorType": "dense"
         },
         0,
         0
        ],
        [
         {
          "length": 5,
          "values": [
           1.0,
           0.43192485656382146,
           0.8536584401400134,
           0.3076923076923077,
           0.20967741935483872
          ],
          "vectorType": "dense"
         },
         {
          "length": 3,
          "values": [
           0.5902798088754143,
           0.05919789753291921,
           0.35052229359166637
          ],
          "vectorType": "dense"
         },
         0,
         0
        ],
        [
         {
          "length": 5,
          "values": [
           1.0,
           0.44131456239876726,
           0.6341463329535306,
           0.44230769230769235,
           0.3548387096774194
          ],
          "vectorType": "dense"
         },
         {
          "length": 3,
          "values": [
           0.5017668978772221,
           0.16987608397624152,
           0.32835701814653645
          ],
          "vectorType": "dense"
         },
         0,
         0
        ],
        [
         {
          "length": 5,
          "values": [
           1.0,
           0.48826291247975345,
           0.41463422576704784,
           0.17307692307692307,
           0.14516129032258066
          ],
          "vectorType": "dense"
         },
         {
          "length": 3,
          "values": [
           0.5010243356791148,
           0.11657175287208017,
           0.3824039114488052
          ],
          "vectorType": "dense"
         },
         0,
         2
        ],
        [
         {
          "length": 5,
          "values": [
           1.0,
           0.48826291247975345,
           0.4878047730935439,
           0.17307692307692307,
           0.14516129032258066
          ],
          "vectorType": "dense"
         },
         {
          "length": 3,
          "values": [
           0.5134153541526063,
           0.0989594478939959,
           0.3876251979533978
          ],
          "vectorType": "dense"
         },
         0,
         2
        ],
        [
         {
          "length": 5,
          "values": [
           1.0,
           0.5211267933551923,
           0.6341463329535306,
           0.2692307692307693,
           0.3870967741935484
          ],
          "vectorType": "dense"
         },
         {
          "length": 3,
          "values": [
           0.4742627293390677,
           0.14187827989472487,
           0.3838589907662075
          ],
          "vectorType": "dense"
         },
         0,
         0
        ],
        [
         {
          "length": 5,
          "values": [
           1.0,
           0.5633802009718343,
           0.7804878928135173,
           0.34615384615384615,
           0.4838709677419355
          ],
          "vectorType": "dense"
         },
         {
          "length": 3,
          "values": [
           0.4338380960726312,
           0.14923358903195488,
           0.4169283148954141
          ],
          "vectorType": "dense"
         },
         0,
         0
        ],
        [
         {
          "length": 5,
          "values": [
           1.0,
           0.6150234935171647,
           0.4024390570114661,
           0.25,
           0.11290322580645161
          ],
          "vectorType": "dense"
         },
         {
          "length": 3,
          "values": [
           0.3506622124724564,
           0.14359252056102131,
           0.5057452669665223
          ],
          "vectorType": "dense"
         },
         2,
         2
        ],
        [
         {
          "length": 5,
          "values": [
           1.0,
           0.6244131993521105,
           0.6585366704646941,
           0.19230769230769232,
           0.20161290322580644
          ],
          "vectorType": "dense"
         },
         {
          "length": 3,
          "values": [
           0.39206684387483054,
           0.0877868690729077,
           0.5201462870522617
          ],
          "vectorType": "dense"
         },
         2,
         2
        ],
        [
         {
          "length": 5,
          "values": [
           1.0,
           0.629107962722712,
           0.4512194994302959,
           0.34615384615384615,
           0.1935483870967742
          ],
          "vectorType": "dense"
         },
         {
          "length": 3,
          "values": [
           0.3193840278314043,
           0.1799211657806056,
           0.50069480638799
          ],
          "vectorType": "dense"
         },
         2,
         2
        ],
        [
         {
          "length": 5,
          "values": [
           1.0,
           0.6807510761742998,
           0.5487803842679555,
           0.2884615384615385,
           0.2903225806451613
          ],
          "vectorType": "dense"
         },
         {
          "length": 3,
          "values": [
           0.3019970642605144,
           0.16240160037891013,
           0.5356013353605754
          ],
          "vectorType": "dense"
         },
         2,
         2
        ],
        [
         {
          "length": 5,
          "values": [
           1.0,
           0.8028168938411094,
           0.5975610592902826,
           0.3269230769230769,
           0.4838709677419355
          ],
          "vectorType": "dense"
         },
         {
          "length": 3,
          "values": [
           0.2025495604823438,
           0.2267133425475306,
           0.5707370969701256
          ],
          "vectorType": "dense"
         },
         2,
         2
        ],
        [
         {
          "length": 5,
          "values": [
           1.0,
           0.8169013630466567,
           0.6951219441279421,
           0.42307692307692313,
           0.2903225806451613
          ],
          "vectorType": "dense"
         },
         {
          "length": 3,
          "values": [
           0.18873301120160313,
           0.1507913209926867,
           0.6604756678057102
          ],
          "vectorType": "dense"
         },
         2,
         2
        ],
        [
         {
          "length": 5,
          "values": [
           1.0,
           0.8215961264172583,
           0.5975610592902826,
           0.2884615384615385,
           0.28225806451612906
          ],
          "vectorType": "dense"
         },
         {
          "length": 3,
          "values": [
           0.198714202716786,
           0.14494323272072637,
           0.6563425645624876
          ],
          "vectorType": "dense"
         },
         2,
         2
        ],
        [
         {
          "length": 5,
          "values": [
           1.0,
           0.8309858322522041,
           0.4878047730935439,
           0.38461538461538464,
           0.25
          ],
          "vectorType": "dense"
         },
         {
          "length": 3,
          "values": [
           0.16641248259531286,
           0.19881704563447936,
           0.6347704717702078
          ],
          "vectorType": "dense"
         },
         2,
         2
        ],
        [
         {
          "length": 5,
          "values": [
           1.0,
           0.8450703014577514,
           0.5609755530235373,
           0.23076923076923078,
           0.16129032258064516
          ],
          "vectorType": "dense"
         },
         {
          "length": 3,
          "values": [
           0.1868724923193305,
           0.11027286162079215,
           0.7028546460598774
          ],
          "vectorType": "dense"
         },
         2,
         2
        ],
        [
         {
          "length": 5,
          "values": [
           1.0,
           0.8544600072926972,
           0.8170731664767653,
           0.3653846153846154,
           0.12903225806451613
          ],
          "vectorType": "dense"
         },
         {
          "length": 3,
          "values": [
           0.17713124950520326,
           0.07364398499492333,
           0.7492247654998733
          ],
          "vectorType": "dense"
         },
         2,
         2
        ],
        [
         {
          "length": 5,
          "values": [
           1.0,
           0.9014083573736834,
           0.7195122816391056,
           0.2884615384615385,
           0.24193548387096775
          ],
          "vectorType": "dense"
         },
         {
          "length": 3,
          "values": [
           0.15739869550811622,
           0.09990247099197758,
           0.7426988334999063
          ],
          "vectorType": "dense"
         },
         2,
         2
        ],
        [
         {
          "length": 5,
          "values": [
           1.0,
           0.9295774748785207,
           0.7560975553023537,
           0.5384615384615385,
           0.3387096774193548
          ],
          "vectorType": "dense"
         },
         {
          "length": 3,
          "values": [
           0.11767370839742024,
           0.16894074966504427,
           0.7133855419375357
          ],
          "vectorType": "dense"
         },
         2,
         2
        ],
        [
         {
          "length": 5,
          "values": [
           1.0,
           0.9342722382491222,
           0.5853658905347008,
           0.44230769230769235,
           0.3709677419354839
          ],
          "vectorType": "dense"
         },
         {
          "length": 3,
          "values": [
           0.1147908609987609,
           0.2164662753871617,
           0.6687428636140773
          ],
          "vectorType": "dense"
         },
         2,
         2
        ],
        [
         {
          "length": 5,
          "values": [
           1.0,
           0.9342722382491222,
           0.6951219441279421,
           0.3653846153846154,
           0.4032258064516129
          ],
          "vectorType": "dense"
         },
         {
          "length": 3,
          "values": [
           0.1319600898472942,
           0.1643287641247951,
           0.7037111460279106
          ],
          "vectorType": "dense"
         },
         2,
         2
        ],
        [
         {
          "length": 5,
          "values": [
           1.0,
           0.943661944084068,
           0.6707316066167787,
           0.3653846153846154,
           0.1774193548387097
          ],
          "vectorType": "dense"
         },
         {
          "length": 3,
          "values": [
           0.12274725604028187,
           0.10830863594903138,
           0.7689441080106867
          ],
          "vectorType": "dense"
         },
         2,
         2
        ],
        [
         {
          "length": 5,
          "values": [
           1.0,
           0.9718308824951627,
           0.8170731664767653,
           0.5192307692307693,
           0.532258064516129
          ],
          "vectorType": "dense"
         },
         {
          "length": 3,
          "values": [
           0.10621449833041514,
           0.20639807475424843,
           0.6873874269153365
          ],
          "vectorType": "dense"
         },
         2,
         2
        ],
        [
         {
          "length": 5,
          "values": [
           2.0,
           0.09389670016197238,
           0.5853658905347008,
           0.2884615384615385,
           0.18548387096774194
          ],
          "vectorType": "dense"
         },
         {
          "length": 3,
          "values": [
           0.8515423950329221,
           0.030310480046874422,
           0.11814712492020349
          ],
          "vectorType": "dense"
         },
         0,
         0
        ],
        [
         {
          "length": 5,
          "values": [
           2.0,
           0.11737087520246547,
           0.4756098369414594,
           0.21153846153846156,
           0.0967741935483871
          ],
          "vectorType": "dense"
         },
         {
          "length": 3,
          "values": [
           0.8402156348204949,
           0.029608265276515652,
           0.13017609990298945
          ],
          "vectorType": "dense"
         },
         0,
         0
        ],
        [
         {
          "length": 5,
          "values": [
           2.0,
           0.14084505024295857,
           0.743902386546772,
           0.2884615384615385,
           0.41935483870967744
          ],
          "vectorType": "dense"
         },
         {
          "length": 3,
          "values": [
           0.8394631239806697,
           0.03625605297991419,
           0.12428082303941615
          ],
          "vectorType": "dense"
         },
         0,
         0
        ],
        [
         {
          "length": 5,
          "values": [
           2.0,
           0.192488342788289,
           0.4756098369414594,
           0.17307692307692307,
           0.08064516129032258
          ],
          "vectorType": "dense"
         },
         {
          "length": 3,
          "values": [
           0.7991435755140441,
           0.03140677472391769,
           0.16944964976203822
          ],
          "vectorType": "dense"
         },
         0,
         0
        ],
        [
         {
          "length": 5,
          "values": [
           2.0,
           0.2159625178287821,
           0.6707316066167787,
           0.17307692307692307,
           0.2903225806451613
          ],
          "vectorType": "dense"
         },
         {
          "length": 3,
          "values": [
           0.8040188263565957,
           0.03091536757246764,
           0.1650658060709367
          ],
          "vectorType": "dense"
         },
         0,
         0
        ],
        [
         {
          "length": 5,
          "values": [
           2.0,
           0.24413145623987673,
           0.8780487776511768,
           0.40384615384615385,
           0.28225806451612906
          ],
          "vectorType": "dense"
         },
         {
          "length": 3,
          "values": [
           0.7626585659199552,
           0.03324212058983955,
           0.20409931349020527
          ],
          "vectorType": "dense"
         },
         0,
         0
        ],
        [
         {
          "length": 5,
          "values": [
           2.0,
           0.26291086790976825,
           0.7926828289656017,
           0.38461538461538464,
           0.1935483870967742
          ],
          "vectorType": "dense"
         },
         {
          "length": 3,
          "values": [
           0.7406033642114436,
           0.034229775119013144,
           0.22516686066954336
          ],
          "vectorType": "dense"
         },
         0,
         0
        ],
        [
         {
          "length": 5,
          "values": [
           2.0,
           0.2676056312803698,
           0.4634146681858776,
           0.15384615384615385,
           0.12903225806451613
          ],
          "vectorType": "dense"
         },
         {
          "length": 3,
          "values": [
           0.7468242373845941,
           0.04018056114871241,
           0.21299520146669343
          ],
          "vectorType": "dense"
         },
         0,
         0
        ],
        [
         {
          "length": 5,
          "values": [
           2.0,
           0.30516427552641023,
           0.4512194994302959,
           0.19230769230769232,
           0.0
          ],
          "vectorType": "dense"
         },
         {
          "length": 3,
          "values": [
           0.7020148304866254,
           0.037697874935254005,
           0.2602872945781207
          ],
          "vectorType": "dense"
         },
         0,
         0
        ],
        [
         {
          "length": 5,
          "values": [
           2.0,
           0.31924892382570025,
           0.5487803842679555,
           0.057692307692307696,
           0.23387096774193547
          ],
          "vectorType": "dense"
         },
         {
          "length": 3,
          "values": [
           0.7342650618698952,
           0.035852509920251685,
           0.22988242820985308
          ],
          "vectorType": "dense"
         },
         0,
         0
        ],
        [
         {
          "length": 5,
          "values": [
           2.0,
           0.3990609756883826,
           0.6951219441279421,
           0.40384615384615385,
           0.3548387096774194
          ],
          "vectorType": "dense"
         },
         {
          "length": 3,
          "values": [
           0.6031274892185381,
           0.07909636742610078,
           0.317776143355361
          ],
          "vectorType": "dense"
         },
         0,
         0
        ],
        [
         {
          "length": 5,
          "values": [
           2.0,
           0.4131456239876726,
           0.42682916191913234,
           0.25,
           0.25806451612903225
          ],
          "vectorType": "dense"
         },
         {
          "length": 3,
          "values": [
           0.5874356273081647,
           0.09017135022057655,
           0.32239302247125895
          ],
          "vectorType": "dense"
         },
         0,
         0
        ],
        [
         {
          "length": 5,
          "values": [
           2.0,
           0.4225351507288757,
           0.5243902793602893,
           0.07692307692307693,
           0.0967741935483871
          ],
          "vectorType": "dense"
         },
         {
          "length": 3,
          "values": [
           0.6255531978610114,
           0.03632013526889827,
           0.33812666687009035
          ],
          "vectorType": "dense"
         },
         0,
         0
        ],
        [
         {
          "length": 5,
          "values": [
           2.0,
           0.4225351507288757,
           0.6463415017091123,
           0.21153846153846156,
           0.13709677419354838
          ],
          "vectorType": "dense"
         },
         {
          "length": 3,
          "values": [
           0.6106459393026609,
           0.039404850620172814,
           0.3499492100771663
          ],
          "vectorType": "dense"
         },
         0,
         0
        ],
        [
         {
          "length": 5,
          "values": [
           2.0,
           0.6525821377632051,
           1.0,
           0.3076923076923077,
           0.41935483870967744
          ],
          "vectorType": "dense"
         },
         {
          "length": 3,
          "values": [
           0.3970837204953928,
           0.047091815061394406,
           0.5558244644432129
          ],
          "vectorType": "dense"
         },
         2,
         0
        ]
       ],
       "datasetInfos": [],
       "dbfsResultPath": null,
       "isJsonSchema": true,
       "metadata": {},
       "overflow": false,
       "plotOptions": {
        "customPlotOptions": {},
        "displayType": "table",
        "pivotAggregation": null,
        "pivotColumns": null,
        "xColumns": null,
        "yColumns": null
       },
       "removedWidgets": [],
       "schema": [
        {
         "metadata": "{\"ml_attr\":{\"attrs\":{\"numeric\":[{\"idx\":1,\"name\":\"normalizedFeatures_0\"},{\"idx\":2,\"name\":\"normalizedFeatures_1\"},{\"idx\":3,\"name\":\"normalizedFeatures_2\"},{\"idx\":4,\"name\":\"normalizedFeatures_3\"}],\"nominal\":[{\"vals\":[\"Biscoe\",\"Dream\",\"Torgersen\"],\"idx\":0,\"name\":\"IslandIdx\"}]},\"num_attrs\":5}}",
         "name": "features",
         "type": "{\"type\":\"udt\",\"class\":\"org.apache.spark.ml.linalg.VectorUDT\",\"pyClass\":\"pyspark.ml.linalg.VectorUDT\",\"sqlType\":{\"type\":\"struct\",\"fields\":[{\"name\":\"type\",\"type\":\"byte\",\"nullable\":false,\"metadata\":{}},{\"name\":\"size\",\"type\":\"integer\",\"nullable\":true,\"metadata\":{}},{\"name\":\"indices\",\"type\":{\"type\":\"array\",\"elementType\":\"integer\",\"containsNull\":false},\"nullable\":true,\"metadata\":{}},{\"name\":\"values\",\"type\":{\"type\":\"array\",\"elementType\":\"double\",\"containsNull\":false},\"nullable\":true,\"metadata\":{}}]}}"
        },
        {
         "metadata": "{\"ml_attr\":{\"num_attrs\":3}}",
         "name": "probability",
         "type": "{\"type\":\"udt\",\"class\":\"org.apache.spark.ml.linalg.VectorUDT\",\"pyClass\":\"pyspark.ml.linalg.VectorUDT\",\"sqlType\":{\"type\":\"struct\",\"fields\":[{\"name\":\"type\",\"type\":\"byte\",\"nullable\":false,\"metadata\":{}},{\"name\":\"size\",\"type\":\"integer\",\"nullable\":true,\"metadata\":{}},{\"name\":\"indices\",\"type\":{\"type\":\"array\",\"elementType\":\"integer\",\"containsNull\":false},\"nullable\":true,\"metadata\":{}},{\"name\":\"values\",\"type\":{\"type\":\"array\",\"elementType\":\"double\",\"containsNull\":false},\"nullable\":true,\"metadata\":{}}]}}"
        },
        {
         "metadata": "{}",
         "name": "prediction",
         "type": "\"integer\""
        },
        {
         "metadata": "{}",
         "name": "trueLabel",
         "type": "\"integer\""
        }
       ],
       "type": "table"
      }
     },
     "output_type": "display_data"
    }
   ],
   "source": [
    "# Prepare the test data\n",
    "indexedTestData = indexer.fit(test).transform(test).drop(\"Island\")\n",
    "vectorizedTestData = numericColVector.transform(indexedTestData)\n",
    "scaledTestData = minMax.fit(vectorizedTestData).transform(vectorizedTestData)\n",
    "preppedTestData = featVect.transform(scaledTestData)[col(\"featuresVector\").alias(\"features\"), col(\"Species\").alias(\"label\")]\n",
    "   \n",
    "# Get predictions\n",
    "prediction = model.transform(preppedTestData)\n",
    "predicted = prediction.select(\"features\", \"probability\", col(\"prediction\").astype(\"Int\"), col(\"label\").alias(\"trueLabel\"))\n",
    "display(predicted)"
   ]
  },
  {
   "cell_type": "code",
   "execution_count": 0,
   "metadata": {
    "application/vnd.databricks.v1+cell": {
     "cellMetadata": {
      "byteLimit": 2048000,
      "rowLimit": 10000
     },
     "inputWidgets": {},
     "nuid": "63c1f920-78a0-465c-9b04-805728252e1e",
     "showTitle": false,
     "title": ""
    }
   },
   "outputs": [
    {
     "output_type": "stream",
     "name": "stdout",
     "output_type": "stream",
     "text": [
      "Accuracy: 0.97\n\nIndividual class metrics:\nClass 0\n\tPrecision: 0.9545454545454546\n\tRecall: 0.9767441860465116\n\tF1 Score: 0.9655172413793104\nClass 1\n\tPrecision: 1.0\n\tRecall: 1.0\n\tF1 Score: 1.0\nClass 2\n\tPrecision: 0.9411764705882353\n\tRecall: 0.8888888888888888\n\tF1 Score: 0.9142857142857143\nOverall Precision: 0.9698663101604279\nOverall Recall: 0.97\nOverall F1 Score: 0.9697438423645321\n"
     ]
    }
   ],
   "source": [
    "from pyspark.ml.evaluation import MulticlassClassificationEvaluator\n",
    "   \n",
    "evaluator = MulticlassClassificationEvaluator(labelCol=\"label\", predictionCol=\"prediction\")\n",
    "   \n",
    "# Simple accuracy\n",
    "accuracy = evaluator.evaluate(prediction, {evaluator.metricName:\"accuracy\"})\n",
    "print(\"Accuracy:\", accuracy)\n",
    "   \n",
    "# Individual class metrics\n",
    "labels = [0,1,2]\n",
    "print(\"\\nIndividual class metrics:\")\n",
    "for label in sorted(labels):\n",
    "    print (\"Class %s\" % (label))\n",
    "   \n",
    "    # Precision\n",
    "    precision = evaluator.evaluate(prediction, {evaluator.metricLabel:label,\n",
    "                                                evaluator.metricName:\"precisionByLabel\"})\n",
    "    print(\"\\tPrecision:\", precision)\n",
    "   \n",
    "    # Recall\n",
    "    recall = evaluator.evaluate(prediction, {evaluator.metricLabel:label,\n",
    "                                             evaluator.metricName:\"recallByLabel\"})\n",
    "    print(\"\\tRecall:\", recall)\n",
    "   \n",
    "    # F1 score\n",
    "    f1 = evaluator.evaluate(prediction, {evaluator.metricLabel:label,\n",
    "                                         evaluator.metricName:\"fMeasureByLabel\"})\n",
    "    print(\"\\tF1 Score:\", f1)\n",
    "   \n",
    "# Weighted (overall) metrics\n",
    "overallPrecision = evaluator.evaluate(prediction, {evaluator.metricName:\"weightedPrecision\"})\n",
    "print(\"Overall Precision:\", overallPrecision)\n",
    "overallRecall = evaluator.evaluate(prediction, {evaluator.metricName:\"weightedRecall\"})\n",
    "print(\"Overall Recall:\", overallRecall)\n",
    "overallF1 = evaluator.evaluate(prediction, {evaluator.metricName:\"weightedFMeasure\"})\n",
    "print(\"Overall F1 Score:\", overallF1)"
   ]
  }
 ],
 "metadata": {
  "application/vnd.databricks.v1+notebook": {
   "dashboards": [],
   "language": "python",
   "notebookMetadata": {
    "mostRecentlyExecutedCommandWithImplicitDF": {
     "commandId": 2719183949491004,
     "dataframes": [
      "_sqldf"
     ]
    },
    "pythonIndentUnit": 4
   },
   "notebookName": "Cuaderno sin nombre 2024-03-22 13:36:03",
   "widgets": {}
  }
 },
 "nbformat": 4,
 "nbformat_minor": 0
}
