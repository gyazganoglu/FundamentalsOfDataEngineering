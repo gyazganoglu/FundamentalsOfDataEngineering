{
  "cells": [
    {
      "cell_type": "markdown",
      "metadata": {
        "id": "b7ZYnZ_-s51m"
      },
      "source": [
        "# Installation"
      ]
    },
    {
      "cell_type": "code",
      "execution_count": null,
      "metadata": {
        "colab": {
          "base_uri": "https://localhost:8080/",
          "height": 447
        },
        "id": "EfZatr7GszJ2",
        "outputId": "3947ac5d-2bb1-44d8-cded-ab7bfe2bdce0"
      },
      "outputs": [
        {
          "output_type": "stream",
          "name": "stdout",
          "text": [
            "Collecting pyspark\n",
            "  Downloading pyspark-3.5.1.tar.gz (317.0 MB)\n",
            "\u001b[2K     \u001b[90m━━━━━━━━━━━━━━━━━━━━━━━━━━━━━━━━━━━━━━━━\u001b[0m \u001b[32m317.0/317.0 MB\u001b[0m \u001b[31m3.9 MB/s\u001b[0m eta \u001b[36m0:00:00\u001b[0m\n",
            "\u001b[?25h  Preparing metadata (setup.py) ... \u001b[?25l\u001b[?25hdone\n",
            "Requirement already satisfied: py4j==0.10.9.7 in /usr/local/lib/python3.10/dist-packages (from pyspark) (0.10.9.7)\n",
            "Building wheels for collected packages: pyspark\n",
            "  Building wheel for pyspark (setup.py) ... \u001b[?25l\u001b[?25hdone\n",
            "  Created wheel for pyspark: filename=pyspark-3.5.1-py2.py3-none-any.whl size=317488491 sha256=0dec03c7c7b10f51e4e26412a5d4fed91db317d9e7fe29c1b5b4c430ea3ddabc\n",
            "  Stored in directory: /root/.cache/pip/wheels/80/1d/60/2c256ed38dddce2fdd93be545214a63e02fbd8d74fb0b7f3a6\n",
            "Successfully built pyspark\n",
            "Installing collected packages: pyspark\n",
            "Successfully installed pyspark-3.5.1\n"
          ]
        },
        {
          "output_type": "execute_result",
          "data": {
            "text/plain": [
              "<pyspark.sql.session.SparkSession at 0x7a5a8c11d900>"
            ],
            "text/html": [
              "\n",
              "            <div>\n",
              "                <p><b>SparkSession - in-memory</b></p>\n",
              "                \n",
              "        <div>\n",
              "            <p><b>SparkContext</b></p>\n",
              "\n",
              "            <p><a href=\"http://78c5a5f831e1:4040\">Spark UI</a></p>\n",
              "\n",
              "            <dl>\n",
              "              <dt>Version</dt>\n",
              "                <dd><code>v3.5.1</code></dd>\n",
              "              <dt>Master</dt>\n",
              "                <dd><code>local[*]</code></dd>\n",
              "              <dt>AppName</dt>\n",
              "                <dd><code>pyspark-shell</code></dd>\n",
              "            </dl>\n",
              "        </div>\n",
              "        \n",
              "            </div>\n",
              "        "
            ]
          },
          "metadata": {},
          "execution_count": 1
        }
      ],
      "source": [
        "!pip install pyspark\n",
        "\n",
        "# Import SparkSession\n",
        "from pyspark.sql import SparkSession\n",
        "\n",
        "# Create a Spark Session\n",
        "spark = SparkSession.builder.master(\"local[*]\").getOrCreate()\n",
        "\n",
        "# Check Spark Session Information\n",
        "spark"
      ]
    },
    {
      "cell_type": "code",
      "execution_count": null,
      "metadata": {
        "id": "CEcYcSr9Xfpq"
      },
      "outputs": [],
      "source": [
        "from pyspark.sql.types import *\n",
        "\n",
        "schema = StructType([\n",
        "StructField(\"id\", LongType(), True),\n",
        "StructField(\"name\", StringType(), True),\n",
        "StructField(\"age\", LongType(), True),\n",
        "StructField(\"eyeColor\", StringType(), True)\n",
        "])\n",
        "\n",
        "# Generate comma delimited data\n",
        "swimmers = spark.createDataFrame([\n",
        "(123, 'Katie', 19, 'brown'),\n",
        "(234, 'Michael', 22, 'green'),\n",
        "(345, 'Simone', 23, 'blue')\n",
        "],schema)\n"
      ]
    },
    {
      "cell_type": "code",
      "execution_count": null,
      "metadata": {
        "id": "tS7NgoYqXkm5"
      },
      "outputs": [],
      "source": [
        "# Creates a temporary view using the DataFrame\n",
        "swimmers.createOrReplaceTempView(\"swimmers\")\n"
      ]
    },
    {
      "cell_type": "code",
      "execution_count": null,
      "metadata": {
        "colab": {
          "base_uri": "https://localhost:8080/"
        },
        "id": "ps9aXxIAYicB",
        "outputId": "2ca3025d-c0d2-4ffd-fc16-c30ec43d18e6"
      },
      "outputs": [
        {
          "output_type": "stream",
          "name": "stdout",
          "text": [
            "+---+---+\n",
            "| id|age|\n",
            "+---+---+\n",
            "|234| 22|\n",
            "+---+---+\n",
            "\n",
            "+---+---+\n",
            "| id|age|\n",
            "+---+---+\n",
            "|234| 22|\n",
            "+---+---+\n",
            "\n"
          ]
        }
      ],
      "source": [
        "# Get the id, age where age = 22\n",
        "swimmers.select(\"id\", \"age\").filter(\"age = 22\").show()\n",
        "# Another way to write the above query is below\n",
        "swimmers.select(swimmers.id, swimmers.age).filter(swimmers.age\n",
        "== 22).show()\n"
      ]
    },
    {
      "cell_type": "code",
      "execution_count": null,
      "metadata": {
        "colab": {
          "base_uri": "https://localhost:8080/"
        },
        "id": "X5uzAb9_Yk7s",
        "outputId": "6c56e376-90fe-4c03-d6a2-1d63d40c55e5"
      },
      "outputs": [
        {
          "output_type": "stream",
          "name": "stdout",
          "text": [
            "+------+--------+\n",
            "|  name|eyeColor|\n",
            "+------+--------+\n",
            "| Katie|   brown|\n",
            "|Simone|    blue|\n",
            "+------+--------+\n",
            "\n"
          ]
        }
      ],
      "source": [
        "# Get the name, eyeColor where eyeColor like 'b%'\n",
        "swimmers.select(\"name\", \"eyeColor\").filter(\"eyeColor like 'b%'\").show()\n"
      ]
    },
    {
      "cell_type": "markdown",
      "metadata": {
        "id": "1oOP6IhPstok"
      },
      "source": [
        "# Some data"
      ]
    },
    {
      "cell_type": "code",
      "execution_count": null,
      "metadata": {
        "id": "ypedfUjUstol"
      },
      "outputs": [],
      "source": [
        "dirty_data = spark.createDataFrame([\n",
        "          (1,'Porsche','Boxster S','Turbo',2.5,4,22,None)\n",
        "        , (2,'Aston Martin','Vanquish','Aspirated',6.0,12,16,None)\n",
        "        , (3,'Porsche','911 Carrera 4S Cabriolet','Turbo',3.0,6,24,None)\n",
        "        , (3,'General Motors','SPARK ACTIV','Aspirated',1.4,None,32,None)\n",
        "        , (5,'BMW','COOPER S HARDTOP 2 DOOR','Turbo',2.0,4,26,None)\n",
        "        , (6,'BMW','330i','Turbo',2.0,None,27,None)\n",
        "        , (7,'BMW','440i Coupe','Turbo',3.0,6,23,None)\n",
        "        , (8,'BMW','440i Coupe','Turbo',3.0,6,23,None)\n",
        "        , (9,'Mercedes-Benz',None,None,None,None,27,None)\n",
        "        , (10,'Mercedes-Benz','CLS 550','Turbo',4.7,8,21,79231)\n",
        "        , (11,'Volkswagen','GTI','Turbo',2.0,4,None,None)\n",
        "        , (12,'Ford Motor Company','FUSION AWD','Turbo',2.7,6,20,None)\n",
        "        , (13,'Nissan','Q50 AWD RED SPORT','Turbo',3.0,6,22,None)\n",
        "        , (14,'Nissan','Q70 AWD','Aspirated',5.6,8,18,None)\n",
        "        , (15,'Kia','Stinger RWD','Turbo',2.0,4,25,None)\n",
        "        , (16,'Toyota','CAMRY HYBRID LE','Aspirated',2.5,4,46,None)\n",
        "        , (16,'Toyota','CAMRY HYBRID LE','Aspirated',2.5,4,46,None)\n",
        "        , (18,'FCA US LLC','300','Aspirated',3.6,6,23,None)\n",
        "        , (19,'Hyundai','G80 AWD','Turbo',3.3,6,20,None)\n",
        "        , (20,'Hyundai','G80 AWD','Turbo',3.3,6,20,None)\n",
        "        , (21,'BMW','X5 M','Turbo',4.4,8,18,121231)\n",
        "        , (22,'GE','K1500 SUBURBAN 4WD','Aspirated',5.3,8,18,None)\n",
        "    ], ['Id','Manufacturer','Model','EngineType','Displacement',\n",
        "        'Cylinders','FuelEconomy','MSRP'])"
      ]
    },
    {
      "cell_type": "markdown",
      "metadata": {
        "id": "iHIScyuDstoo"
      },
      "source": [
        "# Handling duplicates"
      ]
    },
    {
      "cell_type": "markdown",
      "metadata": {
        "id": "Qi3pJ4MXstop"
      },
      "source": [
        "### Exact duplicates"
      ]
    },
    {
      "cell_type": "code",
      "execution_count": null,
      "metadata": {
        "colab": {
          "base_uri": "https://localhost:8080/"
        },
        "id": "v5CKw6q4stor",
        "outputId": "09163d09-359a-4d56-fc1e-96807ba6cc55"
      },
      "outputs": [
        {
          "output_type": "execute_result",
          "data": {
            "text/plain": [
              "(22, 21)"
            ]
          },
          "metadata": {},
          "execution_count": 7
        }
      ],
      "source": [
        "# do we have any rows that are duplicated?\n",
        "dirty_data.count(), dirty_data.distinct().count()"
      ]
    },
    {
      "cell_type": "code",
      "execution_count": null,
      "metadata": {
        "colab": {
          "base_uri": "https://localhost:8080/"
        },
        "id": "Z8eeqCZPstos",
        "outputId": "8721cfe7-3f10-4035-b6f1-11c72aa132f3"
      },
      "outputs": [
        {
          "output_type": "stream",
          "name": "stdout",
          "text": [
            "+---+------------+---------------+----------+------------+---------+-----------+----+-----+\n",
            "| Id|Manufacturer|          Model|EngineType|Displacement|Cylinders|FuelEconomy|MSRP|count|\n",
            "+---+------------+---------------+----------+------------+---------+-----------+----+-----+\n",
            "| 16|      Toyota|CAMRY HYBRID LE| Aspirated|         2.5|        4|         46|NULL|    2|\n",
            "+---+------------+---------------+----------+------------+---------+-----------+----+-----+\n",
            "\n"
          ]
        }
      ],
      "source": [
        "# what row is duplicated?\n",
        "(\n",
        "    dirty_data\n",
        "    .groupby(dirty_data.columns)\n",
        "    .count()\n",
        "    .filter('count > 1')\n",
        "    .show()\n",
        ")"
      ]
    },
    {
      "cell_type": "code",
      "execution_count": null,
      "metadata": {
        "colab": {
          "base_uri": "https://localhost:8080/"
        },
        "id": "j6QO5UASstot",
        "outputId": "8030cb53-2d7f-4e7d-8b64-b889536f9024"
      },
      "outputs": [
        {
          "output_type": "execute_result",
          "data": {
            "text/plain": [
              "21"
            ]
          },
          "metadata": {},
          "execution_count": 9
        }
      ],
      "source": [
        "# remove the duplicated rows\n",
        "full_removed = dirty_data.dropDuplicates()\n",
        "full_removed.count()"
      ]
    },
    {
      "cell_type": "markdown",
      "metadata": {
        "id": "CpUATa45stov"
      },
      "source": [
        "### Only ID differs"
      ]
    },
    {
      "cell_type": "code",
      "execution_count": null,
      "metadata": {
        "colab": {
          "base_uri": "https://localhost:8080/"
        },
        "id": "ISnn9xaCstox",
        "outputId": "e42c9189-53d6-43d0-a965-0a3c8a84f9ae"
      },
      "outputs": [
        {
          "output_type": "execute_result",
          "data": {
            "text/plain": [
              "(21, 19)"
            ]
          },
          "metadata": {},
          "execution_count": 10
        }
      ],
      "source": [
        "# count of rows\n",
        "no_ids = (\n",
        "    full_removed\n",
        "    .select([col for col in full_removed.columns if col != 'Id'])\n",
        ")\n",
        "\n",
        "no_ids.count(), no_ids.distinct().count()"
      ]
    },
    {
      "cell_type": "code",
      "execution_count": null,
      "metadata": {
        "colab": {
          "base_uri": "https://localhost:8080/"
        },
        "id": "ng0Hk95Rstoy",
        "outputId": "fdd8a214-98b2-447a-e8c1-819c04fee54d"
      },
      "outputs": [
        {
          "output_type": "stream",
          "name": "stdout",
          "text": [
            "+------------+----------+----------+------------+---------+-----------+----+-----+\n",
            "|Manufacturer|     Model|EngineType|Displacement|Cylinders|FuelEconomy|MSRP|count|\n",
            "+------------+----------+----------+------------+---------+-----------+----+-----+\n",
            "|         BMW|440i Coupe|     Turbo|         3.0|        6|         23|NULL|    2|\n",
            "|     Hyundai|   G80 AWD|     Turbo|         3.3|        6|         20|NULL|    2|\n",
            "+------------+----------+----------+------------+---------+-----------+----+-----+\n",
            "\n"
          ]
        }
      ],
      "source": [
        "# what row is duplicated?\n",
        "(\n",
        "    full_removed\n",
        "    .groupby([col for col in full_removed.columns if col != 'Id'])\n",
        "    .count()\n",
        "    .filter('count > 1')\n",
        "    .show()\n",
        ")"
      ]
    },
    {
      "cell_type": "code",
      "execution_count": null,
      "metadata": {
        "id": "MucLD-histoz"
      },
      "outputs": [],
      "source": [
        "# remove the duplicated record\n",
        "id_removed = full_removed.dropDuplicates(\n",
        "    subset = [col for col in full_removed.columns if col != 'Id']\n",
        ")"
      ]
    },
    {
      "cell_type": "code",
      "execution_count": null,
      "metadata": {
        "colab": {
          "base_uri": "https://localhost:8080/"
        },
        "id": "Y5PUOXpLsto0",
        "outputId": "2bdaba67-8b53-44b6-ba43-aa487127df74"
      },
      "outputs": [
        {
          "output_type": "execute_result",
          "data": {
            "text/plain": [
              "19"
            ]
          },
          "metadata": {},
          "execution_count": 13
        }
      ],
      "source": [
        "# count\n",
        "id_removed.count()"
      ]
    },
    {
      "cell_type": "markdown",
      "metadata": {
        "id": "HLkhHG9ysto1"
      },
      "source": [
        "### Duplicated IDs"
      ]
    },
    {
      "cell_type": "code",
      "execution_count": null,
      "metadata": {
        "colab": {
          "base_uri": "https://localhost:8080/"
        },
        "id": "m2nZh3Ugsto2",
        "outputId": "328cecfd-61c4-4218-be9b-2986905dc2a5"
      },
      "outputs": [
        {
          "output_type": "stream",
          "name": "stdout",
          "text": [
            "+----------+------------------+\n",
            "|CountOfIDs|CountOfDistinctIDs|\n",
            "+----------+------------------+\n",
            "|        19|                18|\n",
            "+----------+------------------+\n",
            "\n"
          ]
        }
      ],
      "source": [
        "# are there any duplicated IDs?\n",
        "import pyspark.sql.functions as fn\n",
        "\n",
        "id_removed.agg(\n",
        "      fn.count('Id').alias('CountOfIDs')\n",
        "    , fn.countDistinct('Id').alias('CountOfDistinctIDs')\n",
        ").show()"
      ]
    },
    {
      "cell_type": "code",
      "execution_count": null,
      "metadata": {
        "colab": {
          "base_uri": "https://localhost:8080/"
        },
        "id": "a39ZfQPOsto3",
        "outputId": "c92e40fb-37bf-4339-a774-8755a314e3d0"
      },
      "outputs": [
        {
          "output_type": "stream",
          "name": "stdout",
          "text": [
            "+---+-----+\n",
            "| Id|count|\n",
            "+---+-----+\n",
            "|  3|    2|\n",
            "+---+-----+\n",
            "\n"
          ]
        }
      ],
      "source": [
        "# what's duplicated?\n",
        "(\n",
        "    id_removed\n",
        "    .groupby('Id')\n",
        "    .count()\n",
        "    .filter('count > 1')\n",
        "    .show()\n",
        ")"
      ]
    },
    {
      "cell_type": "code",
      "execution_count": null,
      "metadata": {
        "colab": {
          "base_uri": "https://localhost:8080/"
        },
        "id": "c4kWdK-Isto4",
        "outputId": "0705e961-ba1c-436f-9c96-4277aec596a3"
      },
      "outputs": [
        {
          "output_type": "stream",
          "name": "stdout",
          "text": [
            "+---+--------------+--------------------+----------+------------+---------+-----------+----+\n",
            "| Id|  Manufacturer|               Model|EngineType|Displacement|Cylinders|FuelEconomy|MSRP|\n",
            "+---+--------------+--------------------+----------+------------+---------+-----------+----+\n",
            "|  3|General Motors|         SPARK ACTIV| Aspirated|         1.4|     NULL|         32|NULL|\n",
            "|  3|       Porsche|911 Carrera 4S Ca...|     Turbo|         3.0|        6|         24|NULL|\n",
            "+---+--------------+--------------------+----------+------------+---------+-----------+----+\n",
            "\n"
          ]
        }
      ],
      "source": [
        "(\n",
        "    id_removed\n",
        "    .filter('Id = 3')\n",
        "    .show()\n",
        ")"
      ]
    },
    {
      "cell_type": "code",
      "execution_count": null,
      "metadata": {
        "colab": {
          "base_uri": "https://localhost:8080/"
        },
        "id": "k-mS613Wsto5",
        "outputId": "b52d2dd9-d6bd-45d4-bb8a-130c655d9c75"
      },
      "outputs": [
        {
          "output_type": "stream",
          "name": "stdout",
          "text": [
            "+---+------------------+--------------------+----------+------------+---------+-----------+------+\n",
            "| Id|      Manufacturer|               Model|EngineType|Displacement|Cylinders|FuelEconomy|  MSRP|\n",
            "+---+------------------+--------------------+----------+------------+---------+-----------+------+\n",
            "|  0|     Mercedes-Benz|             CLS 550|     Turbo|         4.7|        8|         21| 79231|\n",
            "|  1|               BMW|                X5 M|     Turbo|         4.4|        8|         18|121231|\n",
            "|  2|    General Motors|         SPARK ACTIV| Aspirated|         1.4|     NULL|         32|  NULL|\n",
            "|  3|     Mercedes-Benz|                NULL|      NULL|        NULL|     NULL|         27|  NULL|\n",
            "|  4|               BMW|COOPER S HARDTOP ...|     Turbo|         2.0|        4|         26|  NULL|\n",
            "|  5|      Aston Martin|            Vanquish| Aspirated|         6.0|       12|         16|  NULL|\n",
            "|  6|        Volkswagen|                 GTI|     Turbo|         2.0|        4|       NULL|  NULL|\n",
            "|  7|               BMW|                330i|     Turbo|         2.0|     NULL|         27|  NULL|\n",
            "|  8|           Porsche|           Boxster S|     Turbo|         2.5|        4|         22|  NULL|\n",
            "|  9|               BMW|          440i Coupe|     Turbo|         3.0|        6|         23|  NULL|\n",
            "| 10|           Porsche|911 Carrera 4S Ca...|     Turbo|         3.0|        6|         24|  NULL|\n",
            "| 11|Ford Motor Company|          FUSION AWD|     Turbo|         2.7|        6|         20|  NULL|\n",
            "| 12|               Kia|         Stinger RWD|     Turbo|         2.0|        4|         25|  NULL|\n",
            "| 13|        FCA US LLC|                 300| Aspirated|         3.6|        6|         23|  NULL|\n",
            "| 14|           Hyundai|             G80 AWD|     Turbo|         3.3|        6|         20|  NULL|\n",
            "| 15|            Nissan|   Q50 AWD RED SPORT|     Turbo|         3.0|        6|         22|  NULL|\n",
            "| 16|            Nissan|             Q70 AWD| Aspirated|         5.6|        8|         18|  NULL|\n",
            "| 17|            Toyota|     CAMRY HYBRID LE| Aspirated|         2.5|        4|         46|  NULL|\n",
            "| 18|                GE|  K1500 SUBURBAN 4WD| Aspirated|         5.3|        8|         18|  NULL|\n",
            "+---+------------------+--------------------+----------+------------+---------+-----------+------+\n",
            "\n"
          ]
        }
      ],
      "source": [
        "new_id = (\n",
        "    id_removed\n",
        "    .select(\n",
        "        [fn.monotonically_increasing_id().alias('Id')] +\n",
        "        [col for col in id_removed.columns if col != 'Id'])\n",
        ")\n",
        "\n",
        "new_id.show()"
      ]
    },
    {
      "cell_type": "markdown",
      "metadata": {
        "id": "8_AUAxk0sto5"
      },
      "source": [
        "# Handling missing observations"
      ]
    },
    {
      "cell_type": "markdown",
      "metadata": {
        "collapsed": true,
        "id": "Tx8AX8Zwsto5"
      },
      "source": [
        "### Missing observations per row"
      ]
    },
    {
      "cell_type": "code",
      "execution_count": null,
      "metadata": {
        "colab": {
          "base_uri": "https://localhost:8080/"
        },
        "id": "oTY9FiJPsto9",
        "outputId": "fc14438e-448a-4842-c36e-f67d2dc4fe83"
      },
      "outputs": [
        {
          "output_type": "stream",
          "name": "stdout",
          "text": [
            "+---+------------+\n",
            "| Id|CountMissing|\n",
            "+---+------------+\n",
            "|  3|           5|\n",
            "|  6|           2|\n",
            "|  2|           2|\n",
            "|  7|           2|\n",
            "+---+------------+\n",
            "\n"
          ]
        }
      ],
      "source": [
        "(\n",
        "    spark.createDataFrame(\n",
        "        new_id.rdd.map(\n",
        "           lambda row: (\n",
        "                 row['Id']\n",
        "               , sum([c == None for c in row])\n",
        "           )\n",
        "        )\n",
        "        .filter(lambda el: el[1] > 1)\n",
        "        .collect()\n",
        "        ,['Id', 'CountMissing']\n",
        "    )\n",
        "    .orderBy('CountMissing', ascending=False)\n",
        "    .show()\n",
        ")"
      ]
    },
    {
      "cell_type": "code",
      "execution_count": null,
      "metadata": {
        "colab": {
          "base_uri": "https://localhost:8080/"
        },
        "id": "SMDtk0TWsto9",
        "outputId": "6d0f2c39-4902-421d-e1e8-cf3427273b3c"
      },
      "outputs": [
        {
          "output_type": "stream",
          "name": "stdout",
          "text": [
            "+---+-------------+-----+----------+------------+---------+-----------+----+\n",
            "| Id| Manufacturer|Model|EngineType|Displacement|Cylinders|FuelEconomy|MSRP|\n",
            "+---+-------------+-----+----------+------------+---------+-----------+----+\n",
            "|  3|Mercedes-Benz| NULL|      NULL|        NULL|     NULL|         27|NULL|\n",
            "+---+-------------+-----+----------+------------+---------+-----------+----+\n",
            "\n"
          ]
        }
      ],
      "source": [
        "(\n",
        "    new_id\n",
        "    .where('Id == 3')\n",
        "    .show()\n",
        ")"
      ]
    },
    {
      "cell_type": "code",
      "execution_count": null,
      "metadata": {
        "colab": {
          "base_uri": "https://localhost:8080/"
        },
        "id": "HdJrf0evsto-",
        "outputId": "082f6baa-5f3b-473e-f365-cda2a030549c"
      },
      "outputs": [
        {
          "output_type": "execute_result",
          "data": {
            "text/plain": [
              "(19, 18)"
            ]
          },
          "metadata": {},
          "execution_count": 20
        }
      ],
      "source": [
        "merc_out = new_id.dropna(thresh=4)\n",
        "new_id.count(), merc_out.count()"
      ]
    },
    {
      "cell_type": "code",
      "execution_count": null,
      "metadata": {
        "colab": {
          "base_uri": "https://localhost:8080/"
        },
        "id": "sbxEddCDsto-",
        "outputId": "5711bd3b-04ab-4ec1-ac89-54a133c05ade"
      },
      "outputs": [
        {
          "output_type": "stream",
          "name": "stdout",
          "text": [
            "+---+------------+-----+----------+------------+---------+-----------+----+\n",
            "| Id|Manufacturer|Model|EngineType|Displacement|Cylinders|FuelEconomy|MSRP|\n",
            "+---+------------+-----+----------+------------+---------+-----------+----+\n",
            "+---+------------+-----+----------+------------+---------+-----------+----+\n",
            "\n"
          ]
        }
      ],
      "source": [
        "(\n",
        "    merc_out\n",
        "    .where('Id == 3')\n",
        "    .show()\n",
        ")"
      ]
    },
    {
      "cell_type": "markdown",
      "metadata": {
        "id": "RKSNRz8Isto_"
      },
      "source": [
        "### Missing observations per column"
      ]
    },
    {
      "cell_type": "code",
      "execution_count": null,
      "metadata": {
        "colab": {
          "base_uri": "https://localhost:8080/"
        },
        "id": "XC_JX-OtstpG",
        "outputId": "49d5d829-e598-48fb-b98d-4f07fcc171a7"
      },
      "outputs": [
        {
          "output_type": "stream",
          "name": "stdout",
          "text": [
            "MSRP_miss 0.8888888888888888\n",
            "Cylinders_miss 0.11111111111111116\n",
            "FuelEconomy_miss 0.05555555555555558\n",
            "Id_miss 0.0\n",
            "Manufacturer_miss 0.0\n",
            "Model_miss 0.0\n",
            "EngineType_miss 0.0\n",
            "Displacement_miss 0.0\n"
          ]
        }
      ],
      "source": [
        "for k, v in sorted(\n",
        "    merc_out.agg(*[\n",
        "               (1 - (fn.count(c) / fn.count('*')))\n",
        "                    .alias(c + '_miss')\n",
        "               for c in merc_out.columns\n",
        "           ])\n",
        "        .collect()[0]\n",
        "        .asDict()\n",
        "        .items()\n",
        "    , key=lambda el: el[1]\n",
        "    , reverse=True\n",
        "):\n",
        "    print(k, v)"
      ]
    },
    {
      "cell_type": "code",
      "execution_count": null,
      "metadata": {
        "colab": {
          "base_uri": "https://localhost:8080/"
        },
        "id": "hS8M3ft0stpH",
        "outputId": "5949f010-34b5-41a9-b093-039e1b6cc567"
      },
      "outputs": [
        {
          "output_type": "stream",
          "name": "stdout",
          "text": [
            "+---+------------------+--------------------+----------+------------+---------+-----------+\n",
            "| Id|      Manufacturer|               Model|EngineType|Displacement|Cylinders|FuelEconomy|\n",
            "+---+------------------+--------------------+----------+------------+---------+-----------+\n",
            "|  0|     Mercedes-Benz|             CLS 550|     Turbo|         4.7|        8|         21|\n",
            "|  1|               BMW|                X5 M|     Turbo|         4.4|        8|         18|\n",
            "|  2|    General Motors|         SPARK ACTIV| Aspirated|         1.4|     NULL|         32|\n",
            "|  4|               BMW|COOPER S HARDTOP ...|     Turbo|         2.0|        4|         26|\n",
            "|  5|      Aston Martin|            Vanquish| Aspirated|         6.0|       12|         16|\n",
            "|  6|        Volkswagen|                 GTI|     Turbo|         2.0|        4|       NULL|\n",
            "|  7|               BMW|                330i|     Turbo|         2.0|     NULL|         27|\n",
            "|  8|           Porsche|           Boxster S|     Turbo|         2.5|        4|         22|\n",
            "|  9|               BMW|          440i Coupe|     Turbo|         3.0|        6|         23|\n",
            "| 10|           Porsche|911 Carrera 4S Ca...|     Turbo|         3.0|        6|         24|\n",
            "| 11|Ford Motor Company|          FUSION AWD|     Turbo|         2.7|        6|         20|\n",
            "| 12|               Kia|         Stinger RWD|     Turbo|         2.0|        4|         25|\n",
            "| 13|        FCA US LLC|                 300| Aspirated|         3.6|        6|         23|\n",
            "| 14|           Hyundai|             G80 AWD|     Turbo|         3.3|        6|         20|\n",
            "| 15|            Nissan|   Q50 AWD RED SPORT|     Turbo|         3.0|        6|         22|\n",
            "| 16|            Nissan|             Q70 AWD| Aspirated|         5.6|        8|         18|\n",
            "| 17|            Toyota|     CAMRY HYBRID LE| Aspirated|         2.5|        4|         46|\n",
            "| 18|                GE|  K1500 SUBURBAN 4WD| Aspirated|         5.3|        8|         18|\n",
            "+---+------------------+--------------------+----------+------------+---------+-----------+\n",
            "\n"
          ]
        }
      ],
      "source": [
        "no_MSRP = merc_out.select([col for col in new_id.columns if col != 'MSRP'])\n",
        "no_MSRP.show()"
      ]
    },
    {
      "cell_type": "markdown",
      "metadata": {
        "id": "K5sXJet7stpI"
      },
      "source": [
        "### Sparse missing observations"
      ]
    },
    {
      "cell_type": "code",
      "execution_count": null,
      "metadata": {
        "colab": {
          "base_uri": "https://localhost:8080/"
        },
        "id": "5oBLAEswstpI",
        "outputId": "cbb7c62e-e3df-4b6d-b6ec-62c9b1e6452d"
      },
      "outputs": [
        {
          "output_type": "execute_result",
          "data": {
            "text/plain": [
              "{'FuelEconomy': 1.4957485048359977, 'Cylinders': 1.8353365984789107}"
            ]
          },
          "metadata": {},
          "execution_count": 24
        }
      ],
      "source": [
        "multipliers = (\n",
        "    no_MSRP\n",
        "    .agg(\n",
        "          fn.mean(\n",
        "              fn.col('FuelEconomy') /\n",
        "              (\n",
        "                  fn.col('Displacement') * fn.col('Cylinders')\n",
        "              )\n",
        "          ).alias('FuelEconomy')\n",
        "        , fn.mean(\n",
        "            fn.col('Cylinders') /\n",
        "            fn.col('Displacement')\n",
        "        ).alias('Cylinders')\n",
        "    )\n",
        ").toPandas().to_dict('records')[0]\n",
        "\n",
        "multipliers"
      ]
    },
    {
      "cell_type": "code",
      "execution_count": null,
      "metadata": {
        "colab": {
          "base_uri": "https://localhost:8080/"
        },
        "id": "q_QOsyPBstpJ",
        "outputId": "a9882470-d87e-4861-e526-cc6919b24710"
      },
      "outputs": [
        {
          "output_type": "stream",
          "name": "stdout",
          "text": [
            "+---+------------------+--------------------+----------+------------+---------+------------------+\n",
            "| Id|      Manufacturer|               Model|EngineType|Displacement|Cylinders|       FuelEconomy|\n",
            "+---+------------------+--------------------+----------+------------+---------+------------------+\n",
            "|  0|     Mercedes-Benz|             CLS 550|     Turbo|         4.7|        8|              21.0|\n",
            "|  1|               BMW|                X5 M|     Turbo|         4.4|        8|              18.0|\n",
            "|  2|    General Motors|         SPARK ACTIV| Aspirated|         1.4|        2|4.1880958135407935|\n",
            "|  4|               BMW|COOPER S HARDTOP ...|     Turbo|         2.0|        4|              26.0|\n",
            "|  5|      Aston Martin|            Vanquish| Aspirated|         6.0|       12|              16.0|\n",
            "|  6|        Volkswagen|                 GTI|     Turbo|         2.0|        4|11.965988038687982|\n",
            "|  7|               BMW|                330i|     Turbo|         2.0|        3| 8.974491029015986|\n",
            "|  8|           Porsche|           Boxster S|     Turbo|         2.5|        4|              22.0|\n",
            "|  9|               BMW|          440i Coupe|     Turbo|         3.0|        6|23.000000000000004|\n",
            "| 10|           Porsche|911 Carrera 4S Ca...|     Turbo|         3.0|        6|              24.0|\n",
            "| 11|Ford Motor Company|          FUSION AWD|     Turbo|         2.7|        5|16.666666666666668|\n",
            "| 12|               Kia|         Stinger RWD|     Turbo|         2.0|        4|              25.0|\n",
            "| 13|        FCA US LLC|                 300| Aspirated|         3.6|        6|              23.0|\n",
            "| 14|           Hyundai|             G80 AWD|     Turbo|         3.3|        6|              20.0|\n",
            "| 15|            Nissan|   Q50 AWD RED SPORT|     Turbo|         3.0|        6|21.999999999999996|\n",
            "| 16|            Nissan|             Q70 AWD| Aspirated|         5.6|        8|              18.0|\n",
            "| 17|            Toyota|     CAMRY HYBRID LE| Aspirated|         2.5|        4|              46.0|\n",
            "| 18|                GE|  K1500 SUBURBAN 4WD| Aspirated|         5.3|        8|              18.0|\n",
            "+---+------------------+--------------------+----------+------------+---------+------------------+\n",
            "\n"
          ]
        }
      ],
      "source": [
        "imputed = (\n",
        "    no_MSRP\n",
        "    .withColumn('FuelEconomy', fn.col('FuelEconomy')   / fn.col('Displacement') / fn.col('Cylinders'))\n",
        "    .withColumn('Cylinders',   fn.col('Cylinders')   / fn.col('Displacement'))\n",
        "    .fillna(multipliers)\n",
        "    .withColumn('Cylinders',   (fn.col('Cylinders')   * fn.col('Displacement')).cast('integer'))\n",
        "    .withColumn('FuelEconomy', fn.col('FuelEconomy') * fn.col('Displacement') * fn.col('Cylinders'))\n",
        ")\n",
        "\n",
        "imputed.show()"
      ]
    },
    {
      "cell_type": "markdown",
      "metadata": {
        "id": "OkR6Y2nKstpK"
      },
      "source": [
        "# Handling outliers"
      ]
    },
    {
      "cell_type": "code",
      "execution_count": null,
      "metadata": {
        "colab": {
          "base_uri": "https://localhost:8080/"
        },
        "id": "ONx0xl0IstpK",
        "outputId": "bf8bf85e-6468-4d97-e94d-7f8637780a80"
      },
      "outputs": [
        {
          "output_type": "stream",
          "name": "stdout",
          "text": [
            "+---+--------------+-----------+-------------+\n",
            "| id|Displacement_o|Cylinders_o|FuelEconomy_o|\n",
            "+---+--------------+-----------+-------------+\n",
            "|  0|         false|      false|        false|\n",
            "|  1|         false|      false|        false|\n",
            "|  2|         false|      false|         true|\n",
            "|  4|         false|      false|        false|\n",
            "|  5|         false|       true|        false|\n",
            "|  6|         false|      false|        false|\n",
            "|  7|         false|      false|        false|\n",
            "|  8|         false|      false|        false|\n",
            "|  9|         false|      false|        false|\n",
            "| 10|         false|      false|        false|\n",
            "| 11|         false|      false|        false|\n",
            "| 12|         false|      false|        false|\n",
            "| 13|         false|      false|        false|\n",
            "| 14|         false|      false|        false|\n",
            "| 15|         false|      false|        false|\n",
            "| 16|         false|      false|        false|\n",
            "| 17|         false|      false|         true|\n",
            "| 18|         false|      false|        false|\n",
            "+---+--------------+-----------+-------------+\n",
            "\n"
          ]
        }
      ],
      "source": [
        "features = ['Displacement', 'Cylinders', 'FuelEconomy']\n",
        "quantiles = [0.25, 0.75]\n",
        "\n",
        "cut_off_points = []\n",
        "\n",
        "for feature in features:\n",
        "    quants = imputed.approxQuantile(feature, quantiles, 0.05)\n",
        "\n",
        "    IQR = quants[1] - quants[0]\n",
        "    cut_off_points.append((feature, [\n",
        "        quants[0] - 1.5 * IQR,\n",
        "        quants[1] + 1.5 * IQR,\n",
        "    ]))\n",
        "\n",
        "cut_off_points = dict(cut_off_points)\n",
        "\n",
        "outliers = imputed.select(*['id'] + [\n",
        "       (\n",
        "           (imputed[f] < cut_off_points[f][0]) |\n",
        "           (imputed[f] > cut_off_points[f][1])\n",
        "       ).alias(f + '_o') for f in features\n",
        "  ])\n",
        "outliers.show()"
      ]
    },
    {
      "cell_type": "code",
      "execution_count": null,
      "metadata": {
        "colab": {
          "base_uri": "https://localhost:8080/"
        },
        "id": "mZSMucSIstpL",
        "outputId": "bef3d572-d567-40da-e854-50dd88f4fbc7"
      },
      "outputs": [
        {
          "output_type": "stream",
          "name": "stdout",
          "text": [
            "+---+--------------+---------------+------------------+\n",
            "| Id|  Manufacturer|          Model|       FuelEconomy|\n",
            "+---+--------------+---------------+------------------+\n",
            "|  2|General Motors|    SPARK ACTIV|4.1880958135407935|\n",
            "| 17|        Toyota|CAMRY HYBRID LE|              46.0|\n",
            "+---+--------------+---------------+------------------+\n",
            "\n"
          ]
        }
      ],
      "source": [
        "with_outliers_flag = imputed.join(outliers, on='Id')\n",
        "\n",
        "(\n",
        "    with_outliers_flag\n",
        "    .filter('FuelEconomy_o')\n",
        "    .select('Id', 'Manufacturer', 'Model', 'FuelEconomy')\n",
        "    .show()\n",
        ")"
      ]
    },
    {
      "cell_type": "code",
      "execution_count": null,
      "metadata": {
        "id": "MzSwTipzstpM"
      },
      "outputs": [],
      "source": [
        "no_outliers = (\n",
        "    with_outliers_flag\n",
        "    .filter('!FuelEconomy_o')\n",
        "    .select(imputed.columns)\n",
        ")"
      ]
    },
    {
      "cell_type": "markdown",
      "metadata": {
        "id": "aVyhnpwostpM"
      },
      "source": [
        "# Exploring descriptive statistics"
      ]
    },
    {
      "cell_type": "code",
      "execution_count": null,
      "metadata": {
        "colab": {
          "base_uri": "https://localhost:8080/"
        },
        "id": "JXRCIsdjstpN",
        "outputId": "ccc691f6-85f8-4405-95d8-e7e688ba7d32"
      },
      "outputs": [
        {
          "output_type": "stream",
          "name": "stdout",
          "text": [
            "+-------+------------------+-----------------+------------------+\n",
            "|summary|      Displacement|        Cylinders|       FuelEconomy|\n",
            "+-------+------------------+-----------------+------------------+\n",
            "|  count|                16|               16|                16|\n",
            "|   mean|           3.44375|            6.125|19.600446608398162|\n",
            "| stddev|1.3549753995306826|2.276693508870558|4.6666477673737505|\n",
            "|    min|               2.0|                3| 8.974491029015986|\n",
            "|    max|               6.0|               12|              26.0|\n",
            "+-------+------------------+-----------------+------------------+\n",
            "\n"
          ]
        }
      ],
      "source": [
        "descriptive_stats = no_outliers.describe(features)\n",
        "descriptive_stats.show()"
      ]
    },
    {
      "cell_type": "code",
      "execution_count": null,
      "metadata": {
        "colab": {
          "base_uri": "https://localhost:8080/"
        },
        "id": "Kl6qfTefstpN",
        "outputId": "c7e141b7-a0f7-4aeb-c5be-f502d8b4dffb"
      },
      "outputs": [
        {
          "output_type": "stream",
          "name": "stdout",
          "text": [
            "+-------+-----------------+------------+-----+----------+------------------+-----------------+------------------+\n",
            "|summary|               Id|Manufacturer|Model|EngineType|      Displacement|        Cylinders|       FuelEconomy|\n",
            "+-------+-----------------+------------+-----+----------+------------------+-----------------+------------------+\n",
            "|  count|               16|          16|   16|        16|                16|               16|                16|\n",
            "|   mean|           9.3125|        NULL|300.0|      NULL|           3.44375|            6.125|19.600446608398162|\n",
            "| stddev|5.287958017987662|        NULL| NULL|      NULL|1.3549753995306826|2.276693508870558|4.6666477673737505|\n",
            "|    min|                0|Aston Martin|  300| Aspirated|               2.0|                3| 8.974491029015986|\n",
            "|    max|               18|  Volkswagen| X5 M|     Turbo|               6.0|               12|              26.0|\n",
            "+-------+-----------------+------------+-----+----------+------------------+-----------------+------------------+\n",
            "\n"
          ]
        }
      ],
      "source": [
        "descriptive_stats_all = no_outliers.describe()\n",
        "descriptive_stats_all.show()"
      ]
    },
    {
      "cell_type": "code",
      "execution_count": null,
      "metadata": {
        "colab": {
          "base_uri": "https://localhost:8080/"
        },
        "id": "3doQI0k6stpO",
        "outputId": "f45e57ec-2568-4a6c-a15a-07072a0e372d"
      },
      "outputs": [
        {
          "output_type": "stream",
          "name": "stdout",
          "text": [
            "+---------+-----+------------------+------------------+------------------+-------------------+\n",
            "|Cylinders|Count|           MPG_avg|          Disp_avg|         MPG_stdev|         Disp_stdev|\n",
            "+---------+-----+------------------+------------------+------------------+-------------------+\n",
            "|        3|    1| 8.974491029015986|               2.0|              NULL|               NULL|\n",
            "|        4|    4|21.241497009671995|             2.125| 6.413009924998987|0.24999999999999997|\n",
            "|        5|    1|16.666666666666668|               2.7|              NULL|               NULL|\n",
            "|        6|    5|              22.4|3.1799999999999997|1.5165750888103096| 0.2683281572999748|\n",
            "|        8|    4|             18.75|               5.0|               1.5| 0.5477225575051655|\n",
            "|       12|    1|              16.0|               6.0|              NULL|               NULL|\n",
            "+---------+-----+------------------+------------------+------------------+-------------------+\n",
            "\n"
          ]
        }
      ],
      "source": [
        "(\n",
        "    no_outliers\n",
        "    .select(features)\n",
        "    .groupBy('Cylinders')\n",
        "    .agg(*[\n",
        "          fn.count('*').alias('Count')\n",
        "        , fn.mean('FuelEconomy').alias('MPG_avg')\n",
        "        , fn.mean('Displacement').alias('Disp_avg')\n",
        "        , fn.stddev('FuelEconomy').alias('MPG_stdev')\n",
        "        , fn.stddev('Displacement').alias('Disp_stdev')\n",
        "    ])\n",
        "    .orderBy('Cylinders')\n",
        ").show()"
      ]
    },
    {
      "cell_type": "markdown",
      "metadata": {
        "id": "3SEXWh5XstpP"
      },
      "source": [
        "# Computing correlations"
      ]
    },
    {
      "cell_type": "code",
      "execution_count": null,
      "metadata": {
        "colab": {
          "base_uri": "https://localhost:8080/"
        },
        "id": "r3p_1xc9stpP",
        "outputId": "1423ac67-b664-4f7a-fdf0-1d2f299f04cf"
      },
      "outputs": [
        {
          "output_type": "execute_result",
          "data": {
            "text/plain": [
              "0.9381829964408112"
            ]
          },
          "metadata": {},
          "execution_count": 32
        }
      ],
      "source": [
        "(\n",
        "    no_outliers\n",
        "    .corr('Cylinders', 'Displacement')\n",
        ")"
      ]
    },
    {
      "cell_type": "code",
      "execution_count": null,
      "metadata": {
        "colab": {
          "base_uri": "https://localhost:8080/"
        },
        "id": "Y_Z8F4WIstpQ",
        "outputId": "36b0f746-7111-4b64-b139-10a71a7806e1"
      },
      "outputs": [
        {
          "output_type": "stream",
          "name": "stdout",
          "text": [
            "+------------+------------+------------------+--------------------+\n",
            "|      Column|Displacement|         Cylinders|         FuelEconomy|\n",
            "+------------+------------+------------------+--------------------+\n",
            "|Displacement|         1.0|0.9381829964408112|-0.10757908872387667|\n",
            "|   Cylinders|        NULL|               1.0| -0.0421854654503533|\n",
            "| FuelEconomy|        NULL|              NULL|                 1.0|\n",
            "+------------+------------+------------------+--------------------+\n",
            "\n"
          ]
        }
      ],
      "source": [
        "n_features = len(features)\n",
        "\n",
        "corr = []\n",
        "\n",
        "for i in range(0, n_features):\n",
        "    temp = [None] * i\n",
        "\n",
        "    for j in range(i, n_features):\n",
        "        temp.append(no_outliers.corr(features[i], features[j]))\n",
        "    corr.append([features[i]] + temp)\n",
        "\n",
        "correlations = spark.createDataFrame(corr, ['Column'] + features)\n",
        "\n",
        "correlations.show()"
      ]
    },
    {
      "cell_type": "markdown",
      "metadata": {
        "id": "wxvVsEty9i_D"
      },
      "source": [
        "#EJERCICIO\n",
        "- Cargar los datos desde el archivo CSV.\n",
        "- Eliminar duplicados.\n",
        "- Imputar valores faltantes utilizando la media para las columnas numéricas.\n",
        "- Detectar y filtrar outliers en la columna \"altura\" utilizando el rango intercuartílico.\n",
        "- Mostrar el DataFrame resultante."
      ]
    },
    {
      "cell_type": "code",
      "execution_count": null,
      "metadata": {
        "id": "LmC0QfSb9iQN",
        "colab": {
          "base_uri": "https://localhost:8080/"
        },
        "outputId": "a1bb9fb9-37ef-4a28-a2cc-80e9a95f31cd"
      },
      "outputs": [
        {
          "output_type": "stream",
          "name": "stdout",
          "text": [
            "+---+----+------+----+\n",
            "| id|edad|altura|peso|\n",
            "+---+----+------+----+\n",
            "|  1|  25|   170|  70|\n",
            "|  2|  30|   165|  65|\n",
            "|  3|  40|  NULL|  80|\n",
            "|  4|NULL|   190|  55|\n",
            "|  5|  35|   195|  75|\n",
            "|  6|  45|   185|  85|\n",
            "|  7|  28|   172|  72|\n",
            "|  8|  25|  NULL|  68|\n",
            "|  9|  32|   198|  78|\n",
            "| 10|  38|   176|  76|\n",
            "| 11|  22|   158|  53|\n",
            "| 12|NULL|   173|  71|\n",
            "| 13|  33|   166|  77|\n",
            "| 14|  37|   174|  74|\n",
            "| 15|  42|   182|  83|\n",
            "|  1|NULL|   169|  69|\n",
            "|  2|  29|   164|  64|\n",
            "|  3|  41|   179|  79|\n",
            "| 16|  45|   185|  85|\n",
            "| 17|  28|   172|  72|\n",
            "+---+----+------+----+\n",
            "\n",
            "+---+----+------+----+\n",
            "| id|edad|altura|peso|\n",
            "+---+----+------+----+\n",
            "|  1|  25|   170|  70|\n",
            "|  2|  30|   165|  65|\n",
            "|  3|  40|  NULL|  80|\n",
            "|  4|NULL|   190|  55|\n",
            "|  5|  35|   195|  75|\n",
            "|  6|  45|   185|  85|\n",
            "|  7|  28|   172|  72|\n",
            "|  8|  25|  NULL|  68|\n",
            "|  9|  32|   198|  78|\n",
            "| 10|  38|   176|  76|\n",
            "| 11|  22|   158|  53|\n",
            "| 12|NULL|   173|  71|\n",
            "| 13|  33|   166|  77|\n",
            "| 14|  37|   174|  74|\n",
            "| 15|  42|   182|  83|\n",
            "|  1|NULL|   169|  69|\n",
            "|  2|  29|   164|  64|\n",
            "|  3|  41|   179|  79|\n",
            "| 16|  45|   185|  85|\n",
            "| 17|  28|   172|  72|\n",
            "+---+----+------+----+\n",
            "\n"
          ]
        }
      ],
      "source": [
        "schema = StructType([\n",
        "    StructField(\"id\", IntegerType(), nullable=True),\n",
        "    StructField(\"edad\", IntegerType(), nullable=True),\n",
        "    StructField(\"altura\", IntegerType(), nullable=True),\n",
        "    StructField(\"peso\", IntegerType(), nullable=True)\n",
        "])\n",
        "\n",
        "# Definir los datos\n",
        "data = [\n",
        "    (1, 25, 170, 70),\n",
        "    (2, 30, 165, 65),\n",
        "    (3, 40, None, 80),\n",
        "    (4, None, 190, 55),\n",
        "    (5, 35, 195, 75),\n",
        "    (6, 45, 185, 85),\n",
        "    (7, 28, 172, 72),\n",
        "    (8, 25, None, 68),\n",
        "    (9, 32, 198, 78),\n",
        "    (10, 38, 176, 76),\n",
        "    (11, 22, 158, 53),\n",
        "    (12, None, 173, 71),\n",
        "    (13, 33, 166, 77),\n",
        "    (14, 37, 174, 74),\n",
        "    (15, 42, 182, 83),\n",
        "    (1, None, 169, 69),\n",
        "    (2, 29, 164, 64),\n",
        "    (3, 41, 179, 79),\n",
        "    (16, 45, 185, 85),\n",
        "    (17, 28, 172, 72)\n",
        "]\n",
        "# Crear el DataFrame\n",
        "df = spark.createDataFrame(data, schema)\n",
        "\n",
        "# Mostrar el DataFrame\n",
        "df.show()\n",
        "\n"
      ]
    },
    {
      "cell_type": "code",
      "source": [
        "# are there any duplicated IDs?\n",
        "import pyspark.sql.functions as fn\n",
        "\n",
        "df.agg(\n",
        "      fn.count('id').alias('CountOfIDs')\n",
        "    , fn.countDistinct('id').alias('CountOfDistinctIDs')\n",
        ").show()"
      ],
      "metadata": {
        "colab": {
          "base_uri": "https://localhost:8080/"
        },
        "id": "DfiMflj8MMUs",
        "outputId": "7731770f-afe1-431b-f710-2fbd7fe7c65b"
      },
      "execution_count": null,
      "outputs": [
        {
          "output_type": "stream",
          "name": "stdout",
          "text": [
            "+----------+------------------+\n",
            "|CountOfIDs|CountOfDistinctIDs|\n",
            "+----------+------------------+\n",
            "|        20|                17|\n",
            "+----------+------------------+\n",
            "\n"
          ]
        }
      ]
    },
    {
      "cell_type": "code",
      "source": [
        "# count of rows\n",
        "no_ids = (\n",
        "    df\n",
        "    .select([col for col in df.columns if col != 'id'])\n",
        ")\n",
        "\n",
        "no_ids.count(), no_ids.distinct().count()"
      ],
      "metadata": {
        "colab": {
          "base_uri": "https://localhost:8080/"
        },
        "id": "JKJXc8ulNH1A",
        "outputId": "32a78e77-fbf2-47c9-9fa5-3f999965b2ba"
      },
      "execution_count": null,
      "outputs": [
        {
          "output_type": "execute_result",
          "data": {
            "text/plain": [
              "(20, 18)"
            ]
          },
          "metadata": {},
          "execution_count": 41
        }
      ]
    },
    {
      "cell_type": "code",
      "source": [
        "# what row is duplicated?\n",
        "(\n",
        "    df\n",
        "    .groupby(df.columns)\n",
        "    .count()\n",
        "    .filter('count > 1')\n",
        "    .show()\n",
        ")"
      ],
      "metadata": {
        "id": "zAGUXaKwLsjQ",
        "colab": {
          "base_uri": "https://localhost:8080/"
        },
        "outputId": "6276ae0d-3885-4ec1-c079-7b4b9ad62eeb"
      },
      "execution_count": null,
      "outputs": [
        {
          "output_type": "stream",
          "name": "stdout",
          "text": [
            "+---+----+------+----+-----+\n",
            "| id|edad|altura|peso|count|\n",
            "+---+----+------+----+-----+\n",
            "+---+----+------+----+-----+\n",
            "\n"
          ]
        }
      ]
    },
    {
      "cell_type": "code",
      "source": [
        "for k, v in sorted(\n",
        "    df.agg(*[\n",
        "               (1 - (fn.count(c) / fn.count('*')))\n",
        "                    .alias(c + '_miss')\n",
        "               for c in df.columns\n",
        "           ])\n",
        "        .collect()[0]\n",
        "        .asDict()\n",
        "        .items()\n",
        "    , key=lambda el: el[1]\n",
        "    , reverse=True\n",
        "):\n",
        "    print(k, v)"
      ],
      "metadata": {
        "colab": {
          "base_uri": "https://localhost:8080/"
        },
        "id": "yFTHlcM9Nfo0",
        "outputId": "09f576b3-c5b6-4187-e7a7-58be4c46bb17"
      },
      "execution_count": null,
      "outputs": [
        {
          "output_type": "stream",
          "name": "stdout",
          "text": [
            "edad_miss 0.15000000000000002\n",
            "altura_miss 0.09999999999999998\n",
            "id_miss 0.0\n",
            "peso_miss 0.0\n"
          ]
        }
      ]
    },
    {
      "cell_type": "code",
      "source": [
        "descriptive_stats = df.describe(df.columns)\n",
        "descriptive_stats.show()\n",
        "\n",
        "descriptive_stats[\"id\"][\"mean\"]"
      ],
      "metadata": {
        "colab": {
          "base_uri": "https://localhost:8080/"
        },
        "id": "y6x2bjWCObLN",
        "outputId": "26211306-3c29-49ec-d81b-7aa604da8127"
      },
      "execution_count": null,
      "outputs": [
        {
          "output_type": "stream",
          "name": "stdout",
          "text": [
            "+-------+-----------------+------------------+------------------+-----------------+\n",
            "|summary|               id|              edad|            altura|             peso|\n",
            "+-------+-----------------+------------------+------------------+-----------------+\n",
            "|  count|               20|                17|                18|               20|\n",
            "|   mean|             7.95|  33.8235294117647|176.27777777777777|            72.55|\n",
            "| stddev|5.306153329663093|7.2477176935022705| 11.02300031514616|8.732727312574777|\n",
            "|    min|                1|                22|               158|               53|\n",
            "|    max|               17|                45|               198|               85|\n",
            "+-------+-----------------+------------------+------------------+-----------------+\n",
            "\n"
          ]
        },
        {
          "output_type": "execute_result",
          "data": {
            "text/plain": [
              "Column<'id[mean]'>"
            ]
          },
          "metadata": {},
          "execution_count": 53
        }
      ]
    }
  ],
  "metadata": {
    "colab": {
      "provenance": []
    },
    "kernelspec": {
      "display_name": "PySpark3",
      "language": "",
      "name": "pyspark3kernel"
    },
    "language_info": {
      "codemirror_mode": {
        "name": "python",
        "version": 3
      },
      "mimetype": "text/x-python",
      "name": "pyspark3",
      "pygments_lexer": "python3"
    }
  },
  "nbformat": 4,
  "nbformat_minor": 0
}